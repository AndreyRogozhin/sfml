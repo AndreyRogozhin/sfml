{
 "cells": [
  {
   "cell_type": "markdown",
   "metadata": {},
   "source": [
    "# SkillFactory\n",
    "## Введение в ML, введение в sklearn"
   ]
  },
  {
   "cell_type": "markdown",
   "metadata": {},
   "source": [
    "В этом задании мы с вами рассмотрим данные с конкурса [Задача предсказания отклика клиентов ОТП Банка](http://www.machinelearning.ru/wiki/index.php?title=%D0%97%D0%B0%D0%B4%D0%B0%D1%87%D0%B0_%D0%BF%D1%80%D0%B5%D0%B4%D1%81%D0%BA%D0%B0%D0%B7%D0%B0%D0%BD%D0%B8%D1%8F_%D0%BE%D1%82%D0%BA%D0%BB%D0%B8%D0%BA%D0%B0_%D0%BA%D0%BB%D0%B8%D0%B5%D0%BD%D1%82%D0%BE%D0%B2_%D0%9E%D0%A2%D0%9F_%D0%91%D0%B0%D0%BD%D0%BA%D0%B0_%28%D0%BA%D0%BE%D0%BD%D0%BA%D1%83%D1%80%D1%81%29)"
   ]
  },
  {
   "cell_type": "code",
   "execution_count": 618,
   "metadata": {},
   "outputs": [],
   "source": [
    "import pandas as pd\n",
    "import numpy as np\n",
    "import matplotlib.pyplot as plt\n",
    "\n",
    "%matplotlib inline\n",
    "\n",
    "plt.style.use('ggplot')\n",
    "plt.rcParams['figure.figsize'] = (12,5)"
   ]
  },
  {
   "cell_type": "code",
   "execution_count": 619,
   "metadata": {},
   "outputs": [],
   "source": [
    "import sklearn.preprocessing"
   ]
  },
  {
   "cell_type": "markdown",
   "metadata": {},
   "source": [
    "### Грузим данные"
   ]
  },
  {
   "cell_type": "markdown",
   "metadata": {},
   "source": [
    "Считаем описание данных"
   ]
  },
  {
   "cell_type": "code",
   "execution_count": 620,
   "metadata": {},
   "outputs": [],
   "source": [
    "\n",
    "df_descr = pd.read_csv('data/otp_description.csv', sep='\\t', encoding='utf8')"
   ]
  },
  {
   "cell_type": "code",
   "execution_count": 621,
   "metadata": {},
   "outputs": [
    {
     "data": {
      "text/html": [
       "<div>\n",
       "<style scoped>\n",
       "    .dataframe tbody tr th:only-of-type {\n",
       "        vertical-align: middle;\n",
       "    }\n",
       "\n",
       "    .dataframe tbody tr th {\n",
       "        vertical-align: top;\n",
       "    }\n",
       "\n",
       "    .dataframe thead th {\n",
       "        text-align: right;\n",
       "    }\n",
       "</style>\n",
       "<table border=\"1\" class=\"dataframe\">\n",
       "  <thead>\n",
       "    <tr style=\"text-align: right;\">\n",
       "      <th></th>\n",
       "      <th>ПОЛЕ</th>\n",
       "      <th>ОПИСАНИЕ</th>\n",
       "    </tr>\n",
       "  </thead>\n",
       "  <tbody>\n",
       "    <tr>\n",
       "      <th>0</th>\n",
       "      <td>AGREEMENT_RK</td>\n",
       "      <td>уникальный идентификатор объекта в выборке</td>\n",
       "    </tr>\n",
       "    <tr>\n",
       "      <th>1</th>\n",
       "      <td>AGE</td>\n",
       "      <td>возраст клиента</td>\n",
       "    </tr>\n",
       "    <tr>\n",
       "      <th>2</th>\n",
       "      <td>SOCSTATUS_WORK_FL</td>\n",
       "      <td>социальный статус клиента относительно работы ...</td>\n",
       "    </tr>\n",
       "    <tr>\n",
       "      <th>3</th>\n",
       "      <td>SOCSTATUS_PENS_FL</td>\n",
       "      <td>социальный статус клиента относительно пенсии ...</td>\n",
       "    </tr>\n",
       "    <tr>\n",
       "      <th>4</th>\n",
       "      <td>GENDER</td>\n",
       "      <td>пол клиента (1- женщины, 0-мужчины)</td>\n",
       "    </tr>\n",
       "    <tr>\n",
       "      <th>5</th>\n",
       "      <td>CHILD_TOTAL</td>\n",
       "      <td>количество детей клиента</td>\n",
       "    </tr>\n",
       "    <tr>\n",
       "      <th>6</th>\n",
       "      <td>DEPENDANTS</td>\n",
       "      <td>количество иждивенцев клиента</td>\n",
       "    </tr>\n",
       "    <tr>\n",
       "      <th>7</th>\n",
       "      <td>EDUCATION</td>\n",
       "      <td>образование</td>\n",
       "    </tr>\n",
       "    <tr>\n",
       "      <th>8</th>\n",
       "      <td>MARITAL_STATUS</td>\n",
       "      <td>семейное положение</td>\n",
       "    </tr>\n",
       "    <tr>\n",
       "      <th>9</th>\n",
       "      <td>GEN_INDUSTRY</td>\n",
       "      <td>отрасль работы клиента</td>\n",
       "    </tr>\n",
       "    <tr>\n",
       "      <th>10</th>\n",
       "      <td>GEN_TITLE</td>\n",
       "      <td>должность</td>\n",
       "    </tr>\n",
       "    <tr>\n",
       "      <th>11</th>\n",
       "      <td>ORG_TP_STATE</td>\n",
       "      <td>форма собственности компании</td>\n",
       "    </tr>\n",
       "    <tr>\n",
       "      <th>12</th>\n",
       "      <td>ORG_TP_FCAPITAL</td>\n",
       "      <td>отношение к иностранному капиталу</td>\n",
       "    </tr>\n",
       "    <tr>\n",
       "      <th>13</th>\n",
       "      <td>JOB_DIR</td>\n",
       "      <td>направление деятельности в нутри компании</td>\n",
       "    </tr>\n",
       "    <tr>\n",
       "      <th>14</th>\n",
       "      <td>FAMILY_INCOME</td>\n",
       "      <td>семейный доход (несколько категорий)</td>\n",
       "    </tr>\n",
       "    <tr>\n",
       "      <th>15</th>\n",
       "      <td>PERSONAL_INCOME</td>\n",
       "      <td>личный доход клиента (в рублях)</td>\n",
       "    </tr>\n",
       "    <tr>\n",
       "      <th>16</th>\n",
       "      <td>REG_ADDRESS_PROVINCE</td>\n",
       "      <td>область регистрации клиента</td>\n",
       "    </tr>\n",
       "    <tr>\n",
       "      <th>17</th>\n",
       "      <td>FACT_ADDRESS_PROVINCE</td>\n",
       "      <td>область фактического пребывания клиента</td>\n",
       "    </tr>\n",
       "    <tr>\n",
       "      <th>18</th>\n",
       "      <td>POSTAL_ADDRESS_PROVINCE</td>\n",
       "      <td>почтовый адрес область</td>\n",
       "    </tr>\n",
       "    <tr>\n",
       "      <th>19</th>\n",
       "      <td>TP_PROVINCE</td>\n",
       "      <td>область торговой точки, где клиент брал послед...</td>\n",
       "    </tr>\n",
       "    <tr>\n",
       "      <th>20</th>\n",
       "      <td>REGION_NM</td>\n",
       "      <td>регион РФ</td>\n",
       "    </tr>\n",
       "    <tr>\n",
       "      <th>21</th>\n",
       "      <td>REG_FACT_FL</td>\n",
       "      <td>адрес регистрации и адрес фактического пребыва...</td>\n",
       "    </tr>\n",
       "    <tr>\n",
       "      <th>22</th>\n",
       "      <td>FACT_POST_FL</td>\n",
       "      <td>адрес фактического пребывания клиента и его по...</td>\n",
       "    </tr>\n",
       "    <tr>\n",
       "      <th>23</th>\n",
       "      <td>REG_POST_FL</td>\n",
       "      <td>адрес регистрации клиента и его почтовый адрес...</td>\n",
       "    </tr>\n",
       "    <tr>\n",
       "      <th>24</th>\n",
       "      <td>REG_FACT_POST_FL</td>\n",
       "      <td>почтовый, фактический и адрес регистрации совп...</td>\n",
       "    </tr>\n",
       "    <tr>\n",
       "      <th>25</th>\n",
       "      <td>REG_FACT_POST_TP_FL</td>\n",
       "      <td>область регистрации, фактического пребывания, ...</td>\n",
       "    </tr>\n",
       "    <tr>\n",
       "      <th>26</th>\n",
       "      <td>FL_PRESENCE_FL</td>\n",
       "      <td>наличие в собственности квартиры (1 - есть, 0 ...</td>\n",
       "    </tr>\n",
       "    <tr>\n",
       "      <th>27</th>\n",
       "      <td>OWN_AUTO</td>\n",
       "      <td>кол-во автомобилей в собственности</td>\n",
       "    </tr>\n",
       "    <tr>\n",
       "      <th>28</th>\n",
       "      <td>AUTO_RUS_FL</td>\n",
       "      <td>наличие в собственности автомобиля российского...</td>\n",
       "    </tr>\n",
       "    <tr>\n",
       "      <th>29</th>\n",
       "      <td>HS_PRESENCE_FL</td>\n",
       "      <td>наличие в собственности загородного дома (1 - ...</td>\n",
       "    </tr>\n",
       "    <tr>\n",
       "      <th>30</th>\n",
       "      <td>COT_PRESENCE_FL</td>\n",
       "      <td>наличие в собственности котеджа (1 - есть, 0 -...</td>\n",
       "    </tr>\n",
       "    <tr>\n",
       "      <th>31</th>\n",
       "      <td>GAR_PRESENCE_FL</td>\n",
       "      <td>наличие в собственности гаража (1 - есть, 0 - ...</td>\n",
       "    </tr>\n",
       "    <tr>\n",
       "      <th>32</th>\n",
       "      <td>LAND_PRESENCE_FL</td>\n",
       "      <td>наличие в собственности земельного участка (1 ...</td>\n",
       "    </tr>\n",
       "    <tr>\n",
       "      <th>33</th>\n",
       "      <td>CREDIT</td>\n",
       "      <td>сумма последнего кредита клиента (в рублях)</td>\n",
       "    </tr>\n",
       "    <tr>\n",
       "      <th>34</th>\n",
       "      <td>TERM</td>\n",
       "      <td>срок кредита</td>\n",
       "    </tr>\n",
       "    <tr>\n",
       "      <th>35</th>\n",
       "      <td>FST_PAYMENT</td>\n",
       "      <td>первоначальный взнос (в рублях)</td>\n",
       "    </tr>\n",
       "    <tr>\n",
       "      <th>36</th>\n",
       "      <td>DL_DOCUMENT_FL</td>\n",
       "      <td>в анкете клиент указал водительское удостовере...</td>\n",
       "    </tr>\n",
       "    <tr>\n",
       "      <th>37</th>\n",
       "      <td>GPF_DOCUMENT_FL</td>\n",
       "      <td>в анкете клиен указал ГПФ (1 - указал, 0 - не ...</td>\n",
       "    </tr>\n",
       "    <tr>\n",
       "      <th>38</th>\n",
       "      <td>FACT_LIVING_TERM</td>\n",
       "      <td>количество месяцев проживания по месту фактиче...</td>\n",
       "    </tr>\n",
       "    <tr>\n",
       "      <th>39</th>\n",
       "      <td>WORK_TIME</td>\n",
       "      <td>время работы на текущем месте (в месяцах)</td>\n",
       "    </tr>\n",
       "    <tr>\n",
       "      <th>40</th>\n",
       "      <td>FACT_PHONE_FL</td>\n",
       "      <td>наличие в заявке телефона по фактическому мест...</td>\n",
       "    </tr>\n",
       "    <tr>\n",
       "      <th>41</th>\n",
       "      <td>REG_PHONE_FL</td>\n",
       "      <td>наличие в заявке телефона по месту регистрации</td>\n",
       "    </tr>\n",
       "    <tr>\n",
       "      <th>42</th>\n",
       "      <td>GEN_PHONE_FL</td>\n",
       "      <td>наличие в заявке рабочего телефона</td>\n",
       "    </tr>\n",
       "    <tr>\n",
       "      <th>43</th>\n",
       "      <td>LOAN_NUM_TOTAL</td>\n",
       "      <td>количество ссуд клиента</td>\n",
       "    </tr>\n",
       "    <tr>\n",
       "      <th>44</th>\n",
       "      <td>LOAN_NUM_CLOSED</td>\n",
       "      <td>количество погашенных ссуд клиента</td>\n",
       "    </tr>\n",
       "    <tr>\n",
       "      <th>45</th>\n",
       "      <td>LOAN_NUM_PAYM</td>\n",
       "      <td>количество платежей, которые сделал клиент</td>\n",
       "    </tr>\n",
       "    <tr>\n",
       "      <th>46</th>\n",
       "      <td>LOAN_DLQ_NUM</td>\n",
       "      <td>количество просрочек, допущенных клиентом</td>\n",
       "    </tr>\n",
       "    <tr>\n",
       "      <th>47</th>\n",
       "      <td>LOAN_MAX_DLQ</td>\n",
       "      <td>номер максимальной просрочки, допущенной клиентом</td>\n",
       "    </tr>\n",
       "    <tr>\n",
       "      <th>48</th>\n",
       "      <td>LOAN_AVG_DLQ_AMT</td>\n",
       "      <td>средняя сумма просрочки (в рублях)</td>\n",
       "    </tr>\n",
       "    <tr>\n",
       "      <th>49</th>\n",
       "      <td>LOAN_MAX_DLQ_AMT</td>\n",
       "      <td>максимальная сумма просрочки (в рублях)</td>\n",
       "    </tr>\n",
       "    <tr>\n",
       "      <th>50</th>\n",
       "      <td>PREVIOUS_CARD_NUM_UTILIZED</td>\n",
       "      <td>количество уже утилизированных карт ( если пус...</td>\n",
       "    </tr>\n",
       "  </tbody>\n",
       "</table>\n",
       "</div>"
      ],
      "text/plain": [
       "                          ПОЛЕ  \\\n",
       "0                 AGREEMENT_RK   \n",
       "1                          AGE   \n",
       "2            SOCSTATUS_WORK_FL   \n",
       "3            SOCSTATUS_PENS_FL   \n",
       "4                       GENDER   \n",
       "5                  CHILD_TOTAL   \n",
       "6                   DEPENDANTS   \n",
       "7                    EDUCATION   \n",
       "8               MARITAL_STATUS   \n",
       "9                 GEN_INDUSTRY   \n",
       "10                   GEN_TITLE   \n",
       "11                ORG_TP_STATE   \n",
       "12             ORG_TP_FCAPITAL   \n",
       "13                     JOB_DIR   \n",
       "14               FAMILY_INCOME   \n",
       "15             PERSONAL_INCOME   \n",
       "16        REG_ADDRESS_PROVINCE   \n",
       "17       FACT_ADDRESS_PROVINCE   \n",
       "18     POSTAL_ADDRESS_PROVINCE   \n",
       "19                 TP_PROVINCE   \n",
       "20                   REGION_NM   \n",
       "21                 REG_FACT_FL   \n",
       "22                FACT_POST_FL   \n",
       "23                 REG_POST_FL   \n",
       "24            REG_FACT_POST_FL   \n",
       "25         REG_FACT_POST_TP_FL   \n",
       "26              FL_PRESENCE_FL   \n",
       "27                    OWN_AUTO   \n",
       "28                 AUTO_RUS_FL   \n",
       "29              HS_PRESENCE_FL   \n",
       "30             COT_PRESENCE_FL   \n",
       "31             GAR_PRESENCE_FL   \n",
       "32            LAND_PRESENCE_FL   \n",
       "33                      CREDIT   \n",
       "34                        TERM   \n",
       "35                 FST_PAYMENT   \n",
       "36              DL_DOCUMENT_FL   \n",
       "37             GPF_DOCUMENT_FL   \n",
       "38            FACT_LIVING_TERM   \n",
       "39                   WORK_TIME   \n",
       "40               FACT_PHONE_FL   \n",
       "41                REG_PHONE_FL   \n",
       "42                GEN_PHONE_FL   \n",
       "43              LOAN_NUM_TOTAL   \n",
       "44             LOAN_NUM_CLOSED   \n",
       "45               LOAN_NUM_PAYM   \n",
       "46                LOAN_DLQ_NUM   \n",
       "47                LOAN_MAX_DLQ   \n",
       "48            LOAN_AVG_DLQ_AMT   \n",
       "49            LOAN_MAX_DLQ_AMT   \n",
       "50  PREVIOUS_CARD_NUM_UTILIZED   \n",
       "\n",
       "                                             ОПИСАНИЕ  \n",
       "0          уникальный идентификатор объекта в выборке  \n",
       "1                                     возраст клиента  \n",
       "2   социальный статус клиента относительно работы ...  \n",
       "3   социальный статус клиента относительно пенсии ...  \n",
       "4                 пол клиента (1- женщины, 0-мужчины)  \n",
       "5                            количество детей клиента  \n",
       "6                       количество иждивенцев клиента  \n",
       "7                                         образование  \n",
       "8                                  семейное положение  \n",
       "9                              отрасль работы клиента  \n",
       "10                                          должность  \n",
       "11                       форма собственности компании  \n",
       "12                  отношение к иностранному капиталу  \n",
       "13          направление деятельности в нутри компании  \n",
       "14               семейный доход (несколько категорий)  \n",
       "15                    личный доход клиента (в рублях)  \n",
       "16                        область регистрации клиента  \n",
       "17            область фактического пребывания клиента  \n",
       "18                             почтовый адрес область  \n",
       "19  область торговой точки, где клиент брал послед...  \n",
       "20                                          регион РФ  \n",
       "21  адрес регистрации и адрес фактического пребыва...  \n",
       "22  адрес фактического пребывания клиента и его по...  \n",
       "23  адрес регистрации клиента и его почтовый адрес...  \n",
       "24  почтовый, фактический и адрес регистрации совп...  \n",
       "25  область регистрации, фактического пребывания, ...  \n",
       "26  наличие в собственности квартиры (1 - есть, 0 ...  \n",
       "27                кол-во автомобилей в собственности   \n",
       "28  наличие в собственности автомобиля российского...  \n",
       "29  наличие в собственности загородного дома (1 - ...  \n",
       "30  наличие в собственности котеджа (1 - есть, 0 -...  \n",
       "31  наличие в собственности гаража (1 - есть, 0 - ...  \n",
       "32  наличие в собственности земельного участка (1 ...  \n",
       "33        сумма последнего кредита клиента (в рублях)  \n",
       "34                                       срок кредита  \n",
       "35                    первоначальный взнос (в рублях)  \n",
       "36  в анкете клиент указал водительское удостовере...  \n",
       "37  в анкете клиен указал ГПФ (1 - указал, 0 - не ...  \n",
       "38  количество месяцев проживания по месту фактиче...  \n",
       "39          время работы на текущем месте (в месяцах)  \n",
       "40  наличие в заявке телефона по фактическому мест...  \n",
       "41     наличие в заявке телефона по месту регистрации  \n",
       "42                 наличие в заявке рабочего телефона  \n",
       "43                            количество ссуд клиента  \n",
       "44                 количество погашенных ссуд клиента  \n",
       "45         количество платежей, которые сделал клиент  \n",
       "46          количество просрочек, допущенных клиентом  \n",
       "47  номер максимальной просрочки, допущенной клиентом  \n",
       "48                 средняя сумма просрочки (в рублях)  \n",
       "49            максимальная сумма просрочки (в рублях)  \n",
       "50  количество уже утилизированных карт ( если пус...  "
      ]
     },
     "execution_count": 621,
     "metadata": {},
     "output_type": "execute_result"
    }
   ],
   "source": [
    "df_descr\n"
   ]
  },
  {
   "cell_type": "markdown",
   "metadata": {},
   "source": [
    "Считаем обучающую выборки и тестовую (которую мы как бы не видим)"
   ]
  },
  {
   "cell_type": "code",
   "execution_count": 622,
   "metadata": {},
   "outputs": [],
   "source": [
    "df_train = pd.read_csv('data/otp_train.csv', sep='\\t', encoding='utf8')"
   ]
  },
  {
   "cell_type": "code",
   "execution_count": 623,
   "metadata": {},
   "outputs": [
    {
     "data": {
      "text/plain": [
       "Index(['AGREEMENT_RK', 'TARGET', 'AGE', 'SOCSTATUS_WORK_FL',\n",
       "       'SOCSTATUS_PENS_FL', 'GENDER', 'CHILD_TOTAL', 'DEPENDANTS', 'EDUCATION',\n",
       "       'MARITAL_STATUS', 'GEN_INDUSTRY', 'GEN_TITLE', 'ORG_TP_STATE',\n",
       "       'ORG_TP_FCAPITAL', 'JOB_DIR', 'FAMILY_INCOME', 'PERSONAL_INCOME',\n",
       "       'REG_ADDRESS_PROVINCE', 'FACT_ADDRESS_PROVINCE',\n",
       "       'POSTAL_ADDRESS_PROVINCE', 'TP_PROVINCE', 'REGION_NM', 'REG_FACT_FL',\n",
       "       'FACT_POST_FL', 'REG_POST_FL', 'REG_FACT_POST_FL',\n",
       "       'REG_FACT_POST_TP_FL', 'FL_PRESENCE_FL', 'OWN_AUTO', 'AUTO_RUS_FL',\n",
       "       'HS_PRESENCE_FL', 'COT_PRESENCE_FL', 'GAR_PRESENCE_FL',\n",
       "       'LAND_PRESENCE_FL', 'CREDIT', 'TERM', 'FST_PAYMENT', 'DL_DOCUMENT_FL',\n",
       "       'GPF_DOCUMENT_FL', 'FACT_LIVING_TERM', 'WORK_TIME', 'FACT_PHONE_FL',\n",
       "       'REG_PHONE_FL', 'GEN_PHONE_FL', 'LOAN_NUM_TOTAL', 'LOAN_NUM_CLOSED',\n",
       "       'LOAN_NUM_PAYM', 'LOAN_DLQ_NUM', 'LOAN_MAX_DLQ', 'LOAN_AVG_DLQ_AMT',\n",
       "       'LOAN_MAX_DLQ_AMT', 'PREVIOUS_CARD_NUM_UTILIZED'],\n",
       "      dtype='object')"
      ]
     },
     "execution_count": 623,
     "metadata": {},
     "output_type": "execute_result"
    }
   ],
   "source": [
    "df_train.columns"
   ]
  },
  {
   "cell_type": "code",
   "execution_count": 624,
   "metadata": {},
   "outputs": [
    {
     "data": {
      "text/plain": [
       "(15223, 52)"
      ]
     },
     "execution_count": 624,
     "metadata": {},
     "output_type": "execute_result"
    }
   ],
   "source": [
    "df_train.shape"
   ]
  },
  {
   "cell_type": "code",
   "execution_count": 625,
   "metadata": {},
   "outputs": [],
   "source": [
    "df_test = pd.read_csv('data/otp_test.csv', sep='\\t', encoding='utf8')"
   ]
  },
  {
   "cell_type": "code",
   "execution_count": 626,
   "metadata": {},
   "outputs": [
    {
     "name": "stdout",
     "output_type": "stream",
     "text": [
      "<class 'pandas.core.frame.DataFrame'>\n",
      "RangeIndex: 14910 entries, 0 to 14909\n",
      "Data columns (total 52 columns):\n",
      "AGREEMENT_RK                  14910 non-null int64\n",
      "TARGET                        14910 non-null int64\n",
      "AGE                           14910 non-null int64\n",
      "SOCSTATUS_WORK_FL             14910 non-null int64\n",
      "SOCSTATUS_PENS_FL             14910 non-null int64\n",
      "GENDER                        14910 non-null int64\n",
      "CHILD_TOTAL                   14910 non-null int64\n",
      "DEPENDANTS                    14910 non-null int64\n",
      "EDUCATION                     14910 non-null object\n",
      "MARITAL_STATUS                14910 non-null object\n",
      "GEN_INDUSTRY                  13564 non-null object\n",
      "GEN_TITLE                     13564 non-null object\n",
      "ORG_TP_STATE                  13564 non-null object\n",
      "ORG_TP_FCAPITAL               13567 non-null object\n",
      "JOB_DIR                       13564 non-null object\n",
      "FAMILY_INCOME                 14910 non-null object\n",
      "PERSONAL_INCOME               14910 non-null object\n",
      "REG_ADDRESS_PROVINCE          14910 non-null object\n",
      "FACT_ADDRESS_PROVINCE         14910 non-null object\n",
      "POSTAL_ADDRESS_PROVINCE       14910 non-null object\n",
      "TP_PROVINCE                   14615 non-null object\n",
      "REGION_NM                     14909 non-null object\n",
      "REG_FACT_FL                   14910 non-null int64\n",
      "FACT_POST_FL                  14910 non-null int64\n",
      "REG_POST_FL                   14910 non-null int64\n",
      "REG_FACT_POST_FL              14910 non-null int64\n",
      "REG_FACT_POST_TP_FL           14910 non-null int64\n",
      "FL_PRESENCE_FL                14910 non-null int64\n",
      "OWN_AUTO                      14910 non-null int64\n",
      "AUTO_RUS_FL                   14910 non-null int64\n",
      "HS_PRESENCE_FL                14910 non-null int64\n",
      "COT_PRESENCE_FL               14910 non-null int64\n",
      "GAR_PRESENCE_FL               14910 non-null int64\n",
      "LAND_PRESENCE_FL              14910 non-null int64\n",
      "CREDIT                        14910 non-null object\n",
      "TERM                          14910 non-null int64\n",
      "FST_PAYMENT                   14910 non-null object\n",
      "DL_DOCUMENT_FL                14910 non-null int64\n",
      "GPF_DOCUMENT_FL               14910 non-null int64\n",
      "FACT_LIVING_TERM              14910 non-null int64\n",
      "WORK_TIME                     13561 non-null float64\n",
      "FACT_PHONE_FL                 14910 non-null int64\n",
      "REG_PHONE_FL                  14910 non-null int64\n",
      "GEN_PHONE_FL                  14910 non-null int64\n",
      "LOAN_NUM_TOTAL                14910 non-null int64\n",
      "LOAN_NUM_CLOSED               14910 non-null int64\n",
      "LOAN_NUM_PAYM                 14910 non-null int64\n",
      "LOAN_DLQ_NUM                  14910 non-null int64\n",
      "LOAN_MAX_DLQ                  14910 non-null int64\n",
      "LOAN_AVG_DLQ_AMT              14910 non-null object\n",
      "LOAN_MAX_DLQ_AMT              14910 non-null object\n",
      "PREVIOUS_CARD_NUM_UTILIZED    312 non-null float64\n",
      "dtypes: float64(2), int64(32), object(18)\n",
      "memory usage: 5.9+ MB\n"
     ]
    }
   ],
   "source": [
    "df_test.shape\n",
    "df_test.info()\n"
   ]
  },
  {
   "cell_type": "markdown",
   "metadata": {},
   "source": [
    "## Объединим две выборки\n",
    "\n",
    "Так как пока мы пока не умеем работать sklearn  Pipeline, то для того, чтобы после предобработки столбцы в двух выборках находились на своих местах.\n",
    "\n",
    "Для того, чтобы в дальнейшем отделить их введем новый столбец \"sample\""
   ]
  },
  {
   "cell_type": "code",
   "execution_count": 627,
   "metadata": {},
   "outputs": [
    {
     "data": {
      "text/html": [
       "<div>\n",
       "<style scoped>\n",
       "    .dataframe tbody tr th:only-of-type {\n",
       "        vertical-align: middle;\n",
       "    }\n",
       "\n",
       "    .dataframe tbody tr th {\n",
       "        vertical-align: top;\n",
       "    }\n",
       "\n",
       "    .dataframe thead th {\n",
       "        text-align: right;\n",
       "    }\n",
       "</style>\n",
       "<table border=\"1\" class=\"dataframe\">\n",
       "  <thead>\n",
       "    <tr style=\"text-align: right;\">\n",
       "      <th></th>\n",
       "      <th>AGREEMENT_RK</th>\n",
       "      <th>TARGET</th>\n",
       "      <th>AGE</th>\n",
       "      <th>SOCSTATUS_WORK_FL</th>\n",
       "      <th>SOCSTATUS_PENS_FL</th>\n",
       "      <th>GENDER</th>\n",
       "      <th>CHILD_TOTAL</th>\n",
       "      <th>DEPENDANTS</th>\n",
       "      <th>EDUCATION</th>\n",
       "      <th>MARITAL_STATUS</th>\n",
       "      <th>...</th>\n",
       "      <th>GEN_PHONE_FL</th>\n",
       "      <th>LOAN_NUM_TOTAL</th>\n",
       "      <th>LOAN_NUM_CLOSED</th>\n",
       "      <th>LOAN_NUM_PAYM</th>\n",
       "      <th>LOAN_DLQ_NUM</th>\n",
       "      <th>LOAN_MAX_DLQ</th>\n",
       "      <th>LOAN_AVG_DLQ_AMT</th>\n",
       "      <th>LOAN_MAX_DLQ_AMT</th>\n",
       "      <th>PREVIOUS_CARD_NUM_UTILIZED</th>\n",
       "      <th>sample</th>\n",
       "    </tr>\n",
       "  </thead>\n",
       "  <tbody>\n",
       "    <tr>\n",
       "      <th>0</th>\n",
       "      <td>59910150</td>\n",
       "      <td>0</td>\n",
       "      <td>49</td>\n",
       "      <td>1</td>\n",
       "      <td>0</td>\n",
       "      <td>1</td>\n",
       "      <td>2</td>\n",
       "      <td>1</td>\n",
       "      <td>Среднее специальное</td>\n",
       "      <td>Состою в браке</td>\n",
       "      <td>...</td>\n",
       "      <td>1</td>\n",
       "      <td>1</td>\n",
       "      <td>1</td>\n",
       "      <td>6</td>\n",
       "      <td>2</td>\n",
       "      <td>1</td>\n",
       "      <td>1580</td>\n",
       "      <td>1580</td>\n",
       "      <td>NaN</td>\n",
       "      <td>train</td>\n",
       "    </tr>\n",
       "    <tr>\n",
       "      <th>1</th>\n",
       "      <td>59910230</td>\n",
       "      <td>0</td>\n",
       "      <td>32</td>\n",
       "      <td>1</td>\n",
       "      <td>0</td>\n",
       "      <td>1</td>\n",
       "      <td>3</td>\n",
       "      <td>3</td>\n",
       "      <td>Среднее</td>\n",
       "      <td>Состою в браке</td>\n",
       "      <td>...</td>\n",
       "      <td>1</td>\n",
       "      <td>1</td>\n",
       "      <td>1</td>\n",
       "      <td>6</td>\n",
       "      <td>1</td>\n",
       "      <td>1</td>\n",
       "      <td>4020</td>\n",
       "      <td>4020</td>\n",
       "      <td>NaN</td>\n",
       "      <td>train</td>\n",
       "    </tr>\n",
       "    <tr>\n",
       "      <th>2</th>\n",
       "      <td>59910525</td>\n",
       "      <td>0</td>\n",
       "      <td>52</td>\n",
       "      <td>1</td>\n",
       "      <td>0</td>\n",
       "      <td>1</td>\n",
       "      <td>4</td>\n",
       "      <td>0</td>\n",
       "      <td>Неполное среднее</td>\n",
       "      <td>Состою в браке</td>\n",
       "      <td>...</td>\n",
       "      <td>1</td>\n",
       "      <td>2</td>\n",
       "      <td>1</td>\n",
       "      <td>11</td>\n",
       "      <td>0</td>\n",
       "      <td>0</td>\n",
       "      <td>0</td>\n",
       "      <td>0</td>\n",
       "      <td>NaN</td>\n",
       "      <td>train</td>\n",
       "    </tr>\n",
       "    <tr>\n",
       "      <th>3</th>\n",
       "      <td>59910803</td>\n",
       "      <td>0</td>\n",
       "      <td>39</td>\n",
       "      <td>1</td>\n",
       "      <td>0</td>\n",
       "      <td>1</td>\n",
       "      <td>1</td>\n",
       "      <td>1</td>\n",
       "      <td>Высшее</td>\n",
       "      <td>Состою в браке</td>\n",
       "      <td>...</td>\n",
       "      <td>1</td>\n",
       "      <td>1</td>\n",
       "      <td>1</td>\n",
       "      <td>6</td>\n",
       "      <td>3</td>\n",
       "      <td>1</td>\n",
       "      <td>1589,92333333333</td>\n",
       "      <td>1590</td>\n",
       "      <td>NaN</td>\n",
       "      <td>train</td>\n",
       "    </tr>\n",
       "    <tr>\n",
       "      <th>4</th>\n",
       "      <td>59911781</td>\n",
       "      <td>0</td>\n",
       "      <td>30</td>\n",
       "      <td>1</td>\n",
       "      <td>0</td>\n",
       "      <td>0</td>\n",
       "      <td>0</td>\n",
       "      <td>0</td>\n",
       "      <td>Среднее</td>\n",
       "      <td>Состою в браке</td>\n",
       "      <td>...</td>\n",
       "      <td>1</td>\n",
       "      <td>2</td>\n",
       "      <td>1</td>\n",
       "      <td>16</td>\n",
       "      <td>2</td>\n",
       "      <td>1</td>\n",
       "      <td>1152,15</td>\n",
       "      <td>2230</td>\n",
       "      <td>NaN</td>\n",
       "      <td>train</td>\n",
       "    </tr>\n",
       "  </tbody>\n",
       "</table>\n",
       "<p>5 rows × 53 columns</p>\n",
       "</div>"
      ],
      "text/plain": [
       "   AGREEMENT_RK  TARGET  AGE  SOCSTATUS_WORK_FL  SOCSTATUS_PENS_FL  GENDER  \\\n",
       "0      59910150       0   49                  1                  0       1   \n",
       "1      59910230       0   32                  1                  0       1   \n",
       "2      59910525       0   52                  1                  0       1   \n",
       "3      59910803       0   39                  1                  0       1   \n",
       "4      59911781       0   30                  1                  0       0   \n",
       "\n",
       "   CHILD_TOTAL  DEPENDANTS            EDUCATION  MARITAL_STATUS  ...    \\\n",
       "0            2           1  Среднее специальное  Состою в браке  ...     \n",
       "1            3           3              Среднее  Состою в браке  ...     \n",
       "2            4           0     Неполное среднее  Состою в браке  ...     \n",
       "3            1           1               Высшее  Состою в браке  ...     \n",
       "4            0           0              Среднее  Состою в браке  ...     \n",
       "\n",
       "  GEN_PHONE_FL LOAN_NUM_TOTAL LOAN_NUM_CLOSED LOAN_NUM_PAYM LOAN_DLQ_NUM  \\\n",
       "0            1              1               1             6            2   \n",
       "1            1              1               1             6            1   \n",
       "2            1              2               1            11            0   \n",
       "3            1              1               1             6            3   \n",
       "4            1              2               1            16            2   \n",
       "\n",
       "  LOAN_MAX_DLQ  LOAN_AVG_DLQ_AMT LOAN_MAX_DLQ_AMT PREVIOUS_CARD_NUM_UTILIZED  \\\n",
       "0            1              1580             1580                        NaN   \n",
       "1            1              4020             4020                        NaN   \n",
       "2            0                 0                0                        NaN   \n",
       "3            1  1589,92333333333             1590                        NaN   \n",
       "4            1           1152,15             2230                        NaN   \n",
       "\n",
       "  sample  \n",
       "0  train  \n",
       "1  train  \n",
       "2  train  \n",
       "3  train  \n",
       "4  train  \n",
       "\n",
       "[5 rows x 53 columns]"
      ]
     },
     "execution_count": 627,
     "metadata": {},
     "output_type": "execute_result"
    }
   ],
   "source": [
    "df_train.loc[:, 'sample'] = 'train'\n",
    "df_test.loc[:, 'sample'] = 'test'\n",
    "df_train.head()"
   ]
  },
  {
   "cell_type": "code",
   "execution_count": 628,
   "metadata": {},
   "outputs": [],
   "source": [
    "df = df_test.append(df_train).reset_index(drop=True)"
   ]
  },
  {
   "cell_type": "code",
   "execution_count": null,
   "metadata": {},
   "outputs": [],
   "source": []
  },
  {
   "cell_type": "markdown",
   "metadata": {},
   "source": [
    "### Чуть-чуть посмотрим на данные"
   ]
  },
  {
   "cell_type": "markdown",
   "metadata": {
    "collapsed": true
   },
   "source": [
    "Посмотрим типы данных и их заполняемость"
   ]
  },
  {
   "cell_type": "code",
   "execution_count": 629,
   "metadata": {
    "scrolled": false
   },
   "outputs": [
    {
     "name": "stdout",
     "output_type": "stream",
     "text": [
      "<class 'pandas.core.frame.DataFrame'>\n",
      "RangeIndex: 30133 entries, 0 to 30132\n",
      "Data columns (total 53 columns):\n",
      "AGREEMENT_RK                  30133 non-null int64\n",
      "TARGET                        30133 non-null int64\n",
      "AGE                           30133 non-null int64\n",
      "SOCSTATUS_WORK_FL             30133 non-null int64\n",
      "SOCSTATUS_PENS_FL             30133 non-null int64\n",
      "GENDER                        30133 non-null int64\n",
      "CHILD_TOTAL                   30133 non-null int64\n",
      "DEPENDANTS                    30133 non-null int64\n",
      "EDUCATION                     30133 non-null object\n",
      "MARITAL_STATUS                30133 non-null object\n",
      "GEN_INDUSTRY                  27420 non-null object\n",
      "GEN_TITLE                     27420 non-null object\n",
      "ORG_TP_STATE                  27420 non-null object\n",
      "ORG_TP_FCAPITAL               27425 non-null object\n",
      "JOB_DIR                       27420 non-null object\n",
      "FAMILY_INCOME                 30133 non-null object\n",
      "PERSONAL_INCOME               30133 non-null object\n",
      "REG_ADDRESS_PROVINCE          30133 non-null object\n",
      "FACT_ADDRESS_PROVINCE         30133 non-null object\n",
      "POSTAL_ADDRESS_PROVINCE       30133 non-null object\n",
      "TP_PROVINCE                   29543 non-null object\n",
      "REGION_NM                     30131 non-null object\n",
      "REG_FACT_FL                   30133 non-null int64\n",
      "FACT_POST_FL                  30133 non-null int64\n",
      "REG_POST_FL                   30133 non-null int64\n",
      "REG_FACT_POST_FL              30133 non-null int64\n",
      "REG_FACT_POST_TP_FL           30133 non-null int64\n",
      "FL_PRESENCE_FL                30133 non-null int64\n",
      "OWN_AUTO                      30133 non-null int64\n",
      "AUTO_RUS_FL                   30133 non-null int64\n",
      "HS_PRESENCE_FL                30133 non-null int64\n",
      "COT_PRESENCE_FL               30133 non-null int64\n",
      "GAR_PRESENCE_FL               30133 non-null int64\n",
      "LAND_PRESENCE_FL              30133 non-null int64\n",
      "CREDIT                        30133 non-null object\n",
      "TERM                          30133 non-null int64\n",
      "FST_PAYMENT                   30133 non-null object\n",
      "DL_DOCUMENT_FL                30133 non-null int64\n",
      "GPF_DOCUMENT_FL               30133 non-null int64\n",
      "FACT_LIVING_TERM              30133 non-null int64\n",
      "WORK_TIME                     27416 non-null float64\n",
      "FACT_PHONE_FL                 30133 non-null int64\n",
      "REG_PHONE_FL                  30133 non-null int64\n",
      "GEN_PHONE_FL                  30133 non-null int64\n",
      "LOAN_NUM_TOTAL                30133 non-null int64\n",
      "LOAN_NUM_CLOSED               30133 non-null int64\n",
      "LOAN_NUM_PAYM                 30133 non-null int64\n",
      "LOAN_DLQ_NUM                  30133 non-null int64\n",
      "LOAN_MAX_DLQ                  30133 non-null int64\n",
      "LOAN_AVG_DLQ_AMT              30133 non-null object\n",
      "LOAN_MAX_DLQ_AMT              30133 non-null object\n",
      "PREVIOUS_CARD_NUM_UTILIZED    600 non-null float64\n",
      "sample                        30133 non-null object\n",
      "dtypes: float64(2), int64(32), object(19)\n",
      "memory usage: 12.2+ MB\n"
     ]
    }
   ],
   "source": [
    "df.info()"
   ]
  },
  {
   "cell_type": "markdown",
   "metadata": {
    "collapsed": true
   },
   "source": [
    "Видим, что часть данных - object, скорее всего стоки.\n",
    "\n",
    "\n",
    "Давайте выведем эти значения для каждого столбца"
   ]
  },
  {
   "cell_type": "code",
   "execution_count": 630,
   "metadata": {},
   "outputs": [
    {
     "name": "stdout",
     "output_type": "stream",
     "text": [
      "==========\n",
      "EDUCATION\n",
      "{'Высшее', 'Неполное среднее', 'Два и более высших образования', 'Неоконченное высшее', 'Среднее', 'Ученая степень', 'Среднее специальное'}\n",
      "\n",
      "\n",
      "==========\n",
      "MARITAL_STATUS\n",
      "{'Вдовец/Вдова', 'Разведен(а)', 'Не состоял в браке', 'Состою в браке', 'Гражданский брак'}\n",
      "\n",
      "\n",
      "==========\n",
      "GEN_INDUSTRY\n",
      "{nan, 'Недвижимость', 'Здравоохранение', 'Наука', 'Коммунальное хоз-во/Дорожные службы', 'Юридические услуги/нотариальные услуги', 'Салоны красоты и здоровья', 'Управляющая компания', 'Развлечения/Искусство', 'Логистика', 'Образование', 'Торговля', 'Строительство', 'Маркетинг', 'Транспорт', 'Другие сферы', 'Туризм', 'Банк/Финансы', 'Металлургия/Промышленность/Машиностроение', 'Сборочные производства', 'ЧОП/Детективная д-ть', 'Нефтегазовая промышленность', 'Подбор персонала', 'СМИ/Реклама/PR-агенства', 'Химия/Парфюмерия/Фармацевтика', 'Информационные технологии', 'Энергетика', 'Государственная служба', 'Страхование', 'Информационные услуги', 'Ресторанный бизнес/Общественное питание', 'Сельское хозяйство'}\n",
      "\n",
      "\n",
      "==========\n",
      "GEN_TITLE\n",
      "{nan, 'Рабочий', 'Другое', 'Работник сферы услуг', 'Служащий', 'Высококвалифиц. специалист', 'Индивидуальный предприниматель', 'Партнер', 'Руководитель высшего звена', 'Военнослужащий по контракту', 'Специалист', 'Руководитель низшего звена', 'Руководитель среднего звена'}\n",
      "\n",
      "\n",
      "==========\n",
      "ORG_TP_STATE\n",
      "{nan, 'Некоммерческая организация', 'Государственная комп./учреж.', 'Частная компания', 'Индивидуальный предприниматель', 'Частная ком. с инос. капиталом'}\n",
      "\n",
      "\n",
      "==========\n",
      "ORG_TP_FCAPITAL\n",
      "{'Без участия', nan, 'С участием'}\n",
      "\n",
      "\n",
      "==========\n",
      "JOB_DIR\n",
      "{nan, 'Участие в основ. деятельности', 'Пр-техн. обесп. и телеком.', 'Адм-хоз. и трансп. службы', 'Вспомогательный техперсонал', 'Снабжение и сбыт', 'Кадровая служба и секретариат', 'Юридическая служба', 'Бухгалтерия, финансы, планир.', 'Реклама и маркетинг', 'Служба безопасности'}\n",
      "\n",
      "\n",
      "==========\n",
      "FAMILY_INCOME\n",
      "{'свыше 50000 руб.', 'от 10000 до 20000 руб.', 'до 5000 руб.', 'от 20000 до 50000 руб.', 'от 5000 до 10000 руб.'}\n",
      "\n",
      "\n",
      "==========\n",
      "PERSONAL_INCOME\n",
      "{'44000', '17600', '17200', '14358', '19300', '8000', '7500', '27000', '3500', '16050', '6700', '12600', '14500', '2800', '23500', '9400', '13700', '13900', '11500', '12300', '16900', '15200', '22500', '4360', '170000', '28000', '7220', '8800', '5500', '11400', '15000', '9100', '14800', '23000', '7550', '15300', '23100', '36000', '2000', '220000', '14700', '10700', '3600', '8350', '23800', '9700', '5790', '38000', '5230', '47000', '65000', '13200', '5582', '7200', '5339', '5200', '4400', '10200', '13600', '54000', '28300', '18600', '31000', '10500', '11600', '6180', '17800', '150000', '27300', '100000', '5600', '4590', '13500', '24800', '37000', '8900', '35000', '52000', '6000', '40000', '11700', '13160', '18000', '13150', '8600', '6200', '9330', '7650', '45000', '16800', '67700', '4300', '9300', '3200', '4330', '9800', '75000', '42000', '110000', '15500', '9000', '3100', '9240', '12700', '4200', '12400', '11640', '9500', '4340', '12000', '17500', '8066', '4950', '5446', '7700', '21500', '17000', '7640', '6300', '11900', '1950', '8400', '42500', '4600', '50000', '7400', '5400', '30000', '13800', '3900', '5050', '92000', '3000', '12800', '6800', '20646,16', '24500', '22000', '56000', '7050', '46000', '8300', '13450', '5000', '60000', '5700', '7800', '11800', '9628', '160000', '29000', '19800', '6670', '11300', '4515', '19700', '24000', '4000', '8200', '6299,19', '15380', '77000', '10600', '19000', '14000', '2300', '67000', '11000', '3400', '20000', '12900', '4100', '3300', '22955', '21800', '2100', '3800', '29800', '68000', '19600', '9340', '5100', '20500', '19500', '7250', '51000', '41900', '11200', '32640', '25000', '10000', '7300', '10800', '3700', '6608', '43000', '24', '39000', '10100', '13400', '12650', '8100', '49000', '6500', '15560', '16700', '250000', '17700', '13000', '80000', '6100', '41000', '18700', '9200', '5800', '17404', '5680', '4800', '7101', '6900', '8500', '7850', '5360', '55000', '12100', '18500', '6600', '16000', '7900', '26000', '26500', '7000', '16200', '4900', '8250', '15400', '7600', '8700', '5350', '5088', '7251', '14300', '10300', '5300', '34000', '10400', '48000', '5460', '7100', '12500', '5900', '9900', '6359', '33000', '18200', '9600', '15600', '17900', '4700', '8726', '4500', '32000', '13300', '16500', '25800', '5425', '10900', '7830', '70000', '53000', '21000', '29500', '6400', '16100'}\n",
      "\n",
      "\n",
      "==========\n",
      "REG_ADDRESS_PROVINCE\n",
      "{'Астраханская область', 'Московская область', 'Карачаево-Черкесия', 'Владимирская область', 'Читинская область', 'Удмуртия', 'Дагестан', 'Бурятия', 'Еврейская АО', 'Калмыкия', 'Эвенкийский АО', 'Оренбургская область', 'Северная Осетия', 'Волгоградская область', 'Курганская область', 'Саратовская область', 'Санкт-Петербург', 'Ростовская область', 'Марийская республика', 'Пензенская область', 'Горный Алтай', 'Ульяновская область', 'Нижегородская область', 'Самарская область', 'Москва', 'Ямало-Ненецкий АО', 'Новосибирская область', 'Калининградская область', 'Липецкая область', 'Иркутская область', 'Свердловская область', 'Томская область', 'Смоленская область', 'Камчатская область', 'Якутия', 'Калужская область', 'Вологодская область', 'Башкирия', 'Кабардино-Балкария', 'Рязанская область', 'Белгородская область', 'Ярославская область', 'Курская область', 'Новгородская область', 'Ханты-Мансийский АО', 'Хакасия', 'Мордовская республика', 'Тульская область', 'Брянская область', 'Псковская область', 'Чувашия', 'Краснодарский край', 'Орловская область', 'Тамбовская область', 'Тверская область', 'Костромская область', 'Тюменская область', 'Амурская область', 'Приморский край', 'Ставропольский край', 'Сахалинская область', 'Коми', 'Татарстан', 'Магаданская область', 'Ивановская область', 'Карелия', 'Ленинградская область', 'Усть-Ордынский Бурятский АО', 'Адыгея', 'Челябинская область', 'Архангельская область', 'Алтайский край', 'Кировская область', 'Воронежская область', 'Мурманская область', 'Кемеровская область', 'Агинский Бурятский АО', 'Хабаровский край', 'Красноярский край', 'Омская область', 'Пермская область'}\n",
      "\n",
      "\n",
      "==========\n",
      "FACT_ADDRESS_PROVINCE\n",
      "{'Астраханская область', 'Московская область', 'Карачаево-Черкесия', 'Владимирская область', 'Читинская область', 'Удмуртия', 'Дагестан', 'Бурятия', 'Еврейская АО', 'Калмыкия', 'Эвенкийский АО', 'Оренбургская область', 'Северная Осетия', 'Волгоградская область', 'Курганская область', 'Саратовская область', 'Санкт-Петербург', 'Ростовская область', 'Марийская республика', 'Пензенская область', 'Горный Алтай', 'Ульяновская область', 'Нижегородская область', 'Самарская область', 'Москва', 'Ямало-Ненецкий АО', 'Новосибирская область', 'Калининградская область', 'Липецкая область', 'Иркутская область', 'Свердловская область', 'Томская область', 'Смоленская область', 'Камчатская область', 'Якутия', 'Калужская область', 'Вологодская область', 'Башкирия', 'Кабардино-Балкария', 'Рязанская область', 'Белгородская область', 'Ярославская область', 'Курская область', 'Новгородская область', 'Ханты-Мансийский АО', 'Хакасия', 'Мордовская республика', 'Тульская область', 'Брянская область', 'Псковская область', 'Чувашия', 'Краснодарский край', 'Орловская область', 'Тамбовская область', 'Тверская область', 'Костромская область', 'Тюменская область', 'Амурская область', 'Приморский край', 'Ставропольский край', 'Сахалинская область', 'Коми', 'Татарстан', 'Магаданская область', 'Ивановская область', 'Карелия', 'Ленинградская область', 'Усть-Ордынский Бурятский АО', 'Адыгея', 'Челябинская область', 'Архангельская область', 'Алтайский край', 'Кировская область', 'Воронежская область', 'Мурманская область', 'Кемеровская область', 'Агинский Бурятский АО', 'Хабаровский край', 'Красноярский край', 'Омская область', 'Пермская область'}\n",
      "\n",
      "\n",
      "==========\n",
      "POSTAL_ADDRESS_PROVINCE\n",
      "{'Астраханская область', 'Московская область', 'Карачаево-Черкесия', 'Владимирская область', 'Читинская область', 'Удмуртия', 'Бурятия', 'Еврейская АО', 'Калмыкия', 'Эвенкийский АО', 'Оренбургская область', 'Северная Осетия', 'Волгоградская область', 'Курганская область', 'Саратовская область', 'Санкт-Петербург', 'Ростовская область', 'Марийская республика', 'Пензенская область', 'Горный Алтай', 'Ульяновская область', 'Нижегородская область', 'Самарская область', 'Москва', 'Ямало-Ненецкий АО', 'Новосибирская область', 'Калининградская область', 'Липецкая область', 'Иркутская область', 'Свердловская область', 'Томская область', 'Смоленская область', 'Камчатская область', 'Якутия', 'Калужская область', 'Вологодская область', 'Башкирия', 'Кабардино-Балкария', 'Рязанская область', 'Белгородская область', 'Ярославская область', 'Курская область', 'Новгородская область', 'Ханты-Мансийский АО', 'Хакасия', 'Мордовская республика', 'Тульская область', 'Брянская область', 'Псковская область', 'Чувашия', 'Краснодарский край', 'Орловская область', 'Тамбовская область', 'Тверская область', 'Костромская область', 'Тюменская область', 'Амурская область', 'Приморский край', 'Ставропольский край', 'Сахалинская область', 'Коми', 'Татарстан', 'Магаданская область', 'Ивановская область', 'Карелия', 'Ленинградская область', 'Усть-Ордынский Бурятский АО', 'Адыгея', 'Челябинская область', 'Архангельская область', 'Алтайский край', 'Кировская область', 'Воронежская область', 'Мурманская область', 'Кемеровская область', 'Агинский Бурятский АО', 'Хабаровский край', 'Красноярский край', 'Омская область', 'Пермская область'}\n",
      "\n",
      "\n",
      "==========\n",
      "TP_PROVINCE\n",
      "{nan, 'Сахалинская область', 'Астраханская область', 'Белгородская область', 'Коми', 'Владимирская область', 'Липецкая область', 'Читинская область', 'Татарстан', 'Иркутская область', 'Удмуртия', 'Свердловская область', 'Бурятия', 'Магаданская область', 'Еврейская АО', 'Ивановская область', 'Ярославская область', 'Курская область', 'Томская область', 'Карелия', 'Оренбургская область', 'Новгородская область', 'Ханты-Мансийский АО', 'Адыгея', 'Волгоградская область', 'Челябинская область', 'Мордовская республика', 'Тульская область', 'Брянская область', 'Архангельская область', 'Смоленская область', 'Псковская область', 'Чувашия', 'Алтайский край', 'Курганская область', 'Краснодарский край', 'Саратовская область', 'Орловская область', 'Кировская область', 'Тамбовская область', 'Санкт-Петербург', 'Камчатская область', 'Ростовская область', 'Тверская область', 'Воронежская область', 'Мурманская область', 'Якутия', 'Костромская область', 'Тюменская область', 'Калужская область', 'Москва', 'Марийская республика', 'Вологодская область', 'Пензенская область', 'Амурская область', 'Кемеровская область', 'Ульяновская область', 'Горный Алтай', 'Хабаровский край', 'Приморский край', 'Нижегородская область', 'Красноярский край', 'Ставропольский край', 'Башкирия', 'Самарская область', 'Кабардино-Балкария', 'Рязанская область', 'Новосибирская область', 'Омская область', 'Калининградская область', 'Пермская область'}\n",
      "\n",
      "\n",
      "==========\n",
      "REGION_NM\n",
      "{'ЦЕНТРАЛЬНЫЙ 1', nan, 'ЗАПАДНО-СИБИРСКИЙ', 'ЦЕНТРАЛЬНЫЙ ОФИС', 'ПРИВОЛЖСКИЙ', 'ЮЖНЫЙ', 'ЦЕНТРАЛЬНЫЙ 2', 'ДАЛЬНЕВОСТОЧНЫЙ', 'СЕВЕРО-ЗАПАДНЫЙ', 'УРАЛЬСКИЙ', 'ВОСТОЧНО-СИБИРСКИЙ', 'ПОВОЛЖСКИЙ'}\n",
      "\n",
      "\n",
      "==========\n",
      "CREDIT\n",
      "{'9375', '28820', '17550', '4986,5', '44697', '28517', '6865', '19983', '22497', '4228', '4777', '15575', '24003', '6193', '18105', '38810', '15293', '14328', '34699', '23550', '23220', '14948', '9550,82', '2200', '6839', '14390,92', '12317', '11489,91', '12546', '42228', '11345', '18610', '8994', '11460', '23377', '25600', '4097', '19439', '5530', '35035,2', '33475', '60720', '18720', '5999', '16733', '9430,38', '15638', '21710', '7157', '17300', '20850', '10366', '18096', '2366', '38070', '29478', '14773', '15690', '18374', '19736', '4939', '44700', '4115', '7559', '5700', '18696', '6348', '19840', '35669', '6906', '7547,2', '10818', '14349', '4195', '11690', '18119', '24962', '24570', '8830', '14646', '19060', '22509', '20700', '8148', '3949,92', '13190', '2748', '35950', '20698,1', '7353', '30060', '5680', '11385', '20277', '45952', '16450,71', '78400', '8595', '26820', '18913', '7116', '21778', '29975', '14481', '6678', '25271', '28060', '33097', '7335', '7080', '24867', '19315', '18760,75', '2970', '9813', '3654', '17230', '19998', '13443', '26355', '17873,75', '4479', '18049', '13440', '28879', '20530', '36800', '14744', '17960', '22590', '71400', '13278', '7017', '7181', '6881', '9010', '25641', '40410', '12597,3', '4741', '9530', '5288', '3107,7', '5083', '30825', '10665', '19382', '8762', '12616', '5910', '4349', '7315', '10584', '16996', '19745', '7420', '3820', '2088', '4628', '17203', '14290', '12463', '18740,5', '41990', '13430', '8290', '13356', '4525', '4345', '33996', '13792', '9825', '18960', '19020', '5548', '6675', '18225', '11293', '16392', '8150', '13999', '6201', '6820', '14996', '7404', '12908', '2341', '11819', '38718', '31491', '2470', '78120', '22293', '24119', '14487', '86900', '29382', '5451', '20000', '15110', '18972', '13390', '8825', '29790', '94300', '11368', '7642', '26091', '41929', '6660', '7747', '22570', '12903', '34100', '15560', '21380', '15745', '4099', '8188', '21042', '36527', '25491', '13592', '28460', '17503', '12057', '4290', '33800', '26034', '5099', '4769', '8917', '3703', '4401', '17595', '10550', '48700', '4369', '5820', '5309', '38570', '17091,9', '4470', '16920', '9730', '13389', '5560', '29750', '33190', '6748', '9341', '14204', '4911', '2872', '9021', '7667', '29052', '20790', '5922', '8912', '9450', '80973', '6377', '31224', '6477', '13284', '5221', '9595', '5963', '39590', '35793', '27480', '60888', '9940', '12947', '7676', '17075', '4840', '27990', '4031', '11466', '2299', '4365', '17690', '14758', '9241', '6790', '14030', '6470', '7002', '20100', '28551', '20086', '17528', '16875', '8424', '20294', '3834', '15210', '26120', '51750', '21736,2', '8480', '35145', '8960', '19699', '18667', '4326', '17622', '25225', '4754', '31050', '3535', '12262', '10413', '6069', '3149', '5712', '3850', '22194', '2421', '6379', '34618', '11049', '7478', '48600', '49000', '25538', '6904', '6040', '4968', '5594', '19877', '13275', '3849', '11750', '12822', '4608', '10432', '24059,83', '2372', '8487', '14820', '7570', '14661', '4973', '4005', '6741', '23945', '6835', '3799', '34804', '7488', '2855', '11098,8', '7876', '14177', '38108', '6420', '51200', '31646', '17025', '12189', '5516', '18414', '12050', '8717', '16371', '9080', '10935', '8253', '17250', '21847', '18650', '25960', '21450', '23154', '14385', '5261', '3188', '12835', '8241', '13138', '11790', '20379,5', '15300', '19320', '9217', '9596', '14890', '20698', '10540', '8006,1', '3195', '15190', '5389', '7660,42', '25765', '2899', '15269', '14698', '6530', '9710', '4572', '21146,4', '39980', '6120', '3033,9', '32500', '49500', '11217', '5931,8', '3910', '4522', '7749', '11740', '15756', '10492', '31263', '3590', '10590', '20324,92', '6192', '2150', '3405', '20770', '21920', '17000', '18990', '26276', '7399', '26547', '26164', '3000', '5060', '2700', '4089', '7741', '5895', '6800', '8410', '25315', '18001,28', '18549', '6639', '20330', '13748', '6892', '4240,91', '14337', '3130', '3450', '51370', '8322,77', '10467,1', '18460', '11077', '30940', '9340', '30545', '18868', '10659', '21075', '24502', '5850', '8389', '16700', '18180', '39254', '17367', '11310', '3769', '27080', '32525', '15017', '5195', '8311,29', '4351', '15299', '26961', '8641', '51300', '26500', '13921,36', '16776', '26485', '17140', '7611', '69282', '17199', '12854', '20298', '16783', '32650', '9600', '32540', '23900', '16748,1', '9480', '5370', '31538', '10675', '22090', '13115', '24480', '13392', '6653', '21648', '6256,8', '10352', '6347', '6020', '20706', '43880', '6247,8', '91168', '14387', '9931', '11960', '8132', '87600', '40581', '20007', '41600', '4984', '5630', '20250', '17800', '54000', '2790', '3137', '26051', '5329', '61000', '21160', '15121', '7970', '10575', '27190', '2514', '8160', '15695', '7060', '10445', '15398', '9769', '14461', '15033', '3886', '4978', '17556', '29266', '6539', '14636', '20636,91', '3063', '18140', '19797', '16317', '11648', '18497', '16940', '9237', '21150', '11190', '5050', '16447', '12211', '17763', '22515', '4689', '34335', '10879', '7166', '8797', '13232,88', '19925', '19011', '14696', '15127,38', '25855', '35530', '13727', '6311', '23584', '3300', '2180', '13180', '3898', '9793', '28160', '31091', '16490', '9573', '21899,94', '5740', '9461,5', '9176', '4617', '2870', '12650', '8100', '7173', '11323', '14991', '21860', '15850', '7433', '6858', '29120', '3123', '30420', '13590', '21717,92', '12902', '11396', '23029', '9295', '11853', '25989', '9310', '6860', '8700', '5300', '24236', '5208', '10287', '11769', '9169', '28500', '24423', '21670', '16865', '2158', '90200', '21312', '15245', '8767', '4673', '20133', '3510', '14092', '27670', '3565', '13488', '17173', '2048', '28241', '6916', '15237,1', '10021', '12904', '14331', '9224', '8597', '4175', '14976', '14490', '18045', '6696', '28090', '13941', '3987', '9456', '10347', '3039', '26055', '8900', '12195', '11798', '13747', '30720', '4789,92', '29875', '15770', '26085', '21021,9', '14960', '15556', '6096,13', '22047', '16272', '21390', '11995', '13875', '31317', '4801', '39450', '3509', '23280', '25320', '25812,5', '27470', '10609,2', '4199', '6130', '4491', '27347', '5404', '7799', '5310', '5000', '10990,2', '24450', '4329', '17946,2', '12542', '26600', '25881', '26082', '4720', '10225', '8658', '35201', '18654', '6562', '6899', '16616', '11151', '6680', '8793', '11441', '37880', '7152', '17804', '14133', '22499', '11270', '11377', '9198', '10970', '89196', '12100', '24465', '17605', '2270', '30918', '24990', '17789', '5865', '16519', '2995', '9427', '9278,1', '7240,5', '32844', '22770', '30430', '12460', '22711,21', '8050', '7810', '8188,04', '6947', '6269', '23677', '25350', '97000', '14446,3', '32846', '32310', '27898', '44660', '25920', '9090', '2745', '32397', '16002', '13790', '16190', '34449', '15890', '87786', '29295', '11536', '8490', '5010', '36570', '20180', '6575', '14316', '7999', '7614', '4454', '10972', '4563', '50929,82', '4896', '18004', '9971,89', '8116', '23352', '5330', '10010', '24647', '20575', '22369', '14930', '59009', '5888', '74690', '12716', '35369,4', '4746', '22384', '15639', '7030', '6236', '13829', '11630', '8720', '5199', '33192', '4738', '2490,92', '4729,72', '12150', '22100', '3271,5', '7872', '12451', '21746', '16949', '12197', '9985', '3290', '6130,8', '6450', '9546', '6744', '9972', '7360', '18711,05', '5859', '3356', '2240', '14600', '10394', '16990', '7891', '28800', '23660', '5847', '4804', '36260', '11930', '23395', '24850', '6838', '14670', '21770', '19710', '26340', '13087', '4118', '65250', '25800', '20220', '31190', '27000', '13301', '7632', '19890', '4360', '4879', '11589', '15523', '6380,91', '28810', '7092', '25298', '9700', '20985,62', '16715', '24408', '10040', '41500', '25263', '16989,92', '12127', '29100', '13456', '93890', '8600', '10670', '10560', '14917', '16800', '5055', '12597', '23713', '30686', '35142', '16520', '11690,91', '21128', '22530', '17920', '88300', '12400', '23095', '6480', '18350', '5520', '5695', '7687', '6186,7', '9621', '4542', '16112', '5929,95', '14947', '21658', '32576,5', '13770', '18370', '13455', '12366', '19980', '7327', '45900', '14925', '18286', '13709', '17476', '12713', '7279', '17106', '8633,7', '22450', '39160', '10940', '5180', '3860', '24000', '30681', '7739', '5119', '6620', '15750,91', '3942', '7191', '30820', '33476', '12347', '14168', '7469', '14175', '8508', '28170', '10428', '25625', '7144', '14257,91', '8492', '82700,9', '25500', '13433', '35320', '8370', '7189', '4290,95', '14197', '15870', '10029,92', '38700', '18890', '10591', '2495', '55846', '11100', '60500', '58670', '6561,9', '26960', '37235', '7307', '20931', '9438', '8047', '27500', '10361', '5290', '10381,5', '3561', '11279', '13780', '22627', '18340', '4555', '32508,2', '8185', '3547,42', '8984', '29400', '13745', '4740', '20477', '23320', '24295', '7357', '67950', '4589', '21895', '4059', '20882', '6146', '12283', '9971,3', '5337', '14510', '10286', '22672', '23390,91', '3919', '4607', '3492', '6129', '22168', '7137', '7376', '23690,91', '12280', '8694', '7089', '9830', '6461', '7590,31', '11030', '13671', '41994', '22950', '11070', '22987', '15319', '7224', '13230', '11398', '18216', '11871', '5997', '16975', '6350', '39780', '8735', '12232', '6710', '21665', '8445', '9920', '23268', '6850', '24980', '11495', '28990,91', '20490', '5239', '6490,5', '12173', '18085', '25492', '19809', '14240', '4641', '27070', '19840,5', '5025', '11799', '8544', '22799', '11040', '35992', '6161', '9246', '9594', '14047', '7980', '50678', '15390', '9791', '20305', '13872', '17324', '3185', '8640', '15940', '14081', '4299', '4048', '21086', '3023,58', '3865', '31466', '6138', '8901', '8076', '2259,9', '25137', '18020', '29070', '4314', '10551', '70047', '5496', '32970', '19210', '4099,9', '23930', '82800', '18012', '18819', '93947', '28565', '20820,2', '6280', '37752', '22427', '8156', '89640', '16005', '27170', '11240', '18692', '9629', '3545', '34557,1', '33459', '19819', '19597', '6682', '7640', '17716', '4921', '11034', '28288', '3868', '13891,5', '31885', '17930', '4310', '7650', '11269', '20424', '9390', '17572,68', '20209', '90590', '4339', '11266', '11456', '9180', '15003', '10075', '15480', '17789,2', '25250', '9555', '5661', '3743', '8292', '5906', '9345', '14398', '23390', '15034', '4878', '5346', '33111', '97026', '9477', '6545', '17990', '4837', '17599', '9702', '23980', '29336,4', '9227', '8606', '20691', '63271', '6492', '13134', '20645', '22480', '18910', '11997,2', '27990,91', '9326', '13141', '9842', '16455', '17592', '11619,84', '8295', '4462', '5871', '42950', '10548', '15552', '6036', '4779', '31509', '5751', '12896', '7618', '24314', '3930,81', '20753', '15998', '13780,82', '9919', '20296', '13225', '16200', '16214', '11940', '18535', '23940', '5080', '23459', '8120', '21050', '17900', '12742', '18784', '21624', '74466', '3383', '15950', '20600', '22798', '8598', '20400', '6880', '18470', '27088', '22458', '14215', '9997', '61290', '8460', '28042', '11576', '21588', '18280', '15653', '5399', '4683', '5465,26', '19377', '4004', '35097,66', '13462', '4262', '15498', '79679', '9655', '19278', '6030', '4945', '2974,15', '15599', '9963', '14730', '9457', '24580', '29590', '25515', '4560', '17231', '29942', '17538', '19795', '8617', '7160', '12472', '3540,2', '26232', '4021', '10870', '10089', '17397', '32700', '21195', '28530', '19099', '6105', '12944', '19730', '8419', '24500', '15389', '12019', '3370', '5424', '60000', '16870', '6330', '16467', '32370', '10528,3', '14847', '22252', '30920', '30100', '15788', '16660', '10490', '4595', '9928', '3764', '12741', '86618', '8128', '21300', '57209', '9866', '7507', '54105', '16298', '13940', '10538', '6935', '27962', '11445', '52509', '2520', '22830', '24506', '16227', '27816', '17671,2', '3375', '9429', '17573', '13139', '16890', '12906', '14096', '27130', '21207', '36980', '20874', '24897', '21890', '21771', '9248', '77860', '9855', '33920', '23104', '15615', '4650', '4420', '22269', '5110', '16613', '16500', '4191', '13981,8', '6190,92', '14718', '5472', '4413', '7763', '26560', '8744', '18670', '31933', '2798', '28402', '32348', '11115', '4890,2', '16647', '16030', '4581,87', '5770', '8771', '9955', '23511', '26489', '3320', '10114', '5797', '18468', '8619', '16480', '18358', '28247', '60300', '23020', '8755', '3490', '10864', '4891', '41451', '19930', '28428', '32391', '8857', '4703', '18260', '28224', '7679', '19100', '17320', '22469', '9325', '10506,76', '3990,92', '2305,8', '2489,4', '3359', '5775', '10704', '16180', '22959', '25898', '15164', '75424', '7589', '13386', '28674', '4858,1', '2907', '14150', '2910', '9557,1', '8038', '11322', '15780', '5043', '26339', '9447', '11571', '6491', '8675', '29177', '16499', '3484', '3923', '24889', '14472', '26999,2', '4290,9', '2871', '73230', '6958,92', '10740', '14193', '14639', '25829,1', '28666', '36290', '19050', '12972', '25227', '27939', '13499', '5018', '5800', '10170', '10646,2', '28098', '26337,6', '14196', '19580', '8902', '24983', '8879', '6948', '16740', '22904', '19990', '98136', '19590', '21381,12', '13669', '10398', '10890', '5296', '22870', '10803,84', '4952', '10712', '4244', '15647', '3006', '20979', '2680', '8118', '4270', '8856', '5017,9', '19037,2', '3015,2', '14795', '24270', '14260', '7849', '48580', '16620', '75500', '5687', '26710', '27680', '10447', '25640', '3001', '9577,8', '16128', '14989', '47000', '21802', '13110', '9923', '14399', '3150', '13294', '8650', '10990', '15466', '20620', '20826', '25278,14', '6997', '13989', '79380', '30170', '11855', '40824', '20179,3', '9484', '9280', '13366,2', '3663', '16194', '5799', '3848', '12570', '20488', '13644', '7898', '6035', '23355', '14678', '15490', '4990', '24650', '28640', '4858', '18450', '12509,9', '6073', '6732', '22747,4', '21382', '12398', '5796', '7632,92', '16020', '8064', '20630', '4056', '52561', '15096', '17567', '16948', '21688', '18780', '32938', '13009', '3876', '9917', '4970', '8568', '22250', '13439', '4041', '35770', '14400', '53091', '22395', '4008', '13140', '37531', '26595', '5745,12', '26997', '4320', '16010', '5867', '11376', '3199,2', '48900', '10245', '17997', '19520', '7395', '10338', '27905', '4160', '25950', '20520', '4510', '13021', '2819', '17860', '7947', '37790', '25632', '2045', '3215', '13530', '16649', '18649', '9515', '27234', '11697,1', '27900', '25301', '6494', '2860', '45280', '11212', '36500', '6136,58', '7319', '22525', '20272', '5937', '25317', '4070', '41700', '11317', '5240', '15090', '13897', '9430', '2072,7', '29970', '12575', '11978', '8775', '22460', '7798', '22618', '12465', '18799', '11590', '22945', '4350', '20338', '10230', '18296', '4598,6', '28722', '17399,1', '15201', '17752', '7651', '2620', '19772', '3270', '5793,3', '17865', '7180,9', '7637,63', '8950', '4644', '60080', '11529,91', '5995', '10265', '6018,39', '6056', '16766', '4994', '9810', '33725', '11670', '29944', '28472', '13847', '13030', '13926', '26090', '8420', '24881', '10060', '74700', '6561', '10085,9', '5824', '9960', '28580', '10785', '11180', '10418', '63657', '13198', '61920', '8500', '15214', '59629', '11308', '8750', '5715', '32822', '19254', '5276', '3310', '23950', '11595', '7407', '26547,3', '4362', '18896', '20550', '7788', '13460', '12725', '96000', '36194', '10854', '28440', '21328', '16110', '10655', '15720,91', '27550', '9040', '19110', '6264', '23989', '7281,94', '22927', '44500', '8988', '7258', '7210', '3840', '27448', '26330', '13221', '5455,8', '8127', '11810', '6983', '13248', '28016', '30325', '34630', '15199', '10730', '30150', '29592', '28600', '13500', '24380', '6970', '21200', '98030', '26499', '11699', '7597', '14595', '40037', '78150', '14609', '29663', '31020', '30391', '7416', '44415', '11748,2', '46600', '7580', '18528', '10147', '4675', '81612', '28755', '8515', '5936,81', '16690', '30000', '13800', '18599', '21726', '6885', '12860', '15790', '15810', '3299', '9759,4', '22898', '2330', '20155', '25840', '42135', '19130', '8393', '29694', '10499', '52295', '12053', '5721', '29386', '7417,5', '18790', '17714', '30340', '11470', '31850', '16498', '8741', '10495', '9759', '3916', '20640', '2095', '71500', '18702', '2165,16', '12849', '4217', '17424', '6282', '29376', '9695', '15027', '18898', '13689,86', '17361,76', '6598', '8715', '14645', '13288', '5754', '10400', '13410', '4239', '3328', '27934', '4500', '13254', '6424', '3560', '8235', '16280', '13653', '29461,34', '3010', '13157', '16240', '3717', '46156', '3553', '4180', '5280', '3407', '3970', '3413', '11060', '18209', '21619', '67795', '13700', '6889', '38800', '4405', '4915', '5772', '5090', '28238', '25498', '19798', '26770', '7863', '18643', '31060', '6919', '13005', '5295', '22213', '8840', '3119', '23009', '12508,2', '8890', '7909', '7200', '13978', '22070', '12328', '25109', '11899', '12511', '24800', '5706', '21080', '76738', '3199', '11305', '5019', '17756', '15314', '9290,91', '44495', '12159', '24475', '7610', '13785', '7711', '4430', '8199', '15610', '7373', '17950', '12750', '17099,1', '14489,2', '12959', '6298,6', '5849', '19250', '15832', '13769,2', '32490', '7090', '11719', '2961', '6489', '21286', '31294', '19169', '2070', '17112', '11039', '6145', '2699', '2125', '3316', '14796', '13922', '2050', '22520', '6640', '15759', '11315', '9755', '2570', '36308', '3141', '29445', '21784', '8441', '19728', '15427', '5037', '4475', '10668', '33821', '9200', '3718', '60829', '16669', '3143', '36701', '2719,2', '27490', '13257', '21388', '3752,9', '19350', '6940', '11160', '17529,91', '15272', '12136', '15320', '4756,5', '5632', '8268', '5366', '19300', '6101', '3067', '5197', '55500', '29905', '3998', '23057', '8450', '4386', '9651', '27744', '29040', '3897', '20263', '4485', '12782', '13558', '14765', '10910', '6843', '16312', '20320', '26875', '19502', '5130', '25887', '16561', '8669', '83194', '23490', '27686,2', '26708', '29198', '9004', '4275', '21550', '11795', '28041', '18399', '24357', '13136', '11135', '11751', '24858', '9422', '11133', '42000', '3798,9', '20670', '10128,8', '26022', '4845', '35670', '25740', '15440', '11426', '16840', '3960', '22160', '33598', '31500', '6590', '16662', '7400', '16598', '5589', '19799', '6960', '4311', '12499', '5456', '16848', '5391', '2745,9', '15518', '22150', '11689', '21990', '37100', '4743', '30190', '5023', '6831', '7386,75', '3499', '6283', '7917', '23025', '15910', '3284', '7302', '20313', '36177', '8184', '7327,8', '29526,12', '26390', '13989,4', '15980', '23310', '6900', '19610', '4910', '14660', '11330', '14361', '7130', '12998', '22091', '23830', '16418', '7869,61', '18471', '25730', '13990', '8603', '6822', '9420', '12557', '4899', '7919', '8570', '27769', '18171', '28338', '16045,2', '20680', '27040', '6758', '4579', '18239', '19415', '11514', '23000', '14119', '26990', '11502', '26100', '9768', '25683', '5723', '7199', '6189,92', '21187', '12899', '11590,92', '31560', '12160', '8515,7', '9801', '3429', '12960', '3490,92', '17415', '7011', '14949', '26720', '16576,2', '12537', '67500', '5265', '14350', '14288', '5353,5', '46729', '18022', '9908', '22495', '30428', '22761', '31900', '9979', '3410', '12699', '5232,2', '11724', '18510', '23128', '11405', '7370', '10470', '32706', '6142', '17261', '22930', '3895', '29858', '5100', '4869,66', '24721', '15629', '51000', '20583', '3961', '22400', '19316', '2936', '20397', '3308', '9412', '28059,81', '10100', '12991,82', '11950', '24600', '4761', '27780', '12092', '13490', '19991', '11211', '12868', '34990', '26730', '7259', '6345', '18582', '11335', '41171', '9127', '30735', '14520', '11148', '2572', '4290,91', '4630', '34140', '5445', '16999,82', '18690', '12390', '15580', '12365,2', '10969', '6400', '17998,2', '8430', '6792', '15020', '12424', '13890', '29880', '12493', '12708', '11428', '2245', '5064', '22969', '13580', '25639', '9059,92', '9899', '21473', '34695', '13310', '12191', '47195,92', '21910', '6205', '20040', '8999', '16175', '15520', '10471', '8910', '19993', '11920', '39690', '4026,55', '37069', '27950', '15856', '18669,2', '19999', '6075', '9490', '10778', '4499,2', '11623', '6599', '13148', '95441', '20748', '9116', '27124', '25506,19', '9719', '18361', '19184', '11524,79', '29697', '8195', '13195', '37480', '5860', '16438', '32935', '64660', '8190', '25727', '11199', '14637', '9230,9', '18800', '9654', '5950', '5294', '30615', '19218', '11551', '37450', '23772,27', '6361', '26896', '13993', '22792', '5398', '32292', '5605', '4969', '22756', '2183', '3350', '5219', '6964', '5612', '9970', '6890', '17697', '48920', '23347', '8453', '21940', '50330', '33510', '14658', '7381', '4885', '3660', '4919', '27360', '28258', '74482', '9900', '16998', '34740', '12348', '5614', '4660', '6950', '7394', '23406', '15186', '21350', '15370', '10855', '6081', '22635', '16512', '7151', '3497', '8070', '15290,7', '30580', '25937', '5301', '17460', '12651', '29661', '12250', '5970', '22188', '89200', '11296', '11565', '9263', '17952', '10483', '7509', '3069,9', '4248', '8997', '21660', '5636', '21850', '10248,2', '11446', '5011', '6370', '12061', '4302', '28509', '6665', '3474', '88555', '20375', '50950', '21900', '27250', '12454', '11935', '10850', '81000', '62100', '26529', '50000', '10330', '25584', '3779', '21481', '88440', '22210', '14450', '20464', '6747', '5480', '3639', '24420', '17770', '15363', '5129', '10529', '23358', '37200', '6781', '4781', '22490,91', '30990', '22944', '2412', '18686', '26750', '5040', '10939', '79910', '4408', '77762', '10580', '29443', '7174,6', '7740', '10605', '15246', '26200', '20536', '18515,03', '18080', '24125', '6411,72', '26174', '15270', '17379', '17432', '12095', '27846', '21123', '11528', '32450', '23706', '14006', '4592', '6165', '3501', '22558', '27248', '24100,83', '4493', '5960', '3650', '5625', '39388', '8777,1', '29200', '23140', '91536', '8381', '5490', '15290', '16730', '18602', '40180', '26871', '10058,5', '14500', '13900', '3610', '5542', '6819', '22498,2', '12310,91', '4619', '21592', '8698,1', '19976', '3630', '7998', '11081,52', '42940', '5357', '8380', '10539', '25100', '10420', '12711', '13950', '5200', '10650', '9533', '4905', '15985', '12345', '30471', '25440', '20646', '50700', '14513', '11340', '21496', '47309', '3117', '22999', '13835', '8806', '29430', '23797', '6004', '14453', '14207,1', '10191', '6691', '34200', '4469', '9814', '35580,91', '18566', '13137', '10279', '37881', '36136', '22275', '6834', '27673', '15621', '3548', '10936', '14083', '8556', '14619', '15291', '23389', '4750', '19748', '8530', '7715', '27580', '53169', '21250', '26547,1', '16950', '8499', '13324', '17815', '2420', '9268', '25631', '26774', '19460', '9347', '21570', '17398,1', '12260', '13287', '25447', '16547,3', '27970', '6338', '4548', '27759', '12029', '20280', '14169,1', '3792,92', '2889', '5984', '4599', '17561,8', '11126', '20079', '21009', '34422', '4735', '17496', '9128', '25180', '20690', '5588', '14160', '15725', '19446', '4380', '13507', '8904', '10953', '16191', '17991', '57581', '21120', '15099', '27795', '4964', '6726,1', '18150', '16880', '6278', '8285', '43732,8', '9050', '5908', '2650', '10699', '18440', '10671', '5746', '15619', '28280', '23300', '28273', '4770', '23230', '10980', '29612', '3222', '6647', '7285', '25050', '9144', '28110', '65400', '5965', '15279', '15844', '25897,4', '27270', '2135,14', '7949', '49798,1', '29300', '7582', '4600', '17372', '32800', '7560', '8360,92', '19622', '3542', '6021', '49838', '3099', '8829', '7800', '11116', '3690,92', '10250', '7648', '8792', '23516,84', '18220', '16367', '16150', '20751', '18338', '11955', '10750', '19341,2', '16993', '3980', '6093', '6999,3', '3700', '23331', '19140', '26641', '3575', '19051', '3951', '21762', '18550', '10429', '12421', '7240', '19143', '27895', '12572', '8638', '10773', '20050', '7236', '5162', '26524', '4961', '5533', '8098', '10198', '8540', '13489', '23647', '6360', '13776', '27149', '23625', '10240', '18984', '22230', '10448', '26538', '6779', '14441', '19205', '29691', '14527', '2880', '7713,42', '13402', '13290', '10841', '11389,2', '9432', '3231', '23975', '3790', '4679', '6984', '20356', '2219', '2600', '2679', '24929', '14596', '6525', '9840', '14590', '45672', '18068', '11230', '2873', '18517,1', '4077', '41907', '12024', '8169,55', '14993', '9681,5', '4480', '15670', '7369', '22560', '6163', '26315', '15128', '15347', '22085', '53364', '7480', '9074', '4725', '19245', '39720', '7337', '29280', '26590', '35700', '3399', '28162', '12672', '21100', '26365,6', '25299', '26650', '50879,83', '10542', '16872,3', '13480', '24103', '19880', '22970', '5131', '8097', '13321', '7539', '6567', '14020', '8091', '3076', '2151', '25695', '2009', '13479', '18750', '9592', '19500', '28922', '27208', '35900', '7182', '11297', '16985', '13698', '16105', '3959', '8730', '6799', '6549,83', '2850', '3140', '18825', '8990', '3072', '10149', '23600', '20883', '14950', '5941', '5928,1', '23396', '78390', '6556', '23226', '44030', '7595', '22674', '22617', '19886', '25177', '11440', '28400', '4934', '26457', '7549,89', '10735', '9130', '63776', '8846', '24195', '42689', '14365', '8377', '9060', '9417', '10319', '28242', '7590', '31040', '69000', '18198', '23044', '36267', '20090', '5790', '33358,84', '10046', '5267', '18027', '23108', '18498', '13600', '34479', '27617,1', '24263', '92951', '39020', '18000', '2909', '5440', '25623', '6928', '7812', '19260', '14284', '6217', '27995', '5829', '30925', '20095', '16479', '26890', '4888', '23304,6', '5272', '20060', '15035', '3424', '15309', '4047', '15990', '4540', '13670', '31502', '14620', '19620', '18300', '26989', '16551', '16750', '19295', '2599,2', '13302', '4727', '22015', '24459', '9189', '4134,4', '9983', '14850', '55174', '4820', '29782', '8770', '12228', '18881', '14900', '14659,2', '10611', '5232', '20877', '47247', '15820', '6920', '27860', '37500', '7940', '15806,5', '14866', '40110', '42300', '5351', '23440', '11600,6', '7750', '16501', '23920', '3570', '7985', '6393', '20928', '21166', '9370', '26461', '17251', '14747,1', '21069,8', '7084', '61915', '21880', '5218', '21840', '3250', '3906', '11167', '12670', '12110', '16736', '17890', '18660', '23890', '3940', '17600', '10904', '7112', '5253', '23202', '4887', '56340', '15732', '11718,94', '7490', '5799,2', '51700,5', '24550', '7563', '17593', '8536', '13641,3', '28715', '19106', '5149', '18600', '4202', '15442', '8228', '17906', '4640', '6200', '13496', '51685', '33255', '6546', '10820', '13679', '33900', '18648', '5897', '63700', '9550', '14574', '10523', '46960', '16814', '17276', '14678,63', '37440', '6990,92', '35610', '9470', '11787', '20590', '3854', '20658,2', '23297', '13312', '7605', '2250', '5736,6', '16897', '20540', '14885', '22864', '13450', '34999', '4276', '4980', '22124', '11434', '9371', '28991', '4336,2', '7878', '10576', '23700', '12320', '14494', '6679', '14206', '24950', '14497', '11666', '4680', '16698', '7703,1', '7120', '17670', '19627', '30800', '2189', '10844', '12495', '11154', '3237', '3489', '6399', '13860', '15824', '9158', '4389', '76550', '6793', '9389', '7638', '18463', '29388', '2947', '7625', '4853', '20601', '10992', '3520,8', '15696', '31520', '5355', '6893,7', '25150', '41936', '26080', '7390', '20699,1', '17558', '27637', '3824', '83871', '17370', '24220', '15250', '12300', '3294', '25360', '16063', '3898,1', '2930', '5109', '9718', '3307', '22810', '15602,5', '16185', '32617', '20046', '10769', '16065', '35775', '26084', '14100', '36910', '5488', '31910', '11392', '3668', '37800', '5304', '23382', '3134', '32200', '21919', '18269', '20715', '7473', '4580,92', '3245', '24711', '13490,2', '9009,91', '34650', '10001', '29707', '7990', '4366', '4499', '20992,78', '10490,91', '17190', '19989', '27796', '23259', '4951', '6854', '17810,82', '11786,85', '13910', '22488', '4850', '10884', '12598,2', '5780', '9675', '5610', '23684', '9809', '43996', '15078', '4013', '6452', '19630', '52200', '2511,82', '9880', '16092', '6099', '37508', '29450', '9580', '7795', '21805', '23200', '22299', '5735,7', '15865,65', '73300', '5517', '10113', '3748', '7680', '5328', '11350', '2928', '7586', '11580', '4212,8', '26000', '18400', '34806', '6475', '37016', '17453', '27012', '32900', '14688', '3825', '19290', '21984,55', '6386', '11409', '46921', '25459,3', '22692,96', '11055', '29470', '17839,92', '16199', '3740', '9988', '11692', '17280', '10022', '13649', '35991', '17811', '7497', '24174', '15200', '10755', '19420', '3048', '21654', '84630', '22200', '22320', '12995', '7083,05', '3051', '14205', '14927,83', '16300', '18880', '23147', '19839', '10268', '14295', '21704', '28410', '8011', '9250', '14098,1', '24771', '20179', '9890', '23745', '23251', '22550', '8929', '33450', '39500', '6658', '6273', '2089', '45750', '26800', '14438', '8870', '14170', '5220', '32580', '24700', '6300', '30590', '10852', '29380', '16099', '5678', '31694', '8978', '14570,01', '26886', '7235', '11764', '4602', '4292', '5650', '3159', '30031', '16596', '6109', '29000', '19800', '13598', '3385,92', '34905', '39627', '17450', '43010', '6197', '4995', '30599', '30361', '15730', '13010', '10000', '3904,3', '21340', '17248', '20570', '19760', '23608', '5724,2', '10960', '7890', '25480', '18410', '20900', '37780', '14356', '3786', '8171', '10163', '13112', '11680', '7695', '30455', '44879', '85100', '28059', '4790', '16485', '8102', '25783', '17043', '23992', '3875', '7422', '90747,9', '16064', '12140', '14611', '19419', '17080', '22105', '5155', '24290', '24777', '11416', '4398', '8412', '7459', '30313', '11247', '6578', '23400', '24741', '23661', '28417', '38000', '8244', '4090', '4243', '8068', '4642', '21240', '7230', '10200', '20679', '11359', '4186', '11600', '15920', '65747', '21180', '3109', '18730', '3930', '16605', '15840', '12518,5', '22214,69', '31484,1', '17430', '36086', '37560', '16979', '6071', '45110', '10340', '20644', '14766', '10115', '40970', '23391', '6263', '5898', '2028,56', '8980', '17346', '16824', '44690', '22990', '17439', '42335', '27398', '4131', '21717', '5482', '4620', '20536,1', '20519', '9468', '45820', '14420', '9443', '17702', '3675', '5640', '4922', '20587', '19970', '3337', '21907', '6182', '30656', '2940', '5078', '3540', '30370', '15685', '24940', '31200', '15948', '7968', '19240', '10680', '18777', '9276', '15084', '8102,08', '18330', '22221', '28210', '21408', '20310', '15216,06', '7920', '22145,1', '15795', '13567', '18689', '26660,2', '30500', '12038', '14610', '6499', '7084,28', '17325', '35683', '13300', '6887', '7639', '30390', '5432', '11765', '11136', '16450', '23185', '2380', '22082', '5748,3', '6783', '14644', '9282', '27428', '27342,5', '20610', '16634,5', '26920', '10194', '34499,2', '21590', '18861', '6125', '17254', '50020', '9599', '6115', '5773', '34396', '8341', '25785', '24346', '23204', '12591', '29250', '13441', '3377', '21246', '10618', '20242', '6746', '23365', '23999', '6103', '11325', '5499', '8918', '6780,95', '35787', '24015', '9588', '7829', '7845', '41211', '41730', '13130', '5058', '27589', '3999', '18624', '16965', '10188', '14880', '29493', '19079', '97220', '8057', '18906', '30350', '26380', '2844', '20205', '8832', '19125', '26988', '23094', '24864', '13280', '22980', '27180', '15771', '41400', '16781', '23475', '19021', '23783', '25240', '26219', '33570', '7875', '13690', '16416', '20977', '25587', '9840,6', '15625', '32907,5', '15079,91', '18840', '11804', '14440', '3240', '4674', '7540', '20500', '21673', '39240', '9510', '5718', '8920', '18940', '16470', '23784', '10714', '6875', '12209,5', '8517', '15255', '44100', '7187', '7410', '16670', '12599', '18970', '9170', '13550', '28186', '26510', '14724', '6662', '23121', '10780', '15880', '10185', '13360', '18200', '19854', '7824', '21974', '15600', '3014', '27062', '25760', '24200', '30230', '4645', '20750', '4596', '10767', '13263', '6796', '21484', '8648', '2447', '7334', '4534', '7128', '17270', '29949,7', '3448', '9799', '2499', '21950', '4505', '9669', '31450', '23575', '22286', '21870', '9351', '40534', '8396', '3636,9', '10442', '5390', '8110', '5279', '23579', '3516', '13980', '21349', '13495', '22147', '8905', '22162', '13491', '19550', '2104', '14528', '6809', '22324', '5913', '10430', '3750', '9554', '32387', '5228', '5051', '26930', '7189,6', '16868', '75581', '16834', '50970', '9341,5', '11219', '9998', '16621', '8644', '17500', '7858', '24301', '17896', '23552', '24923', '9019', '15727', '13332', '24399', '35529', '30590,92', '10220', '2990', '9870', '15098', '11194,06', '35500', '32990', '10410', '12845', '21994', '96490', '27980', '21615', '3929', '26910', '20789', '9042', '12980', '18499', '30980', '11243', '4169', '7135', '37495,2', '11080', '21398', '12290,94', '2000,51', '8270', '6301', '9956', '19005', '30196', '13699', '12393', '9839', '8998', '86071', '22345', '6873', '17215', '6166', '8090', '16145', '38625', '16960', '21597', '12760', '22588', '10900', '28930', '15102', '3827', '3339', '14279', '10640', '5835', '41170', '6520', '14370', '25966', '16060', '38832', '7838', '16991', '15460', '18855', '12600', '21721,1', '46881', '20132', '23170', '11500', '42746', '9924', '28999', '15822', '5005,8', '24199', '12044', '19044', '15000', '74650', '10700', '5005', '39025', '7289', '15299,9', '23954', '16988', '13665', '13090', '31015', '4297', '27740', '18964', '23990', '16285', '47691', '4490', '10390', '11890', '4967', '22139', '10233', '24519', '20295', '3850,85', '10525', '62550', '6785', '27200', '12646', '23040', '6435', '21536', '20370', '19945,35', '17045', '2799', '31400', '4826', '4212', '31333', '12284', '22323', '5184', '56700', '31610', '10695,13', '14470', '31875,3', '13098', '27340', '8549,9', '16657', '3392', '2704', '20190', '6496,1', '10525,01', '8785', '24587', '6299,72', '11725', '3800', '33978,63', '7848', '23488', '7655', '30930', '5292', '5794', '14201', '24344', '6060', '17425', '12213', '17509', '17999', '4130', '19340', '3598', '15041', '28557', '15875', '34391', '23315', '24495', '5268,47', '34500', '5335', '33760', '18143', '6118', '32790,9', '4250', '11833', '14449', '7452,4', '15999', '29006', '30110', '5225', '8432', '23450', '6966', '9749', '8099', '10617', '7123', '17981,9', '12799', '11789', '33700', '4095', '21238', '11637', '10860', '62240', '9950', '3690', '4962', '21838', '16263', '4328,1', '9296', '35825', '14080', '25068,94', '5579', '12755', '3360', '5448', '7510', '24328', '82910', '4210', '15340', '2638', '7110', '22167,6', '16398', '10130', '5435', '7593', '20169', '31000', '27372', '3530', '16630', '4452,91', '6830', '10061', '8405', '35600', '33120', '32765', '10262,2', '4103', '4280', '10466', '10917', '14980', '17360', '5143', '4387', '16257', '6519', '7766', '4170', '20820,44', '32940', '13825', '19470', '10830', '4060', '24470', '9996', '23650', '23146', '65629,5', '7290', '39638', '8532', '14430', '28750', '3296', '4898', '15904', '29933,4', '12480', '6616', '2529,61', '18740', '40490,91', '15704', '8833', '12720', '23720', '22264', '17399,2', '26580', '23393', '3311', '35165', '2890', '15930', '40900', '3680', '90000', '27472', '8233,95', '20768', '22280', '13985', '8470', '6086', '16000', '13934', '22198,1', '6828', '56673', '15400', '40480', '3034', '59760', '48000', '10920', '13920', '19417', '53000', '7745', '9738', '5377', '2248', '10310', '19611', '25820', '25140', '8800', '3646', '18603', '18615', '21809', '9826', '17501', '18190', '20863', '17765', '6559', '5170', '5505', '33183,4', '18573', '21290', '18895', '3989', '19235', '44225', '40000', '5825', '22302', '29599', '4366,8', '9300', '10566', '24605', '18710', '9800', '5899', '19046', '16687', '7368', '13197', '10836', '9338', '4950', '14540,04', '26490', '17633', '3110', '8979', '19789', '24835', '27348', '5211', '4809', '3730', '3173', '9349', '28661', '37456', '4182', '7170', '3816', '3731', '22528', '4399', '64670', '16883', '7472', '9820', '11586', '26837', '22947', '28861', '11025', '40200', '11200', '18934', '29699', '12730', '3128,2', '57593', '12514', '10052', '10480', '77210', '18500', '7498,9', '4900', '34162', '16265', '6470,9', '6522', '5320', '50940', '35400', '23735', '21440', '37466', '6543', '7470', '27010', '9504', '6449', '13882,92', '10350', '6544', '10737', '5415', '12470', '4983', '11999', '10446', '11560', '12012', '18899', '9858', '12690', '12608', '29001', '12631', '17273', '5798', '4851,81', '4392', '4400', '14144', '13623', '27450', '13527', '12219', '14854', '31490', '27356', '6619', '14965', '9538', '3205', '5890', '28230', '4370', '10999', '11720', '15150', '35550', '3100', '6733', '18450,8', '19150', '6867', '13489,91', '17297,6', '20856', '7621', '27570', '5510', '17130', '17134', '18990,5', '8869', '5602', '5827', '12060', '16669,84', '17316', '20063', '4208', '46000', '3179', '27541', '6364', '83407', '22750', '26550', '21265', '11295', '16324', '12412', '10169', '14005', '8442', '7035', '2039', '13039', '6250', '5994', '28845', '10760', '35563', '6168', '7299', '13001', '15838', '20862', '5360', '14629', '10216', '14292', '7995', '11520', '29677', '26395', '62468', '8355', '4648', '13315', '11672', '6080', '17184', '2573', '18251', '15739', '7115', '23130', '50568', '7982', '21506', '21620', '5778', '6407,5', '16362', '14391', '16039', '13733', '73996', '8078', '18472', '33030', '22121,1', '28899', '17688', '9630', '18050', '17895', '7047', '27313', '29065', '33280', '7140', '18328,6', '12530', '3580', '8718,1', '27854', '16011', '23912', '2390', '27350', '11189', '6910', '10734', '28039', '6050', '5869', '12935', '38778,01', '10124', '3031', '22890', '10424,6', '7588', '11085', '4020', '11642,3', '7984', '3762', '6230', '8609,92', '26941', '22419', '24340', '3330', '4841', '24552', '7523', '19570', '17470', '5639', '8180', '4196', '20229', '9977', '20505', '11911', '5419', '43200', '19375', '11455', '19660', '21586', '5839', '27736', '4220', '27283', '7291,85', '31596,92', '52469,87', '23774', '9990,91', '5380', '7950', '18949', '19770', '5590', '2629,8', '19085', '3928', '22656', '26150', '25000', '4291', '22598,1', '14321', '31990', '13020', '12599,9', '34555', '5616,15', '10635', '25490', '48800', '9567', '4403', '39028', '20129', '12500', '5942', '2691,9', '47789', '11391', '40499', '14052', '6336', '23539', '5932', '21280', '25211', '17650', '10084', '26115', '6246', '26848', '9140', '20939', '2120', '4570', '29220', '16900', '7020', '21915', '46385', '5160', '10779', '10438', '13265', '22850', '6707', '6299', '17640', '5742', '14338', '19089', '36000', '26900', '21510', '20592', '7317', '41125,88', '4079', '22233', '29205', '16980', '10339', '27877', '6309', '22098', '9899,92', '8549', '18360', '13229', '15700', '84570', '32090', '13166', '6097,5', '5921', '7885', '13259', '26760', '34466,4', '19805', '16052', '7455', '16648', '15470', '24210', '3640', '6609', '3354', '11260', '13841', '14107', '16732', '35332', '26999', '21999', '30946,29', '6672', '76300', '23689', '2879', '9365', '9230', '21505', '9467', '11748', '70500', '4788', '13240', '20069,33', '29760', '11042', '18668', '15192', '6789', '12843', '4930,95', '19187', '13850', '21270', '13448', '56277', '52250', '19960', '17240', '10423', '15313', '15512', '47529,91', '21460', '31895,48', '9440', '23478', '17308', '7336', '6346', '42669', '4800', '11949', '14060', '2689', '4611', '5120', '32114', '6978', '6329', '9610', '13120', '26260', '29830', '19280', '7860', '66504', '4546', '8491,82', '11598', '7478,2', '98996', '4744', '21464', '62000', '27971', '16100', '16189', '4492', '23882', '17200', '23850', '26241,6', '3725', '11550', '27498', '23998', '29900', '4704', '32593', '22398', '16063,29', '4941', '44900', '3990', '17704', '18962', '13695', '8320', '6272', '4435', '13300,91', '27620', '15325', '23137', '3353', '9545', '20480', '8697', '11916', '38244', '35750', '9031', '10024', '36900', '36350', '13388', '3030', '5185', '4460', '10971', '20326', '5426', '32400', '26872', '14725', '4330', '79770', '21730', '31817,2', '8529', '28932', '7937', '2065,5', '17649', '9597', '20880', '13344', '34390', '18789', '19497', '8406', '5848', '5660', '84558', '4870', '7169', '18530', '13325', '24130', '17448', '9529', '18250', '7574', '5260', '11650', '11710', '33330', '25179', '30697', '25260', '19289', '3391', '10025', '31278', '20980', '20409', '14209', '11615,4', '5545', '7997', '15435', '15067', '3711', '9837', '7954', '13905', '24280', '6538', '23790', '18999,2', '61540', '3434', '17150', '5077', '4284', '12734', '40574', '11192', '17769', '13750', '84500', '46800', '6518', '6373', '10530', '43376', '72885,57', '29345', '17490', '17949', '28700', '29948', '26183,5', '6622', '8880', '9153', '6513', '99313', '14190', '8580', '12506', '23109', '18810', '34120', '29690', '99308', '8581', '7471', '3045', '20143', '18578', '16530', '5190', '10331', '33500', '66578', '9845', '12784', '17483', '17040', '3894,2', '9416', '5912', '9660', '15336', '7769', '16550', '12330', '8186', '5570', '8361', '3880', '15598', '2559', '15040', '6053', '4377', '62800', '27880', '2781', '12389', '8991', '14990,95', '10174', '7910', '4930', '9879', '19170', '21578', '21499', '47704', '3200', '11170', '4590,2', '25904', '14781', '30050', '8680', '3170', '16169', '16995', '19650', '24070', '86041', '15895', '3089', '28684', '26410', '17347', '13173', '21330', '26138', '15226', '20767', '2800,85', '6245', '46540', '31460', '7068', '10349', '13447', '3861', '17760', '10990,92', '10238,82', '24466', '10646', '16653', '4458', '12789', '4110', '4268', '13050', '14340', '10419', '32819', '18304', '16098', '17869', '24750', '34000', '30974', '11159', '21889,92', '24132', '26555', '2633', '11685', '27706', '32770', '6462', '23110', '11150', '50098', '23050', '21640', '52930', '3760', '10231', '4315', '17750', '75535,08', '25508', '4909', '7459,6', '5699', '14593', '31300', '28050', '28641', '2610', '18719', '12606', '15650', '12680', '17613', '7313', '11990', '7247', '19513', '10021,5', '13541', '52000', '7495', '20196', '17594', '12559', '6090', '5169', '4140,2', '13018,1', '12340', '82162', '18797', '6323,33', '10020', '33300', '16880,91', '12762', '4150', '9053', '32980', '20833', '12872', '40521', '7454', '15280', '13184', '23711', '3269', '4520', '8429', '8280', '19883', '2333', '32444', '24370', '7710', '6990', '28842', '4730', '4042', '13250', '10610', '11480', '24400', '7796', '23240', '9999', '24035,5', '25570', '6712', '12417', '13456,82', '22075', '7888', '7204', '6454,8', '11760', '7088', '20297', '35990', '11968', '12427,1', '17854', '6279', '19895', '35940', '19790', '21015', '12239', '3745', '58947', '15524', '21170', '3280', '16380', '6787,8', '33088,5', '7867', '16045', '12236', '29334', '13888', '3808', '18099', '29206', '18130', '38120', '53162', '6703', '17480', '11583', '11958', '15750', '11892', '32810', '17110', '12566', '8049', '3152', '11250', '21000', '12310', '22977', '3883', '23595', '3547', '8685', '49750', '21320', '25830', '7752', '14521', '3798', '15784', '22500', '3028', '14310', '22789', '8753', '14110', '2241', '10720', '11910', '9405', '11954', '14245', '23688', '6108', '13216', '16448', '20088', '7150', '12474', '12240', '12593,7', '18230', '6419,78', '6498', '7499', '6220', '10090', '32481,83', '7280', '13710', '16425', '6999', '42320', '5397', '12290', '14780', '28950', '5450', '16820', '4860', '15160', '4476', '39865', '18458', '31587', '25105,1', '7730', '16160', '18170', '3430', '6527', '17111', '33400', '12989', '25990', '20450', '29600', '11349', '5298,1', '15403,02', '34295', '18693', '25999', '11093', '6455', '18495', '6445', '8899', '8435', '5634', '10898', '3490,91', '19734', '4188', '23437', '27714', '22212', '18490,91', '13400', '6991', '13155', '4240', '9728', '18490', '19404', '5949', '4658', '9536', '11488', '10479', '4257', '55000', '6089', '7619', '12910', '38880', '16780', '10359', '15602', '8625', '16796', '6863', '7020,9', '7439', '56310', '25662', '19719', '28070', '12138', '26300', '8399', '9034', '37400', '15496', '28220', '22240', '4624', '20499', '71243', '11897', '5745', '24768', '28421', '9100', '19482', '21700', '16379', '18749', '14998', '10950', '6918,34', '10631', '24272', '7880', '5339', '5347', '6430', '7430', '4690', '10570', '10422', '32850', '24490', '4504', '61832', '11063', '9025', '2751', '45034', '81743,87', '4200', '24945', '10342', '4150,95', '6141,75', '29460', '9560', '9930', '7977', '27781', '11779', '7996', '4882', '7498', '11900', '24112', '6610', '24810', '6938', '27886', '48572', '2075', '2720', '19593', '56518', '32041', '3398', '18040', '9009', '7132', '11698', '11876', '6652', '31792', '10991', '21808', '18734', '26199', '8948', '16390', '7250', '3103,2', '17100', '3617', '5749', '7197', '10672', '28955', '16370', '31672', '11333', '21724', '10374', '13599', '29622', '9994', '3645', '2975', '25732,2', '19522', '5990', '15147', '5350', '11090', '25940', '16977', '3690,82', '5297', '4018', '14360', '11303', '7988', '3167', '6291', '18999', '13887,68', '4260', '30999', '14921', '26462', '16050', '10248', '8170', '22962', '32914,31', '12640', '9670', '22621', '16540', '13260', '20443', '15890,9', '29780', '38200', '18175', '43573', '5681', '8723', '6397', '3160', '22236', '2224,8', '12309', '24840', '15481', '12405', '26479', '5748', '100000', '13889', '84800', '13336', '35000', '18006', '9260', '21960', '5955', '11539', '8788', '9030', '34148', '15570', '28890', '6979', '35250', '17966', '13635', '31090', '5250', '20430', '5016', '4122', '4872', '25390,94', '4671', '13615', '28850', '2578', '23760', '13179', '9804', '2243,7', '19145', '5684', '8300', '2691', '6580', '29980', '14530', '10630', '16189,4', '26700', '6745', '8200', '8651', '23351', '20350', '5599', '17988', '20609', '10071', '10536', '3396', '11399', '6504', '14219', '19120', '14999', '26817', '8308,35', '9576', '8955', '23780', '13060', '39000', '11990,95', '24250', '39090', '15367', '15755', '5688', '43950', '14840', '30796', '9520', '7892', '22317', '17955', '3674', '25998', '17660', '56130', '13227,7', '9098', '70300', '4500,95', '9991', '16680', '6766,4', '17098,2', '8498', '9350', '10238', '12290,9', '25599', '7296', '15010', '10740,64', '2268', '15036,21', '13688', '14560', '9045', '6930', '8129', '9876', '9013', '6893', '6510', '11400', '9892', '13916', '13520', '17778', '26658,9', '11496', '15897', '7348,52', '18891', '7342', '3737,6', '83106', '11212,06', '15482', '8604', '5152', '22072', '23795', '13998', '5364', '5179', '18590', '14320', '15393', '3168', '13846', '70410', '11196', '11048', '3195,9', '4920', '19626', '11655', '9680', '34150', '19542', '3591', '22872', '10805', '8221', '19929', '20317', '12435', '12450', '12397', '7700', '3220', '5832', '29384', '12945', '5150', '23840', '11986', '10073', '22920', '12636', '15016', '22263', '3955', '17610', '23663', '6299,2', '31990,6', '10628', '4653', '10193', '5535', '6058,1', '10616,4', '33100', '12315', '5525', '16635', '26928', '24752', '16720', '21494', '11850', '21097', '4372,2', '37710', '4780', '4410', '11410', '5562', '4998', '13815', '12210', '25220', '13000', '5807', '41000', '4281', '12200', '24520', '12803,4', '19567', '13476', '8995', '16070,5', '12090', '34154', '17545', '3190', '22803', '3681', '37656', '16140', '20091', '4701,6', '10440', '19820', '4633', '5759', '70936,32', '5837', '8550', '11877', '15789', '21154', '18725', '13960', '11429', '7500', '17580', '14089', '7366', '13006', '6190', '18185', '10874', '14522', '11202,3', '96860', '18592', '5818,5', '12580', '30220', '4088', '9464', '27540', '8849', '3387', '10478', '53673', '61487', '9907,2', '15120', '4209,2', '10599', '46695', '45500', '2450', '11660,93', '8240', '6266', '8390', '20300', '20381', '7776', '7908', '94720', '4495', '6550', '7581', '21475', '10837', '2990,92', '4661', '22781', '25420', '10280', '19324', '35960', '9496', '19464', '7645', '4999', '11750,31', '20598', '15859', '13399', '93000', '11540', '25343', '17339', '3889', '8289', '20268', '10057', '9913', '11288', '7815', '49490', '7431', '4120', '22600', '8369', '10389', '10295', '21598', '23453', '6597', '13498', '20995', '18849', '11800', '6367', '5409', '22522', '8346', '29680', '13566', '38300', '17082', '30418', '19269', '6027', '14994', '21646', '31588', '7336,3', '12455', '6100', '13420', '17060', '7107', '29789,91', '4835', '7183', '11526', '6467', '14097', '22102', '28055', '43682', '27790', '5789', '27449', '10925', '47600', '33000', '25627', '28294', '11175', '24061', '16278', '16691', '44760', '22140', '17549', '5757,1', '5207', '8754', '16650', '42930', '7019', '10158', '18707,1', '6181,09', '9720', '10770', '21927', '22329,67', '22040', '24830', '28420', '5938', '12198', '16850', '10256,1', '3722', '6739', '19905', '11236', '11830', '22455', '9606', '13848', '21400', '9069', '24760', '23103', '28971', '2660', '13720', '58900', '4035,2', '8780', '21865', '4057', '15230', '28790', '3541', '11490', '2160', '37415', '23822', '6570', '2595', '10315', '17875', '70705,96', '3376,8', '94330', '41021', '2934', '12598', '7895', '4760', '17838', '18481', '3335', '31255', '19844', '9396', '6288', '17802', '19000', '2619', '62700', '24017', '10512', '36730', '21800', '7899', '11510', '18054', '24405,4', '12099,1', '9072', '2190,2', '19390', '58567', '4610', '30756', '3924', '35450', '22700', '4293', '13010,94', '4107', '18048', '24833', '37017', '7530', '6323', '88312', '31726', '11796', '3647', '12550', '20140', '27446', '12610', '6600', '10520', '2759', '6210', '9648', '22800', '10150', '10616', '11980', '14856', '11927', '16590', '4489', '32000', '31833', '10360', '14270', '18100', '15127,4', '24640', '2800', '15036', '4221', '35100', '28450', '4842', '17006', '3879', '33470', '17050', '5128', '13992', '29950', '8440', '9445', '10846', '28502', '21760', '4710', '15883', '23792', '31810', '6319', '14994,6', '11778', '21237', '70245', '21827', '27020', '19993,4', '26695,8', '13793', '6690', '12999', '25992', '4765', '12884', '59590', '19791', '20660', '35060', '5020', '25540', '24085', '3950', '5707,8', '12890', '5765', '25749', '14669', '2498', '4533', '4021,92', '18850', '42928', '4040', '16310', '6374,78', '20510', '2165,4', '6460', '58500', '4168,8', '20698,2', '20562,2', '13463', '25899', '21866', '12710', '7040,92', '11860', '94358', '7755', '20059', '16222', '2300', '8010', '32100', '12132', '7794', '16908', '4652', '29630', '29990', '6939', '19498', '19781', '11394', '17390', '10508', '23696', '16436', '7870', '27600', '31730,91', '4463', '30813', '6281', '9899,1', '21209', '20561', '25900', '5676', '19045', '36490', '8360', '63320', '27690', '45665', '22650', '7194,72', '35522', '5568', '10912', '3238', '10964', '3682', '23470', '6750', '3070', '8844', '13235', '28781', '16170', '19343', '6469', '20495', '8278', '35596', '13421', '9622,77', '21877', '8886', '4816', '19940', '6720', '25300', '5076', '5198', '13193', '22430', '23530', '8666', '30951', '30510', '14845', '7385', '22960', '21105', '10789', '2569', '28310', '3780', '35598', '14031', '2590', '11195', '10456', '16407', '8033', '23852', '5285', '3032', '3659,5', '7425', '8941', '2282', '33344', '2435', '19750', '9647', '8198', '12428,7', '3493', '28215', '12687', '31800', '12360', '12870', '18113', '19602', '15887', '10981,82', '73306', '5555', '4838', '11290', '9117', '29234', '11204', '17398,2', '45863', '33830', '7965', '4074', '17910', '6033', '15748', '13880', '24362', '9891', '46671', '16701', '11259', '7391', '18115', '3720', '22616', '28026', '6945', '29294', '16220', '5607', '2430', '6749', '13382', '31790', '16743', '20653', '7709', '2255,4', '29475', '13355', '13492', '14938', '19521', '18575,2', '5103', '11635', '6624', '21487', '27599', '14200', '16449', '4904', '14891', '5032', '17842', '14717', '17505', '5259', '2060', '17820', '3935', '70360', '12829', '15914', '13267', '7101', '15220', '22848', '49860', '7900', '4030', '9395', '8041', '11050', '8951', '11321', '10930,52', '16245', '25146', '7981', '2881', '18857', '18980', '23290', '5852', '3983', '20475', '4488', '9259', '11280', '3114', '18882', '21470', '7505', '5620', '19129', '3616', '22760', '7452', '8225', '4767', '14848', '3537', '87880', '15540', '7486,1', '2000', '31096', '11450', '27510', '13366', '4148', '10998', '10738,5', '11138', '17329,92', '10435', '34280', '6181', '24690', '6116', '17590', '8275', '14035', '15806', '17298', '19440', '9137', '18074', '9823', '29012', '10801', '23030', '8860', '5720', '19133', '21989', '9342', '6202', '4177', '21500', '9315', '17193', '37517', '9538,9', '18144', '19830', '22860', '92000', '25290', '25702', '6127', '12800', '6721', '16833', '5449', '11430', '4050', '25182,4', '22645', '25280', '18217', '10799', '11898', '17330', '14625', '3550', '6540', '4880', '5683', '41620', '37818', '7201', '13678', '29700', '12318', '7620', '40500', '21881', '7902', '23749,76', '3415', '3420', '8210', '23750', '6856', '21589,9', '24389', '12396', '2152', '26329', '14460', '19200', '3528', '32293', '5508', '13630', '12833', '26397', '6340', '18413', '6390', '13351', '20990', '10648', '16395', '9910', '5840', '6650', '16381', '15350', '27560', '7830', '5070', '9085', '13965', '8970', '41490', '33680', '24223', '3874', '22692', '3500', '9526', '6700', '27820', '28208', '7857', '5750', '21082', '6697', '18090', '11529', '9689', '6925', '119700', '12889', '9614', '25713', '8020', '7441', '6365', '30324', '7682', '14910', '30837', '5968', '11938', '24047', '13680', '3941', '14013', '4758', '28745', '10290', '8260', '2950', '2797', '3033', '27922', '39800', '13570', '21420', '8071', '4576,5', '14498', '8237', '6170', '2676', '19080', '10088', '16364', '8940', '15760', '3869', '7039', '40700', '36617', '10555', '26543', '18698', '16910', '4726', '21936', '11395', '3628', '11489', '21298', '56000', '7050', '6883', '10938', '12130', '7348', '4743,68', '21845', '11300', '10791', '14165', '16250', '84000', '4098', '10322', '21901', '15170', '22940', '12702', '27260', '6479', '9173,88', '7790', '21696', '19765', '23399', '24198,2', '22599', '15830', '10656', '6699', '25936', '4672', '18290', '32499', '24479', '2690', '24682', '29997,24', '6950,7', '13620', '10354', '40313', '11989', '50177', '18538', '26321', '18319', '18547', '2979', '17076,2', '15359', '17170', '7262', '47223', '17420', '71740', '7820', '10189', '5880', '21112', '8690', '87570', '21685', '21279', '16330', '22428', '11099', '11020', '7544', '6517', '11422', '8763', '7249', '7558', '12059,1', '10708', '19116', '2263', '13843', '7729', '2090', '3600', '8878', '24145', '5091', '27518', '5345', '12848', '76730', '9398', '4125', '30344', '6000', '14185', '5388', '26049', '4670', '17380', '7460', '20925', '15680', '3599', '8639', '2878', '2007', '15705', '9349,92', '18632', '11223', '25454', '23425', '4139', '19301', '26440', '21750', '11651', '12948', '9846', '28350', '36805', '22440', '19689', '4185', '22390', '13952,73', '3314', '12810', '18187', '3411', '19665', '16090', '30200', '3538', '9590', '17790', '37857,2', '53499', '9620', '46649', '4109', '13899', '24772', '4041,9', '18240,91', '5540', '4010', '28431', '23397', '116360', '25158', '7105', '30422', '3614', '20699', '27501', '5015', '5710', '14680', '19920', '2119', '9278', '19475', '16823', '20720', '40756', '5966,7', '23667', '2999', '7443', '9754', '21943', '10300', '7100', '22080', '35091', '20871', '7448', '28775', '30197', '25385', '5830', '14065', '15889', '9298', '3448,8', '17510', '25122', '7362', '4963', '28000', '10752', '14443', '6240', '16879', '7713', '5031', '14199', '9167', '13100', '23598', '23498', '15565,5', '5977', '81423', '16544', '6698', '13624', '26140', '20431', '5436', '12070', '30738', '6993', '18425', '20160', '22244', '14760', '10910,6', '9095', '13689', '24059', '5995,46', '24160', '4117,5', '6270', '17198', '22394', '23985', '19490', '4140', '24458', '12554', '6502', '9499', '14094', '18392,91', '41470', '21930', '7556', '10260', '8204', '16198', '49100', '11754', '12940', '5768', '15085', '35943', '22330', '26370', '21630', '38520', '9532', '6228', '14456', '11302', '19674', '7440', '15354', '28079,84', '14588', '2100', '5369', '3699', '31014', '6415', '43353', '6898', '22900', '17840', '28308', '24740', '13921,52', '14770', '27060', '19591,36', '10840', '4265', '6715,2', '2439', '24933', '5936', '17099', '33126', '13040', '8140', '23758', '21430', '14300', '8056', '17648', '3735', '16798,2', '30729', '13563', '27196,1', '18782,2', '20910', '12512', '12206', '21490', '13302,83', '14571', '21850,94', '6975', '2957', '20786', '12170', '28945', '26970,6', '18270', '3768', '5606', '64500', '24675,85', '24330', '6199', '14004', '35326', '23186', '13320', '17541', '51570', '25406', '11817', '4745', '6584', '9650', '31580', '8350', '15984', '8088', '22490', '5230', '12265', '18224', '8262', '4590', '10496', '20989', '9835', '19296', '5299', '25400', '17340', '6481,8', '7340', '34199', '12700', '11996', '4436', '4252', '2998', '8811', '19850', '24030', '10210', '16070', '19491', '21728', '19966', '11370', '13999,2', '14388,3', '29615', '21690', '22000', '28900', '19769', '19860', '7516', '38340', '41498', '2290,7', '12411', '13949', '13380,56', '4812', '17531', '8386', '20987', '27150', '43373', '16600', '38553', '9270', '6219', '16491', '17049', '36400', '23124', '99540', '8373', '24667', '7541', '25700', '4986', '7839', '5045', '38406', '6495', '24110', '3285', '12639', '9927', '34020', '5889', '23216', '37640,77', '13494', '17366', '7975', '9054', '20659', '27381', '9360', '19899', '18820', '19720', '21197', '7630', '12541', '10775', '5670', '22951', '12953', '15115', '14942', '12289', '6840', '9729', '13365', '3095', '23060', '8286', '4869', '21810', '3442', '14390', '23500', '19782', '30627', '19230', '4785', '27850', '13208', '16081', '4455', '30879,55', '11669', '5500', '23160', '8303', '15450', '6730', '8943', '19410', '8652', '14651', '21597,8', '2680,4', '29898', '16627', '6999,9', '7693', '5600', '11665', '10660', '19740', '11755', '23480', '22057', '16859', '10116', '17850', '7770', '4300', '11304', '7098', '9150', '4230', '3390', '10497', '7780', '12478', '24027', '35360', '4241', '9986', '17459', '11674', '7859', '39830', '38032', '23990,83', '16830', '25520', '5178', '10585', '63306', '15372', '26596', '4827', '14406', '31474', '18491', '18376', '8108', '4498', '14849', '29788', '54738', '2724', '11977', '6560', '7163', '2322', '6039', '16244,9', '20225', '4773', '7198', '9760', '2223', '13122', '11286', '3752', '7022,7', '5665', '14990', '10134', '34700', '3393', '6782', '4807', '4938', '5359', '3784', '26280', '9570', '8725', '30673', '18997', '5988,46', '4867', '13205', '21124', '8000', '26020', '4274', '18067', '13165', '12830', '13465', '20650', '10320', '41397', '12678', '16428', '32750', '7550', '13326', '5089', '16218', '16893', '8889', '8037', '14090', '8080', '37350', '54700', '16460', '17631', '78000', '26400', '2310', '9215', '30597', '10080', '11363,99', '6191', '85270', '7350', '22498', '9774', '16389', '20792', '7660', '7908,1', '12249', '3602', '6313', '5487', '6457', '3815', '2389', '32175', '29075', '5306', '17310', '20999', '29650', '9500', '5805', '8858,8', '6514', '7629', '9107', '16507', '14130', '5438', '9380', '5400', '17162', '33862', '21814', '17350', '27456', '29742', '13025', '14891,92', '8883', '20755', '19128,41', '10097', '4752', '12199', '5095', '4775', '25897', '28933', '11450,9', '10373', '3464', '33990', '4318,2', '16882', '16141', '13199', '5282', '7380', '3882', '22881', '6440', '3943', '10431', '7999,1', '9425', '6237,03', '7147', '22880', '18426', '4982,4', '9989', '17880', '5738', '24630', '24300', '22110', '4375', '27493', '35767,4', '5193', '13820', '26346', '16040', '71600', '3060', '10417', '5708', '6070', '17568,3', '22640', '32955', '6255,15', '17712', '3651', '3877', '37150', '8299', '5238', '29471', '9400', '10439', '24717', '5689', '9498', '7220', '26889', '17540', '6204', '6944', '11487', '15900', '12695', '16260', '23577', '19857', '11842', '7310', '89344', '9798', '30596', '12780', '19746', '9460', '3046', '7978', '3892', '11498', '21410', '15899', '8047,1', '5097', '5242,3', '5877', '11558', '15857', '17400', '35955', '6150', '3460', '22011', '8400', '13078', '3900', '9397', '6354', '10457', '8381,5', '10978', '15658', '19047', '96200', '20800', '15100,82', '7272', '4000', '6507', '8448', '5175', '7180', '32670,79', '3771', '3892,2', '23737', '3400', '24275', '46500', '25081,98', '7063', '3275', '12816', '21858', '10298', '15221', '21060', '5757', '2671,2', '3301', '21482', '3750,91', '3890', '39900', '9573,1', '25168', '7032', '25080', '31716', '4935', '20393', '15640', '14872', '28340', '25200', '30520', '17279,2', '19959', '17624', '15582', '3710', '16629', '9540', '22482', '17863', '3040', '4212,9', '3385', '16440', '2831,97', '25980', '8977', '14397', '11753', '23944', '9664,5', '34990,8', '18553', '19008', '10782', '5176,8', '30300', '9586', '11021', '26740', '12919', '23451', '3180', '6605', '21295', '23854', '9007', '30011', '4135', '4664', '4830', '6797', '28590', '21520', '6998', '27298', '13895', '21600', '17089,9', '13298', '6247', '7349', '28341', '13383', '3222,9', '3520', '4207', '16489,9', '11691', '21985', '15500', '7787', '16961,1', '3885', '5140', '24778', '8149', '27228', '23825', '22195', '12325', '7609,5', '6870', '22589', '74319', '20852', '2399', '13830', '8957', '6698,3', '20053', '3348', '17962', '3899', '3480', '4843', '17995', '31702', '14355', '7598', '13734', '18580', '29490', '5879', '14148', '6651', '58541', '11749', '32828', '14755', '14787', '12790', '29799', '17379,99', '17851', '8892', '15292', '26950', '11518', '24795', '8590', '3138', '10140', '9850', '15555', '58640', '3470', '6024', '8230', '38850', '4190', '6985', '98042', '6780', '9287', '26170', '11768', '4242', '4428', '5611', '87673', '21218', '6719', '13959', '5544', '4390,91', '4487,4', '26790', '6007', '25896', '24970', '11620', '2350', '19083', '4700', '16615', '13650', '41837', '25340', '79200', '49227', '32975,3', '30372', '19503', '30799', '14396', '12898', '14348', '21861', '26461,91', '10034', '19189', '12990', '12581,89', '5247', '18206', '3979', '5870', '33881', '14046', '21650', '6995', '13318', '11966', '2031', '50400', '27369', '93400', '29640', '43631', '30600', '11227', '7208', '12339', '9574', '5817', '12380', '42740', '3801', '51900', '15315', '21938', '5340', '7070', '12810,94', '75000', '23680', '15897,92', '27700', '23861', '17911', '11776', '9240', '12996', '16107', '40080', '5760', '16773', '14140', '5989', '19342', '3061,45', '23499', '3059', '25460', '9452,97', '9525', '53400', '11499', '4064', '16320', '20960', '3440', '38408', '6342', '5030', '3715', '21204', '16745', '19810', '12840', '10687', '8067', '20802', '80440', '4428,1', '20237', '5575', '19797,1', '3187', '10706', '12434', '8489', '5592', '11130', '12590', '19843', '2555', '18204', '3340', '34195', '6757', '21980', '6209', '28116', '6585', '9973', '18700', '27890', '18398', '69188', '13930', '20903,5', '19177', '11601', '2428,2', '38830', '16420', '9898', '18010', '6327', '14648', '20943', '9301', '27065', '43515', '26818', '14469', '27945', '32449', '21595', '11389', '7511', '10463', '8850', '20009', '29500', '6630', '17888', '5333', '31806', '3555', '8025', '12850', '26690', '5494', '15800', '7599', '17980', '26865', '6959', '3093', '5645', '10450', '7493', '31680', '3419', '15100', '18210', '24179', '25870', '6180', '10795', '37000', '10990,91', '9160', '4936', '10647', '16692', '3255', '4535', '98644', '6529', '17575', '9444', '6088', '15975', '22356', '17901', '9679', '19751', '10990,94', '18138', '12000', '6490', '12097', '7720', '13350', '18334', '11970', '3380', '20249', '8698', '9308', '4527', '25199', '19360', '27800', '2360', '5405', '4082', '14280', '18724', '12120', '8835', '5210', '5430', '18240', '21214', '27166', '14598', '19572,1', '3749', '49653', '22361', '11723,2', '9097', '17720', '16899', '10600', '17499', '25991', '3870', '12148', '19924', '21740', '10274', '19600', '6396', '66680', '10800', '4768', '33678,2', '14632', '14570', '6756', '16838', '7578', '28594', '12490,9', '13728', '4852', '12077', '45438', '10526', '7207', '2635', '19608', '10348', '14916', '4923', '19095', '8589', '8250', '7991', '17630', '17117', '8543', '50652,94', '4949', '31404', '44290', '19457', '5761,9', '6770', '70000', '7690', '24233', '44000', '21243', '27750', '14230', '4979', '23126', '4039', '8438', '3670', '23971', '5408', '6429', '3789', '14800', '19938', '18540', '11390', '25680', '7677', '16400', '16992', '25330', '15240', '13200', '11727', '12350', '31250', '15247', '19358', '12628,91', '16519,02', '3729', '10019', '16571', '22575', '13150', '3239', '13063', '13326,5', '7797,6', '24120', '9949', '30131', '17530', '42408', '17826', '20343', '5300,9', '16785', '12384', '13178', '15927', '88000', '27005', '7450', '21083', '16591', '26099', '17073', '39110', '76000', '8560', '14330', '72000', '5231', '11677', '30603', '3909', '47900', '13170', '28490', '21405', '17940', '14000', '4100', '12900', '22955', '39422', '34821', '12410', '18030', '17775', '2580', '4580', '15190,5', '7300', '6740', '18390', '26780', '27096', '18246', '4918', '14709', '22307', '26430', '21479', '23166', '23820', '29653', '13577', '5088', '21480', '12749', '21216', '22338,94', '13730', '9902', '10690', '17247', '20200', '2400', '4040,1', '21999,2', '8874', '19220', '2599', '15912', '24599', '17520', '8398', '5268', '10205,5', '9235', '6381', '7066', '18162', '12246', '5384', '31415', '10048', '8220', '19040', '33320', '23197', '20113', '15360', '7514', '4497', '26379', '5531,8', '23037', '44440', '17780', '21030', '8620', '9690', '7040', '24949,09', '35520', '13438,3', '11700', '5410', '19950', '17010', '9995', '13918', '5105,7', '16765', '4132,5', '5840,5', '12549,07', '19977', '61600', '21190', '15547', '7229', '8745', '11519,1', '31882', '25780', '27400', '12048', '13469', '3145', '7513', '22896', '20565', '17090', '18560', '44560', '8935', '26642', '27986', '21780', '4892', '8421', '5806', '17263', '19700', '31221', '10151', '19589', '10989', '37437,66', '16350', '22050', '6848', '8095', '9061', '42180', '35744', '6552', '23411', '21220', '10880', '30696', '25020', '3322', '20433', '9251', '33292', '26379,91', '39741', '31991', '19680', '6136', '14383', '7850', '11264,25', '10190', '3894', '16786', '23148', '3701', '12488,25', '5580', '22290', '10853', '6969', '13640', '15030', '28172', '18900', '23517', '5900', '63000', '13995', '18329', '14978', '12696', '4379', '6982', '3128', '30360', '33850', '19670', '25167', '21038', '5669', '38725', '10112,8', '29390', '3230', '6290', '19430', '7190', '28728', '42436', '20648', '23100', '4928,96', '29199', '11289', '30224', '10693', '15097', '12737', '19560', '7515', '19900', '13289', '6048', '11362', '17097', '14495,35', '19286', '8790', '28778,3', '9862', '17020', '20710', '9789', '10500', '33340', '20440', '38058', '15468', '20290', '14493', '11225', '3879,17', '23485', '4080', '17388', '3389', '5980', '10995', '20252', '19897,1', '9199', '9264,69', '8456', '9367', '11730', '22536', '21347', '34493', '15624', '13948,2', '8648,5', '17615', '16704', '10968', '3305', '19489,91', '24239', '8117', '2490', '4879,8', '26819', '7551', '5988', '3080', '5478', '2457', '14189', '29037,12', '14618', '4940', '23659', '79959', '9448', '9980', '4550', '4189', '11298', '15380', '77000', '20779', '32280', '32335', '14480', '28970', '34891', '18380', '56899', '4508', '34720', '5987', '17546', '3050', '15430', '6967', '12331', '6596', '45297', '6289', '9750', '12443', '5931', '8564', '3358', '24283', '12447', '6500', '18389', '2792', '11926', '80000', '6625', '24281', '25145,79', '99000', '6941', '7874', '19400', '23715', '25588', '18197', '37360', '3321', '4810', '24131', '9497', '7600', '12342', '14040', '22192', '9120', '16284', '19889,92', '18060', '14250', '4966', '18121', '32415', '22660', '6876', '6297', '15215', '5135', '6503', '9551', '21948', '22662', '7228,2', '34766', '6776', '4319', '14050', '3770', '15843', '89018', '24900', '11808', '9290', '7492', '14700', '16080', '13191', '4729', '8610', '27598', '11383', '11880', '2190', '31696', '11113', '18599,4', '65000', '28221', '3090', '31499', '17609', '40050', '17039,91', '5144', '8034,2', '4638', '13768', '3549', '8699', '2900', '29877,3', '8547', '45000', '9790', '22349', '6139', '4908', '10105', '15165', '16799,4', '5920', '2099', '51140', '3312', '8906', '14380', '13387', '38250', '26450', '13686', '20580', '3933', '3196', '5489', '3920', '6260', '17091', '12797', '24844', '37305', '22413', '16199,2', '3996,9', '5550', '25313', '39276', '6643', '12914', '23793', '19082,3', '3515', '23070,6', '4072', '17422', '6594', '8630', '16197', '12304', '3498', '83000', '32076', '7077', '27645', '39327,2', '2238', '7698', '9990', '24680', '12818', '14599', '9733', '12520', '12645', '5930', '19547', '7905', '30299', '8297', '15763', '36093', '5694', '41132', '41100', '4450', '9889', '6119', '25720', '17451', '4390', '8298', '23370', '78550', '25574', '34916', '8055', '23399,2', '7649', '27370', '7209', '10987', '18885', '17956', '14229', '12385', '22561', '5312', '8416', '5690', '16860', '7847', '78800', '5287', '15907', '18318', '10804', '12490', '9406', '12745', '2440', '12560,01', '24190', '22310', '56964,6', '5243', '23800', '6049', '39600', '3357', '6023,7', '15503', '18445', '13435', '13740', '4440', '3744', '15070', '2030', '5755', '16322', '4575', '8990,9', '13591', '17885', '18630', '16290', '29580', '12080', '3619', '12820', '27110', '17560', '34641', '17970', '10323', '18176', '9000', '5504', '72890', '49743', '6189,3', '21062', '5940', '4477', '20498,1', '11936', '14860', '31070', '41210', '4799', '10757', '27810', '30960', '19540', '8330', '28983', '30198', '23152', '30630', '22300', '9219', '13990,92', '21580', '22097', '11943', '19035', '18631', '35640', '13539,2', '13536', '4996,8', '14940', '8340', '7735', '22225', '15045', '17290', '5482,3', '14750', '16760', '9534', '25386', '3276', '10505,5', '16399', '4312', '2730', '12510', '16849', '29285', '11687', '59398,2', '14798', '3984', '15616', '4165', '4890', '16114', '17795', '11639', '15327', '17146', '7000', '4114', '7760', '24871', '6380', '12425', '30826', '20355', '9652', '17272', '17220', '16789,98', '17466', '22670', '5431,2', '8389,91', '16999', '12655', '40084', '13080', '2540', '22410', '17428', '6375', '24260', '3289', '15960', '2955', '9748', '5174', '3385,83', '31498', '8398,1', '8490,92', '59224', '16579', '4889', '5427', '5270', '5573', '2500', '9393', '26054', '21355', '12950', '29094', '17998', '21498', '61250', '34190', '34900', '25983', '22905', '28469', '4629', '76360', '14875', '5222', '18598', '16048', '12251', '2489', '58490', '14410', '13975', '5730', '3604', '5577', '7369,7', '9212', '8689', '20390', '12498', '10697', '27925', '33660', '23865', '7604', '12220', '13719', '3329', '26060', '4647', '10759', '11477', '11000', '6537', '12166', '14243', '14550', '19224', '14690', '13409', '4947', '9655,2', '24367', '12890,92', '19529', '12598,1', '5857', '19615', '5085', '6980', '15065', '17700', '5189', '14857', '22180', '14044', '6295', '16358', '2421,9', '10790', '23410', '11188,14', '11646', '45160', '8459', '13016', '14580', '15863', '15740', '5855', '3717,9', '69500', '6692', '3418,5', '6903', '3035'}\n",
      "\n",
      "\n",
      "==========\n",
      "FST_PAYMENT\n",
      "{'5366', '699', '3874', '376,21', '9375', '3500', '542', '4666', '51929', '6700', '8450', '2248', '5750', '655', '4986,5', '100', '481,8', '816', '3097,8', '8800', '415', '5373', '2712', '1694', '8618', '9288', '13772,82', '3092', '4989,92', '5130', '669', '6365', '5170', '2200', '7082', '3369', '616', '3765', '5033', '6832', '875', '346', '2022', '276', '943', '3105', '2775', '40000', '46832', '2950', '2368', '2797', '3020', '520', '1545', '818', '567,3', '9300', '9800', '5899', '7238,86', '8940', '3698', '1093,4', '1050', '5999', '1779', '4950', '3960', '8008', '3110', '900,2', '580', '4346', '2000,4', '380', '2574', '1597', '1244,7', '7400', '525', '4809', '692', '3730', '3173', '2598', '2487', '545', '953', '6929', '1245', '384', '5700', '5744,5', '3469', '3214', '7170', '2387', '10489,92', '11689', '691', '16250', '4743', '4098', '4399', '386', '0', '5023', '19151', '1550', '3499', '948', '1046', '3236', '11200', '55982', '1680,82', '706', '2016', '21696', '10026', '2384', '3284', '1599', '3064', '1011', '638,7', '728', '6699', '7953', '1638', '10267', '1824', '1132', '2690', '1200,2', '388', '1778', '6900', '10095', '225', '2442', '861', '7116', '4910', '4900', '5361', '3165', '5320', '2204', '10008', '7080', '2970', '2349,6', '7820', '1064,2', '6543', '799', '651', '469', '391,2', '2286', '1570', '3088', '488', '315', '1486', '2480', '10350', '390', '11020', '1143', '2200,91', '1800,1', '1677', '3078', '3433', '4579', '1004', '893', '446,05', '1605', '3595', '3157', '1253,7', '6820,45', '2034', '11560', '9530', '2263', '23000', '1020', '39910', '12012', '524,85', '21839', '1172', '754', '3600', '2090', '2398', '4742', '44963', '2869,9', '498,6', '4000,9', '2588', '2901', '677,3', '42518', '715', '7420', '4400', '2088', '9838', '445', '416', '475', '2758', '6000', '863', '3205', '1649', '5890', '4370', '1808', '2655', '6957', '1771', '964', '15680', '3599', '247,2', '3100', '2878', '3333', '2007', '551', '205', '2999,6', '4983,2', '955', '1514', '6000,81', '4245', '458', '588', '589', '438', '1381', '21750', '5305', '8945', '9979', '3410', '999,2', '18152', '2278', '6820', '4937', '54870', '138', '2192', '1392,4', '2470', '1600', '3502', '4185', '1700,91', '26550', '858', '358,1', '9047', '1147', '4851', '3411', '34698,2', '281', '13818', '20000', '804,5', '2614', '3538', '2039', '1226', '2937', '1431', '2166', '5100', '855', '7747', '22400', '750', '5705', '320', '808', '1887', '5540', '10100', '1581', '835', '894', '5177', '5375', '1112', '359', '22399', '2547', '5521', '5710', '508,5', '9068', '1634', '5075,84', '1010', '7259', '11762,27', '1821', '7995', '2772,13', '780,3', '1535', '2572', '3902', '9754', '1202', '14935', '4363', '7100', '7553', '3703', '1834', '40100', '2358', '1353', '10550', '652', '10136', '2630', '2935', '18589', '1398', '5820', '6400', '3621,7', '60245', '4697', '645', '2245', '459', '13580', '28000', '626', '1491', '1507', '3822', '1442', '1588', '6240', '9730', '4686', '1653', '2460', '3000,95', '5928', '446,88', '5560', '1525', '6748', '2288', '2865', '8', '842', '7118', '13100', '2457,9', '1504', '2121', '200', '10434', '515,85', '880', '10933', '2887', '2390', '2916', '1708', '27350', '797', '1751', '6910', '4597', '280', '1379', '9490', '326', '6075', '2467', '694,2', '369', '6050', '3265', '14760', '4145', '1610,4', '11292', '4020', '1788', '981', '443', '1302', '1089', '682', '1488', '1405', '1615', '2062', '2490,95', '2700,75', '748', '3330', '50', '3800,2', '2157', '8180', '10260', '1849', '8190', '1540', '3304', '7531', '1018', '1410', '5703', '2491', '11754', '637,4', '1258', '18800', '8480', '5950', '34492', '2634', '1294', '6670', '2985', '1255', '659', '6228', '8164', '1519', '3511', '7125', '1462', '7950', '3149', '1390', '269,1', '1269', '3850', '2167', '2000,9', '2218', '2100', '720', '2900,5', '709', '1820', '10051', '1355', '260', '583', '2625', '774', '2668', '1980', '3000,4', '1814', '25000', '10007', '5001,9', '2383', '723', '3829,6', '1240', '6000,1', '300', '2770', '605', '1679', '950', '2115', '1924', '3350', '4348', '5594', '2017', '2830', '518', '777', '1185', '2279', '6890', '7659,01', '18735', '1786', '6882', '1102', '1135', '2372', '51127', '29080,92', '75606', '1300,92', '1722', '1041', '4005', '48800', '2760', '6835', '4403', '11024', '3363', '10527', '3660', '4919', '3735', '2855', '1958', '12500', '9900', '60432', '292,2', '2571', '10729', '1216', '1013', '5226,9', '1813', '2000,22', '1818', '1394', '738', '2593', '6975', '14990,94', '1420', '4660', '6950', '9922', '1330', '213', '15000,4', '643,7', '780,1', '1411', '4715', '14220', '3270,82', '1487', '1081', '7020', '6320', '14385', '3202', '1830', '889', '749', '927', '1516', '1800,2', '1899,8', '1215', '7567', '868', '1999,2', '197', '838', '4358', '1835', '1247', '2710', '3408,8', '3195', '1785', '11076', '4000,22', '1424', '653', '25089', '2899', '2231', '4590', '1175', '3055', '2000,7', '1717,92', '1750', '677,5', '20595', '711', '1962', '690', '372', '50442', '1894', '3260', '5000,87', '6370', '56638', '2046', '4444', '25400', '8082', '3910', '299', '982', '9037', '21900', '12700', '3590', '7822', '2998', '2500,4', '5838', '1776', '2150', '7520', '1098', '1176', '1281', '17000', '891', '11597', '16070', '560', '50000', '10330', '2206', '1444', '3000', '5060', '2700', '1190', '3779', '2879', '1721', '6800', '22000', '7298', '11548', '700', '1700', '3086', '4788', '5752', '140000', '4632', '1948,92', '309', '2028', '962', '1295', '1092', '3130', '3450', '1284', '1622', '6789', '1371', '9270', '1159', '1130', '11027', '2315', '54470', '9964', '1123', '601', '1800', '7541', '2210', '2988', '5387', '958', '4011', '684', '26565', '2698,93', '3749,74', '7740', '5045', '1625', '1670,69', '2055', '6495', '1275', '5850', '18080', '8389', '600', '3187,74', '4800', '2689', '11528', '2019', '7794,92', '1370', '5120', '1780', '555', '562', '489', '7630', '787', '455', '1828', '2861', '5670', '3650', '35800', '5460', '6445,86', '311', '9600', '557', '3685', '375,2', '50500', '576', '6151', '1121', '1293', '15140', '23900', '16100', '9480', '2260', '2549', '3095', '7669', '3442', '234', '1328', '535', '1875', '14500', '364', '16086', '1099', '1989', '729', '3610', '1474,3', '60488', '21648', '1854', '11673', '4455', '2325', '4619', '3990', '732', '5500', '2500,8', '1254', '811', '1725', '729,1', '8320', '6730', '1338', '46300', '2477', '1482', '431', '5999,2', '5200', '10650', '2790', '3451', '4263', '5600', '3969', '2327', '5814', '159', '686', '2514', '1080', '4980,91', '3030', '9661,66', '2753', '1559', '4300', '1912', '4330', '727', '4978', '10162', '1936', '4230', '3390', '10497', '1110', '1151', '49356', '847', '3159,86', '1004,2', '938', '2530', '6387', '2444', '544', '5660', '2962,1', '524', '432', '4870', '2186', '12211', '5050', '528,5', '2911', '1292', '503', '781', '5260', '2811', '1204', '344,8', '1871,75', '1168', '786', '915', '3534', '3391', '50120', '1200', '950,92', '2885', '457,5', '349', '5148', '1680', '3300', '2180', '1648', '4750', '1546', '9793', '2173', '2132', '4806', '4498', '2649', '3162,71', '1620', '1660', '3711', '3605', '1939', '1580', '2870', '767', '8100', '8499', '1999', '41580', '1095', '2220', '1565', '745', '4155', '49200', '3049', '2420', '792', '2014', '7764', '612', '3444', '2323', '2324', '10467', '648', '4289', '2223', '62250', '4817', '1571', '3752', '10557', '160', '3650,1', '2283', '13750', '1596', '296,8', '2004', '10015', '1987', '373', '8700', '1695', '5300', '3277', '6782', '2419', '1557', '5245', '670', '5044', '873', '783', '1726', '5352', '3596', '11320', '14190', '556,2', '2803', '5022', '1996', '5437', '9570', '2025', '1869', '855,9', '2685', '1290,6', '8000', '4274', '2455', '2078', '3045', '3510', '512', '1575', '5667', '1523', '9845', '1689', '1239', '613', '392', '32750', '1376', '2835', '7550', '2500,2', '3435', '1961', '1970', '538', '4948', '2729', '5767', '3880', '2310', '1608', '2559', '1885', '608', '970', '4343', '3039', '516', '3000,92', '558', '2784', '7350', '448,9', '2826', '1584', '10425', '8900', '7660', '542,2', '1595', '2650', '3602', '2084', '549', '877', '5746', '5811', '798', '13519', '1500,5', '3815', '1481', '3200', '2098', '419', '3278,9', '1661', '168', '4770', '13613', '780', '10980', '2459', '2027,7', '704', '19556', '8680', '737', '9500', '3170', '2205', '13126', '2293', '1201', '3023', '1747', '4199', '4600', '6995,92', '450', '5400', '2331', '41774', '3901', '1544', '599', '1012', '1648,5', '26410', '3099', '5000', '7800', '1978', '3120', '6160', '11116', '1959', '9788', '8751', '1457', '8274', '1876', '4720', '1952', '210', '10097', '393', '7945', '4752', '8820', '5095', '4775', '3003,3', '10750', '4268,72', '3245,95', '1170', '1280', '3980', '592', '1339,9', '3700', '814,2', '230', '2643', '2047', '606', '1806', '1651', '3575', '1036', '21094', '1056', '2688', '2170', '3108', '3569', '3943', '1534', '1271,1', '3000,2', '10431', '341,1', '9411', '479', '7240', '2020', '9425', '49582', '1940', '776', '350', '1343', '1809', '480,9', '7165', '12100', '4110', '1731', '1070', '2270', '7506', '574', '681,2', '1200,8', '3403', '34000', '1251', '2244', '1629', '8540', '410', '2259', '13776', '1337', '10240', '1248', '2414', '3060', '5708', '1543,5', '1786,9', '1522', '1701', '800,82', '1922', '9445,95', '1195', '2458', '2880', '4081', '561', '1475', '9400', '530', '2849', '509', '3346', '9498', '3790', '3760', '1366,05', '5145', '4315', '1458', '9824', '10227,2', '2155', '457', '362', '2745', '1632', '2532', '2600', '13790', '868,83', '2610', '400', '15900', '1995', '18719', '2778', '1260', '1610', '4521', '367', '1897', '2010', '53541', '2357', '404,1', '11230', '724', '6599,8', '1030', '564', '5010', '3495', '11990', '900', '7495', '2247', '3995', '1138', '971', '5097', '6575', '4480', '334', '15670', '1715', '2410', '3678', '2248,1', '1084', '7174,87', '2568', '1380', '633', '7480', '833', '2564', '1820,94', '3687,5', '2750', '22097,99', '4138', '7447', '644', '1455', '8400', '40758', '3900', '1322,9', '854', '375', '2333', '1264', '4746', '6990', '3015', '5248,91', '1418', '6196', '508,79', '552', '2228', '6712', '5036', '4000', '1899', '2062,5', '10177', '3318', '1829', '3400', '2151', '3100,3', '2613', '744', '1326', '1515,7', '46500', '1002', '956', '3275', '19958', '283', '1480', '1656', '2290', '3290', '1116', '643', '2299,9', '3745', '9418', '345,3', '2240', '2345', '239', '1590', '960', '3280', '4935', '413', '698', '2850', '3140', '2688,69', '869', '1899,9', '13539', '28800', '2067', '5847', '1928', '1306', '1309,65', '1930', '598', '511', '3710', '3795', '496', '49038', '3385', '2810', '7811', '3416', '1796,94', '2518', '740', '1229', '223', '17110', '799,5', '2843', '15886', '21000', '11440', '1182', '4587', '1598', '1815', '3620', '18375', '27000', '695', '2846', '3180', '6398', '1125', '824', '405', '775', '22500', '2840', '4360', '3028', '885', '4830', '2776', '7590', '2241', '1710', '815', '421', '2670', '4335', '9700', '5790', '1129', '1489', '1261', '1760', '470', '2000,79', '1884', '1075', '1493', '694', '10090', '555,2', '4139,36', '848', '1686', '1655', '18000', '2877', '1094', '1040', '12358', '10560', '249', '5440', '6999', '1265', '3520', '10041', '1365', '6357', '1045', '7631', '6217', '810', '4186,59', '1341', '15500', '1329', '1670', '5450', '3885', '5140', '1873', '2352', '389', '1060', '1883', '1640', '272', '2981', '6480', '3899,95', '2454', '1765', '2399', '13670', '4476', '1955', '1246', '2149', '3899', '1181', '878', '495', '1350', '5902', '16750', '3480', '2338', '690,95', '1937', '5786', '7049', '1417', '1385', '765', '2651', '4000,5', '606,2', '2780', '25131,59', '2825,5', '639', '24000', '1071', '2294', '33590', '363,5', '4820', '1979', '874', '769', '800', '590', '340', '1146', '7000,5', '2197', '2373', '8734', '360', '53530', '3138', '10140', '1530', '649', '13400', '7623,3', '2615', '1555', '2495', '3470', '1233,2', '7464', '2665', '4364', '2506', '4190', '1000,67', '4206,8', '3449', '7750', '3570', '381', '11221,5', '55000', '2316', '3794', '12910', '436', '368', '5611', '519', '3250', '9108', '6007', '3774', '3907', '9267', '371', '620', '8650,48', '2350', '1975', '7528', '977', '4700', '13650', '2175', '1440', '5784', '8879,48', '14640', '638', '2892', '14786', '2403', '1866', '11382', '3212', '10695', '14806', '2949,7', '1178', '837,91', '2179', '383', '2096', '860', '9770', '2845', '757', '6641', '1000', '460', '1831', '10950', '10637,7', '1107', '2031', '3252', '834', '7880', '1310', '1563', '485,8', '323', '3492', '1361', '485', '238', '4690', '712', '2271', '7243', '799,92', '1933', '4640', '9574', '5817', '6200', '1674', '3043', '4504', '1700,95', '999', '726', '5340', '1874,7', '2751', '6317', '1207', '1957', '6010,3', '522,4', '4200', '11044', '9550', '2653', '1639', '8342,38', '1399,3', '5760', '510,9', '756', '11900', '6610', '734', '5989', '2250', '2720', '1001,7', '6326', '631', '352', '1003', '4916', '1100', '3398', '668,71', '3288', '13203', '1231', '5398,1', '3100,1', '650', '23700', '258', '1356', '3440', '1400', '1479', '10397', '10502', '4680', '7250', '7519', '15939', '2415', '424', '316', '10706', '3787', '10', '379', '3489', '4194,3', '3183', '720,2', '2555', '3340', '1501', '3257,04', '2222', '795', '1198', '1991', '2584', '9016', '1139', '230,3', '4850,8', '2975', '921', '9898', '1140', '304', '4846,96', '48156,13', '1219', '2703', '5990', '1880', '2947', '680', '8640', '5350', '11090', '4184', '4048', '2356', '1188', '764', '4053', '3597', '6138', '4018', '910', '998', '2287', '1691,6', '50642', '936', '4260', '29500', '2239', '1500', '839', '984', '3555', '1997', '3294', '1099,9', '12300', '1453', '674', '5609', '1533', '1126', '2930', '635', '306', '1781,83', '425', '2370', '9254', '1812', '1870', '14100', '3545', '3160', '862', '1161', '130', '1270', '7261', '323,25', '10795', '3134', '2280', '7882', '3126', '596', '1845', '35000', '1042', '4310', '17930', '10270', '9190', '1422,6', '3318,4', '1508', '9444', '3245', '622', '2923', '439', '18588', '3425', '12335', '5250', '2749', '2754', '4823', '7990', '725', '779', '5631', '5002', '4499', '12000', '8328', '2708', '760', '2000,6', '1290', '1383', '2698', '6532', '3084', '3568', '2535', '3380', '479,8', '29860', '2482,84', '48210', '363', '290', '2360', '4082', '9272', '2560', '8300', '1065', '1717', '5210', '39487', '567', '1399,8', '8200', '5610', '269', '3371', '2586', '9664', '1512,1', '2110', '9685', '3870', '700,83', '19924', '20645', '1141', '342', '6396', '1560', '2199,95', '1484', '2966,2', '10800', '969,8', '2472,5', '7034', '4768', '39400', '7795', '1690', '54929', '941', '1503', '1000,1', '1103,85', '4014', '9871', '9520', '251,1', '395', '628', '1093', '1243', '276,6', '5517', '1333', '1049', '7148,1', '7207', '2635', '9602', '11337', '1252', '16481', '4712', '449,1', '9991', '7586', '3249', '26000', '18400', '2052', '8250', '1549', '634,2', '2235', '5735', '6325', '429', '1889', '8120', '4949', '2237', '510', '25599', '3216', '1720', '3500,6', '8816', '2040', '1735', '3740', '26802', '747', '599,95', '570', '1124', '1384', '6513', '5722,21', '1210', '1899,1', '1452', '3670', '6554', '554', '625', '4536', '3872', '2920', '586', '1960', '4739', '3158', '399', '1895', '1470', '675', '739', '16400', '1949', '5383,85', '3718,2', '1877', '1199', '685', '13200', '3297', '3688', '456', '2289', '3739', '2405,69', '1890', '2340', '6844', '9528', '1180', '9784', '1789', '2915', '2616', '3264', '10696', '9457', '29590', '1400,1', '9250', '8000,91', '1591', '449', '39804', '1994', '859', '4197', '1708,5', '1430', '813', '2413', '1477', '1103', '6257', '1115', '14221', '301', '2348,8', '319', '1630', '8710', '1386', '888', '4086', '3763', '630', '4340', '1635', '1150', '7700', '500,39', '3220', '695,2', '1153,5', '6300', '3298', '5150', '793', '0,92', '2364', '1999,8', '5244', '2999,9', '24500', '5650', '3159', '3000,68', '3370', '229,5', '1050,33', '10981', '1784,81', '1279', '2320', '293', '17610', '1739,69', '6399,9', '3319,7', '1973', '370', '3135', '4653', '2690,92', '387', '6410', '14000', '619', '54080', '4100', '426', '1015', '20235', '2092,94', '4995', '2130', '1288', '660', '1000,95', '7507', '2716', '2213', '1509', '2580', '4580', '10000', '383,2', '7300', '5562', '2395', '2053', '2520', '579', '9472', '3976,32', '2136', '13000', '2952', '41000', '6541', '9391', '15701', '2369', '713', '1498', '30660', '3414', '1389,8', '1495', '0,95', '9248', '1197', '430', '407', '827', '845', '4650', '10000,92', '16500', '1434', '11425,8', '2400', '759', '710', '2599', '8688', '1872', '5472', '7500', '1108', '10619', '2674', '573', '1368', '1556', '10205,5', '2798', '413,1', '642', '58800', '830', '31350', '5155', '867', '3136', '1445', '6777', '11660', '279', '4398', '9955', '636', '3320', '770', '1287', '2114', '10098', '337,1', '2450', '38000', '681', '7230', '688', '10200', '8390', '2394', '4198', '468', '11600', '3490', '1082', '10152', '7776', '2142', '377', '6550', '11233', '3930', '250,6', '1860,9', '3186', '19950', '2857', '1119', '2000,92', '1829,43', '20644', '2466', '1850', '9325', '778', '24500,03', '550', '2080', '2958', '911', '353', '299,1', '730', '3810', '3359', '3639,5', '2000,2', '1250', '2375', '1272', '974', '2980', '925', '1500,95', '1348', '934', '2420,1', '1259', '3073,8', '4992', '2910', '11800', '2140', '1255,41', '912', '5192', '6491', '16350', '3484', '3337', '7707', '2940', '1880,2', '1799', '4551', '903', '1759', '1408', '4815', '2647', '54230', '1072', '2515', '540', '952', '365', '2765', '1730', '514', '2347', '2848', '5108', '1914', '1289', '6100', '1999,94', '1864', '20890', '4091', '1090', '772,3', '3658', '1619', '6625,16', '5800', '1703,2', '330', '1517', '2156', '2201', '973', '2858', '3194', '658', '2667', '736', '5000,1', '7095', '5580', '527', '4925', '6948', '1745', '1305', '2006', '19990', '1091', '696', '18900', '5900', '463,2', '2433', '4318', '917', '1055', '13300', '33694', '468,1', '2199', '60360', '2380', '1990', '2001', '5985', '3006', '2680', '2500,95', '1547', '400,2', '4270', '247', '3230', '299,92', '6290', '7019', '19430', '4593', '1693', '10000,1', '54910', '754,2', '1433', '6115', '1152', '2200,05', '440', '2888', '2346', '7883', '1120', '75500', '3223', '9699,69', '2429', '637,3', '646,5', '755', '718', '8790', '366', '1490', '3209', '1935', '531', '10500', '7142', '15091', '5499', '2482', '1767', '3150', '8650', '7845', '3463', '1363', '2660', '9039', '4027', '9663', '451', '4080', '940', '676', '2076', '2077', '2698,89', '5980', '1992', '3999', '1685', '672', '752', '515', '989', '771', '3439', '539,09', '1666', '13807', '1572', '1016', '1026', '2696', '7633', '249,3', '1268', '1901', '2159', '2499,8', '11490', '507', '1395', '1950', '8117', '2160', '1650', '4990', '332', '36330', '1499', '2490', '3657', '627', '3080', '2595', '1320', '687', '4546,8', '1225', '942', '6481,31', '2934', '1392', '14753', '10000,2', '857', '8064', '3335', '1050,92', '4550', '1300', '1956', '3198', '3609', '485,2', '19000', '1034', '697', '6509', '1768', '3997', '3235', '899', '14440', '10512', '1566', '240,6', '3240', '1087', '1273', '959,3', '3050', '10394,5', '1866,6', '2640', '850', '1303', '9750', '5718', '2816', '17669', '650,95', '6875', '6646', '4267', '6500', '13140', '575,2', '4320', '6323', '1802', '1469', '2597', '4287', '1740', '1360,92', '2129', '480', '2365', '435', '6600', '1238', '656', '34923', '1823', '828', '1291', '1340,92', '464', '2997', '2233', '8263', '553', '7600', '7395', '13360', '594', '8688,09', '418', '4160', '2375,68', '15600', '3014', '1702', '1556,8', '2335', '1029,41', '4510', '2553', '2135', '667', '920', '6297', '930', '2045', '2697', '5979', '3215', '7128', '2800', '3448', '640', '1077', '1520', '2860', '2499', '3148', '3298,92', '4319', '1574,1', '1008', '1351', '1179', '615', '669,3', '2763', '541', '1106', '1888', '7124', '2190', '422,1', '65000', '5279', '2740', '3090', '3516', '1860', '5240', '3666,2', '8040', '571', '990', '478', '2900', '7964', '12999', '1155', '2265', '3172', '45000', '9790', '1704', '3750', '4350', '2954', '3950', '1035', '6603', '10230', '2099', '2863', '70940', '2498', '285', '618', '623', '788', '17500', '439,95', '3679', '18850', '7913', '437', '2620', '433', '3270', '546', '4040', '1069', '5550', '42906', '1512', '2504', '1847', '2528', '1048', '2990', '40664', '53370', '825', '339', '3124', '5038,1', '687,7', '11860', '1719', '10516', '4000,91', '2596', '832', '10725', '2300', '3498', '1249,95', '4498,91', '409', '26090', '2485', '11924', '2796', '1528', '742', '1009', '2238', '2024', '30303', '758', '3374', '4517', '11080', '539', '4708', '5761', '9960', '4395', '12520', '1158', '1025', '4393', '3454', '1703', '1053', '5246,5', '1313', '1561', '1399,7', '8522,2', '48052,1', '1148', '529', '947', '2437', '2285', '663', '8500', '4450', '8750', '8998', '6750', '75570', '4434', '16515', '1063', '499', '3310', '4390', '3524', '849', '20550', '10900', '1770', '16293', '3339', '7270', '25300', '1497', '2926,4', '1900', '1373', '5198', '2852', '5690', '1399', '2437,5', '5532,66', '1165', '12600', '2253', '420', '1898', '11500', '9040', '845,5', '2409', '1540,84', '582', '2538', '965', '1327', '52182', '4953', '5000,91', '44500', '2569', '3830', '12044', '553,6', '2632', '15000', '3780', '3840', '2590', '2440', '2178', '1573', '10700', '10460', '23800', '1920', '39600', '3357', '4828', '4000,92', '1819', '256,2', '3538,92', '790', '3037', '3169', '2030', '629', '1876,25', '820', '772', '2517', '1297', '13500', '1160', '610', '1222', '7185', '2604', '4490', '7816', '5998', '11890', '1369', '3619', '3677', '1312', '2041', '7805', '6534', '1196', '2131', '1256', '2805', '9000', '10525', '1111', '5504', '2608', '6785', '2567', '10147', '5940', '1374', '4675', '2044', '4275,2', '6174', '1005', '30000', '717,2', '43359', '1340', '1450', '3299', '444,1', '4225,44', '5726,3', '846', '2330', '746', '1460', '905', '532', '1213', '7547,8', '4235', '3720', '3846', '1810', '2832', '6945', '2198', '2430', '1840', '16657', '7670', '995', '3392', '490', '13536', '6923', '1000,89', '176', '473', '12144,42', '19521', '1331', '3800', '14940', '1790', '4565', '337', '14200', '10515', '1752', '1393', '336', '1310,62', '840', '2060', '1266', '1278', '1841,91', '2898', '3916', '9639', '1671', '5234', '3935', '465', '29032', '918', '2730', '2095', '2508', '3984', '929', '10723', '9695', '4353', '3293', '1374,88', '677', '217,5', '4250', '1171', '7900', '4030', '7000', '7477', '2578,8', '1058', '2686', '1910', '1915', '6598', '1051', '1805', '10400', '2702', '965,92', '5074', '8349', '8099', '4239', '3328', '4500', '150', '1515', '853', '2079,02', '3010', '2493', '2230', '4095', '3717', '1220', '1039', '979', '3228', '5844', '565', '1364', '3970', '2540', '3413', '1682', '3114', '1299', '1865', '13700', '38800', '4567', '980', '14448', '5038', '890', '868,42', '2955', '1235', '3537', '3360', '2328', '1318', '1257', '2000', '1737', '4210', '513', '3334', '16000,1', '7110', '1360', '1567', '2500', '3119', '1705,5', '1400,95', '2989', '1500,92', '1855', '28257', '268', '7200', '3975', '9568', '31000', '2112', '177', '1319', '5081', '24800', '1625,2', '6837', '355', '1271', '4629', '6000,95', '705', '3669,6', '1230', '2522', '12251', '1179,6', '4280', '5461,11', '10465', '5445,92', '602', '2864', '5143', '1609', '4387', '1969', '6519', '4430', '5730', '3000,91', '1438', '4177', '559', '735', '21500', '5000,8', '1500,2', '3585', '1619,95', '1921', '3087', '1267', '4060', '6127', '9996', '9096', '1982', '887', '4944', '19355', '25405', '1279,9', '517', '7836', '1892', '1059', '2587', '933', '4898', '2510', '4050', '949', '2070', '985', '2029', '8923', '930,91', '4798', '1841', '4647', '8125', '13526', '988', '10759', '987', '1510', '1000,2', '2125', '2015', '11000', '305,1', '870', '3482', '2050', '120', '3550', '6933', '3311', '1047,82', '895', '1842', '2570', '2890', '2469', '1524', '1763', '508', '2807', '2355', '4045', '500', '3680', '16668,82', '2550', '3415', '3104', '4352,37', '1463', '3426', '9200', '2152', '5812', '2011', '1000,92', '16000', '3266', '880,2', '2000,85', '13395', '9020', '2299,8', '6340', '16484', '3364', '3107', '2605', '1568', '250', '9910', '4523', '63219', '6650', '3210', '2013', '1700,92', '3137,9', '1837'}\n",
      "\n",
      "\n",
      "==========\n",
      "LOAN_AVG_DLQ_AMT\n",
      "{'455,32', '2260', '1990', '3940', '986,606666666667', '2005,15', '5370', '648,68', '2380', '1639,99', '3860,18', '779,415', '3202,2', '6310', '605,496', '3500', '1538,69', '642,31', '4158,85', '2680', '1508,79', '872,065', '1594,914', '856,64', '1411,31', '619,4', '3626,91', '3610', '1966,99', '3230', '1639,24571428571', '2158,72', '2816,25', '49,35', '100', '4055,03', '2573,8', '1427,295', '1259,43', '1959,99', '3990', '1388,83769230769', '5500', '136,76', '758,95', '5870', '1003,255', '440', '2259,35', '860', '1713,74', '860,505', '1120', '8020', '3630', '1258,95', '1000', '18307,16', '3589,09', '1399,25', '1175,57', '776,59', '1683,49', '63,31', '620,75', '5170', '2200', '1942,72', '1134,58', '1119,27', '1490', '1272,72', '1310', '1199,27', '552,57', '582,386666666667', '1731,06', '2598,9', '2790', '4690', '87,39', '3127,19', '1670,18', '1599,9', '598,5', '3150', '1593,76', '980,42', '1080', '2554,005', '2660', '4640', '2379,46', '578,3', '1439,94', '1939,61', '887,79', '3030', '3020', '6200', '940', '651,625', '532,24', '1608,255', '3651,445', '610,986666666667', '3964,85', '1139,49', '948,58', '2701,26', '4300', '767,566', '1626,75', '1717,47333333333', '911,793333333333', '837,48', '2202,69', '1110', '1002,22', '3390', '9280', '7780', '1589,92333333333', '4200', '1102,7', '1050', '2530', '2386,505', '499,69', '1304,0625', '3960', '5760', '1402,92', '2349,51', '580', '892,18', '3110', '1749,69', '380', '2013,19', '1789,04', '1950', '2160', '2490', '1650', '1010,27', '1171,686', '1052,63', '3080', '1320', '1070,05', '2250', '2720', '1193,9675', '1176,82', '1066,005', '918,55', '901,64', '631', '1077,03', '568,7', '4760', '991,19', '4940', '1100', '1056,95', '438,19', '1264,23', '2477,64', '1098,8', '4550', '979,63', '1300', '862,43', '1200', '2510,2', '650', '1878,86', '1221,92', '270', '1154,34', '1549,18', '1197,38333333333', '457,71', '2018,255', '0', '1680', '3440', '1492,404', '1400', '5030', '3300', '596,29', '2180', '1344,33', '1433,4', '3240', '1550', '1535,89', '1387,15', '1259,1', '2676,2125', '802,36', '3050', '1439,9', '604,353333333333', '1002,60333333333', '429,11', '1007,36', '1620', '4680', '1091,2', '1489,13', '177,34', '2640', '310,126', '1899,7', '850', '518,9', '2989,98', '1580', '2870', '2201,11', '510,136666666667', '1986,88', '1751,37', '526,563333333333', '478,13', '2751,25', '767,7', '2359,898', '2220', '6500', '812,693333333333', '3637,43', '2585', '1402,43', '2547,85', '5698,46', '4320', '1441,57', '1413,765', '2139,63375', '2925', '875,09', '2370,01', '990,85', '1740', '1418,86', '1529,06', '2235,225', '480', '1671,7', '1930,595', '1113,74', '1140', '1768,07', '1276,66666666667', '1555,00090909091', '2044,155', '1196,43', '2549,52', '1296,4', '4810', '1817,76', '1880', '680', '14990', '2647,9', '553', '3303,2', '804,32', '1230,63', '1697,22', '2755,21', '1314,11', '5320', '4160', '1149,395', '2970', '670', '984,79', '910', '2782,89', '4260', '355,04', '778,32', '920', '1329,54', '1830,2', '930', '1088,05', '846,55', '1500', '1570', '5397,15', '2858,6', '970,155', '656,705', '2480', '2406,8', '1312,44', '2800', '2979,31', '3510', '1258,585', '849,19', '2950', '818,74', '2699,88', '28012,2', '1793,66', '640', '1520', '2083', '2629,87', '2860', '2930', '4472,91333333333', '3770', '3716,35', '1804,9', '543,17', '1179,394', '1020', '724,38', '1920,9575', '2370', '2084,32', '1237,24', '1970', '315,796666666667', '1870', '1410,53333333333', '4710', '2090', '3600', '619,73', '1894,04', '1275,785', '966,953333333333', '1319,56', '1889,43', '1283,93', '3160', '2190', '2310', '4070', '5603,82', '3880', '970', '2740', '1120,93', '1860', '1270', '4400', '3820', '988,85', '1634,81', '3509,22', '990', '2280', '1108,96333333333', '2900', '4310', '2650', '1305,97', '3769,3625', '2265', '4370', '918,255', '957,46', '3750', '1844,885', '3501,45', '2094,3', '578,06', '5545,0225', '3200', '1155,125', '809,42', '2441,465', '4350', '4770', '780', '1004,225', '1144,03', '2476,77', '3100', '2097,97333333333', '3635,77', '1539,2', '1373,99333333333', '836,6', '2425', '1266,34', '766,26', '588,13', '1335,47', '5510', '6490', '989,39', '2702,4', '3170', '310', '760', '6260', '756,1', '1290', '567,16', '1095,61', '1321,68833333333', '879', '2796,66', '2372,77', '4600', '5550', '450', '599,19', '6130', '2105', '1985,3', '1883,04', '879,74', '1109,855', '115,65', '3237,94', '1614,36', '1512', '3410', '2360', '2990', '1040,78666666667', '2560', '3782,39', '1241,32428571429', '821,93', '1429,99', '1059,47', '5430', '1684,04', '5780', '2470', '1600', '3120', '6133,41', '1675,75', '702,565', '3209,5', '1459,99', '2300', '1781,225', '2110', '1459,54666666667', '3086,66666666667', '1325,63', '1033,905', '651,16', '789,23', '957,59', '1222,06', '3024', '1292,59', '2739,76', '1170', '1280', '1560', '855', '726,57', '6660', '2957,71', '750', '2466,8625', '2820', '600,93', '704,93', '714', '1426,72', '825,10875', '1690', '1149,495', '1208,09', '2127,1', '791,98', '959,955', '2170', '1053', '755,063333333333', '2590,15', '437,26', '4445,6', '865,05', '2020', '3322,7775', '1940', '1516,872', '3506,07', '1010', '798,53', '2082,47857142857', '1829,73', '1164,99666666667', '2002,45', '4450', '859,92', '2070,52', '433,306666666667', '1068,47', '1070', '2270', '1582,435', '3070', '849,085', '772,73', '1314,58666666667', '753', '4290', '1269,82', '951', '1283,89', '1677,48', '1581,82', '3310', '4630', '882,01', '4390', '7100', '2679,82', '2503,19', '3106,29', '510', '2154,02', '820,124', '6080', '3060', '1770', '2630', '1720', '1875,70333333333', '367,35', '2040', '6070', '5830', '2462,1', '862,5', '2272,5', '1900', '630,49', '863,68', '570', '4001,34', '1108,574', '2880', '1833,77', '1210', '516,18', '670,085', '1663,27', '2273,72', '2157,32', '4884,95', '3670', '51,8', '224,59', '1626', '1069,6', '530', '824,581428571429', '2920', '559,94', '976,68', '2538', '4376,4', '3037,58', '836,79', '966,07', '673,02', '1386,96', '3760', '908,78', '3018,275', '1960', '728,49', '1949,8', '5560', '1007,8', '3780', '1085,5', '2590', '3840', '4827,666', '1953,6', '1065,62', '2440', '1932,5', '1470', '2600', '1145,85', '1666,28', '2184,66', '1348,68', '1563,45', '2178', '1920', '2610', '400', '3777,93333333333', '5394,29', '339,83', '1260', '1610', '821,45', '796,59', '790', '1010,43', '2030', '880', '1179,86', '2010', '768,97', '2390', '1095,89', '769,43', '673,6825', '1006,59', '1890', '820', '2419,9', '2518,18', '1879,28', '3509,805', '2340', '1030', '957,4', '269,51', '3172,83', '289,02', '830,7', '1636,04', '1160', '610', '1180', '900', '913,4975', '560,36', '4115,33333333333', '769,915', '1127,76', '1478,49', '782,705', '2031,34333333333', '2910,25', '1831,51333333333', '1286,73', '1147,5', '791,56', '4920', '1097,86', '433,3425', '668,53', '1411,835', '1152,15', '1430', '4020', '1724,15333333333', '761,866666666667', '604,43', '588,9', '1299,55', '2410', '2262,12', '859,84', '603,55', '647,42', '2185', '1380', '1742,41', '909,424285714286', '1630', '2112,17', '4140', '682', '1686,92', '327,98', '1615', '5872,64', '630', '2750', '407,8', '846,74', '1150', '2315,64857142857', '3460', '1716,52', '1851,55', '3330', '2151,50333333333', '683,9975', '3072,475', '386,666666666667', '749,82', '0,04', '3900', '1371,86', '674,263333333333', '366,58', '1540', '1340', '1450', '1369,755', '1931,44', '1410', '1597,92', '2330', '5650', '1460', '1409,965', '1182,23', '702,23', '2320', '1810', '4220', '805,86', '2430', '1539,13', '1840', '1288,63', '370', '2119,77', '2293,65', '4000', '7670', '663,05', '1313,33333333333', '2690,33333333333', '2090,53', '3400', '816,83', '490', '1390', '806,19', '3850', '1066,605', '2009', '722,59', '4530', '2100', '3279,705', '892,95', '613,21', '2130', '1820', '720', '3914,24', '1015', '660', '1480', '1790', '4565', '1980', '2290', '1352,85714285714', '2959', '763,185', '2464,55', '2580', '1649,37', '3890', '1240', '840', '2060', '1359,6', '2779,4', '2237,245', '300', '2520', '2240', '2770', '950', '509,52', '3959', '960', '1590', '367', '2247,51', '665,57', '2850', '3140', '1010,55', '240', '1468,38', '2830', '1496,3275', '3102,49333333333', '1792,71', '425,97', '1509,44', '727,63', '823,54', '1930', '1259,39', '1135', '569,121428571429', '1391,47', '4250', '740,575', '1317,06', '4030', '1776,96666666667', '3190', '1093,75', '896,1', '2492,54', '957,63', '3040', '1910', '2760', '684,89', '1424,9175', '2810', '1215,45777777778', '444', '1845,5', '0,71', '3660', '1386,115', '740', '430', '1498,26', '1140,2', '1679,2', '3870,25', '481,506', '2368,84', '2656,68', '2059,46', '1107,5', '750,175', '5110', '4650', '904,08', '1088,48', '1692,49', '2409,01', '2365,47', '840,7', '2400', '2467,33', '2163,94', '1761,03', '3010', '1300,386', '2230', '2497,09', '1420', '558,06625', '1220', '710', '198,88', '4660', '110,91', '2101,256', '59,68', '2441,4', '1330', '3620', '1160,96', '3971,6', '2540', '3970', '3180', '216,59', '3768,7', '2120', '3119,99', '5269,78', '980', '1070,52', '830', '5428,62', '1288,7', '2840', '5160', '3762,5', '1830', '1706,3', '890', '9060', '1957,21', '3691,2675', '1778,635', '762,93', '3360', '1880,59', '1710', '1215', '2670', '1922,69', '2000', '2239,37', '4210', '770', '2568,45', '954,65', '5076,65', '1090,8', '1360', '2450', '2710', '2500', '1591,94', '1093,22', '2232,28333333333', '894,29', '535,53', '94,89', '1740,19', '1760', '678,2', '827,57', '1144,98', '1155,02142857143', '1029,75', '3490', '2258,3', '3530', '965,1', '451,495', '758,82', '472,11', '2701,5', '869,26', '1750', '38,32', '5410', '690', '1094', '1398,58', '1040', '1848,05', '3260', '3520', '1258,49', '1200,99', '2707,25', '1230', '752,923076923077', '560,86', '7340', '1850', '3910', '810', '1077,605', '324,16', '1296,74', '1670', '5140', '981,71', '2269,565', '2186,585', '550', '2080', '673,89', '4508,2', '3590', '1060', '517,51', '1405,53', '687,11', '1439,815', '730', '699,78', '1640', '2066,905', '975', '1552,325', '2150', '3810', '812,11', '543,33', '605,32', '3539,82', '549,88', '1259,71333333333', '1250', '735', '2960', '1745,7', '1138,2', '1570,46', '1072,34', '2361,22', '2916,18', '14870', '560', '2980', '3659,0625', '1892,238', '677,474', '1605,95', '3201,95', '4120', '855,675', '3480', '3000', '929,51', '1350', '2700', '2961', '1190', '2524,28', '2742,25', '709,96', '1324,41285714286', '2509,38', '5048,19', '4620', '5075,99', '497,62', '700', '1700', '2142,2', '2910', '586,646666666667', '2510', '6041,86', '2340,06777777778', '4050', '896,31', '2140', '2070', '2732,2', '2276,54666666667', '1309,89', '3283,1', '1510', '134,78', '1733,88', '917,57', '1205,4725', '2343,41', '2269,735', '567,51', '782,21', '1288,898', '1141,06', '870', '777,84', '2050', '849,91', '2940', '800', '3089,155', '1130', '3433,42', '6689,82', '3540', '3428,56', '1798,49', '875,2', '1800', '5040', '2210', '360', '2429,09', '2570', '658,42', '2890', '1530', '2287,02', '763,3', '4729,07', '946,49', '540', '1116,49', '554,36', '1033', '3702,8', '446,31', '669,12', '1113,335', '500', '370,77', '1730', '776,3', '3470', '7010', '1810,155', '4240', '5850', '600', '502,1', '1258,69', '2550', '1909,16', '4190', '2794,22333333333', '1090', '3420', '11310', '574,21', '1601,63', '330', '989,15', '3570', '5526,72666666667', '1867,66166666667', '1260,55', '682,56', '1370', '1780', '1412,55', '613,12', '2261,19', '880,2', '533', '2326,81', '2240,34', '830,53', '62,46', '1374,28', '3250', '845,55', '2263,2', '2051,5', '6390', '620', '4164,34', '1247,92', '2350', '2128,74', '13920', '4700', '2088,86', '1841,9', '6650', '3315', '1477,37', '1440', '2569,05', '857,956666666667'}\n",
      "\n",
      "\n",
      "==========\n",
      "LOAN_MAX_DLQ_AMT\n",
      "{'648,68', '2260', '1990', '3940', '2005,15', '2380', '5370', '1639,99', '3860,18', '3202,2', '6310', '1086,57', '3500', '1538,69', '642,31', '4158,85', '2680', '1508,79', '943,56', '856,64', '1411,31', '3626,91', '3610', '2642,83', '1966,99', '3230', '2158,72', '2816,25', '49,35', '100', '4055,03', '2573,8', '1259,43', '1959,99', '3990', '2375,59', '5500', '136,76', '758,95', '5870', '440', '860', '1120', '8020', '3630', '2902,89', '1000', '3589,09', '1175,57', '776,59', '1683,49', '63,31', '620,75', '5170', '2200', '1942,72', '1134,58', '1119,27', '1490', '1272,72', '1310', '1199,27', '552,57', '1731,06', '2598,9', '2790', '4690', '87,39', '3127,19', '2782,93', '1670,18', '1599,9', '598,5', '3150', '1593,76', '980,42', '1080', '2660', '4640', '2379,46', '578,3', '1439,94', '1939,61', '887,79', '3030', '3020', '6200', '940', '2950', '3964,85', '1139,49', '948,58', '2701,26', '4300', '5340', '1626,75', '2202,69', '3390', '837,48', '1110', '1002,22', '9280', '4200', '1102,7', '1050', '2530', '499,69', '3960', '5760', '2349,51', '3110', '580', '892,18', '1749,69', '2013,19', '1789,04', '918,28', '1950', '2160', '2490', '1650', '1010,27', '790,77', '2969,75', '1052,63', '3080', '1320', '2250', '1070,05', '2720', '1176,82', '918,55', '1110,39', '901,64', '631', '1077,03', '568,7', '4760', '991,19', '4940', '856,3', '1100', '1056,95', '438,19', '2477,64', '1098,8', '4550', '979,63', '1300', '1819,26', '862,43', '1200', '2510,2', '650', '1221,92', '270', '1154,34', '1549,18', '457,71', '0', '1680', '3440', '596,29', '1400', '5030', '3300', '2180', '1344,33', '1433,4', '3240', '1550', '1387,15', '1259,1', '589,45', '802,36', '3050', '1439,9', '4680', '1489,13', '429,11', '2398,8', '1620', '177,34', '2640', '2989,98', '850', '518,9', '961,94', '1427,4', '1580', '2870', '2201,11', '1819,09', '1986,88', '1751,37', '478,13', '2751,25', '767,7', '2220', '6500', '3637,43', '1402,43', '18310', '2547,85', '5698,46', '4320', '875,09', '990,85', '1740', '1418,86', '1529,06', '1113,74', '480', '1671,7', '1768,07', '1140', '910,63', '2549,52', '1196,43', '1296,4', '1817,76', '1880', '2064,08', '680', '14990', '2647,9', '553', '3303,2', '804,32', '1230,63', '1697,22', '2755,21', '4160', '5320', '2970', '826,77', '670', '783', '910', '1837,31', '736,3', '4260', '355,04', '778,32', '920', '930', '1088,05', '846,55', '1500', '1570', '5397,15', '2858,6', '2480', '2406,8', '1312,44', '2800', '3510', '849,19', '818,74', '2699,88', '28012,2', '1793,66', '640', '1520', '2083', '2629,87', '2860', '2930', '3716,35', '3770', '1804,9', '3357,52', '543,17', '3780,1', '1020', '724,38', '2370', '2084,32', '1324,5', '1970', '1870', '4710', '2090', '3600', '755,76', '619,73', '1894,04', '489,13', '1319,56', '1889,43', '1283,93', '3160', '2190', '2310', '4070', '5603,82', '3880', '970', '937,6', '2740', '1120,93', '1860', '1270', '4400', '3820', '988,85', '3509,22', '990', '2280', '2900', '4310', '2650', '2265', '4370', '3750', '3501,45', '2094,3', '578,06', '3200', '809,42', '4350', '4770', '780', '1144,03', '3100', '3018,62', '3635,77', '1539,2', '1930,47', '1828,89', '836,6', '2425', '1266,34', '766,26', '588,13', '1335,47', '6490', '989,39', '2702,4', '3170', '3920', '310', '760', '6260', '756,1', '1290', '567,16', '1095,61', '2620', '2618,78', '879', '2796,66', '2372,77', '4600', '5550', '450', '599,19', '6130', '1985,3', '1883,04', '115,65', '879,74', '1614,36', '437,26', '3237,94', '3410', '2360', '2990', '3111,86', '2560', '3782,39', '828,51', '821,93', '1154,9', '1429,99', '1059,47', '5430', '5780', '2470', '1600', '3120', '1650,53', '875,2', '605,59', '6133,41', '2102,75', '1459,99', '2300', '2110', '1325,63', '651,16', '789,23', '957,59', '1222,06', '1015', '1292,59', '2739,76', '1170', '1280', '1560', '726,57', '6660', '2957,71', '750', '2820', '3700', '600,93', '704,93', '714', '1426,72', '1690', '776,6', '1208,09', '2127,1', '791,98', '2170', '1053', '2590,15', '2020', '1783,55', '1940', '3506,07', '1010', '798,53', '2002,45', '4450', '859,92', '1068,47', '1070', '2270', '3070', '772,73', '4290', '1677,48', '1581,82', '3310', '586,5', '1370,25', '4390', '7100', '2679,82', '2503,19', '3106,29', '510', '2154,02', '6080', '3060', '1770', '2630', '1720', '367,35', '2040', '6070', '5830', '2462,1', '862,5', '1900', '1901,3', '3089,5', '630,49', '863,68', '570', '4001,34', '2880', '1833,77', '1210', '516,18', '1663,27', '1452', '2157,32', '4884,95', '3670', '51,8', '224,59', '1300,16', '1069,6', '530', '2920', '559,94', '976,68', '836,79', '966,07', '673,02', '3760', '908,78', '1960', '2589,2', '728,49', '1090,01', '1949,8', '5560', '3780', '5980,18', '1007,8', '2590', '1085,5', '3840', '1953,6', '1729,66', '2440', '1065,62', '1470', '2600', '1145,85', '1666,28', '2184,66', '1348,68', '1563,45', '840,4', '1920', '2610', '400', '5394,29', '339,83', '1260', '1610', '790', '796,59', '367', '2030', '880', '1179,86', '2010', '768,97', '2390', '1095,89', '769,43', '1006,59', '1890', '820', '2419,9', '2518,18', '2340', '957,4', '830,7', '1030', '2044,32', '269,51', '3172,83', '289,02', '1636,04', '1160', '610', '1180', '900', '560,36', '1127,76', '1478,49', '4490', '1672,88', '724,93', '660,86', '791,56', '4920', '1097,86', '668,53', '481,51', '1430', '4020', '604,43', '1299,55', '2410', '2262,12', '603,55', '647,42', '1742,41', '1380', '1630', '1105,07', '2112,17', '4140', '682', '1686,92', '327,98', '1615', '5872,64', '630', '2750', '1066', '407,8', '846,74', '1150', '3460', '1716,52', '1851,55', '3220', '5470', '3330', '749,82', '0,04', '3900', '1371,86', '366,58', '1540', '1340', '1450', '1931,44', '1410', '1597,92', '2330', '5650', '1460', '620,18', '702,23', '2320', '1408,32', '1810', '4220', '1387,3', '2430', '1539,13', '1840', '1288,63', '370', '2119,77', '2293,65', '4000', '7670', '663,05', '997,66', '2090,53', '3400', '816,83', '490', '1390', '918,83', '806,19', '3850', '2009', '722,59', '4530', '2100', '892,95', '613,21', '2858,62', '2130', '1820', '954,34', '720', '3914,24', '660', '1480', '1790', '4565', '1980', '2290', '2959', '2580', '1649,37', '3890', '1240', '840', '2060', '1359,6', '2779,4', '300', '2520', '2240', '2770', '950', '3959', '1590', '960', '2064,03', '7890', '2247,51', '665,57', '2850', '3140', '1010,55', '240', '1468,38', '2830', '604,76', '937,79', '1792,71', '1509,44', '1056,64', '823,54', '1930', '1259,39', '1391,47', '4250', '1317,06', '4030', '1860,72', '3190', '896,1', '1093,75', '2492,54', '957,63', '3040', '1910', '2760', '2810', '684,89', '444', '1845,5', '0,71', '3660', '1140,2', '740', '430', '1498,26', '2368,84', '1679,2', '3870,25', '1395,7', '2656,68', '2059,46', '4650', '5110', '904,08', '1692,49', '3560', '2409,01', '2365,47', '2400', '2467,33', '2163,94', '1761,03', '3010', '1012,9', '2230', '2497,09', '1420', '710', '1220', '4660', '110,91', '2441,4', '59,68', '1330', '3620', '1160,96', '3971,6', '2540', '3970', '4960', '3180', '216,59', '3768,7', '2120', '5269,78', '980', '1070,52', '830', '5428,62', '1870,69', '2840', '5160', '3762,5', '1830', '1706,3', '1288,7', '890', '9060', '1957,21', '4830', '762,93', '581,67', '3360', '1880,59', '1710', '2670', '2000', '2239,37', '4210', '770', '2568,45', '954,65', '5076,65', '1090,8', '1360', '2450', '2710', '2500', '1591,94', '1093,22', '894,29', '535,53', '94,89', '1740,19', '1760', '678,2', '827,57', '919,88', '1144,98', '470', '1029,75', '3490', '2258,3', '3530', '965,1', '472,11', '869,26', '1750', '849,07', '38,32', '5410', '690', '1094', '1398,58', '1040', '1848,05', '3260', '3520', '1258,49', '3285,74', '1365', '1200,99', '2707,25', '1230', '7340', '1850', '3910', '810', '324,16', '1296,74', '1670', '5140', '981,71', '2220,72', '473,16', '550', '2080', '673,89', '4508,2', '2281,1', '3590', '1060', '517,51', '1405,53', '687,11', '730', '699,78', '1640', '3810', '975', '2150', '812,11', '1489,45', '605,32', '4446,3', '3539,82', '543,33', '549,88', '1250', '2960', '1745,7', '1138,2', '2361,22', '2916,18', '1387,47', '490,88', '14870', '560', '2980', '3201,95', '4120', '3480', '3000', '1350', '2700', '1190', '572,22', '2524,28', '2742,25', '2509,38', '5048,19', '4620', '5075,99', '1386,14', '2979,35', '883,33', '497,62', '700', '1700', '2142,2', '2910', '2058,71', '2510', '6041,86', '4050', '896,31', '2140', '1351,06', '2070', '2289,89', '2732,2', '3283,1', '1309,89', '1510', '1302,38', '134,78', '1733,88', '917,57', '1450,22', '2343,41', '567,51', '3450', '1141,06', '870', '777,84', '2050', '849,91', '2940', '1130', '800', '3433,42', '6689,82', '4880', '3540', '3428,56', '590', '1798,49', '1800', '5040', '2210', '1519,64', '360', '2429,09', '2570', '658,42', '2890', '1530', '2287,02', '4729,07', '946,49', '540', '1116,49', '554,36', '1033', '3702,8', '446,31', '669,12', '500', '370,77', '1185,5', '1730', '2178', '776,3', '3470', '7010', '4240', '5850', '600', '502,1', '1909,16', '2550', '797,16', '4190', '1090', '3420', '11310', '574,21', '1601,63', '330', '989,15', '1249,61', '3570', '1046,01', '1260,55', '1370', '1780', '2261,19', '880,2', '533', '830,53', '5580', '62,46', '1479,51', '1374,28', '3250', '2263,2', '331', '6390', '2051,5', '620', '4164,34', '1247,92', '2350', '2497', '13920', '1840,14', '4700', '2088,86', '1841,9', '6650', '1477,37', '1440', '2569,05', '609,52'}\n",
      "\n",
      "\n",
      "==========\n",
      "sample\n",
      "{'train'}\n",
      "\n",
      "\n"
     ]
    }
   ],
   "source": [
    "for i in df_train.columns: # перебираем все столбцы\n",
    "    if str(df_train[i].dtype) == 'object': # если тип столбца - object\n",
    "        print('='*10)\n",
    "        print(i) # выводим название столбца\n",
    "        print(set(df_train[i])) # выводим все его значения (но делаем set - чтоб значения не повторялись)\n",
    "        print('\\n') # выводим пустую строку"
   ]
  },
  {
   "cell_type": "markdown",
   "metadata": {
    "collapsed": true
   },
   "source": [
    "Mожно заметить что некоторые переменные, которые обозначены как строки (например PERSONAL_INCOME) на самом деле числа, но по какой-то причине были распознаны как строки\n",
    "\n",
    "Причина же что использовалась запятая для разделения не целой части числа.."
   ]
  },
  {
   "cell_type": "markdown",
   "metadata": {},
   "source": [
    "Перекодировать их можно например так:"
   ]
  },
  {
   "cell_type": "code",
   "execution_count": 631,
   "metadata": {},
   "outputs": [
    {
     "data": {
      "text/plain": [
       "0         7000.0\n",
       "1         4100.0\n",
       "2        40000.0\n",
       "3        20000.0\n",
       "4        17000.0\n",
       "5         7000.0\n",
       "6        10000.0\n",
       "7         7500.0\n",
       "8         9000.0\n",
       "9         4000.0\n",
       "10       15000.0\n",
       "11       12000.0\n",
       "12        8000.0\n",
       "13       20000.0\n",
       "14       18500.0\n",
       "15       14000.0\n",
       "16        6000.0\n",
       "17        9000.0\n",
       "18        5000.0\n",
       "19       15000.0\n",
       "20        6100.0\n",
       "21       22180.0\n",
       "22        9000.0\n",
       "23        8700.0\n",
       "24        7000.0\n",
       "25        6000.0\n",
       "26       15000.0\n",
       "27       12000.0\n",
       "28       11000.0\n",
       "29        8000.0\n",
       "          ...   \n",
       "30103    12000.0\n",
       "30104    10000.0\n",
       "30105    10000.0\n",
       "30106     8000.0\n",
       "30107    11000.0\n",
       "30108     7000.0\n",
       "30109    10000.0\n",
       "30110     8000.0\n",
       "30111    25000.0\n",
       "30112    10000.0\n",
       "30113    12000.0\n",
       "30114     7000.0\n",
       "30115    12000.0\n",
       "30116    14500.0\n",
       "30117    12000.0\n",
       "30118     8000.0\n",
       "30119     7000.0\n",
       "30120    10000.0\n",
       "30121    10000.0\n",
       "30122    10000.0\n",
       "30123    15000.0\n",
       "30124     8100.0\n",
       "30125     9500.0\n",
       "30126    13000.0\n",
       "30127    10000.0\n",
       "30128    12000.0\n",
       "30129    10000.0\n",
       "30130     6000.0\n",
       "30131     4500.0\n",
       "30132    20000.0\n",
       "Name: PERSONAL_INCOME, Length: 30133, dtype: float64"
      ]
     },
     "execution_count": 631,
     "metadata": {},
     "output_type": "execute_result"
    }
   ],
   "source": [
    "df['PERSONAL_INCOME'].map(lambda x: x.replace(',', '.')).astype('float')"
   ]
  },
  {
   "cell_type": "markdown",
   "metadata": {},
   "source": [
    "Такой эффект наблюдается в столбцах `PERSONAL_INCOME`, `CREDIT`, `FST_PAYMENT`, `LOAN_AVG_DLQ_AMT`, `LOAN_MAX_DLQ_AMT`"
   ]
  },
  {
   "cell_type": "markdown",
   "metadata": {},
   "source": [
    "### Теперь ваше небольшое исследование"
   ]
  },
  {
   "cell_type": "markdown",
   "metadata": {
    "collapsed": true
   },
   "source": [
    "#### Задание 1. Есть ли пропуски в данных? Что с ними сделать?\n",
    "\n",
    "(единственного верного ответа нет - аргументируйте)"
   ]
  },
  {
   "cell_type": "markdown",
   "metadata": {},
   "source": [
    "В строковых полях, имеющих тип object, значения типа NaN заменяются пробелами, в результате мы получим значения одного типа во всех строках. Позже все эти поля будут преобразованы. \n",
    "В оставшемся поле WORK_TIME вместо NaN будут проставлены нули."
   ]
  },
  {
   "cell_type": "markdown",
   "metadata": {
    "collapsed": true
   },
   "source": [
    "#### Задание 2. Есть ли категориальные признаки? Что с ними делать?"
   ]
  },
  {
   "attachments": {},
   "cell_type": "markdown",
   "metadata": {
    "collapsed": true
   },
   "source": [
    "Категориальные признаки в этом наборе данных: \n",
    "    EDUCATION \n",
    "    MARITAL_STATUS \n",
    "    GEN_INDUSTRY \n",
    "    GEN_TITLE \n",
    "    ORG_TP_STATE \n",
    "    ORG_TP_FCAPITAL \n",
    "    JOB_DIR \n",
    "    FAMILY_INCOME \n",
    "    REG_ADDRESS_PROVINCE \n",
    "    FACT_ADDRESS_PROVINCE \n",
    "    POSTAL_ADDRESS_PROVINCE \n",
    "    TP_PROVINCE \n",
    "    REGION_NM \n",
    "    sample\n",
    "\n",
    "Я преобразовал их по методу OneHotEncoding\n",
    "\n",
    "Предварительно из списка полей будут убраны 'REG_ADDRESS_PROVINCE','POSTAL_ADDRESS_PROVINCE' , которые относятся к регистрации клиента по месту прописки и не связаны с его местонахождением в момент заполнения анкеты."
   ]
  },
  {
   "cell_type": "markdown",
   "metadata": {},
   "source": [
    "#### Задание 3. Фунция предобработки"
   ]
  },
  {
   "cell_type": "markdown",
   "metadata": {},
   "source": [
    "Напишите функцию, которая бы\n",
    "\n",
    "* Удаляло идентификатор `AGREEMENT_RK`\n",
    "* Избавлялась от проблем с '.' и ',' в стобцах PERSONAL_INCOME, CREDIT, FST_PAYMENT, LOAN_AVG_DLQ_AMT, LOAN_MAX_DLQ_AMT\n",
    "* Что-то делала с пропусками\n",
    "* Кодировала категориальные признаки\n",
    "\n",
    "В результате, ваш датафрейм должен содержать только числа и не содержать пропусков!"
   ]
  },
  {
   "cell_type": "code",
   "execution_count": 632,
   "metadata": {},
   "outputs": [],
   "source": [
    "from sklearn.preprocessing import OneHotEncoder, LabelEncoder\n",
    "\n",
    "def preproc_data(df_input):\n",
    "    df_output = df_input.copy()\n",
    "\n",
    "    ## Your Code Here\n",
    "\n",
    "    \n",
    "    # Удаление столбцов 'REG_ADDRESS_PROVINCE','POSTAL_ADDRESS_PROVINCE' \n",
    "    df_output = df_output.drop(columns=['REG_ADDRESS_PROVINCE','POSTAL_ADDRESS_PROVINCE'])\n",
    "    \n",
    "    # Удаляем идентификатор `AGREEMENT_RK`\n",
    "    df_output = df_output.drop(columns=['AGREEMENT_RK'])\n",
    "\n",
    "    # Перекодируем столбцы PERSONAL_INCOME, CREDIT, FST_PAYMENT, LOAN_AVG_DLQ_AMT, LOAN_MAX_DLQ_AMT\n",
    "    for fieldName in ['PERSONAL_INCOME', 'CREDIT', 'FST_PAYMENT', 'LOAN_AVG_DLQ_AMT', 'LOAN_MAX_DLQ_AMT']:\n",
    "        df_output[fieldName] = df_output[fieldName].map(lambda x: x.replace(',', '.')).astype('float')\n",
    "\n",
    "    categorical_columns = list()\n",
    "\n",
    "    for column in df_output.columns[df_output.dtypes == 'object']:\n",
    "        df_output[column] = df_output[column].fillna(value = ' ')        \n",
    "        if column not in ['sample']:\n",
    "            categorical_columns.append(column)\n",
    "\n",
    "    \n",
    "#     Кодирование категориальных признаков\n",
    "    df_output = pd.get_dummies(df_output, columns=categorical_columns)\n",
    "\n",
    "# Заполняем пропуски нулями\n",
    "    \n",
    "    df_output = df_output.fillna(0)    \n",
    "\n",
    "    return df_output\n",
    "\n",
    "df_preproc = df.pipe(preproc_data)\n",
    "\n"
   ]
  },
  {
   "cell_type": "code",
   "execution_count": 633,
   "metadata": {},
   "outputs": [],
   "source": [
    "\n",
    "df_train_preproc = df_preproc.query('sample == \"train\"').drop(['sample'], axis=1)\n",
    "df_test_preproc = df_preproc.query('sample == \"test\"').drop(['sample'], axis=1)\n"
   ]
  },
  {
   "cell_type": "markdown",
   "metadata": {},
   "source": [
    "#### Задание 4. Отделите целевую переменную и остальные признаки\n",
    "\n",
    "Должно получится:\n",
    "* 2 матрицы: X и X_test\n",
    "\n",
    "\n",
    "\n",
    "* 2 вектора: y и y_test"
   ]
  },
  {
   "cell_type": "code",
   "execution_count": 634,
   "metadata": {},
   "outputs": [],
   "source": [
    "\n",
    "#df_train_preproc.info()\n",
    "\n",
    "y = df_train_preproc['TARGET']\n",
    "X = df_train_preproc.drop(columns='TARGET') \n",
    "\n",
    "y_test = df_test_preproc['TARGET']\n",
    "X_test = df_test_preproc.drop(columns='TARGET') \n",
    "\n"
   ]
  },
  {
   "cell_type": "code",
   "execution_count": 635,
   "metadata": {},
   "outputs": [],
   "source": [
    "from sklearn.model_selection import train_test_split\n",
    "## Your Code Here\n",
    "X_train, X_valid, y_train, y_valid = train_test_split(X , y, test_size=0.33, random_state=42)\n"
   ]
  },
  {
   "cell_type": "code",
   "execution_count": 636,
   "metadata": {},
   "outputs": [
    {
     "data": {
      "text/plain": [
       "((10199, 285), (10199,), (5024, 285), (5024,), (14910, 285), (14910,))"
      ]
     },
     "execution_count": 636,
     "metadata": {},
     "output_type": "execute_result"
    }
   ],
   "source": [
    "X_train.shape, y_train.shape, X_valid.shape, y_valid.shape, X_test.shape, y_test.shape "
   ]
  },
  {
   "cell_type": "markdown",
   "metadata": {},
   "source": [
    "#### Задание 5. Обучение и оценка качества разных моделей"
   ]
  },
  {
   "cell_type": "code",
   "execution_count": 637,
   "metadata": {},
   "outputs": [],
   "source": [
    "# Попробовать следующие \"черные ящики\": интерфейс одинаковый \n",
    "# Постепенно мы узнаем, что они делают а сейчас учимся понимать какой работает качественнее\n",
    "#     fit, \n",
    "#     predict, \n",
    "#     predict_proba\n",
    "\n",
    "from sklearn.tree import DecisionTreeClassifier\n",
    "from sklearn.ensemble import RandomForestClassifier\n",
    "from sklearn.linear_model import LogisticRegression\n",
    "from sklearn.metrics import roc_auc_score, roc_curve\n",
    "\n",
    "\n",
    "## Your Code Here\n"
   ]
  },
  {
   "cell_type": "code",
   "execution_count": 638,
   "metadata": {},
   "outputs": [],
   "source": [
    "\n",
    "dtc = DecisionTreeClassifier()\n",
    "dtc.fit(X_train,y_train)\n",
    "predict_dtc = dtc.predict(X_valid)\n",
    "predict_dtc_proba = dtc.predict_proba(X_valid)\n",
    "auc_dtc= roc_auc_score(y_valid, predict_dtc_proba[:,1])\n",
    "\n"
   ]
  },
  {
   "cell_type": "code",
   "execution_count": 639,
   "metadata": {},
   "outputs": [],
   "source": [
    "# Посчитать метрики стандартные\n",
    "# accuracy, precision, recall\n",
    "\n",
    "\n",
    "from sklearn.metrics import accuracy_score, precision_score, recall_score\n",
    "\n",
    "## Your Code Here"
   ]
  },
  {
   "cell_type": "code",
   "execution_count": 640,
   "metadata": {},
   "outputs": [
    {
     "name": "stdout",
     "output_type": "stream",
     "text": [
      "Модель DecisionTreeClassifier:\n",
      "precision 0.16666666666666666\n",
      "recall 0.17049180327868851\n",
      "accuracy 0.79578025477707\n",
      "auc 0.5263424127403865\n"
     ]
    }
   ],
   "source": [
    "from sklearn.metrics import accuracy_score, f1_score\n",
    "\n",
    "\n",
    "precision_dtc= precision_score(y_valid, predict_dtc)\n",
    "recall_dtc= recall_score(y_valid, predict_dtc)\n",
    "accuracy_dtc= accuracy_score(y_valid, predict_dtc)\n",
    "auc= auc_dtc\n",
    "\n",
    "print(\"Модель DecisionTreeClassifier:\")\n",
    "print('precision', precision_dtc)\n",
    "print('recall', recall_dtc)\n",
    "print('accuracy', accuracy_dtc)\n",
    "print('auc', auc_dtc)\n",
    "\n"
   ]
  },
  {
   "cell_type": "code",
   "execution_count": 641,
   "metadata": {},
   "outputs": [
    {
     "name": "stdout",
     "output_type": "stream",
     "text": [
      "Модель RandomForestClassifier:\n",
      "precision 0.25\n",
      "recall 0.006557377049180328\n",
      "accuracy 0.8769904458598726\n",
      "auc 0.5995394683087345\n"
     ]
    }
   ],
   "source": [
    "rfc = RandomForestClassifier()\n",
    "rfc.fit(X_train,y_train)\n",
    "predict_rfc = rfc.predict(X_valid)\n",
    "predict_rfc_proba = rfc.predict_proba(X_valid)\n",
    "auc_rfc= roc_auc_score(y_valid, predict_rfc_proba[:,1])\n",
    "\n",
    "precision_rfc= precision_score(y_valid, predict_rfc)\n",
    "recall_rfc=recall_score(y_valid, predict_rfc)\n",
    "accuracy_rfc= accuracy_score(y_valid, predict_rfc)\n",
    "auc= auc_rfc\n",
    "\n",
    "print(\"Модель RandomForestClassifier:\")\n",
    "print('precision', precision_rfc)\n",
    "print('recall', recall_rfc)\n",
    "print('accuracy', accuracy_rfc)\n",
    "print('auc', auc_rfc)\n",
    "\n",
    "\n"
   ]
  },
  {
   "cell_type": "code",
   "execution_count": 566,
   "metadata": {},
   "outputs": [
    {
     "data": {
      "text/plain": [
       "LogisticRegression(C=10000, class_weight=None, dual=False, fit_intercept=True,\n",
       "          intercept_scaling=1, max_iter=100, multi_class='ovr', n_jobs=1,\n",
       "          penalty='l2', random_state=None, solver='liblinear', tol=0.0001,\n",
       "          verbose=0, warm_start=False)"
      ]
     },
     "execution_count": 566,
     "metadata": {},
     "output_type": "execute_result"
    }
   ],
   "source": [
    "lgr = LogisticRegression(C=10000,fit_intercept=True)\n",
    "#lgr = LogisticRegression()\n",
    "lgr.fit(X_train,y_train)\n"
   ]
  },
  {
   "cell_type": "code",
   "execution_count": 645,
   "metadata": {
    "scrolled": false
   },
   "outputs": [
    {
     "name": "stdout",
     "output_type": "stream",
     "text": [
      "Модель LogisticRegression:\n",
      "precision 0.4\n",
      "recall 0.003278688524590164\n",
      "accuracy 0.8783837579617835\n",
      "auc 0.6357948257036108\n"
     ]
    }
   ],
   "source": [
    "predict_lgr = lgr.predict(X_valid)\n",
    "predict_lgr_proba = lgr.predict_proba(X_valid)\n",
    "auc_lgr= roc_auc_score(y_valid, predict_lgr_proba[:,1])\n",
    "\n",
    "\n",
    "\n",
    "precision_lgr= precision_score(y_valid, predict_lgr)\n",
    "recall_lgr= recall_score(y_valid, predict_lgr)\n",
    "accuracy_lgr= accuracy_score(y_valid, predict_lgr)\n",
    "auc_lgr= auc_lgr\n",
    "\n",
    "print(\"Модель LogisticRegression:\")\n",
    "print('precision', precision_lgr)\n",
    "print('recall', recall_lgr)\n",
    "print('accuracy', accuracy_lgr)\n",
    "print('auc', auc_lgr)\n",
    "\n",
    "\n"
   ]
  },
  {
   "cell_type": "code",
   "execution_count": 646,
   "metadata": {},
   "outputs": [
    {
     "data": {
      "image/png": "[encoded data removed]",
      "text/plain": [
       "<Figure size 864x360 with 1 Axes>"
      ]
     },
     "metadata": {},
     "output_type": "display_data"
    }
   ],
   "source": [
    "# Визуалищировать эти метрики всех моделей на одном графике (чтоб визуально сравнить)\n",
    "# Возможно вас удивит качество! Но задача подобрана специально ;) Такое качество тоже бывает\n",
    "\n",
    "## Your Code Here\n",
    "\n",
    "ind = np.array(['Decision Tree', 'Random Forest', 'Logistic Regression'])\n",
    "y2 = [recall_dtc, recall_rfc, recall_lgr]\n",
    "\n",
    "fig = plt.figure(1)\n",
    "ax = fig.add_subplot(1, 1, 1)\n",
    "plt.bar(ind, y2)\n",
    "plt.ylim(0.003,.18)  # set y axis limits\n",
    "#ax.set_yscale('log')\n",
    "plt.title('Recall')\n",
    "\n",
    "plt.show()\n"
   ]
  },
  {
   "cell_type": "code",
   "execution_count": 647,
   "metadata": {},
   "outputs": [
    {
     "data": {
      "image/png": "[encoded data removed]",
      "text/plain": [
       "<Figure size 864x360 with 1 Axes>"
      ]
     },
     "metadata": {},
     "output_type": "display_data"
    }
   ],
   "source": [
    "ind = np.array(['Decision Tree', 'Random Forest', 'Logistic Regression'])\n",
    "y2 = [accuracy_dtc, accuracy_rfc, accuracy_lgr]\n",
    "\n",
    "fig = plt.figure(1)\n",
    "ax = fig.add_subplot(1, 1, 1)\n",
    "plt.bar(ind, y2)\n",
    "plt.ylim(0.7,.9)  # set y axis limits\n",
    "#ax.set_yscale('log')\n",
    "plt.title('Accuracy')\n",
    "\n",
    "plt.show()"
   ]
  },
  {
   "cell_type": "code",
   "execution_count": 648,
   "metadata": {},
   "outputs": [
    {
     "data": {
      "image/png": "[encoded data removed]",
      "text/plain": [
       "<Figure size 864x360 with 1 Axes>"
      ]
     },
     "metadata": {},
     "output_type": "display_data"
    }
   ],
   "source": [
    "ind = np.array(['Decision Tree', 'Random Forest', 'Logistic Regression'])\n",
    "y2 = [precision_dtc, precision_rfc, precision_lgr]\n",
    "\n",
    "fig = plt.figure(1)\n",
    "ax = fig.add_subplot(1, 1, 1)\n",
    "plt.bar(ind, y2)\n",
    "plt.ylim(0.1,.5)  # set y axis limits\n",
    "#ax.set_yscale('log')\n",
    "plt.title('Precision')\n",
    "\n",
    "plt.show()"
   ]
  },
  {
   "cell_type": "code",
   "execution_count": 650,
   "metadata": {},
   "outputs": [
    {
     "data": {
      "image/png": "[encoded data removed]",
      "text/plain": [
       "<Figure size 864x360 with 1 Axes>"
      ]
     },
     "metadata": {},
     "output_type": "display_data"
    }
   ],
   "source": [
    "ind = np.array(['Decision Tree', 'Random Forest', 'Logistic Regression'])\n",
    "y2 = [auc_dtc, auc_rfc, auc_lgr]\n",
    "\n",
    "fig = plt.figure(1)\n",
    "ax = fig.add_subplot(1, 1, 1)\n",
    "plt.bar(ind, y2)\n",
    "plt.ylim(0.2,.8)  # set y axis limits\n",
    "#ax.set_yscale('log')\n",
    "plt.title('Area Under Curve')\n",
    "\n",
    "plt.show()"
   ]
  },
  {
   "cell_type": "code",
   "execution_count": 651,
   "metadata": {},
   "outputs": [
    {
     "name": "stdout",
     "output_type": "stream",
     "text": [
      "ROC-AUC для Logistic Regression: 0.636\n",
      "ROC-AUC для Decision Tree: 0.526\n",
      "ROC-AUC для Random Forest: 0.600\n"
     ]
    },
    {
     "data": {
      "image/png": "[encoded data removed]",
      "text/plain": [
       "<Figure size 360x360 with 1 Axes>"
      ]
     },
     "metadata": {},
     "output_type": "display_data"
    }
   ],
   "source": [
    "# Потроить roc-кривые всех можелей на одном графике\n",
    "# Вывести roc_auc каждой моделе\n",
    "# Подпишите оси и линии\n",
    "\n",
    "## Your Code Here\n",
    "fpr_rfc, tpr_rfc, thresholds = roc_curve(y_valid, predict_rfc_proba[:,1])\n",
    "fpr_dtc, tpr_dtc, thresholds = roc_curve(y_valid, predict_dtc_proba[:,1])\n",
    "fpr_lgr, tpr_lgr, thresholds = roc_curve(y_valid, predict_lgr_proba[:,1])\n",
    "plt.figure(figsize=(5, 5))\n",
    "plt.text(0.4,0.8,'Logistic Regression', color = 'black', size = 'large')\n",
    "plt.text(0.3,0.3,'Decision Tree', color = 'blue', size = 'large')\n",
    "plt.text(0.5,0.6,'Random Forest', color = 'green', size = 'large')\n",
    "plt.plot(fpr_dtc, tpr_dtc,color='blue')\n",
    "plt.plot(fpr_rfc, tpr_rfc,color='green')\n",
    "plt.plot(fpr_lgr, tpr_lgr,color='black')\n",
    "plt.plot([0, 1], [0, 1])\n",
    "plt.ylabel('tpr')\n",
    "plt.xlabel('fpr')\n",
    "plt.grid(True)\n",
    "plt.title('ROC curve')\n",
    "plt.xlim((-0.01, 1.01))\n",
    "plt.ylim((-0.01, 1.01))\n",
    "print('ROC-AUC для Logistic Regression: {:.3f}'.format(auc_lgr) )\n",
    "print('ROC-AUC для Decision Tree: {:.3f}'.format(auc_dtc) )\n",
    "print('ROC-AUC для Random Forest: {:.3f}'.format(auc_rfc) )"
   ]
  },
  {
   "cell_type": "code",
   "execution_count": 652,
   "metadata": {},
   "outputs": [
    {
     "name": "stdout",
     "output_type": "stream",
     "text": [
      "средний roc_auc для RandomForestClassifier  0.5784651006176982\n"
     ]
    }
   ],
   "source": [
    "from sklearn.cross_validation import cross_val_score\n",
    "# Сделать k-fold (10 фолдов) кросс-валидацию каждой модели\n",
    "# И посчитать средний roc_auc\n",
    "\n",
    "## Your Code Here\n",
    "\n",
    "#rfc = RandomForestClassifier()\n",
    "rfc_arr=cross_val_score(rfc,X_train,y_train,scoring='roc_auc',cv=10)\n",
    "rfc_mean  = rfc_arr.mean()\n",
    "\n",
    "print('средний roc_auc для RandomForestClassifier ',rfc_mean)"
   ]
  },
  {
   "cell_type": "code",
   "execution_count": 653,
   "metadata": {},
   "outputs": [
    {
     "name": "stdout",
     "output_type": "stream",
     "text": [
      "средний roc_auc для DecisionTreeClassifier  0.5218812720183941\n"
     ]
    }
   ],
   "source": [
    "dtc_arr=cross_val_score(dtc,X_train,y_train,scoring='roc_auc',cv=10)\n",
    "dtc_mean  = dtc_arr.mean()\n",
    "#print(*dtc_arr)\n",
    "print('средний roc_auc для DecisionTreeClassifier ',dtc_mean)"
   ]
  },
  {
   "cell_type": "code",
   "execution_count": 654,
   "metadata": {},
   "outputs": [
    {
     "name": "stdout",
     "output_type": "stream",
     "text": [
      "средний roc_auc для LogisticRegression  0.6284246695730011\n"
     ]
    }
   ],
   "source": [
    "lgr_arr = cross_val_score(lgr,X_train,y_train,scoring='roc_auc',cv=10)\n",
    "lgr_mean  = lgr_arr.mean()\n",
    "\n",
    "print('средний roc_auc для LogisticRegression ',lgr_mean)"
   ]
  },
  {
   "cell_type": "code",
   "execution_count": 655,
   "metadata": {},
   "outputs": [
    {
     "name": "stdout",
     "output_type": "stream",
     "text": [
      "Результат работы модели логистической регрессии на тестовой выборке:  0.6177885366912723\n"
     ]
    }
   ],
   "source": [
    "# Взять лучшую модель и сделать предсказания (с вероятностями (!!!)) для test выборки\n",
    "## Your Code Here\n",
    "from sklearn.metrics import roc_auc_score\n",
    "\n",
    "predict_proba_lgr_test = lgr.predict_proba(X_test)[:,1]\n",
    "auc_test = roc_auc_score(y_test, predict_proba_lgr_test)\n",
    "print(\"Результат работы модели логистической регрессии на тестовой выборке: \", auc_test)"
   ]
  },
  {
   "cell_type": "code",
   "execution_count": 656,
   "metadata": {},
   "outputs": [
    {
     "name": "stdout",
     "output_type": "stream",
     "text": [
      "ROC-AUC для Logistic Regression на тестовой выборке: 0.618\n"
     ]
    },
    {
     "data": {
      "image/png": "[encoded data removed]",
      "text/plain": [
       "<Figure size 360x360 with 1 Axes>"
      ]
     },
     "metadata": {
      "needs_background": "light"
     },
     "output_type": "display_data"
    }
   ],
   "source": [
    "# Померить roc_auc на тесте\n",
    "# Вывести текстом и на графике =)\n",
    "\n",
    "## Your Code Here\n",
    "%matplotlib inline\n",
    "from matplotlib import pyplot as plt\n",
    "from sklearn.metrics import roc_auc_score, roc_curve\n",
    "fpr, tpr, thresholds = roc_curve(y_test, predict_proba_lgr_test)\n",
    "plt.figure(figsize=(5, 5))\n",
    "plt.plot(fpr, tpr)\n",
    "plt.plot([0, 1], [0, 1])\n",
    "plt.ylabel('tpr')\n",
    "plt.xlabel('fpr')\n",
    "plt.grid(True)\n",
    "plt.title('ROC curve')\n",
    "plt.xlim((-0.01, 1.01))\n",
    "plt.ylim((-0.01, 1.01))\n",
    "print('ROC-AUC для Logistic Regression на тестовой выборке: {:.3f}'.format(auc_test) )"
   ]
  },
  {
   "cell_type": "markdown",
   "metadata": {},
   "source": [
    "### Больше обязательных заданий нет, но ниже вы можете провести исследование, поиграться с данными\n",
    "### Это возможность написать код, который я посмотрю и в случае чего откомметирую. ;)\n",
    "### Это не оценивается и остается на ваше усмотрение. Просто дополнительная возможность"
   ]
  },
  {
   "cell_type": "code",
   "execution_count": 1,
   "metadata": {},
   "outputs": [],
   "source": [
    "### И далее ;)"
   ]
  }
 ],
 "metadata": {
  "anaconda-cloud": {},
  "kernelspec": {
   "display_name": "Python 3",
   "language": "python",
   "name": "python3"
  },
  "language_info": {
   "codemirror_mode": {
    "name": "ipython",
    "version": 3
   },
   "file_extension": ".py",
   "mimetype": "text/x-python",
   "name": "python",
   "nbconvert_exporter": "python",
   "pygments_lexer": "ipython3",
   "version": "3.7.0"
  },
  "toc": {
   "base_numbering": 1,
   "nav_menu": {
    "height": "31px",
    "width": "253px"
   },
   "number_sections": false,
   "sideBar": true,
   "skip_h1_title": false,
   "title_cell": "Table of Contents",
   "title_sidebar": "Contents",
   "toc_cell": false,
   "toc_position": {},
   "toc_section_display": "block",
   "toc_window_display": false
  }
 },
 "nbformat": 4,
 "nbformat_minor": 2
}
