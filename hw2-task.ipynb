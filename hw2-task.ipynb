{
 "cells": [
  {
   "cell_type": "markdown",
   "metadata": {},
   "source": [
    "# SkillFactory\n",
    "## Введение в ML, введение в sklearn"
   ]
  },
  {
   "cell_type": "markdown",
   "metadata": {},
   "source": [
    "В этом задании мы с вами рассмотрим данные с конкурса [Задача предсказания отклика клиентов ОТП Банка](http://www.machinelearning.ru/wiki/index.php?title=%D0%97%D0%B0%D0%B4%D0%B0%D1%87%D0%B0_%D0%BF%D1%80%D0%B5%D0%B4%D1%81%D0%BA%D0%B0%D0%B7%D0%B0%D0%BD%D0%B8%D1%8F_%D0%BE%D1%82%D0%BA%D0%BB%D0%B8%D0%BA%D0%B0_%D0%BA%D0%BB%D0%B8%D0%B5%D0%BD%D1%82%D0%BE%D0%B2_%D0%9E%D0%A2%D0%9F_%D0%91%D0%B0%D0%BD%D0%BA%D0%B0_%28%D0%BA%D0%BE%D0%BD%D0%BA%D1%83%D1%80%D1%81%29)"
   ]
  },
  {
   "cell_type": "code",
   "execution_count": 1,
   "metadata": {},
   "outputs": [],
   "source": [
    "import pandas as pd\n",
    "import numpy as np\n",
    "import matplotlib.pyplot as plt\n",
    "\n",
    "%matplotlib inline\n",
    "\n",
    "plt.style.use('ggplot')\n",
    "plt.rcParams['figure.figsize'] = (12,5)"
   ]
  },
  {
   "cell_type": "code",
   "execution_count": 2,
   "metadata": {},
   "outputs": [],
   "source": [
    "import sklearn.preprocessing"
   ]
  },
  {
   "cell_type": "markdown",
   "metadata": {},
   "source": [
    "### Грузим данные"
   ]
  },
  {
   "cell_type": "markdown",
   "metadata": {},
   "source": [
    "Считаем описание данных"
   ]
  },
  {
   "cell_type": "code",
   "execution_count": 3,
   "metadata": {},
   "outputs": [],
   "source": [
    "\n",
    "df_descr = pd.read_csv('data/otp_description.csv', sep='\\t', encoding='utf8')"
   ]
  },
  {
   "cell_type": "code",
   "execution_count": 4,
   "metadata": {},
   "outputs": [
    {
     "data": {
      "text/html": [
       "<div>\n",
       "<style scoped>\n",
       "    .dataframe tbody tr th:only-of-type {\n",
       "        vertical-align: middle;\n",
       "    }\n",
       "\n",
       "    .dataframe tbody tr th {\n",
       "        vertical-align: top;\n",
       "    }\n",
       "\n",
       "    .dataframe thead th {\n",
       "        text-align: right;\n",
       "    }\n",
       "</style>\n",
       "<table border=\"1\" class=\"dataframe\">\n",
       "  <thead>\n",
       "    <tr style=\"text-align: right;\">\n",
       "      <th></th>\n",
       "      <th>ПОЛЕ</th>\n",
       "      <th>ОПИСАНИЕ</th>\n",
       "    </tr>\n",
       "  </thead>\n",
       "  <tbody>\n",
       "    <tr>\n",
       "      <th>0</th>\n",
       "      <td>AGREEMENT_RK</td>\n",
       "      <td>уникальный идентификатор объекта в выборке</td>\n",
       "    </tr>\n",
       "    <tr>\n",
       "      <th>1</th>\n",
       "      <td>AGE</td>\n",
       "      <td>возраст клиента</td>\n",
       "    </tr>\n",
       "    <tr>\n",
       "      <th>2</th>\n",
       "      <td>SOCSTATUS_WORK_FL</td>\n",
       "      <td>социальный статус клиента относительно работы ...</td>\n",
       "    </tr>\n",
       "    <tr>\n",
       "      <th>3</th>\n",
       "      <td>SOCSTATUS_PENS_FL</td>\n",
       "      <td>социальный статус клиента относительно пенсии ...</td>\n",
       "    </tr>\n",
       "    <tr>\n",
       "      <th>4</th>\n",
       "      <td>GENDER</td>\n",
       "      <td>пол клиента (1- женщины, 0-мужчины)</td>\n",
       "    </tr>\n",
       "    <tr>\n",
       "      <th>5</th>\n",
       "      <td>CHILD_TOTAL</td>\n",
       "      <td>количество детей клиента</td>\n",
       "    </tr>\n",
       "    <tr>\n",
       "      <th>6</th>\n",
       "      <td>DEPENDANTS</td>\n",
       "      <td>количество иждивенцев клиента</td>\n",
       "    </tr>\n",
       "    <tr>\n",
       "      <th>7</th>\n",
       "      <td>EDUCATION</td>\n",
       "      <td>образование</td>\n",
       "    </tr>\n",
       "    <tr>\n",
       "      <th>8</th>\n",
       "      <td>MARITAL_STATUS</td>\n",
       "      <td>семейное положение</td>\n",
       "    </tr>\n",
       "    <tr>\n",
       "      <th>9</th>\n",
       "      <td>GEN_INDUSTRY</td>\n",
       "      <td>отрасль работы клиента</td>\n",
       "    </tr>\n",
       "    <tr>\n",
       "      <th>10</th>\n",
       "      <td>GEN_TITLE</td>\n",
       "      <td>должность</td>\n",
       "    </tr>\n",
       "    <tr>\n",
       "      <th>11</th>\n",
       "      <td>ORG_TP_STATE</td>\n",
       "      <td>форма собственности компании</td>\n",
       "    </tr>\n",
       "    <tr>\n",
       "      <th>12</th>\n",
       "      <td>ORG_TP_FCAPITAL</td>\n",
       "      <td>отношение к иностранному капиталу</td>\n",
       "    </tr>\n",
       "    <tr>\n",
       "      <th>13</th>\n",
       "      <td>JOB_DIR</td>\n",
       "      <td>направление деятельности в нутри компании</td>\n",
       "    </tr>\n",
       "    <tr>\n",
       "      <th>14</th>\n",
       "      <td>FAMILY_INCOME</td>\n",
       "      <td>семейный доход (несколько категорий)</td>\n",
       "    </tr>\n",
       "    <tr>\n",
       "      <th>15</th>\n",
       "      <td>PERSONAL_INCOME</td>\n",
       "      <td>личный доход клиента (в рублях)</td>\n",
       "    </tr>\n",
       "    <tr>\n",
       "      <th>16</th>\n",
       "      <td>REG_ADDRESS_PROVINCE</td>\n",
       "      <td>область регистрации клиента</td>\n",
       "    </tr>\n",
       "    <tr>\n",
       "      <th>17</th>\n",
       "      <td>FACT_ADDRESS_PROVINCE</td>\n",
       "      <td>область фактического пребывания клиента</td>\n",
       "    </tr>\n",
       "    <tr>\n",
       "      <th>18</th>\n",
       "      <td>POSTAL_ADDRESS_PROVINCE</td>\n",
       "      <td>почтовый адрес область</td>\n",
       "    </tr>\n",
       "    <tr>\n",
       "      <th>19</th>\n",
       "      <td>TP_PROVINCE</td>\n",
       "      <td>область торговой точки, где клиент брал послед...</td>\n",
       "    </tr>\n",
       "    <tr>\n",
       "      <th>20</th>\n",
       "      <td>REGION_NM</td>\n",
       "      <td>регион РФ</td>\n",
       "    </tr>\n",
       "    <tr>\n",
       "      <th>21</th>\n",
       "      <td>REG_FACT_FL</td>\n",
       "      <td>адрес регистрации и адрес фактического пребыва...</td>\n",
       "    </tr>\n",
       "    <tr>\n",
       "      <th>22</th>\n",
       "      <td>FACT_POST_FL</td>\n",
       "      <td>адрес фактического пребывания клиента и его по...</td>\n",
       "    </tr>\n",
       "    <tr>\n",
       "      <th>23</th>\n",
       "      <td>REG_POST_FL</td>\n",
       "      <td>адрес регистрации клиента и его почтовый адрес...</td>\n",
       "    </tr>\n",
       "    <tr>\n",
       "      <th>24</th>\n",
       "      <td>REG_FACT_POST_FL</td>\n",
       "      <td>почтовый, фактический и адрес регистрации совп...</td>\n",
       "    </tr>\n",
       "    <tr>\n",
       "      <th>25</th>\n",
       "      <td>REG_FACT_POST_TP_FL</td>\n",
       "      <td>область регистрации, фактического пребывания, ...</td>\n",
       "    </tr>\n",
       "    <tr>\n",
       "      <th>26</th>\n",
       "      <td>FL_PRESENCE_FL</td>\n",
       "      <td>наличие в собственности квартиры (1 - есть, 0 ...</td>\n",
       "    </tr>\n",
       "    <tr>\n",
       "      <th>27</th>\n",
       "      <td>OWN_AUTO</td>\n",
       "      <td>кол-во автомобилей в собственности</td>\n",
       "    </tr>\n",
       "    <tr>\n",
       "      <th>28</th>\n",
       "      <td>AUTO_RUS_FL</td>\n",
       "      <td>наличие в собственности автомобиля российского...</td>\n",
       "    </tr>\n",
       "    <tr>\n",
       "      <th>29</th>\n",
       "      <td>HS_PRESENCE_FL</td>\n",
       "      <td>наличие в собственности загородного дома (1 - ...</td>\n",
       "    </tr>\n",
       "    <tr>\n",
       "      <th>30</th>\n",
       "      <td>COT_PRESENCE_FL</td>\n",
       "      <td>наличие в собственности котеджа (1 - есть, 0 -...</td>\n",
       "    </tr>\n",
       "    <tr>\n",
       "      <th>31</th>\n",
       "      <td>GAR_PRESENCE_FL</td>\n",
       "      <td>наличие в собственности гаража (1 - есть, 0 - ...</td>\n",
       "    </tr>\n",
       "    <tr>\n",
       "      <th>32</th>\n",
       "      <td>LAND_PRESENCE_FL</td>\n",
       "      <td>наличие в собственности земельного участка (1 ...</td>\n",
       "    </tr>\n",
       "    <tr>\n",
       "      <th>33</th>\n",
       "      <td>CREDIT</td>\n",
       "      <td>сумма последнего кредита клиента (в рублях)</td>\n",
       "    </tr>\n",
       "    <tr>\n",
       "      <th>34</th>\n",
       "      <td>TERM</td>\n",
       "      <td>срок кредита</td>\n",
       "    </tr>\n",
       "    <tr>\n",
       "      <th>35</th>\n",
       "      <td>FST_PAYMENT</td>\n",
       "      <td>первоначальный взнос (в рублях)</td>\n",
       "    </tr>\n",
       "    <tr>\n",
       "      <th>36</th>\n",
       "      <td>DL_DOCUMENT_FL</td>\n",
       "      <td>в анкете клиент указал водительское удостовере...</td>\n",
       "    </tr>\n",
       "    <tr>\n",
       "      <th>37</th>\n",
       "      <td>GPF_DOCUMENT_FL</td>\n",
       "      <td>в анкете клиен указал ГПФ (1 - указал, 0 - не ...</td>\n",
       "    </tr>\n",
       "    <tr>\n",
       "      <th>38</th>\n",
       "      <td>FACT_LIVING_TERM</td>\n",
       "      <td>количество месяцев проживания по месту фактиче...</td>\n",
       "    </tr>\n",
       "    <tr>\n",
       "      <th>39</th>\n",
       "      <td>WORK_TIME</td>\n",
       "      <td>время работы на текущем месте (в месяцах)</td>\n",
       "    </tr>\n",
       "    <tr>\n",
       "      <th>40</th>\n",
       "      <td>FACT_PHONE_FL</td>\n",
       "      <td>наличие в заявке телефона по фактическому мест...</td>\n",
       "    </tr>\n",
       "    <tr>\n",
       "      <th>41</th>\n",
       "      <td>REG_PHONE_FL</td>\n",
       "      <td>наличие в заявке телефона по месту регистрации</td>\n",
       "    </tr>\n",
       "    <tr>\n",
       "      <th>42</th>\n",
       "      <td>GEN_PHONE_FL</td>\n",
       "      <td>наличие в заявке рабочего телефона</td>\n",
       "    </tr>\n",
       "    <tr>\n",
       "      <th>43</th>\n",
       "      <td>LOAN_NUM_TOTAL</td>\n",
       "      <td>количество ссуд клиента</td>\n",
       "    </tr>\n",
       "    <tr>\n",
       "      <th>44</th>\n",
       "      <td>LOAN_NUM_CLOSED</td>\n",
       "      <td>количество погашенных ссуд клиента</td>\n",
       "    </tr>\n",
       "    <tr>\n",
       "      <th>45</th>\n",
       "      <td>LOAN_NUM_PAYM</td>\n",
       "      <td>количество платежей, которые сделал клиент</td>\n",
       "    </tr>\n",
       "    <tr>\n",
       "      <th>46</th>\n",
       "      <td>LOAN_DLQ_NUM</td>\n",
       "      <td>количество просрочек, допущенных клиентом</td>\n",
       "    </tr>\n",
       "    <tr>\n",
       "      <th>47</th>\n",
       "      <td>LOAN_MAX_DLQ</td>\n",
       "      <td>номер максимальной просрочки, допущенной клиентом</td>\n",
       "    </tr>\n",
       "    <tr>\n",
       "      <th>48</th>\n",
       "      <td>LOAN_AVG_DLQ_AMT</td>\n",
       "      <td>средняя сумма просрочки (в рублях)</td>\n",
       "    </tr>\n",
       "    <tr>\n",
       "      <th>49</th>\n",
       "      <td>LOAN_MAX_DLQ_AMT</td>\n",
       "      <td>максимальная сумма просрочки (в рублях)</td>\n",
       "    </tr>\n",
       "    <tr>\n",
       "      <th>50</th>\n",
       "      <td>PREVIOUS_CARD_NUM_UTILIZED</td>\n",
       "      <td>количество уже утилизированных карт ( если пус...</td>\n",
       "    </tr>\n",
       "  </tbody>\n",
       "</table>\n",
       "</div>"
      ],
      "text/plain": [
       "                          ПОЛЕ  \\\n",
       "0                 AGREEMENT_RK   \n",
       "1                          AGE   \n",
       "2            SOCSTATUS_WORK_FL   \n",
       "3            SOCSTATUS_PENS_FL   \n",
       "4                       GENDER   \n",
       "5                  CHILD_TOTAL   \n",
       "6                   DEPENDANTS   \n",
       "7                    EDUCATION   \n",
       "8               MARITAL_STATUS   \n",
       "9                 GEN_INDUSTRY   \n",
       "10                   GEN_TITLE   \n",
       "11                ORG_TP_STATE   \n",
       "12             ORG_TP_FCAPITAL   \n",
       "13                     JOB_DIR   \n",
       "14               FAMILY_INCOME   \n",
       "15             PERSONAL_INCOME   \n",
       "16        REG_ADDRESS_PROVINCE   \n",
       "17       FACT_ADDRESS_PROVINCE   \n",
       "18     POSTAL_ADDRESS_PROVINCE   \n",
       "19                 TP_PROVINCE   \n",
       "20                   REGION_NM   \n",
       "21                 REG_FACT_FL   \n",
       "22                FACT_POST_FL   \n",
       "23                 REG_POST_FL   \n",
       "24            REG_FACT_POST_FL   \n",
       "25         REG_FACT_POST_TP_FL   \n",
       "26              FL_PRESENCE_FL   \n",
       "27                    OWN_AUTO   \n",
       "28                 AUTO_RUS_FL   \n",
       "29              HS_PRESENCE_FL   \n",
       "30             COT_PRESENCE_FL   \n",
       "31             GAR_PRESENCE_FL   \n",
       "32            LAND_PRESENCE_FL   \n",
       "33                      CREDIT   \n",
       "34                        TERM   \n",
       "35                 FST_PAYMENT   \n",
       "36              DL_DOCUMENT_FL   \n",
       "37             GPF_DOCUMENT_FL   \n",
       "38            FACT_LIVING_TERM   \n",
       "39                   WORK_TIME   \n",
       "40               FACT_PHONE_FL   \n",
       "41                REG_PHONE_FL   \n",
       "42                GEN_PHONE_FL   \n",
       "43              LOAN_NUM_TOTAL   \n",
       "44             LOAN_NUM_CLOSED   \n",
       "45               LOAN_NUM_PAYM   \n",
       "46                LOAN_DLQ_NUM   \n",
       "47                LOAN_MAX_DLQ   \n",
       "48            LOAN_AVG_DLQ_AMT   \n",
       "49            LOAN_MAX_DLQ_AMT   \n",
       "50  PREVIOUS_CARD_NUM_UTILIZED   \n",
       "\n",
       "                                             ОПИСАНИЕ  \n",
       "0          уникальный идентификатор объекта в выборке  \n",
       "1                                     возраст клиента  \n",
       "2   социальный статус клиента относительно работы ...  \n",
       "3   социальный статус клиента относительно пенсии ...  \n",
       "4                 пол клиента (1- женщины, 0-мужчины)  \n",
       "5                            количество детей клиента  \n",
       "6                       количество иждивенцев клиента  \n",
       "7                                         образование  \n",
       "8                                  семейное положение  \n",
       "9                              отрасль работы клиента  \n",
       "10                                          должность  \n",
       "11                       форма собственности компании  \n",
       "12                  отношение к иностранному капиталу  \n",
       "13          направление деятельности в нутри компании  \n",
       "14               семейный доход (несколько категорий)  \n",
       "15                    личный доход клиента (в рублях)  \n",
       "16                        область регистрации клиента  \n",
       "17            область фактического пребывания клиента  \n",
       "18                             почтовый адрес область  \n",
       "19  область торговой точки, где клиент брал послед...  \n",
       "20                                          регион РФ  \n",
       "21  адрес регистрации и адрес фактического пребыва...  \n",
       "22  адрес фактического пребывания клиента и его по...  \n",
       "23  адрес регистрации клиента и его почтовый адрес...  \n",
       "24  почтовый, фактический и адрес регистрации совп...  \n",
       "25  область регистрации, фактического пребывания, ...  \n",
       "26  наличие в собственности квартиры (1 - есть, 0 ...  \n",
       "27                кол-во автомобилей в собственности   \n",
       "28  наличие в собственности автомобиля российского...  \n",
       "29  наличие в собственности загородного дома (1 - ...  \n",
       "30  наличие в собственности котеджа (1 - есть, 0 -...  \n",
       "31  наличие в собственности гаража (1 - есть, 0 - ...  \n",
       "32  наличие в собственности земельного участка (1 ...  \n",
       "33        сумма последнего кредита клиента (в рублях)  \n",
       "34                                       срок кредита  \n",
       "35                    первоначальный взнос (в рублях)  \n",
       "36  в анкете клиент указал водительское удостовере...  \n",
       "37  в анкете клиен указал ГПФ (1 - указал, 0 - не ...  \n",
       "38  количество месяцев проживания по месту фактиче...  \n",
       "39          время работы на текущем месте (в месяцах)  \n",
       "40  наличие в заявке телефона по фактическому мест...  \n",
       "41     наличие в заявке телефона по месту регистрации  \n",
       "42                 наличие в заявке рабочего телефона  \n",
       "43                            количество ссуд клиента  \n",
       "44                 количество погашенных ссуд клиента  \n",
       "45         количество платежей, которые сделал клиент  \n",
       "46          количество просрочек, допущенных клиентом  \n",
       "47  номер максимальной просрочки, допущенной клиентом  \n",
       "48                 средняя сумма просрочки (в рублях)  \n",
       "49            максимальная сумма просрочки (в рублях)  \n",
       "50  количество уже утилизированных карт ( если пус...  "
      ]
     },
     "execution_count": 4,
     "metadata": {},
     "output_type": "execute_result"
    }
   ],
   "source": [
    "df_descr\n"
   ]
  },
  {
   "cell_type": "markdown",
   "metadata": {},
   "source": [
    "Считаем обучающую выборки и тестовую (которую мы как бы не видим)"
   ]
  },
  {
   "cell_type": "code",
   "execution_count": 5,
   "metadata": {},
   "outputs": [],
   "source": [
    "df_train = pd.read_csv('data/otp_train.csv', sep='\\t', encoding='utf8')"
   ]
  },
  {
   "cell_type": "code",
   "execution_count": 6,
   "metadata": {},
   "outputs": [
    {
     "data": {
      "text/plain": [
       "Index(['AGREEMENT_RK', 'TARGET', 'AGE', 'SOCSTATUS_WORK_FL',\n",
       "       'SOCSTATUS_PENS_FL', 'GENDER', 'CHILD_TOTAL', 'DEPENDANTS', 'EDUCATION',\n",
       "       'MARITAL_STATUS', 'GEN_INDUSTRY', 'GEN_TITLE', 'ORG_TP_STATE',\n",
       "       'ORG_TP_FCAPITAL', 'JOB_DIR', 'FAMILY_INCOME', 'PERSONAL_INCOME',\n",
       "       'REG_ADDRESS_PROVINCE', 'FACT_ADDRESS_PROVINCE',\n",
       "       'POSTAL_ADDRESS_PROVINCE', 'TP_PROVINCE', 'REGION_NM', 'REG_FACT_FL',\n",
       "       'FACT_POST_FL', 'REG_POST_FL', 'REG_FACT_POST_FL',\n",
       "       'REG_FACT_POST_TP_FL', 'FL_PRESENCE_FL', 'OWN_AUTO', 'AUTO_RUS_FL',\n",
       "       'HS_PRESENCE_FL', 'COT_PRESENCE_FL', 'GAR_PRESENCE_FL',\n",
       "       'LAND_PRESENCE_FL', 'CREDIT', 'TERM', 'FST_PAYMENT', 'DL_DOCUMENT_FL',\n",
       "       'GPF_DOCUMENT_FL', 'FACT_LIVING_TERM', 'WORK_TIME', 'FACT_PHONE_FL',\n",
       "       'REG_PHONE_FL', 'GEN_PHONE_FL', 'LOAN_NUM_TOTAL', 'LOAN_NUM_CLOSED',\n",
       "       'LOAN_NUM_PAYM', 'LOAN_DLQ_NUM', 'LOAN_MAX_DLQ', 'LOAN_AVG_DLQ_AMT',\n",
       "       'LOAN_MAX_DLQ_AMT', 'PREVIOUS_CARD_NUM_UTILIZED'],\n",
       "      dtype='object')"
      ]
     },
     "execution_count": 6,
     "metadata": {},
     "output_type": "execute_result"
    }
   ],
   "source": [
    "df_train.columns"
   ]
  },
  {
   "cell_type": "code",
   "execution_count": 7,
   "metadata": {},
   "outputs": [
    {
     "data": {
      "text/plain": [
       "(15223, 52)"
      ]
     },
     "execution_count": 7,
     "metadata": {},
     "output_type": "execute_result"
    }
   ],
   "source": [
    "df_train.shape"
   ]
  },
  {
   "cell_type": "code",
   "execution_count": 8,
   "metadata": {},
   "outputs": [],
   "source": [
    "df_test = pd.read_csv('data/otp_test.csv', sep='\\t', encoding='utf8')"
   ]
  },
  {
   "cell_type": "code",
   "execution_count": 9,
   "metadata": {},
   "outputs": [
    {
     "name": "stdout",
     "output_type": "stream",
     "text": [
      "<class 'pandas.core.frame.DataFrame'>\n",
      "RangeIndex: 14910 entries, 0 to 14909\n",
      "Data columns (total 52 columns):\n",
      "AGREEMENT_RK                  14910 non-null int64\n",
      "TARGET                        14910 non-null int64\n",
      "AGE                           14910 non-null int64\n",
      "SOCSTATUS_WORK_FL             14910 non-null int64\n",
      "SOCSTATUS_PENS_FL             14910 non-null int64\n",
      "GENDER                        14910 non-null int64\n",
      "CHILD_TOTAL                   14910 non-null int64\n",
      "DEPENDANTS                    14910 non-null int64\n",
      "EDUCATION                     14910 non-null object\n",
      "MARITAL_STATUS                14910 non-null object\n",
      "GEN_INDUSTRY                  13564 non-null object\n",
      "GEN_TITLE                     13564 non-null object\n",
      "ORG_TP_STATE                  13564 non-null object\n",
      "ORG_TP_FCAPITAL               13567 non-null object\n",
      "JOB_DIR                       13564 non-null object\n",
      "FAMILY_INCOME                 14910 non-null object\n",
      "PERSONAL_INCOME               14910 non-null object\n",
      "REG_ADDRESS_PROVINCE          14910 non-null object\n",
      "FACT_ADDRESS_PROVINCE         14910 non-null object\n",
      "POSTAL_ADDRESS_PROVINCE       14910 non-null object\n",
      "TP_PROVINCE                   14615 non-null object\n",
      "REGION_NM                     14909 non-null object\n",
      "REG_FACT_FL                   14910 non-null int64\n",
      "FACT_POST_FL                  14910 non-null int64\n",
      "REG_POST_FL                   14910 non-null int64\n",
      "REG_FACT_POST_FL              14910 non-null int64\n",
      "REG_FACT_POST_TP_FL           14910 non-null int64\n",
      "FL_PRESENCE_FL                14910 non-null int64\n",
      "OWN_AUTO                      14910 non-null int64\n",
      "AUTO_RUS_FL                   14910 non-null int64\n",
      "HS_PRESENCE_FL                14910 non-null int64\n",
      "COT_PRESENCE_FL               14910 non-null int64\n",
      "GAR_PRESENCE_FL               14910 non-null int64\n",
      "LAND_PRESENCE_FL              14910 non-null int64\n",
      "CREDIT                        14910 non-null object\n",
      "TERM                          14910 non-null int64\n",
      "FST_PAYMENT                   14910 non-null object\n",
      "DL_DOCUMENT_FL                14910 non-null int64\n",
      "GPF_DOCUMENT_FL               14910 non-null int64\n",
      "FACT_LIVING_TERM              14910 non-null int64\n",
      "WORK_TIME                     13561 non-null float64\n",
      "FACT_PHONE_FL                 14910 non-null int64\n",
      "REG_PHONE_FL                  14910 non-null int64\n",
      "GEN_PHONE_FL                  14910 non-null int64\n",
      "LOAN_NUM_TOTAL                14910 non-null int64\n",
      "LOAN_NUM_CLOSED               14910 non-null int64\n",
      "LOAN_NUM_PAYM                 14910 non-null int64\n",
      "LOAN_DLQ_NUM                  14910 non-null int64\n",
      "LOAN_MAX_DLQ                  14910 non-null int64\n",
      "LOAN_AVG_DLQ_AMT              14910 non-null object\n",
      "LOAN_MAX_DLQ_AMT              14910 non-null object\n",
      "PREVIOUS_CARD_NUM_UTILIZED    312 non-null float64\n",
      "dtypes: float64(2), int64(32), object(18)\n",
      "memory usage: 5.9+ MB\n"
     ]
    }
   ],
   "source": [
    "df_test.shape\n",
    "df_test.info()\n"
   ]
  },
  {
   "cell_type": "markdown",
   "metadata": {},
   "source": [
    "## Объединим две выборки\n",
    "\n",
    "Так как пока мы пока не умеем работать sklearn  Pipeline, то для того, чтобы после предобработки столбцы в двух выборках находились на своих местах.\n",
    "\n",
    "Для того, чтобы в дальнейшем отделить их введем новый столбец \"sample\""
   ]
  },
  {
   "cell_type": "code",
   "execution_count": 10,
   "metadata": {},
   "outputs": [
    {
     "data": {
      "text/html": [
       "<div>\n",
       "<style scoped>\n",
       "    .dataframe tbody tr th:only-of-type {\n",
       "        vertical-align: middle;\n",
       "    }\n",
       "\n",
       "    .dataframe tbody tr th {\n",
       "        vertical-align: top;\n",
       "    }\n",
       "\n",
       "    .dataframe thead th {\n",
       "        text-align: right;\n",
       "    }\n",
       "</style>\n",
       "<table border=\"1\" class=\"dataframe\">\n",
       "  <thead>\n",
       "    <tr style=\"text-align: right;\">\n",
       "      <th></th>\n",
       "      <th>AGREEMENT_RK</th>\n",
       "      <th>TARGET</th>\n",
       "      <th>AGE</th>\n",
       "      <th>SOCSTATUS_WORK_FL</th>\n",
       "      <th>SOCSTATUS_PENS_FL</th>\n",
       "      <th>GENDER</th>\n",
       "      <th>CHILD_TOTAL</th>\n",
       "      <th>DEPENDANTS</th>\n",
       "      <th>EDUCATION</th>\n",
       "      <th>MARITAL_STATUS</th>\n",
       "      <th>...</th>\n",
       "      <th>GEN_PHONE_FL</th>\n",
       "      <th>LOAN_NUM_TOTAL</th>\n",
       "      <th>LOAN_NUM_CLOSED</th>\n",
       "      <th>LOAN_NUM_PAYM</th>\n",
       "      <th>LOAN_DLQ_NUM</th>\n",
       "      <th>LOAN_MAX_DLQ</th>\n",
       "      <th>LOAN_AVG_DLQ_AMT</th>\n",
       "      <th>LOAN_MAX_DLQ_AMT</th>\n",
       "      <th>PREVIOUS_CARD_NUM_UTILIZED</th>\n",
       "      <th>sample</th>\n",
       "    </tr>\n",
       "  </thead>\n",
       "  <tbody>\n",
       "    <tr>\n",
       "      <th>0</th>\n",
       "      <td>59910150</td>\n",
       "      <td>0</td>\n",
       "      <td>49</td>\n",
       "      <td>1</td>\n",
       "      <td>0</td>\n",
       "      <td>1</td>\n",
       "      <td>2</td>\n",
       "      <td>1</td>\n",
       "      <td>Среднее специальное</td>\n",
       "      <td>Состою в браке</td>\n",
       "      <td>...</td>\n",
       "      <td>1</td>\n",
       "      <td>1</td>\n",
       "      <td>1</td>\n",
       "      <td>6</td>\n",
       "      <td>2</td>\n",
       "      <td>1</td>\n",
       "      <td>1580</td>\n",
       "      <td>1580</td>\n",
       "      <td>NaN</td>\n",
       "      <td>train</td>\n",
       "    </tr>\n",
       "    <tr>\n",
       "      <th>1</th>\n",
       "      <td>59910230</td>\n",
       "      <td>0</td>\n",
       "      <td>32</td>\n",
       "      <td>1</td>\n",
       "      <td>0</td>\n",
       "      <td>1</td>\n",
       "      <td>3</td>\n",
       "      <td>3</td>\n",
       "      <td>Среднее</td>\n",
       "      <td>Состою в браке</td>\n",
       "      <td>...</td>\n",
       "      <td>1</td>\n",
       "      <td>1</td>\n",
       "      <td>1</td>\n",
       "      <td>6</td>\n",
       "      <td>1</td>\n",
       "      <td>1</td>\n",
       "      <td>4020</td>\n",
       "      <td>4020</td>\n",
       "      <td>NaN</td>\n",
       "      <td>train</td>\n",
       "    </tr>\n",
       "    <tr>\n",
       "      <th>2</th>\n",
       "      <td>59910525</td>\n",
       "      <td>0</td>\n",
       "      <td>52</td>\n",
       "      <td>1</td>\n",
       "      <td>0</td>\n",
       "      <td>1</td>\n",
       "      <td>4</td>\n",
       "      <td>0</td>\n",
       "      <td>Неполное среднее</td>\n",
       "      <td>Состою в браке</td>\n",
       "      <td>...</td>\n",
       "      <td>1</td>\n",
       "      <td>2</td>\n",
       "      <td>1</td>\n",
       "      <td>11</td>\n",
       "      <td>0</td>\n",
       "      <td>0</td>\n",
       "      <td>0</td>\n",
       "      <td>0</td>\n",
       "      <td>NaN</td>\n",
       "      <td>train</td>\n",
       "    </tr>\n",
       "    <tr>\n",
       "      <th>3</th>\n",
       "      <td>59910803</td>\n",
       "      <td>0</td>\n",
       "      <td>39</td>\n",
       "      <td>1</td>\n",
       "      <td>0</td>\n",
       "      <td>1</td>\n",
       "      <td>1</td>\n",
       "      <td>1</td>\n",
       "      <td>Высшее</td>\n",
       "      <td>Состою в браке</td>\n",
       "      <td>...</td>\n",
       "      <td>1</td>\n",
       "      <td>1</td>\n",
       "      <td>1</td>\n",
       "      <td>6</td>\n",
       "      <td>3</td>\n",
       "      <td>1</td>\n",
       "      <td>1589,92333333333</td>\n",
       "      <td>1590</td>\n",
       "      <td>NaN</td>\n",
       "      <td>train</td>\n",
       "    </tr>\n",
       "    <tr>\n",
       "      <th>4</th>\n",
       "      <td>59911781</td>\n",
       "      <td>0</td>\n",
       "      <td>30</td>\n",
       "      <td>1</td>\n",
       "      <td>0</td>\n",
       "      <td>0</td>\n",
       "      <td>0</td>\n",
       "      <td>0</td>\n",
       "      <td>Среднее</td>\n",
       "      <td>Состою в браке</td>\n",
       "      <td>...</td>\n",
       "      <td>1</td>\n",
       "      <td>2</td>\n",
       "      <td>1</td>\n",
       "      <td>16</td>\n",
       "      <td>2</td>\n",
       "      <td>1</td>\n",
       "      <td>1152,15</td>\n",
       "      <td>2230</td>\n",
       "      <td>NaN</td>\n",
       "      <td>train</td>\n",
       "    </tr>\n",
       "  </tbody>\n",
       "</table>\n",
       "<p>5 rows × 53 columns</p>\n",
       "</div>"
      ],
      "text/plain": [
       "   AGREEMENT_RK  TARGET  AGE  SOCSTATUS_WORK_FL  SOCSTATUS_PENS_FL  GENDER  \\\n",
       "0      59910150       0   49                  1                  0       1   \n",
       "1      59910230       0   32                  1                  0       1   \n",
       "2      59910525       0   52                  1                  0       1   \n",
       "3      59910803       0   39                  1                  0       1   \n",
       "4      59911781       0   30                  1                  0       0   \n",
       "\n",
       "   CHILD_TOTAL  DEPENDANTS            EDUCATION  MARITAL_STATUS  ...    \\\n",
       "0            2           1  Среднее специальное  Состою в браке  ...     \n",
       "1            3           3              Среднее  Состою в браке  ...     \n",
       "2            4           0     Неполное среднее  Состою в браке  ...     \n",
       "3            1           1               Высшее  Состою в браке  ...     \n",
       "4            0           0              Среднее  Состою в браке  ...     \n",
       "\n",
       "  GEN_PHONE_FL LOAN_NUM_TOTAL LOAN_NUM_CLOSED LOAN_NUM_PAYM LOAN_DLQ_NUM  \\\n",
       "0            1              1               1             6            2   \n",
       "1            1              1               1             6            1   \n",
       "2            1              2               1            11            0   \n",
       "3            1              1               1             6            3   \n",
       "4            1              2               1            16            2   \n",
       "\n",
       "  LOAN_MAX_DLQ  LOAN_AVG_DLQ_AMT LOAN_MAX_DLQ_AMT PREVIOUS_CARD_NUM_UTILIZED  \\\n",
       "0            1              1580             1580                        NaN   \n",
       "1            1              4020             4020                        NaN   \n",
       "2            0                 0                0                        NaN   \n",
       "3            1  1589,92333333333             1590                        NaN   \n",
       "4            1           1152,15             2230                        NaN   \n",
       "\n",
       "  sample  \n",
       "0  train  \n",
       "1  train  \n",
       "2  train  \n",
       "3  train  \n",
       "4  train  \n",
       "\n",
       "[5 rows x 53 columns]"
      ]
     },
     "execution_count": 10,
     "metadata": {},
     "output_type": "execute_result"
    }
   ],
   "source": [
    "df_train.loc[:, 'sample'] = 'train'\n",
    "df_test.loc[:, 'sample'] = 'test'\n",
    "df_train.head()"
   ]
  },
  {
   "cell_type": "code",
   "execution_count": 11,
   "metadata": {},
   "outputs": [],
   "source": [
    "df = df_test.append(df_train).reset_index(drop=True)"
   ]
  },
  {
   "cell_type": "code",
   "execution_count": null,
   "metadata": {},
   "outputs": [],
   "source": []
  },
  {
   "cell_type": "markdown",
   "metadata": {},
   "source": [
    "### Чуть-чуть посмотрим на данные"
   ]
  },
  {
   "cell_type": "markdown",
   "metadata": {
    "collapsed": true
   },
   "source": [
    "Посмотрим типы данных и их заполняемость"
   ]
  },
  {
   "cell_type": "code",
   "execution_count": 12,
   "metadata": {
    "scrolled": false
   },
   "outputs": [
    {
     "name": "stdout",
     "output_type": "stream",
     "text": [
      "<class 'pandas.core.frame.DataFrame'>\n",
      "RangeIndex: 30133 entries, 0 to 30132\n",
      "Data columns (total 53 columns):\n",
      "AGREEMENT_RK                  30133 non-null int64\n",
      "TARGET                        30133 non-null int64\n",
      "AGE                           30133 non-null int64\n",
      "SOCSTATUS_WORK_FL             30133 non-null int64\n",
      "SOCSTATUS_PENS_FL             30133 non-null int64\n",
      "GENDER                        30133 non-null int64\n",
      "CHILD_TOTAL                   30133 non-null int64\n",
      "DEPENDANTS                    30133 non-null int64\n",
      "EDUCATION                     30133 non-null object\n",
      "MARITAL_STATUS                30133 non-null object\n",
      "GEN_INDUSTRY                  27420 non-null object\n",
      "GEN_TITLE                     27420 non-null object\n",
      "ORG_TP_STATE                  27420 non-null object\n",
      "ORG_TP_FCAPITAL               27425 non-null object\n",
      "JOB_DIR                       27420 non-null object\n",
      "FAMILY_INCOME                 30133 non-null object\n",
      "PERSONAL_INCOME               30133 non-null object\n",
      "REG_ADDRESS_PROVINCE          30133 non-null object\n",
      "FACT_ADDRESS_PROVINCE         30133 non-null object\n",
      "POSTAL_ADDRESS_PROVINCE       30133 non-null object\n",
      "TP_PROVINCE                   29543 non-null object\n",
      "REGION_NM                     30131 non-null object\n",
      "REG_FACT_FL                   30133 non-null int64\n",
      "FACT_POST_FL                  30133 non-null int64\n",
      "REG_POST_FL                   30133 non-null int64\n",
      "REG_FACT_POST_FL              30133 non-null int64\n",
      "REG_FACT_POST_TP_FL           30133 non-null int64\n",
      "FL_PRESENCE_FL                30133 non-null int64\n",
      "OWN_AUTO                      30133 non-null int64\n",
      "AUTO_RUS_FL                   30133 non-null int64\n",
      "HS_PRESENCE_FL                30133 non-null int64\n",
      "COT_PRESENCE_FL               30133 non-null int64\n",
      "GAR_PRESENCE_FL               30133 non-null int64\n",
      "LAND_PRESENCE_FL              30133 non-null int64\n",
      "CREDIT                        30133 non-null object\n",
      "TERM                          30133 non-null int64\n",
      "FST_PAYMENT                   30133 non-null object\n",
      "DL_DOCUMENT_FL                30133 non-null int64\n",
      "GPF_DOCUMENT_FL               30133 non-null int64\n",
      "FACT_LIVING_TERM              30133 non-null int64\n",
      "WORK_TIME                     27416 non-null float64\n",
      "FACT_PHONE_FL                 30133 non-null int64\n",
      "REG_PHONE_FL                  30133 non-null int64\n",
      "GEN_PHONE_FL                  30133 non-null int64\n",
      "LOAN_NUM_TOTAL                30133 non-null int64\n",
      "LOAN_NUM_CLOSED               30133 non-null int64\n",
      "LOAN_NUM_PAYM                 30133 non-null int64\n",
      "LOAN_DLQ_NUM                  30133 non-null int64\n",
      "LOAN_MAX_DLQ                  30133 non-null int64\n",
      "LOAN_AVG_DLQ_AMT              30133 non-null object\n",
      "LOAN_MAX_DLQ_AMT              30133 non-null object\n",
      "PREVIOUS_CARD_NUM_UTILIZED    600 non-null float64\n",
      "sample                        30133 non-null object\n",
      "dtypes: float64(2), int64(32), object(19)\n",
      "memory usage: 12.2+ MB\n"
     ]
    }
   ],
   "source": [
    "df.info()"
   ]
  },
  {
   "cell_type": "markdown",
   "metadata": {
    "collapsed": true
   },
   "source": [
    "Видим, что часть данных - object, скорее всего стоки.\n",
    "\n",
    "\n",
    "Давайте выведем эти значения для каждого столбца"
   ]
  },
  {
   "cell_type": "code",
   "execution_count": 13,
   "metadata": {},
   "outputs": [
    {
     "name": "stdout",
     "output_type": "stream",
     "text": [
      "==========\n",
      "EDUCATION\n",
      "{'Два и более высших образования', 'Неполное среднее', 'Неоконченное высшее', 'Среднее', 'Ученая степень', 'Среднее специальное', 'Высшее'}\n",
      "\n",
      "\n",
      "==========\n",
      "MARITAL_STATUS\n",
      "{'Разведен(а)', 'Не состоял в браке', 'Вдовец/Вдова', 'Состою в браке', 'Гражданский брак'}\n",
      "\n",
      "\n",
      "==========\n",
      "GEN_INDUSTRY\n",
      "{nan, 'Туризм', 'Управляющая компания', 'Государственная служба', 'Юридические услуги/нотариальные услуги', 'Транспорт', 'Торговля', 'Химия/Парфюмерия/Фармацевтика', 'Другие сферы', 'Логистика', 'Развлечения/Искусство', 'Металлургия/Промышленность/Машиностроение', 'Здравоохранение', 'Строительство', 'Нефтегазовая промышленность', 'СМИ/Реклама/PR-агенства', 'Сельское хозяйство', 'Банк/Финансы', 'Салоны красоты и здоровья', 'Ресторанный бизнес/Общественное питание', 'Информационные услуги', 'Наука', 'Подбор персонала', 'ЧОП/Детективная д-ть', 'Недвижимость', 'Образование', 'Страхование', 'Коммунальное хоз-во/Дорожные службы', 'Информационные технологии', 'Маркетинг', 'Сборочные производства', 'Энергетика'}\n",
      "\n",
      "\n",
      "==========\n",
      "GEN_TITLE\n",
      "{nan, 'Служащий', 'Партнер', 'Военнослужащий по контракту', 'Другое', 'Работник сферы услуг', 'Руководитель низшего звена', 'Индивидуальный предприниматель', 'Руководитель высшего звена', 'Руководитель среднего звена', 'Рабочий', 'Специалист', 'Высококвалифиц. специалист'}\n",
      "\n",
      "\n",
      "==========\n",
      "ORG_TP_STATE\n",
      "{nan, 'Государственная комп./учреж.', 'Частная компания', 'Некоммерческая организация', 'Частная ком. с инос. капиталом', 'Индивидуальный предприниматель'}\n",
      "\n",
      "\n",
      "==========\n",
      "ORG_TP_FCAPITAL\n",
      "{nan, 'С участием', 'Без участия'}\n",
      "\n",
      "\n",
      "==========\n",
      "JOB_DIR\n",
      "{nan, 'Служба безопасности', 'Снабжение и сбыт', 'Кадровая служба и секретариат', 'Юридическая служба', 'Бухгалтерия, финансы, планир.', 'Участие в основ. деятельности', 'Вспомогательный техперсонал', 'Пр-техн. обесп. и телеком.', 'Адм-хоз. и трансп. службы', 'Реклама и маркетинг'}\n",
      "\n",
      "\n",
      "==========\n",
      "FAMILY_INCOME\n",
      "{'от 20000 до 50000 руб.', 'от 10000 до 20000 руб.', 'от 5000 до 10000 руб.', 'свыше 50000 руб.', 'до 5000 руб.'}\n",
      "\n",
      "\n",
      "==========\n",
      "PERSONAL_INCOME\n",
      "{'39000', '14000', '29500', '5230', '10900', '15000', '2300', '4515', '5000', '16800', '7830', '11700', '23100', '53000', '77000', '12600', '19300', '8726', '23800', '12000', '14500', '13900', '15400', '67700', '8500', '17600', '2800', '13400', '20646,16', '7800', '10800', '3000', '11600', '5400', '1950', '17000', '5200', '9200', '14300', '25000', '9500', '21000', '5460', '6300', '5360', '8600', '67000', '10000', '19800', '16900', '8800', '8700', '8300', '10700', '8900', '100000', '4300', '16700', '5700', '5446', '42000', '45000', '52000', '4340', '11200', '4900', '5050', '6608', '19500', '28000', '3200', '6900', '250000', '2000', '33000', '8100', '3500', '7250', '5800', '36000', '4200', '6670', '13700', '7300', '23000', '10300', '11000', '3700', '13000', '14700', '40000', '9300', '8250', '51000', '17800', '3600', '7000', '7850', '4330', '11300', '18000', '21800', '5088', '7640', '12100', '16000', '9400', '20000', '7550', '11640', '4700', '5582', '29800', '11500', '46000', '17500', '14358', '4590', '10400', '7251', '42500', '6400', '17900', '20500', '9340', '12650', '13200', '15600', '6359', '16050', '5300', '8066', '7400', '6500', '3400', '5900', '28300', '18200', '55000', '17700', '4360', '13160', '15300', '8000', '47000', '4800', '4600', '70000', '17404', '14800', '24', '19000', '12300', '43000', '11900', '54000', '9330', '34000', '56000', '15200', '110000', '24500', '13600', '26000', '7500', '6600', '15380', '24800', '35000', '6100', '6000', '4000', '4500', '41000', '10100', '7100', '22000', '5350', '13300', '92000', '6700', '50000', '8200', '75000', '15500', '13450', '3300', '160000', '16200', '29000', '6800', '7600', '22500', '18700', '12900', '5425', '2100', '12700', '12800', '65000', '9900', '22955', '30000', '5100', '5339', '31000', '19700', '17200', '27000', '9628', '3800', '5680', '9240', '5790', '6200', '9600', '68000', '8350', '27300', '80000', '37000', '6180', '12500', '7900', '12400', '18500', '7200', '18600', '9700', '220000', '44000', '11400', '9000', '48000', '4400', '24000', '13800', '13150', '7050', '25800', '7220', '21500', '3100', '7101', '23500', '60000', '10500', '38000', '6299,19', '7700', '26500', '4100', '4950', '150000', '49000', '5500', '11800', '13500', '41900', '7650', '10200', '16100', '5600', '15560', '170000', '3900', '32000', '16500', '8400', '32640', '9800', '10600', '9100', '19600'}\n",
      "\n",
      "\n",
      "==========\n",
      "REG_ADDRESS_PROVINCE\n",
      "{'Свердловская область', 'Оренбургская область', 'Москва', 'Ивановская область', 'Амурская область', 'Курская область', 'Пермская область', 'Сахалинская область', 'Адыгея', 'Ростовская область', 'Рязанская область', 'Ямало-Ненецкий АО', 'Псковская область', 'Калужская область', 'Читинская область', 'Пензенская область', 'Башкирия', 'Вологодская область', 'Ставропольский край', 'Магаданская область', 'Воронежская область', 'Тверская область', 'Мордовская республика', 'Орловская область', 'Ульяновская область', 'Тюменская область', 'Самарская область', 'Дагестан', 'Еврейская АО', 'Костромская область', 'Алтайский край', 'Иркутская область', 'Ленинградская область', 'Краснодарский край', 'Томская область', 'Кемеровская область', 'Московская область', 'Ханты-Мансийский АО', 'Удмуртия', 'Красноярский край', 'Белгородская область', 'Карачаево-Черкесия', 'Тамбовская область', 'Мурманская область', 'Камчатская область', 'Калининградская область', 'Чувашия', 'Агинский Бурятский АО', 'Челябинская область', 'Курганская область', 'Татарстан', 'Астраханская область', 'Приморский край', 'Брянская область', 'Кабардино-Балкария', 'Северная Осетия', 'Омская область', 'Нижегородская область', 'Хабаровский край', 'Горный Алтай', 'Коми', 'Владимирская область', 'Карелия', 'Новосибирская область', 'Усть-Ордынский Бурятский АО', 'Хакасия', 'Липецкая область', 'Санкт-Петербург', 'Волгоградская область', 'Калмыкия', 'Смоленская область', 'Эвенкийский АО', 'Ярославская область', 'Саратовская область', 'Бурятия', 'Марийская республика', 'Якутия', 'Кировская область', 'Архангельская область', 'Новгородская область', 'Тульская область'}\n",
      "\n",
      "\n",
      "==========\n",
      "FACT_ADDRESS_PROVINCE\n",
      "{'Свердловская область', 'Оренбургская область', 'Москва', 'Ивановская область', 'Амурская область', 'Курская область', 'Пермская область', 'Сахалинская область', 'Адыгея', 'Ростовская область', 'Рязанская область', 'Ямало-Ненецкий АО', 'Псковская область', 'Калужская область', 'Читинская область', 'Пензенская область', 'Башкирия', 'Вологодская область', 'Ставропольский край', 'Магаданская область', 'Воронежская область', 'Тверская область', 'Мордовская республика', 'Орловская область', 'Ульяновская область', 'Тюменская область', 'Самарская область', 'Дагестан', 'Еврейская АО', 'Костромская область', 'Алтайский край', 'Иркутская область', 'Ленинградская область', 'Краснодарский край', 'Томская область', 'Кемеровская область', 'Московская область', 'Ханты-Мансийский АО', 'Удмуртия', 'Красноярский край', 'Белгородская область', 'Карачаево-Черкесия', 'Тамбовская область', 'Мурманская область', 'Камчатская область', 'Калининградская область', 'Чувашия', 'Агинский Бурятский АО', 'Челябинская область', 'Курганская область', 'Татарстан', 'Астраханская область', 'Приморский край', 'Брянская область', 'Кабардино-Балкария', 'Северная Осетия', 'Омская область', 'Нижегородская область', 'Хабаровский край', 'Горный Алтай', 'Коми', 'Владимирская область', 'Карелия', 'Новосибирская область', 'Усть-Ордынский Бурятский АО', 'Хакасия', 'Липецкая область', 'Санкт-Петербург', 'Волгоградская область', 'Калмыкия', 'Эвенкийский АО', 'Смоленская область', 'Ярославская область', 'Саратовская область', 'Бурятия', 'Марийская республика', 'Якутия', 'Кировская область', 'Архангельская область', 'Новгородская область', 'Тульская область'}\n",
      "\n",
      "\n",
      "==========\n",
      "POSTAL_ADDRESS_PROVINCE\n",
      "{'Свердловская область', 'Оренбургская область', 'Москва', 'Ивановская область', 'Амурская область', 'Курская область', 'Пермская область', 'Сахалинская область', 'Адыгея', 'Ростовская область', 'Рязанская область', 'Ямало-Ненецкий АО', 'Псковская область', 'Калужская область', 'Читинская область', 'Пензенская область', 'Башкирия', 'Вологодская область', 'Ставропольский край', 'Магаданская область', 'Воронежская область', 'Тверская область', 'Мордовская республика', 'Орловская область', 'Ульяновская область', 'Тюменская область', 'Самарская область', 'Еврейская АО', 'Костромская область', 'Алтайский край', 'Иркутская область', 'Ленинградская область', 'Краснодарский край', 'Томская область', 'Кемеровская область', 'Московская область', 'Ханты-Мансийский АО', 'Удмуртия', 'Красноярский край', 'Белгородская область', 'Карачаево-Черкесия', 'Тамбовская область', 'Мурманская область', 'Камчатская область', 'Калининградская область', 'Чувашия', 'Агинский Бурятский АО', 'Челябинская область', 'Курганская область', 'Татарстан', 'Астраханская область', 'Приморский край', 'Брянская область', 'Кабардино-Балкария', 'Северная Осетия', 'Омская область', 'Нижегородская область', 'Хабаровский край', 'Горный Алтай', 'Коми', 'Владимирская область', 'Карелия', 'Новосибирская область', 'Усть-Ордынский Бурятский АО', 'Хакасия', 'Липецкая область', 'Санкт-Петербург', 'Волгоградская область', 'Калмыкия', 'Смоленская область', 'Эвенкийский АО', 'Ярославская область', 'Саратовская область', 'Бурятия', 'Марийская республика', 'Якутия', 'Кировская область', 'Архангельская область', 'Новгородская область', 'Тульская область'}\n",
      "\n",
      "\n",
      "==========\n",
      "TP_PROVINCE\n",
      "{nan, 'Свердловская область', 'Оренбургская область', 'Москва', 'Воронежская область', 'Ивановская область', 'Красноярский край', 'Белгородская область', 'Амурская область', 'Тверская область', 'Мордовская республика', 'Магаданская область', 'Липецкая область', 'Санкт-Петербург', 'Тамбовская область', 'Мурманская область', 'Камчатская область', 'Волгоградская область', 'Курская область', 'Пермская область', 'Орловская область', 'Ульяновская область', 'Калининградская область', 'Чувашия', 'Тюменская область', 'Челябинская область', 'Самарская область', 'Смоленская область', 'Ярославская область', 'Саратовская область', 'Адыгея', 'Ростовская область', 'Татарстан', 'Курганская область', 'Бурятия', 'Рязанская область', 'Астраханская область', 'Сахалинская область', 'Еврейская АО', 'Марийская республика', 'Приморский край', 'Якутия', 'Брянская область', 'Кабардино-Балкария', 'Костромская область', 'Кировская область', 'Удмуртия', 'Псковская область', 'Алтайский край', 'Иркутская область', 'Калужская область', 'Омская область', 'Нижегородская область', 'Хабаровский край', 'Краснодарский край', 'Читинская область', 'Архангельская область', 'Пензенская область', 'Горный Алтай', 'Томская область', 'Кемеровская область', 'Башкирия', 'Тульская область', 'Коми', 'Владимирская область', 'Новгородская область', 'Вологодская область', 'Ставропольский край', 'Карелия', 'Ханты-Мансийский АО', 'Новосибирская область'}\n",
      "\n",
      "\n",
      "==========\n",
      "REGION_NM\n",
      "{nan, 'ДАЛЬНЕВОСТОЧНЫЙ', 'ЗАПАДНО-СИБИРСКИЙ', 'СЕВЕРО-ЗАПАДНЫЙ', 'ЦЕНТРАЛЬНЫЙ 1', 'ЦЕНТРАЛЬНЫЙ ОФИС', 'ПОВОЛЖСКИЙ', 'ПРИВОЛЖСКИЙ', 'УРАЛЬСКИЙ', 'ВОСТОЧНО-СИБИРСКИЙ', 'ЮЖНЫЙ', 'ЦЕНТРАЛЬНЫЙ 2'}\n",
      "\n",
      "\n",
      "==========\n",
      "CREDIT\n",
      "{'6407,5', '30100', '24420', '15299', '3117', '13324', '20268', '16890', '14588', '17600', '15624', '3067', '4888', '5936', '15315', '4345', '25506,19', '19037,2', '50098', '11750,31', '12200', '19800', '11289', '19590', '8800', '4909', '9630', '18760,75', '2676', '23390,91', '5390', '6605', '20698,1', '11020', '18040', '31221', '13402', '5299', '8041', '8806', '15739', '28440', '8603', '14089', '34557,1', '19680', '14611', '6075', '6342', '8170', '5184', '5198', '8590', '7810', '37100', '32800', '21588', '41936', '7349', '70000', '9679', '39980', '15078', '39450', '31294', '11399', '7228,2', '2680', '3675', '4898', '6545', '12166', '6370', '4853', '17483', '14207,1', '3680', '7454', '18749', '11595', '3530', '13366', '24389', '6393', '13960', '8941', '7690', '4131', '27062', '18329', '31792', '26999', '6715,2', '15556', '8540', '15859', '5963', '7990', '7315', '23990', '2180', '4533', '12331', '29120', '4004', '17605', '20330', '24768', '15017', '12380', '12953', '15750', '16960', '23980', '21838', '23550', '10538', '3897', '4021,92', '4887', '3786', '10331', '7849', '9930', '5287', '5660', '19342', '15984', '4202', '23100', '4228', '24771', '21015', '27925', '17117', '41837', '18868', '7030', '10512', '15639', '16128', '4852', '38070', '15498', '56964,6', '13653', '14348', '26950', '35091', '19580', '10969', '21726', '9396', '19083', '17240', '10022', '11410', '10536', '10672', '8581', '5877', '16961,1', '5070', '23850', '26650', '44700', '33358,84', '10128,8', '22711,21', '20400', '10759', '33990', '26543', '11000', '11317', '19980', '7000', '23661', '17795', '32990', '8241', '11138', '21166', '3222,9', '3984', '27939', '4103', '23539', '13170', '25199', '11539', '8792', '10655', '3598', '13570', '15016', '15115', '15226', '13980', '16860', '2650', '7752', '23647', '23684', '20977', '13254', '14031', '31498', '30430', '7080', '4500,95', '15190,5', '3128', '14292', '4290', '11690,91', '8071', '33340', '4990', '23393', '22561', '14400', '3290', '25491', '22000', '3145', '8715', '6985', '9140', '35955', '27500', '14133', '17690', '21123', '9622,77', '6698', '17439', '3880', '14724', '12366', '3930', '50700', '54738', '5180', '13733', '2007', '16540', '4510', '11391', '10840', '13166', '10542', '12904', '5228', '21877', '21809', '24061', '31500', '24850', '27472', '7703,1', '5797', '22692', '17991', '10200', '19781', '23352', '21840', '16045', '5579', '15570', '35598', '26370', '2099', '18499', '22147', '9045', '3729', '9654', '14875', '17561,8', '12000', '4995', '22323', '4489', '7541', '33097', '10791', '32938', '7011', '4620', '6380,91', '13078', '31255', '47600', '4660', '98042', '6060', '74482', '8556', '18648', '5932', '4310', '41907', '4522', '18906', '25740', '2633', '6491', '11498', '8835', '20180', '24103', '4186', '20160', '11098,8', '19840,5', '28861', '10163', '7682', '14080', '11697,1', '12996', '27905', '7630', '17811', '11520', '10090', '11669', '20290', '26930', '16848', '3356', '24889', '8260', '24362', '6930', '10130', '11980', '6744', '27518', '16364', '25980', '42135', '17379', '41600', '22160', '30200', '18376', '5431,2', '13195', '48572', '3490,92', '19966', '27149', '8047,1', '19286', '6093', '18498', '16448', '21405', '18197', '10366', '13623', '6903', '3919', '5712', '19782', '92951', '30597', '3516', '4109', '2500', '12908', '3407', '39025', '4652', '29445', '18334', '4505', '70360', '30951', '25278,14', '9090', '48800', '42746', '15147', '27570', '29400', '10990', '7586', '21042', '7740', '12425', '8421', '7676', '14270', '40200', '11551', '15653', '5408', '3160', '2060', '27350', '9754', '2070', '9695', '21771', '15598', '7790', '54105', '7160', '14388,3', '5997', '6747', '15186', '29905', '24881', '21279', '27456', '41620', '52250', '9290,91', '32450', '31646', '16080', '9927', '4905', '56277', '5380', '12559', '6549,83', '29012', '3906', '11877', '33030', '30196', '18471', '34720', '18720', '3348', '30324', '12699', '5807', '10483', '26960', '8771', '16893', '9889', '3168', '26547', '9983', '4980', '13491', '16519', '10706', '8169,55', '13624', '2243,7', '3882', '12191', '10990,92', '3385,83', '9215', '16485', '30422', '16613', '4190', '35700', '5306', '50020', '5970', '8221', '17609', '34479', '32593', '23792', '17325', '7599', '10340', '5238', '10804', '14390,92', '32525', '17890', '9669', '6210', '9931', '23760', '31040', '14440', '9898', '3033,9', '23720', '15040', '3690,92', '7399', '14648', '26595', '3014', '6562', '10447', '12500', '15246', '3152', '37235', '16060', '16467', '11911', '4789,92', '7431', '9813', '28288', '8999', '11748,2', '41994', '14040', '39110', '13300,91', '17134', '3900', '27170', '15192', '37450', '6138', '8549', '14107', '17541', '17459', '18550', '7084', '6266', '16070', '10953', '8037', '50678', '16657', '3768', '26457', '21187', '9500', '23690,91', '23095', '15610', '3941', '2570', '6970', '30697', '21390', '5735,7', '14100', '4160', '21881', '14044', '3599', '22480', '32090', '9972', '16070,5', '17460', '12493', '6340', '32490', '57581', '3550', '35201', '26524', '22575', '11167', '42436', '26550', '18450', '17997', '13005', '22558', '11955', '16698', '8006,1', '7715', '11558', '11390', '7598', '10779', '15102', '6036', '13318', '28341', '4617', '14190', '7240,5', '9540', '9554', '3360', '22361', '16660', '6100', '4379', '17428', '11063', '21590', '21660', '16400', '5827', '10898', '75000', '21038', '5328', '11227', '26819', '21320', '22515', '19728', '9128', '17466', '23160', '25298', '18517,1', '12716', '11950', '27372', '4008', '12518,5', '8515', '21620', '14349', '6161', '17372', '14205', '90200', '25500', '3159', '39590', '16649', '16635', '8550', '20464', '2928', '5478', '5369', '25727', '25881', '4480', '4240,91', '23930', '9599', '12755', '11528', '32846', '8651', '15784', '11642,3', '17999', '23025', '18027', '8878', '24328', '19100', '11048', '16371', '2152', '3987', '14461', '5570', '7187', '41500', '10990,91', '17329,92', '30510', '45750', '18643', '26300', '3989', '29526,12', '15759', '12173', '18693', '16098', '20691', '24015', '16629', '11200', '13776', '6900', '2000', '27005', '11211', '30050', '17415', '42740', '35250', '23488', '3311', '9259', '2900', '9592', '17505', '11250', '10256,1', '18286', '16692', '15430', '26510', '8723', '6492', '12232', '18530', '10714', '10413', '6454,8', '37440', '26055', '3490,91', '13260', '17700', '7180,9', '52561', '29622', '14200', '19035', '26219', '26346', '12550', '4059', '46800', '6270', '17875', '16310', '18048', '2792', '20561', '10693', '6699', '18060', '8398', '11639', '26658,9', '16175', '29475', '5592', '14290', '4077', '26020', '4769', '17778', '4460', '9970', '20249', '8639', '22102', '17130', '17099,1', '18660', '5773', '3415', '24778', '6020', '4088', '11576', '17640', '13949', '7077', '19770', '8698', '7639', '17895', '9345', '20751', '16500', '3790', '21246', '2909', '5129', '6839', '19358', '19324', '69500', '17540', '22090', '9007', '56700', '32907,5', '3199', '6279', '21845', '19289', '10000', '29382', '6756', '25400', '19470', '2878', '18590', '70245', '19843', '8220', '2934', '33598', '26889', '4701,6', '6120', '22400', '21506', '22430', '4276', '7874', '5162', '4366,8', '3470', '9217', '4275', '20000', '24301', '7937', '18850', '19924', '9997', '9504', '13030', '5242,3', '17549', '10052', '9729', '7190', '31450', '6450', '9655,2', '16880', '20900', '27369', '12206', '44690', '8171', '4939', '9538', '8718,1', '15070', '34195', '8910', '9940', '14866', '5451', '10298', '4760', '18549', '26260', '4735', '56340', '5847', '20209', '18600', '19719', '21100', '19799', '6299,2', '23511', '23750', '12396', '40110', '33680', '14446,3', '30360', '19502', '8515,7', '26865', '21083', '10635', '13232,88', '21330', '12050', '18528', '36194', '13921,52', '22233', '11295', '7144', '27781', '29345', '7478,2', '39000', '24772', '8441', '13080', '32280', '10280', '6543', '10660', '6831', '26700', '4220', '18566', '25940', '42408', '8829', '25508', '20132', '14570', '4291', '9842', '3645', '22770', '28402', '9406', '6280', '19840', '17599', '15460', '7135', '8275', '19296', '40534', '13921,36', '13689,86', '6228', '3031', '2745', '3312', '3730', '24835', '11154', '24367', '30673', '83407', '17496', '35360', '3170', '24357', '32391', '34555', '22356', '18615', '64670', '8459', '17500', '17900', '17199', '16050', '21146,4', '15221', '10930,52', '6630', '13278', '5938', '9150', '4890,2', '14453', '7619', '71500', '22210', '15250', '27400', '11428', '8025', '10820', '2390', '16300', '2619', '6000', '8330', '6347', '6995', '5612', '25870', '25290', '4899', '29380', '27736', '25200', '15621', '3553', '7092', '23954', '4767', '10418', '13941', '21349', '9793', '11910', '17622', '22810', '6999,9', '16732', '16169', '4809', '5253', '6435', '12848', '94720', '12342', '3703', '6745', '12199', '3923', '32348', '4375', '5169', '21850,94', '15560', '10529', '8398,1', '20931', '2189', '4576,5', '5020', '33344', '19503', '15990', '13021', '7982', '11536', '8448', '41929', '40080', '47789', '22082', '19269', '9227', '9538,9', '17580', '8099', '25454', '7621', '4945', '22692,96', '30918', '7720', '21654', '18067', '14696', '4390', '23389', '14260', '3377', '18296', '14004', '7863', '29799', '22317', '22398', '26200', '6495', '38718', '7070', '4579', '4455', '20925', '28790', '31090', '22588', '4761', '14443', '6840', '14849', '19998', '15600', '4392', '17981,9', '13699', '15658', '17573', '23300', '2569', '29075', '24864', '9899,92', '4410', '10803,84', '5931', '14441', '18750', '6250', '2679', '4790', '35793', '6282', '10446', '21124', '7812', '14370', '27740', '29250', '19095', '6999', '2871', '36267', '19440', '23749,76', '3663', '27945', '7604', '5966,7', '2690', '22450', '4504', '3089', '18610', '39627', '3752,9', '32819', '20852', '22097', '7560', '18598', '18400', '11430', '17089,9', '7262', '26760', '24640', '7770', '21420', '30590,92', '10021,5', '3128,2', '28990,91', '11755', '31096', '6984', '26099', '62100', '9532', '30813', '38120', '10010', '28845', '5770', '10850', '16745', '33678,2', '18515,03', '16011', '8361', '31278', '19278', '17789', '12490,9', '2572', '8991', '4908', '4837', '15164', '11510', '5968', '23370', '4030', '29390', '2259,9', '21097', '21805', '24250', '9510', '9814', '6697', '8250', '17380', '11989', '20833', '17106', '24480', '17330', '6969', '39720', '13356', '34999', '19854', '18940', '2075', '26708', '13465', '11550', '5614', '32400', '22263', '7116', '16899', '6125', '21237', '5750', '10492', '9144', '30627', '32580', '37305', '23992', '26875', '6288', '29200', '2940', '3070', '30825', '11997,2', '16796', '19572,1', '26710', '4550', '16480', '7999,1', '11855', '15403,02', '23713', '4099', '24272', '44760', '8491,82', '21430', '22198,1', '25540', '34990,8', '7281,94', '28350', '2499', '16105', '7112', '27900', '48000', '9820', '6247,8', '35320', '32508,2', '28210', '40574', '4492', '25177', '4021', '19600', '22488', '3701', '69188', '6540', '3816', '12608', '21494', '12060', '63306', '50950', '80973', '25730', '29295', '35750', '29461,34', '18216', '19130', '6204', '5149', '4870', '2831,97', '5695', '3484', '8874', '72885,57', '4387', '10699', '16965', '7313', '5942', '5240', '20324,92', '6703', '49227', '49750', '5199', '25227', '3520,8', '27110', '22987', '19205', '4525', '46671', '29949,7', '29470', '16199,2', '24844', '13380,56', '14170', '7590', '18000', '7981', '6499', '11269', '12762', '20113', '16312', '10540', '18185', '27501', '9557,1', '6939', '22617', '23057', '8386', '16830', '70705,96', '3442', '47000', '22221', '6297', '21250', '10290', '27234', '4961', '8228', '5754', '14321', '18789', '9991', '4048', '5607', '10730', '24721', '2529,61', '4841', '6890', '3699', '10140', '17888', '22536', '17200', '4801', '14644', '38700', '16358', '7847', '23459', '87880', '23170', '29006', '10874', '82162', '27428', '61915', '3735', '7017', '3725', '10105', '6561,9', '22499', '16591', '37531', '6329', '13926', '28945', '6597', '10995', '26329', '42228', '11760', '9902', '26910', '10315', '18187', '6880', '23706', '3497', '4563', '13815', '16218', '12510', '77762', '5496', '4299', '5742', '16991', '10046', '7885', '11830', '9444', '19999', '25991', '14361', '6944', '5960', '13489', '2881', '21696', '13010', '79200', '10423', '4134,4', '9748', '15084', '11672', '8830', '63657', '7549,89', '21120', '20169', '3250', '11195', '13480', '4619', '8370', '18209', '33400', '25146', '28879', '18900', '4921', '13179', '3895', '16398', '4966', '20540', '29600', '17956', '23130', '32935', '17720', '8435', '20645', '7385', '3149', '18180', '22300', '31091', '9059,92', '7711', '15844', '4638', '9890', '11968', '8990,9', '17379,99', '31696', '18143', '2555', '3935', '16227', '8299', '15503', '7460', '15907', '28041', '14993', '13225', '4280', '7838', '9246', '6348', '29037,12', '9341', '18654', '4950', '39500', '6367', '10490', '43353', '18390', '9891', '11699', '9798', '25855', '5259', '4040', '5174', '11890', '15870', '7988', '6230', '26774', '5895', '99313', '10029,92', '31200', '15003', '4362', '21243', '6712', '11385', '5272', '8290', '76738', '71600', '7815', '14020', '2223', '3393', '20300', '5301', '25340', '11892', '11160', '6330', '5083', '22747,4', '11749', '8700', '35992', '17896', '5531,8', '15948', '4242', '25168', '3999', '35775', '3093', '90590', '21180', '12077', '2489', '6142', '13890', '22139', '9826', '16992', '5010', '8198', '4851,81', '8240', '5294', '22890', '36900', '9412', '3310', '46649', '84570', '24980', '9963', '21948', '7420', '30820', '26084', '17960', '6269', '6040', '7859', '27854', '17297,6', '15313', '3510', '26340', '16438', '22047', '4010', '3110', '17198', '15300', '27541', '8149', '20800', '4867', '11499', '26280', '17190', '10675', '27686,2', '31502', '20715', '7110', '3610', '20440', '19993', '37800', '8076', '26080', '31610', '10248,2', '15730', '19615', '10968', '5430', '11480', '16245', '2573', '7739', '15897', '21340', '17590', '14540,04', '7876', '11949', '3330', '10113', '15520', '23425', '18090', '13265', '23667', '14598', '11217', '4168,8', '27200', '8489', '23790', '76000', '4230', '8080', '13157', '3535', '2470', '25301', '17911', '2691,9', '24131', '8160', '31224', '3840', '13558', '3748', '28450', '3370', '20583', '12598,1', '5179', '2800', '17802', '35529', '12260', '14856', '21598', '33120', '4098', '7870', '9054', '21000', '19819', '16490', '22525', '16900', '4575', '5860', '3299', '46156', '11898', '29700', '17090', '24110', '14177', '11260', '21927', '16870', '15450', '2950', '7357', '19080', '41730', '16670', '19254', '34500', '6024', '3700', '7366', '4057', '13999', '3860', '5757', '5232', '6513', '35596', '19622', '20636,91', '12262', '14046', '11042', '7032', '22760', '12315', '38520', '22369', '19020', '12690', '55500', '74466', '17998', '13191', '20698', '8381', '12140', '2435', '3750,91', '11286', '3870', '36800', '18997', '30696', '12340', '4196', '3060', '13098', '8564', '11960', '5449', '14847', '84800', '76360', '9720', '5410', '10456', '20985,62', '16150', '4938', '7020', '5630', '19700', '9728', '11930', '3800', '7898', '5015', '6692', '9555', '11136', '6375', '3059', '37560', '3509', '26164', '14331', '5852', '4951', '22550', '9588', '11958', '12780', '45665', '37415', '15900', '15098', '3750', '6373', '11293', '20250', '17162', '8140', '9799', '16799,4', '5965', '9235', '30800', '4026,55', '17789,2', '7977', '7788', '2660', '16647', '8849', '11623', '12265', '7259', '19797,1', '6390', '59009', '10530', '19430', '5031', '35767,4', '3076', '8490,92', '7593', '2360', '12428,7', '5211', '19795', '19224', '3928', '23121', '11055', '28641', '5268,47', '23146', '7875', '6070', '17804', '11990', '14150', '18440', '2671,2', '17630', '10286', '11383', '16789,98', '11049', '8904', '16145', '18300', '15555', '42335', '5210', '22469', '34641', '6544', '4320', '3979', '14337', '8811', '5432', '14521', '6289', '7235', '5261', '17528', '7362', '5335', '16114', '5292', '17854', '8499', '14646', '28590', '25068,94', '4816', '6517', '20505', '8148', '12289', '11450,9', '27166', '21220', '32670,79', '16544', '87673', '36617', '34449', '66504', '4035,2', '8396', '9750', '28170', '20680', '3547', '7505', '6058,1', '6789', '3943', '5076', '5589', '30990', '38244', '20646', '16250', '9620', '9675', '10174', '23060', '13999,2', '9988', '6415', '7995', '4020', '13678', '9910', '16765', '26820', '3392', '62550', '11196', '4185', '87786', '18702', '18490,91', '25920', '10978', '18825', '19938', '34162', '6680', '18999,2', '15940', '14619', '6503', '33725', '13992', '5568', '12304', '29384', '19710', '15035', '30011', '25315', '12870', '8570', '25440', '33475', '17251', '4580', '29040', '14991', '5829', '29376', '37150', '3799', '4300', '11514', '7799', '19809', '10020', '6990', '13897', '6999,3', '6990,92', '11601', '28000', '33850', '3950', '18670', '17650', '44030', '5250', '4200', '13410', '37466', '8957', '20310', '9301', '6675', '13235', '24933', '20910', '17869', '82910', '23595', '21160', '20326', '13899', '9652', '34695', '32114', '9173,88', '9025', '17499', '9263', '6610', '19116', '10697', '23377', '14410', '7350', '14456', '28661', '16882', '14940', '11212,06', '19360', '14658', '4743,68', '6281', '9810', '5276', '4074', '31509', '6964', '22075', '6600', '10980', '22944', '19475', '9664,5', '14295', '7336', '17215', '11099', '13450', '13100', '23498', '10940', '29640', '38300', '2100', '22955', '52930', '35100', '23793', '3095', '15863', '4918', '18113', '9560', '13288', '53673', '15914', '11050', '15354', '15360', '17300', '18239', '5535', '4056', '22236', '18896', '10884', '10097', '13184', '3910', '16320', '22850', '41100', '28750', '15245', '22803', '14096', '14872', '30220', '33920', '11719', '31817,2', '24059,83', '6835', '31680', '21910', '5780', '23185', '22212', '6958,92', '13200', '18710', '13846', '3933', '18115', '76550', '15230', '3898,1', '5260', '10349', '14397', '21408', '6379', '32617', '19300', '34154', '37016', '7999', '16284', '11648', '14845', '7495', '9595', '5745', '12447', '10185', '24132', '31317', '14690', '3720', '45110', '8857', '24519', '3892', '17425', '4900', '12434', '33570', '56899', '14978', '19341,2', '43200', '9920', '11236', '18810', '14632', '8346', '12830', '8785', '79959', '5640', '26580', '5130', '19400', '9971,89', '6136,58', '5749', '13321', '24990', '18669,2', '7488', '28238', '7317', '6400', '9375', '16002', '8620', '24179', '62800', '5300', '24970', '9199', '4580,92', '26872', '6828', '69000', '34295', '9924', '13006', '8917', '4311', '16621', '10116', '22070', '2241', '5794', '28800', '11394', '5588', '22674', '47309', '12590', '6105', '10019', '29950', '18934', '7710', '7600', '3010', '17610', '20296', '14168', '22960', '16620', '14460', '2719,2', '17671,2', '17556', '22072', '9296', '11790', '7386,75', '29065', '16479', '4490', '17098,2', '13010,94', '17510', '38810', '12465', '11422', '14175', '15291', '25020', '21197', '13500', '16063', '6578', '7975', '6598', '30596', '12899', '29388', '15771', '8055', '5427', '58500', '24100,83', '14625', '20587', '9999', '14487', '21060', '18099', '4240', '6819', '19522', '19630', '18631', '28715', '17100', '24300', '19089', '4879,8', '17184', '13965', '17568,3', '6069', '10260', '12478', '23230', '3770', '13959', '24220', '81612', '83194', '21690', '35669', '40180', '30681', '9264,69', '61600', '5611', '5222', '6787,8', '32765', '15832', '4542', '13490', '71400', '5820', '21355', '11598', '17399,2', '29386', '12636', '7595', '7709', '16048', '54000', '7452', '24500', '8640', '25599', '9989', '14094', '10442', '3385', '6350', '4000', '12397', '27065', '6700', '14781', '26150', '3654', '28922', '3848', '12645', '11810', '19446', '7950', '4097', '16949', '12990', '3039', '4963', '12132', '26730', '29680', '15638', '17520', '18119', '18797', '13695', '95441', '11130', '72000', '16990', '7310', '21861', '7348,52', '5128', '29975', '5920', '12283', '19415', '9800', '22225', '17592', '7182', '63700', '5405', '17308', '11700', '4140,2', '28490', '18304', '23204', '6820', '14490', '4952', '20100', '3904,3', '18410', '28186', '3717', '11345', '17880', '5796', '13193', '24239', '30837', '8438', '4405', '94358', '22945', '6643', '8652', '15856', '28090', '12720', '11192', '39276', '14645', '7250', '3440', '19925', '23399,2', '9050', '5088', '7640', '5772', '18144', '6018,39', '9398', '18210', '17790', '40521', '3099', '2819', '49100', '21190', '21597', '19895', '4436', '2704', '18361', '6396', '13325', '12435', '10024', '17670', '22180', '14795', '9310', '27260', '10360', '27598', '27986', '15912', '22898', '4745', '21717,92', '50000', '7747', '16627', '13780,82', '19789', '5489', '18882', '3305', '16197', '26120', '23251', '15036,21', '11030', '25220', '12530', '5738', '21312', '11288', '22830', '10359', '29450', '6750', '21062', '44000', '13150', '16820', '21658', '3575', '6219', '12495', '5494', '5632', '23202', '17949', '7368', '12896', '9198', '17545', '13060', '16265', '18740', '3929', '14510', '2219', '12639', '11100', '8056', '30756', '24423', '86900', '4199', '2599,2', '13383', '7090', '5295', '29590', '18045', '16180', '16849', '4534', '18898', '6590', '17339', '34190', '27270', '36093', '6550', '12945', '4463', '11986', '12127', '41397', '12742', '29933,4', '14639', '11405', '6273', '19567', '17550', '26817', '22789', '23000', '15389', '16425', '51000', '16005', '7632,92', '6048', '9031', '35035,2', '5670', '6381', '14618', '27800', '5871', '13355', '14574', '9520', '17480', '15740', '2380', '13981,8', '6928', '8856', '8840', '14050', '5545', '6035', '21600', '43376', '9053', '11093', '15705', '14060', '24030', '8127', '38408', '10852', '5131', '15110', '18820', '14288', '10424,6', '8763', '21673', '19177', '22490,91', '9098', '10058,5', '11754', '21814', '3779', '23109', '15027', '24858', '18198', '31850', '23450', '21496', '12249', '13112', '10450', '22384', '14383', '25050', '36527', '20252', '20350', '10938', '19210', '5337', '60080', '22520', '15363', '35787', '12400', '16550', '23758', '36136', '9000', '32914,31', '11670', '12347', '6165', '6309', '13880', '10523', '30390', '4920', '47195,92', '18734', '34990', '4830', '4915', '12044', '28557', '16244,9', '74700', '28215', '22660', '20488', '12890', '26054', '7830', '8341', '4315', '53000', '26529', '16099', '21648', '13221', '5018', '30920', '19460', '7544', '3387', '5220', '18578', '7471', '12542', '29612', '45900', '8544', '6978', '5955', '37350', '17863', '18599,4', '45297', '19560', '15435', '16198', '4390,91', '19320', '24035,5', '6424', '6507', '5097', '5977', '35522', '9371', '25447', '24740', '6323', '13734', '3619', '5800', '2050', '26848', '22482', '9840,6', '17424', '27971', '24475', '4785', '9400', '10782', '5908', '15127,38', '23453', '5839', '9899,1', '10650', '11586', '2028,56', '5221', '13872', '9009,91', '23259', '12488,25', '10659', '13948,2', '12417', '4892', '9597', '5353,5', '17988', '99308', '21624', '24650', '11470', '50330', '70047', '16189,4', '10640', '20242', '14580', '15120', '53091', '5231', '3792,92', '22440', '10548', '5930', '44660', '34650', '9282', '27356', '14197', '6295', '13934', '7968', '11426', '6364', '17615', '14747,1', '12822', '14530', '21592', '4207', '21347', '5684', '5077', '11590', '31250', '17851', '6081', '3399', '7766', '24174', '6479', '11692', '4904', '18250', '30340', '23625', '8929', '15650', '22800', '24346', '8070', '8617', '7899', '12328', '9200', '5200', '7970', '9230,9', '38406', '6116', '2930', '20179', '6960', '16045,2', '6452', '11936', '12325', '18890', '18999', '8185', '30500', '9349', '7991', '14494', '10085,9', '28428', '15616', '14215', '31415', '8899', '12566', '8690', '12197', '18074', '15347', '8298', '3046', '23331', '7507', '9350', '12628,91', '18686', '22864', '20770', '22320', '35960', '28820', '17575', '7440', '21938', '16868', '5480', '2263', '6935', '5879', '4986,5', '32481,83', '25105,1', '6086', '2520', '5683', '6090', '22252', '20658,2', '6556', '15806', '21586', '19200', '3542', '28674', '4125', '14035', '5806', '6237,03', '10737', '14365', '4428', '7137', '23735', '15512', '12310,91', '5706', '3769', '43950', '9298', '9985', '29760', '8011', '9460', '15390', '16520', '32444', '33996', '13689', '11935', '27190', '18162', '4664', '27342,5', '22528', '8420', '7795', '24479', '3448,8', '11264,25', '9755', '7107', '28509', '27080', '23659', '25299', '13740', '16322', '21736,2', '33190', '15290,7', '25829,1', '3100', '16781', '67795', '17631', '46600', '13438,3', '4072', '43880', '16998', '6609', '20670', '22192', '25498', '5230', '99540', '3784', '9956', '3187', '20200', '25263', '33660', '23822', '16065', '4671', '5755', '14950', '8377', '10190', '20753', '11615,4', '3328', '30826', '20431', '12816', '5193', '2160', '85270', '8118', '13709', '49653', '2150', '11687', '3894,2', '23200', '9450', '7660,42', '25936', '10585', '65400', '3023,58', '6776', '3200', '8870', '4740', '13700', '4570', '32415', '2872', '20295', '21999', '93400', '43573', '16447', '11776', '21204', '14480', '2880', '19145', '17567', '5366', '8753', '4250', '10720', '4807', '5099', '55000', '21650', '19099', '5370', '18413', '14688', '8456', '14528', '11900', '13669', '4239', '15700', '2580', '28778,3', '13001', '8879', '48580', '7563', '26941', '21380', '5510', '9496', '19489,91', '9367', '8901', '12159', '13665', '30600', '48600', '40700', '4477', '10767', '21069,8', '15547', '17170', '5339', '6510', '7370', '30224', '20536', '3990,92', '12950', '4812', '65250', '11977', '11680', '10920', '21400', '20443', '21900', '6457', '5265', '12411', '6514', '7183', '22872', '11496', '24552', '7448', '19340', '18573', '2540', '9702', '13351', '5988', '9655', '7920', '16785', '2158', '12038', '16428', '10479', '20430', '24923', '33192', '20679', '18175', '16407', '11600', '11409', '39900', '3383', '22618', '4930,95', '76300', '4596', '8619', '8280', '13680', '13301', '26049', '26590', '7629', '11764', '14840', '10432', '11571', '8091', '22280', '14994,6', '13952,73', '5399', '13496', '8892', '32970', '46921', '5694', '17780', '32940', '53364', '58567', '6205', '5144', '47529,91', '10566', '22598,1', '3307', '7660', '5645', '19235', '21704', '19977', '5347', '4843', '12450', '7123', '21240', '5140', '29280', '10780', '25240', '6021', '77860', '6870', '18030', '15895', '9710', '3909', '26489', '13479', '11315', '14185', '3883', '6193', '30603', '4369', '7978', '23530', '10712', '9759', '5488', '14880', '5995', '27560', '6527', '32790,9', '17752', '22250', '10210', '6327', '26642', '11456', '5005,8', '18392,91', '9009', '10846', '2680,4', '6792', '11266', '17400', '21895', '14481', '13208', '22495', '30545', '16191', '16222', '17613', '4752', '26315', '2910', '33459', '13747', '4401', '3103,2', '6469', '6346', '9480', '13310', '21473', '21270', '7892', '24330', '10855', '9430', '7063', '17366', '4602', '11060', '16081', '3179', '21382', '14472', '12130', '19950', '4754', '34466,4', '13860', '28899', '5575', '5016', '19769', '6793', '28026', '5661', '16743', '23598', '10438', '2691', '7895', '26170', '17950', '23126', '13990', '5799,2', '16740', '22105', '5818,5', '27248', '7425', '15160', '17648', '13259', '3231', '26090', '26397', '10618', '18130', '23451', '3789', '14083', '54700', '11441', '8889', '3137', '47247', '28098', '27283', '9452,97', '5517', '4891', '5707,8', '24085', '10525,01', '27012', '20277', '5736,6', '36350', '12019', '16000', '6625', '4700', '23320', '9167', '15540', '3849', '20433', '12947', '12546', '5160', '3150', '8000', '23148', '6080', '11990,95', '15200', '16530', '59590', '5404', '14284', '7500', '6530', '7100', '13140', '13719', '7040,92', '17529,91', '2800,85', '17397', '28472', '11204', '7191', '3894', '7632', '14596', '26138', '24380', '11194,06', '11333', '3069,9', '13567', '4640', '2440', '21570', '30946,29', '3255', '22756', '4040,1', '5681', '21298', '22969', '24000', '18389', '21899,94', '7249', '10061', '3825', '20880', '60000', '20903,5', '22100', '13134', '3924', '39160', '7335', '11666', '4420', '15725', '23577', '3321', '4758', '14430', '7407', '10991', '11600,6', '34390', '11529,91', '10805', '3646', '19390', '3188', '16875', '10528,3', '8568', '22799', '21770', '7290', '13018,1', '20040', '11778', '6217', '15523', '28842', '8951', '5058', '20088', '12029', '12902', '26790', '3301', '19959', '14994', '31990,6', '4479', '24830', '5805', '25584', '14199', '7240', '4689', '16850', '18022', '9919', '12057', '26499', '3892,2', '10394', '25732,2', '8950', '12616', '5364', '13387', '34804', '14678', '13136', '21597,8', '9809', '29997,24', '17995', '9325', '20883', '32310', '15481', '22302', '13895', '6580', '37710', '9341,5', '12136', '51750', '17716', '14340', '15760', '2590', '3239', '33300', '11999', '10338', '3764', '29000', '3141', '13989', '11808', '12680', '2599', '5987', '12655', '9224', '7433', '22188', '29285', '17060', '21827', '30720', '8156', '18138', '15830', '9180', '9457', '19315', '11219', '12320', '4548', '14193', '20129', '11796', '6665', '18096', '4710', '19079', '9718', '44225', '15020', '18121', '23945', '6467', '7919', '29750', '6950', '6313', '13748', '51300', '78000', '16418', '10755', '73300', '8498', '16450,71', '6361', '4527', '19798', '16872,3', '11202,3', '6168', '14144', '4090', '18330', '21919', '18350', '5867', '4630', '3032', '19500', '16766', '22345', '12148', '23820', '10998', '28042', '26896', '28242', '7441', '19497', '5757,1', '32293', '16399', '4326', '24233', '4729', '4827', '76730', '6097,5', '19830', '12451', '11853', '89344', '17770', '9759,4', '5505', '23783', '6938', '21050', '25490', '24741', '22419', '20297', '23437', '5889', '21450', '16350', '18105', '23944', '5840', '17760', '2095', '6653', '30350', '33760', '6299,72', '3865', '7540', '2366', '9097', '6893', '10864', '2490', '10274', '26380', '15336', '5544', '5913', '9977', '11916', '14599', '63320', '22650', '5898', '3711', '2730', '33470', '9432', '4930', '25800', '11466', '29294', '26430', '8199', '25898', '10220', '25406', '3801', '11115', '15466', '12854', '6338', '20790', '5409', '6782', '12944', '8730', '25765', '6519', '10665', '2300', '18547', '7404', '26750', '52509', '28600', '12600', '4770', '4182', '14257,91', '13409', '31400', '5279', '16491', '19897,1', '5400', '7280', '18319', '7848', '89200', '3998', '32449', '28241', '14916', '8410', '4365', '4560', '3173', '98644', '37780', '21810', '18269', '9546', '12725', '5678', '31806', '22124', '22349', '12784', '13785', '11630', '18012', '7620', '25966', '12537', '3580', '25179', '24017', '7369', '30615', '12884', '33088,5', '19597', '31885', '8858,8', '14925', '28640', '17560', '18370', '40480', '6998', '10193', '24810', '16498', '4804', '4070', '10757', '17839,92', '3930,81', '4262', '19000', '5445', '4099,9', '9733', '5388', '21721,1', '14013', '15045', '119700', '8129', '8049', '2781', '8745', '22275', '21989', '24263', '21724', '14052', '9994', '18460', '7667', '16980', '17490', '4475', '13392', '30170', '6790', '3537', '15975', '9169', '12557', '31895,48', '25998', '49838', '10457', '6311', '80000', '6730', '24027', '27381', '24833', '7909', '4756,5', '4252', '37508', '4400', '19240', '7713', '13566', '7780', '11996', '5577', '5377', '14240', '7650', '3541', '2498', '3107,7', '35142', '8108', '5748', '15367', '6696', '23411', '6109', '14755', '18711,05', '60300', '5724,2', '11034', '17247', '7984', '24983', '18468', '5798', '22011', '13728', '21105', '3196', '21710', '17076,2', '3276', '25639', '17390', '13790', '7151', '58541', '42950', '12463', '8355', '7381', '5721', '16993', '12455', '19498', '5440', '10233', '15806,5', '26337,6', '9913', '3659,5', '3630', '21154', '4297', '34891', '13462', '20393', '11212', '5715', '9899', '42930', '17624', '3350', '4370', '8097', '19382', '21784', '8694', '19184', '12059,1', '6498', '19021', '11650', '6071', '17272', '5984', '12829', '24120', '22904', '7084,28', '10417', '2310', '5590', '71740', '16455', '2030', '19730', '9153', '4110', '11850', '22338,94', '21960', '28294', '8470', '9879', '4290,91', '31990', '23852', '12412', '38058', '17940', '18497', '18910', '14942', '9430,38', '30735', '9158', '15565,5', '7645', '2514', '8638', '27480', '31933', '6096,13', '48700', '10114', '6118', '10420', '3040', '8350', '21300', '8406', '4599', '10466', '25343', '20768', '15090', '9719', '6850', '2248', '2282', '12940', '19993,4', '19820', '23985', '27637', '20229', '20877', '15442', '16092', '24750', '4386', '3899', '18696', '15079,91', '39388', '8460', '22167,6', '17110', '39020', '5761,9', '20090', '11159', '10435', '20565', '6781', '16634,5', '4672', '24795', '23030', '10419', '5768', '7068', '36260', '4590,2', '21595', '13650', '4210', '42000', '9950', '18338', '4890', '18510', '5011', '7940', '21410', '29875', '18491', '34900', '16908', '9351', '14316', '3050', '38830', '5634', '35580,91', '28530', '16381', '13350', '10230', '9170', '10400', '23696', '31190', '16865', '3808', '6575', '19611', '3389', '13998', '61832', '41990', '15800', '7499', '35744', '24711', '2970', '16920', '46729', '3540,2', '12499', '6520', '8390', '12572', '5298,1', '12474', '29100', '8648', '23029', '25683', '10431', '16200', '21890', '28340', '20610', '5555', '12800', '8920', '4727', '5064', '60720', '34396', '6278', '11190', '8297', '24682', '2759', '8955', '7514', '23517', '3480', '4628', '22150', '2290,7', '10790', '24690', '23680', '16189', '23711', '25538', '13541', '5270', '9380', '6299', '28950', '22896', '5490', '13888', '61920', '2870', '23050', '12512', '3359', '5676', '84558', '12290', '5310', '23140', '14520', '9774', '11740', '12219', '12850', '29980', '19133', '39422', '17261', '10646', '11748', '18318', '9395', '15490', '33450', '23440', '9923', '15427', '12246', '20272', '27880', '27898', '19189', '4050', '17025', '5710', '93000', '66578', '7824', '27706', '24270', '28247', '5759', '4653', '4882', '4408', '5487', '34618', '78550', '11880', '9116', '23584', '9349,92', '19375', '18176', '11897', '5207', '22145,1', '12090', '4319', '23660', '37456', '27769', '9980', '4629', '13600', '22269', '6145', '11710', '63000', '15299,9', '5357', '10496', '17546', '10342', '5594', '3850,85', '53499', '96000', '24840', '7580', '27347', '5297', '4885', '2090', '30729', '11368', '3590', '19106', '2009', '24506', '7900', '21290', '9117', '19591,36', '10591', '8940', '83871', '29691', '11526', '22264', '13882,92', '19839', '26970,6', '7857', '2224,8', '13050', '21808', '28431', '3670', '14930', '27040', '10057', '16701', '4260', '9590', '14391', '82700,9', '9060', '6863', '6130', '6146', '8906', '3474', '10112,8', '3798', '11833', '19230', '24145', '9270', '16838', '23663', '14310', '22121,1', '79679', '4962', '3180', '14976', '29199', '11279', '3515', '15482', '23688', '20748', '31882', '8424', '15999', '18799', '22324', '8100', '9417', '20960', '21990', '25783', '9850', '6883', '23304,6', '22413', '4738', '19060', '13590', '5023', '9498', '12575', '8480', '36805', '28410', '15036', '23795', '19665', '4592', '25150', '17254', '8320', '10124', '8669', '13920', '16783', '34630', '14999', '14900', '17324', '14527', '55846', '7570', '17955', '21238', '7698', '33830', '26060', '31491', '16786', '47223', '5300,9', '29070', '7590,31', '18602', '14497', '10188', '6101', '20409', '31014', '11304', '8340', '11025', '16605', '12598', '8020', '9370', '17873,75', '30000', '16840', '7157', '5080', '22307', '6639', '12972', '10189', '25515', '6240', '2031', '22640', '18719', '2578', '16547,3', '17231', '3520', '8416', '29493', '17112', '6997', '4329', '9397', '13577', '10690', '37017', '3731', '13312', '4041,9', '24945', '21479', '9405', '17360', '10080', '4079', '10799', '26232', '19905', '13199', '11450', '6502', '27970', '17572,68', '4195', '56130', '16715', '5950', '9477', '17704', '7083,05', '13447', '17503', '4704', '28160', '16039', '21490', '10580', '9855', '6797', '12443', '67500', '19886', '27228', '9219', '33800', '5599', '13644', '29948', '7181', '8033', '14750', '5285', '19899', '40000', '3490', '15748', '15067', '13388', '3195', '9536', '9689', '17140', '2947', '23152', '4107', '11223', '2844', '8750', '12213', '25904', '12330', '35326', '5550', '10854', '23400', '13230', '3280', '15615', '39780', '25109', '15290', '2165,16', '10950', '18463', '15440', '19720', '16551', '11395', '13498', '40499', '69282', '23499', '27340', '21295', '37752', '10075', '7066', '2720', '25271', '3195,9', '7376', '26461', '14204', '22522', '6256,8', '20498,1', '9107', '24198,2', '22700', '29300', '17097', '4970', '4018', '13025', '8116', '25122', '13122', '3245', '34280', '22627', '14798', '18960', '8188', '9971,3', '22330', '48920', '7105', '10972', '11259', '30150', '19520', '7574', '30940', '4978', '24520', '7649', '4645', '12410', '4741', '7279', '7319', '2629,8', '5351', '23800', '7908', '18004', '8500', '43996', '3681', '15790', '31404', '7800', '24700', '31910', '26547,1', '38725', '9928', '3682', '20390', '19521', '10890', '6246', '19540', '3990', '17990', '4675', '37495,2', '6739', '7258', '10999', '7486,1', '5508', '3322', '21480', '25937', '12710', '25360', '17111', '11376', '7648', '3604', '4290,9', '4495', '14140', '24470', '17347', '19120', '8675', '3190', '6893,7', '13320', '14230', '39741', '29471', '14206', '32750', '20856', '7829', '26780', '11500', '43010', '51140', '4590', '23395', '19608', '15033', '27990', '22394', '24495', '9681,5', '13120', '19810', '29478', '51200', '6380', '4546', '37517', '24400', '7469', '8057', '8560', '26022', '6570', '3868', '3450', '52469,87', '8253', '17203', '27124', '18399', '12741', '9574', '26000', '10935', '15380', '9342', '18260', '17091,9', '35400', '14717', '9295', '10990,2', '15010', '46695', '28338', '27510', '11490', '31000', '15359', '16750', '6150', '40900', '28930', '42320', '17531', '97000', '19187', '12672', '10617', '3358', '18535', '34200', '7741', '9347', '31790', '25211', '23470', '29990', '24647', '10631', '8770', '7391', '16650', '15065', '24600', '21499', '15220', '4858', '18990', '21700', '18560', '27360', '29206', '7169', '44290', '26928', '16030', '11724', '18445', '11927', '82800', '5455,8', '29630', '18246', '7638', '15756', '20280', '4994', '8517', '20313', '7769', '5740', '23784', '17765', '13690', '23399', '11674', '26461,91', '3413', '5017,9', '12960', '15314', '19044', '5143', '18190', '33700', '12903', '13993', '22329,67', '19295', '29490', '29592', '17398,1', '27645', '8389', '10708', '21082', '8399', '8595', '5219', '20530', '39638', '11392', '67950', '9080', '16507', '6119', '30325', '2873', '17279,2', '5119', '16985', '8453', '8067', '62000', '3834', '26800', '60500', '17399,1', '19490', '7917', '7152', '9160', '14169,1', '20590', '9876', '10373', '44100', '6892', '50400', '9614', '31490', '16380', '23290', '13494', '4765', '5185', '34148', '22497', '32700', '20397', '11080', '24458', '11363,99', '17010', '42928', '10169', '18692', '25812,5', '18575,2', '28745', '24675,85', '3051', '13326,5', '21460', '6584', '88312', '16470', '35991', '8860', '4150,95', '8918', '3879', '16436', '2748', '6647', '15640', '19050', '14356', '12991,82', '10295', '23737', '10422', '17530', '19350', '12389', '10769', '15280', '50177', '24580', '56310', '45500', '6889', '28932', '17050', '26690', '3420', '7509', '32076', '16519,02', '26085', '26997', '5870', '18667', '26720', '10323', '6202', '6504', '24962', '3617', '17075', '18240', '8278', '17906', '6710', '17800', '11660,93', '6007', '22299', '9670', '27493', '16362', '11495', '10319', '9866', '4209,2', '18220', '10262,2', '11787', '14848', '3400', '13263', '11305', '10445', '83106', '16859', '29052', '15270', '33111', '6982', '13792', '51685', '26462', '13440', '30230', '20370', '14081', '21505', '22635', '13847', '29830', '3722', '8529', '31520', '29789,91', '8508', '19880', '15732', '4923', '5793,3', '6323,33', '40824', '15237,1', '13275', '2089', '16975', '22600', '50879,83', '13155', '11750', '6490', '6141,75', '3961', '4339', '13930', '51570', '6740', '8010', '6182', '33320', '7410', '10599', '22460', '26199', '5516', '2039', '21685', '23971', '9892', '6189,3', '6991', '4122', '3647', '3320', '13290', '4780', '5304', '23825', '16290', '8050', '12734', '25492', '14438', '27796', '8744', '23999', '20519', '49490', '3718', '15000', '22213', '24295', '10910,6', '13620', '57593', '20091', '51700,5', '25574', '7060', '6300', '24119', '7194,72', '34391', '13989,4', '9690', '13250', '5700', '13769,2', '30925', '12910', '31596,92', '2299', '11081,52', '21994', '5888', '4589', '14189', '6127', '27550', '78390', '94300', '6089', '21484', '24125', '8360', '17453', '11416', '9990,91', '32200', '12803,4', '35683', '16450', '12092', '11335', '14360', '11247', '26837', '3205', '13539,2', '25992', '17361,76', '8680', '7695', '8543', '5989', '8412', '10939', '4670', '19482', '9340', '7180', '10555', '7510', '9120', '41132', '7473', '36490', '2447', '6885', '25950', '6898', '23485', '21550', '38553', '35640', '9280', '12290,94', '16814', '3222', '21328', '5109', '7511', '4984', '9586', '26395', '22162', '36177', '20050', '9900', '11359', '25990', '40581', '20570', '15398', '9095', '21746', '4595', '6255,15', '28220', '6910', '4118', '20424', '17422', '27950', '6108', '5268', '98996', '47704', '17350', '21802', '10836', '7170', '8902', '23865', '24450', '2559', '18800', '6030', '6049', '26485', '21482', '15325', '38000', '3660', '11349', '51900', '17712', '7272', '16733', '4964', '14280', '24047', '5032', '9019', '7839', '11590,92', '14450', '17920', '18054', '18270', '27470', '14000', '13520', '41700', '22621', '14669', '7002', '23110', '9580', '4082', '14300', '16910', '13420', '23397', '20871', '19650', '9790', '7493', '43373', '8286', '21021,9', '3762', '22962', '6726,1', '3138', '17073', '25587', '23890', '6181', '3220', '12750', '25713', '28060', '12097', '13280', '23396', '23677', '5150', '9573,1', '4826', '6365', '10265', '12506', '10936', '91168', '8235', '22490', '8311,29', '21670', '30930', '29699', '6567', '17370', '21980', '3398', '16370', '4520', '19627', '19736', '14660', '20343', '22927', '4336,2', '4703', '8997', '4581,87', '23040', '3949,92', '11487', '3339', '26183,5', '12460', '21750', '16999,82', '15030', '10904', '4835', '6766,4', '41211', '18725', '88300', '7201', '5504', '10149', '28502', '8180', '11768', '30300', '16999', '9979', '9960', '18861', '13298', '5580', '8088', '11440', '3960', '22230', '2490,92', '11370', '17470', '18150', '6561', '3240', '7965', '22214,69', '32292', '25760', '51370', '11225', '10879', '22920', '20620', '28722', '34493', '5689', '4399', '14493', '9606', '5859', '3006', '12210', '59760', '7582', '33510', '10818', '16052', '32650', '17633', '13825', '6023,7', '17045', '23900', '9680', '16948', '29690', '4842', '13900', '11270', '9839', '11150', '21170', '18049', '21280', '27714', '7556', '5906', '10322', '6624', '24370', '12890,92', '10992', '23998', '30372', '97220', '13499', '14773', '5990', '16280', '10320', '10740', '12220', '5051', '26479', '5745,12', '5290', '17432', '8980', '18280', '2000,51', '7020,9', '4820', '10844', '16590', '7530', '17276', '17340', '20789', '14700', '10048', '6264', '77210', '45672', '50940', '8195', '5832', '9467', '8078', '18984', '9440', '37500', '6834', '14725', '6640', '12593,7', '18010', '16996', '12508,2', '6698,3', '22977', '8492', '26140', '23154', '10088', '4600', '4800', '13918', '6690', '6822', '74690', '2421,9', '5910', '7867', '18251', '56000', '4064', '20644', '8984', '15727', '8977', '21195', '13390', '23700', '3015,2', '6945', '5994', '14595', '7794', '20053', '19674', '50929,82', '7581', '4039', '13139', '9013', '4650', '34740', '30738', '9499', '10735', '21589,9', '19301', '4169', '23478', '44697', '15840', '20305', '12520', '8490', '13891,5', '4773', '25167', '4889', '15582', '14766', '3308', '24459', '13087', '18780', '17298', '3134', '13780', '29898', '12597', '27150', '31015', '28991', '27816', '10900', '41490', '6345', '20086', '33978,63', '28280', '38340', '17082', '7224', '24587', '4572', '3983', '3492', '23579', '9801', '19850', '5751', '19550', '4493', '35610', '12713', '6283', '9470', '26999,2', '27846', '5309', '4274', '28050', '15552', '6099', '11804', '10240', '19930', '25820', '45438', '6445', '7394', '9137', '20826', '17966', '7985', '10750', '16576,2', '20190', '18790', '10990,94', '49860', '13399', '44560', '63776', '5548', '6918,34', '18777', '32828', '21780', '41470', '6783', '9550,82', '35550', '2457', '16883', '18881', '38800', '6650', '14590', '13592', '27600', '3942', '6856', '4257', '13460', '37360', '2995', '38200', '18740,5', '4243', '14570,01', '6848', '20356', '13940', '4350', '20480', '4500', '23280', '18632', '28500', '17885', '13197', '3898', '13326', '12790', '11665', '27980', '27790', '12061', '33183,4', '19143', '9973', '31560', '10584', '19040', '19760', '6298,6', '12211', '7296', '29788', '48900', '6033', '10238,82', '19890', '8825', '10671', '28079,84', '27700', '21717', '9127', '13679', '32500', '14130', '7417,5', '8697', '22999', '21536', '11691', '4148', '9237', '18170', '29780', '16687', '19150', '18949', '8186', '4878', '20079', '4644', '24160', '26989', '25625', '6260', '10981,82', '14245', '4499,2', '35990', '3740', '11489', '25702', '13287', '22098', '25570', '21850', '2700', '8090', '3959', '21578', '30656', '2600', '2799', '17815', '20600', '5037', '20767', '20263', '26051', '20755', '15150', '11943', '14328', '6733', '7605', '33862', '36000', '10917', '27620', '20060', '6594', '47691', '6411,72', '11502', '9917', '25313', '26276', '13190', '22057', '7550', '5940', '27060', '6377', '5837', '4845', '21470', '9534', '8233,95', '13843', '7089', '28983', '9069', '21920', '15097', '16449', '4191', '21615', '10268', '32397', '9290', '9422', '18668', '18001,28', '64660', '11396', '5450', '14550', '12900', '19790', '8685', '2190,2', '5533', '21286', '3547,42', '16512', '13978', '29266', '11290', '16214', '9468', '7173', '9567', '17842', '17980', '38032', '7047', '4170', '19245', '8797', '17910', '8237', '49000', '23608', '30391', '10964', '15820', '84500', '5650', '2238', '12919', '5465,26', '5688', '6199', '24281', '31875,3', '16989,92', '16420', '36980', '16833', '45863', '6916', '44415', '3980', '35165', '20477', '21265', '6220', '23689', '5825', '27810', '10837', '2200', '4810', '6455', '20999', '3448', '7998', '7539', '6181,09', '11698', '13443', '22428', '25840', '5720', '10987', '29177', '5817', '16107', '16257', '4180', '5045', '8869', '15824', '10628', '11751', '7745', '27744', '16278', '14330', '5333', '8210', '14890', '5426', '35900', '12702', '25720', '35825', '17998,2', '4212,9', '12860', '21889,92', '7189,6', '9908', '14092', '5456', '6596', '10310', '17697', '3737,6', '4949', '6552', '6236', '10870', '11817', '22050', '5936,81', '7787', '23094', '40313', '19857', '12427,1', '19085', '13227,7', '19877', '4114', '30420', '12868', '15500', '27962', '88555', '26560', '10646,2', '14709', '4047', '10248', '75535,08', '11170', '4969', '13456,82', '5921', '6245', '3940', '10071', '37857,2', '15370', '3614', '9268', '44900', '6658', '19751', '10770', '13138', '15255', '5790', '6200', '19170', '22015', '22498,2', '10773', '18500', '13040', '7035', '13115', '12317', '23103', '3538', '26500', '24003', '40756', '12646', '12651', '10525', '5500', '10170', '93890', '20294', '29790', '27370', '15524', '2635', '8720', '2399', '4986', '20706', '22040', '32000', '14770', '28900', '17263', '19970', '20536,1', '6779', '9438', '21999,2', '34905', '86041', '10752', '7302', '6622', '21974', '22390', '5438', '2955', '7022,7', '24900', '4491', '17049', '8430', '26660,2', '16780', '11798', '20990', '3284', '30313', '29650', '11580', '19929', '12849', '17952', '62468', '16010', '12935', '28775', '20059', '10040', '3889', '12309', '7327,8', '32175', '16648', '8532', '3616', '22848', '8530', '19129', '29677', '7655', '34821', '28221', '22980', '15875', '14800', '22560', '6470', '16285', '8303', '8698,1', '13990,92', '8935', '9596', '28116', '14098,1', '5765', '14219', '23108', '12470', '14910', '22310', '4302', '25100', '7039', '60888', '6522', '21487', '2961', '4139', '6272', '38832', '22930', '11302', '5340', '29697', '19670', '24408', '6830', '2250', '15670', '5746', '23475', '16950', '8995', '17501', '12284', '13180', '28039', '17193', '14990,95', '3230', '4680', '11795', '17840', '11350', '5152', '11876', '17080', '20046', '12541', '22860', '13456', '24605', '15496', '27449', '10089', '83000', '16800', '8978', '77000', '3035', '29460', '11753', '23882', '17000', '10539', '32770', '6616', '20979', '27820', '7342', '9130', '19626', '27540', '8098', '6489', '6672', '12730', '3861', '26547,3', '20338', '9497', '11860', '24399', '7300', '4115', '11938', '20820,44', '81423', '12110', '15810', '13090', '7019', '12080', '15927', '5120', '12310', '18450,8', '27196,1', '14927,83', '28999', '5855', '3464', '9448', '20155', '13820', '25749', '29220', '8754', '90747,9', '5448', '24465', '7430', '14250', '6518', '8970', '4555', '8128', '19011', '59224', '12421', '2389', '17248', '10647', '32975,3', '18206', '3143', '14470', '20640', '19005', '7680', '13433', '12345', '27850', '52295', '4281', '9660', '96860', '2798', '3877', '13016', '21619', '7908,1', '3033', '3109', '14097', '33500', '3561', '6430', '18857', '7597', '21880', '14160', '19791', '5195', '27759', '13720', '21500', '3565', '8188,04', '8846', '15704', '3636,9', '3715', '18784', '7334', '5730', '9212', '25386', '15327', '21030', '7776', '22616', '7749', '7207', '4290,95', '12872', '12631', '5472', '8373', '70936,32', '19750', '18649', '5899', '29430', '30190', '33126', '6397', '24195', '25350', '20928', '15190', '13400', '8132', '16979', '4936', '23989', '7498,9', '8890', '6209', '14698', '27780', '25700', '25662', '4270', '4268', '26082', '4175', '3640', '29661', '19280', '30131', '61540', '6186,7', '6130,8', '9034', '8793', '96490', '12012', '13830', '3429', '13137', '10151', '24199', '9738', '18698', '38880', '15998', '9789', '7588', '11560', '3798,9', '3376,8', '8597', '22990', '10084', '9425', '12980', '6785', '15910', '22792', '12120', '35332', '89196', '22590', '3548', '21728', '6500', '13688', '5190', '2979', '11429', '2450', '18970', '36308', '81743,87', '15272', '5019', '4673', '25225', '10704', '8833', '11677', '6263', '11133', '6360', '11113', '23745', '10287', '19940', '9551', '21209', '18225', '23137', '12700', '34020', '11718,94', '14005', '21216', '7558', '12840', '10778', '27348', '27990,91', '25631', '13507', '5346', '3771', '9429', '7380', '14990', '7609,5', '14489,2', '39865', '17860', '5189', '3498', '28162', '8767', '41021', '7050', '27096', '14796', '5708', '21464', '21950', '20063', '47900', '19989', '26740', '7197', '13536', '16596', '30418', '10605', '28551', '35600', '6496,1', '6529', '8943', '28933', '12598,2', '11646', '12989', '23070,6', '45160', '3140', '15400', '2489,4', '19610', '18624', '4312', '11243', '14820', '5848', '7845', '25695', '12398', '2372', '2125', '8905', '2270', '13835', '21510', '22670', '4642', '15100,82', '9862', '22880', '30960', '3390', '8755', '2620', '27795', '18358', '31020', '3850', '13875', '4366', '2790', '21778', '3824', '4896', '12906', '21440', '2899', '12472', '26390', '8844', '17509', '9300', '3045', '12810', '11300', '4470', '2421', '18068', '15210', '17420', '11297', '6470,9', '3628', '6660', '10687', '11148', '24949,09', '7140', '10467,1', '32810', '30980', '23575', '10279', '16263', '9276', '5267', '23780', '18200', '5025', '61487', '19417', '13257', '5397', '26538', '4430', '11340', '23226', '5525', '11940', '24190', '17146', '5105,7', '58947', '15293', '18374', '21865', '2999', '16440', '33292', '30344', '21398', '29336,4', '46540', '24490', '4089', '26961', '29334', '16736', '11524,79', '3001', '12350', '11518', '13800', '6947', '20580', '3854', '49743', '3375', '20550', '6838', '10439', '3890', '28070', '8880', '19404', '22798', '15788', '7490', '71243', '16140', '32576,5', '20007', '13360', '27860', '29500', '17450', '46960', '6103', '5573', '6494', '17006', '5232,2', '19900', '75424', '41170', '23197', '81000', '21858', '8780', '11689', '25158', '43682', '8204', '6354', '94330', '8300', '19218', '38625', '7515', '11685', '6757', '87570', '16834', '26339', '4351', '3034', '22290', '3876', '8429', '39800', '25317', '6004', '9949', '30299', '9338', '10034', '14469', '10648', '45034', '8610', '20648', '21075', '28400', '9287', '10347', '29001', '18100', '22458', '38778,01', '21907', '14201', '19128,41', '29944', '3114', '3499', '17946,2', '2610', '25080', '12300', '11434', '34000', '16298', '20355', '24314', '37656', '12745', '10560', '21984,55', '64500', '19316', '14398', '19169', '30361', '15763', '15121', '8998', '21080', '4212', '6800', '8606', '15127,4', '18426', '16880,91', '7452,4', '23009', '3460', '7949', '5100', '33476', '7997', '19991', '26641', '13240', '10508', '11180', '6481,8', '17290', '18340', '3434', '11151', '5043', '9545', '5850', '38850', '12810,94', '12687', '7088', '5320', '9389', '22645', '21350', '3072', '24871', '45820', '7713,42', '21940', '10775', '11455', '8047', '42689', '37881', '9515', '12250', '10198', '13205', '17476', '11398', '9529', '6129', '6291', '3340', '18580', '19008', '10830', '25182,4', '35670', '17702', '34140', '17273', '28728', '2879', '22900', '12610', '7750', '5530', '5050', '9845', '5078', '3996,9', '17930', '24290', '13985', '6920', '5748,3', '12509,9', '14338', '6429', '21985', '28971', '12480', '25180', '28955', '13829', '10550', '6950,7', '10448', '11842', '15340', '21870', '29694', '16776', '13148', '4042', '15292', '4360', '6983', '6809', '12898', '6865', '15795', '18085', '14917', '22240', '9393', '22410', '12820', '19740', '11540', '5912', '23216', '27680', '17850', '6585', '40050', '10025', '9650', '3760', '13527', '8200', '8440', '14661', '4217', '15279', '20650', '23600', '7340', '13448', '14758', '3410', '16260', '6948', '20140', '37069', '4869', '17367', '9823', '23480', '65747', '16977', '31466', '7291,85', '9990', '8625', '10471', '19046', '4683', '9768', '20475', '3271,5', '7416', '4132,5', '16995', '28273', '17558', '26490', '91536', '12209,5', '16748,1', '28055', '4508', '9996', '16653', '5055', '28970', '29653', '27180', '13389', '16040', '14651', '6843', '29198', '11635', '31070', '5625', '24070', '27890', '7327', '27617,1', '12818', '36730', '12554', '7459,6', '8292', '7289', '6854', '26988', '8988', '4248', '11040', '15096', '21640', '13793', '29877,3', '18490', '23186', '8360,92', '21730', '19860', '6720', '26440', '11899', '4031', '78150', '11280', '4452,91', '22947', '20874', '86071', '17962', '7400', '28517', '8068', '6967', '18819', '24130', '7230', '9830', '15880', '18730', '18913', '13344', '10231', '3545', '7551', '24236', '16317', '44495', '13198', '78800', '17970', '14396', '21481', '7336,3', '4979', '3650', '16760', '10115', '22940', '9594', '19420', '7618', '23220', '21630', '2495', '16389', '15575', '4872', '37000', '8117', '18707,1', '19660', '28172', '21943', '10575', '2511,82', '23410', '20987', '17820', '44879', '10912', '10506,76', '16460', '13039', '27448', '9427', '7247', '12678', '13336', '17865', '15602,5', '20792', '7947', '36570', '13671', '6980', '4318,2', '4150', '8225', '4928,96', '5602', '53400', '10428', '3405', '14998', '5520', '45952', '25000', '4135', '23797', '5995,46', '5360', '6873', '8644', '2430', '4679', '12889', '45280', '9995', '33100', '9072', '25900', '10610', '4292', '19805', '4648', '5030', '14659,2', '28110', '3500', '3418,5', '6039', '13745', '4284', '6525', '18553', '3030', '5949', '4781', '46000', '23391', '12999', '8741', '12650', '28810', '16940', '5330', '26886', '40084', '31499', '6966', '9030', '8960', '9651', '18962', '35943', '8788', '15034', '22195', '6620', '18840', '8244', '23840', '30110', '18582', '19593', '39690', '13430', '3639', '20520', '7120', '18964', '8442', '10740,64', '32955', '55174', '14495,35', '16240', '15899', '65000', '17388', '9647', '20095', '2119', '13492', '12549,07', '6719', '4935', '7763', '28059,81', '24940', '5639', '9240', '14891,92', '35563', '2990,92', '19990', '2104', '36500', '12424', '11786,85', '3752', '22530', '25385', '13615', '18603', '12835', '5280', '11488', '20375', '34499,2', '9835', '5384', '22589', '17810,82', '4403', '31460', '6374,78', '23297', '42669', '15770', '5937', '4608', '26330', '11135', '4880', '10060', '9840', '5605', '28421', '12365,2', '11655', '10470', '9998', '3717,9', '43515', '5562', '31060', '9749', '6490,5', '8034,2', '13641,3', '7547,2', '17756', '20133', '19125', '10245', '13294', '24680', '5208', '3316', '6190', '22168', '7348', '35940', '14938', '6190,92', '26241,6', '5085', '3820', '30060', '16324', '99000', '10300', '7760', '8609,92', '9189', '14385', '7850', '14670', '40490,91', '13267', '12640', '8725', '4744', '9825', '12670', '14949', '4661', '3385,92', '6906', '25081,98', '15041', '11322', '7687', '31580', '3875', '30974', '19765', '11230', '20980', '3430', '21930', '2990', '20143', '23020', '3780', '22200', '30599', '26091', '29615', '14787', '8064', '116360', '5350', '3591', '15904', '25632', '4328,1', '32706', '4910', '20205', '18140', '85100', '5398', '3314', '28594', '8487', '4498', '11620', '23990,83', '2268', '5415', '35520', '7478', '22672', '20237', '12070', '20490', '28580', '50970', '14620', '3874', '6073', '21200', '30520', '2135,14', '12318', '6919', '3602', '4005', '26355', '30630', '9629', '6899', '23772,27', '7353', '18495', '3329', '11489,91', '6758', '16879', '11565', '12711', '19960', '17688', '14571', '5799', '15857', '22881', '9230', '24777', '5091', '2065,5', '4690', '3668', '4454', '23715', '11519,1', '14636', '5090', '11651', '10150', '14996', '10590', '17451', '7480', '13009', '15085', '78120', '4947', '32822', '14110', '4117,5', '5835', '4940', '4858,1', '6539', '5391', '6925', '9577,8', '4476', '21762', '9955', '24630', '7373', '26365,6', '20220', '6163', '6691', '16897', '4860', '31538', '5282', '3745', '25260', '5499', '15201', '12696', '25999', '3080', '39830', '11389,2', '52200', '14320', '37818', '2255,4', '14090', '65629,5', '13730', '7236', '25140', '14610', '5699', '4633', '15309', '18690', '9365', '10225', '39600', '9420', '7513', '15890,9', '6860', '3061,45', '11362', '6336', '15883', '24405,4', '13630', '13598', '24210', '15216,06', '28308', '3555', '17316', '9390', '11446', '7220', '26695,8', '2420', '3651', '13670', '66680', '18990,5', '9648', '29970', '36701', '8658', '20009', '20575', '7860', '14380', '27498', '16499', '24502', '20820,2', '12393', '10841', '12789', '4922', '22951', '53169', '2151', '12580', '37400', '31730,91', '10789', '25280', '5103', '5922', '10800', '20495', '3000', '20609', '4380', '15789', '13640', '28258', '34916', '15822', '18328,6', '2305,8', '14965', '11970', '5540', '26890', '23365', '14065', '24752', '5218', '34806', '11978', '4165', '30197', '27750', '8886', '49798,1', '2850', '14678,63', '17043', '4398', '3123', '20659', '11039', '12708', '8285', '14279', '10440', '25780', '4840', '4726', '4799', '6746', '5723', '6166', '13635', '88440', '24112', '6053', '7360', '10630', '6979', '9533', '11321', '23166', '15580', '29580', '13489,91', '34100', '10354', '8445', '9074', '18171', '6799', '7523', '7578', '6462', '6678', '9610', '4919', '13248', '41000', '24260', '11240', '12490', '4941', '10463', '10670', '5778', '13995', '22500', '10381,5', '8262', '10497', '15960', '21112', '5941', '11690', '13910', '12599,9', '27070', '5680', '18599', '6993', '2998', '15980', '7200', '15320', '29858', '31300', '35060', '28890', '30471', '14765', '73230', '27895', '23406', '6050', '15170', '6460', '23240', '10238', '4314', '42300', '98136', '7693', '9360', '5928,1', '28850', '20298', '8190', '21580', '7878', '6652', '28208', '13469', '4730', '26321', '11765', '6192', '14148', '87600', '22509', '12251', '50568', '23351', '6191', '10570', '13476', '8381,5', '19542', '31333', '10147', '14119', '27398', '9456', '5436', '8102', '34699', '7307', '28700', '33000', '13580', '20499', '18290', '13000', '13686', '26990', '8762', '20381', '5243', '13315', '7472', '6599', '6201', '4658', '13841', '3916', '16110', '13698', '28230', '11126', '10361', '18980', '10695,13', '4265', '14921', '8630', '11723,2', '9837', '3294', '19746', '11330', '10853', '10609,2', '22244', '10734', '74319', '19734', '88000', '15696', '7450', '20943', '17346', '15843', '32540', '18880', '18080', '5857', '10205,5', '4485', '3570', '14449', '15269', '27934', '9315', '25897,4', '10480', '25627', '18481', '10350', '8775', '16561', '13727', '2745,9', '10600', '16160', '13289', '9061', '4140', '10738,5', '5000', '12390', '5690', '3289', '25520', '17020', '12198', '8536', '23268', '13770', '12405', '23920', '4293', '15350', '13386', '10668', '17039,91', '9870', '16272', '9308', '5329', '35369,4', '53162', '5849', '14850', '36910', '11529', '16199', '4973', '6461', '4241', '12843', '8912', '3744', '11769', '24200', '12170', '7210', '19620', '24275', '26770', '26410', '18782,2', '20500', '20069,33', '10158', '14854', '3028', '12695', '6679', '11090', '4349', '39090', '11720', '7679', '4499', '10490,91', '10348', '5345', '6559', '21218', '24599', '18470', '14498', '39327,2', '28755', '4879', '22970', '33255', '13165', '4372,2', '19051', '17594', '22570', '4869,66', '7858', '11819', '20989', '22656', '14165', '9040', '23490', '16064', '2907', '9042', '11377', '27690', '2240', '5542', '7905', '3528', '10960', '4428,1', '7797,6', '19491', '6560', '7208', '12797', '12360', '9447', '7700', '13302', '26115', '7174,6', '3335', '19920', '10616,4', '8322,77', '16571', '5170', '8400', '3955', '19110', '4838', '22427', '25641', '11070', '4535', '21475', '21214', '37480', '7729', '12290,9', '4598,6', '14730', '20598', '5110', '3501', '6876', '25460', '12498', '11730', '8432', '10499', '6748', '6136', '14522', '11310', '22455', '11619,84', '25830', '2689', '25145,79', '8699', '10611', '9250', '7888', '21388', '8389,91', '2936', '26555', '40410', '20786', '12240', '24950', '10352', '6290', '7980', '9986', '12100', '3237', '17150', '31810', '3353', '3337', '31484,1', '58900', '2889', '10339', '2855', '3886', '14350', '9021', '9443', '25320', '10495', '4607', '16141', '15850', '18538', '28469', '5606', '36400', '10001', '2975', '13750', '4041', '6732', '12570', '19439', '4720', '17763', '5665', '5669', '27208', '23315', '6796', '6319', '5869', '32335', '15165', '6027', '9907,2', '8150', '16416', '29443', '4540', '14243', '35530', '4911', '20699', '15625', '38108', '4746', '7498', '16020', '6170', '16489,9', '25459,3', '31050', '3090', '22905', '25896', '15599', '21866', '16630', '6741', '11188,14', '5600', '13216', '4983', '15480', '10390', '28059', '2797', '21646', '16194', '4779', '8883', '3674', '20700', '14500', '7166', '18230', '2048', '31474', '3130', '20863', '6707', '9010', '5616,15', '16501', '14399', '14355', '19772', '7098', '6301', '18891', '5931,8', '10616', '18380', '15099', '29782', '8948', '41498', '7872', '13550', '4610', '45000', '20710', '2190', '8295', '31726', '12189', '12099,1', '7651', '6770', '9248', '63271', '13441', '62700', '17280', '25623', '19976', '6189,92', '4788', '27589', '5435', '2428,2', '4967', '6115', '17714', '7459', '20720', '5155', '36086', '26818', '6440', '5060', '20995', '20450', '12514', '6941', '20592', '5288', '5482', '30198', '17173', '24897', '35145', '16680', '10520', '5840,5', '5610', '12995', '6449', '16690', '19689', '17270', '19797', '19513', '18472', '29942', '70500', '14629', '4177', '12239', '8268', '22194', '36290', '17595', '28417', '5620', '8380', '6867', '7611', '12737', '8979', '10860', '75581', '13110', '2072,7', '7954', '27877', '35500', '25897', '12782', '16100', '62240', '8777,1', '4413', '25250', '28224', '13768', '10073', '13488', '29742', '6904', '30580', '6538', '3749', '37200', '5247', '29663', '6940', '9550', '12591', '11460', '12150', '25887', '8600', '13332', '5135', '5718', '3048', '8717', '23358', '10700', '100000', '15720,91', '15199', '11799', '12228', '11477', '8604', '2724', '4377', '31702', '16379', '3215', '32850', '5355', '7902', '13366,2', '20802', '42940', '15897,92', '18630', '13495', '7229', '9769', '11871', '18425', '39254', '15647', '4469', '3167', '7369,7', '5178', '17320', '20882', '21086', '7422', '17250', '20320', '9176', '19343', '16730', '5900', '8735', '8650', '33900', '18458', '8598', '3970', '13591', '13950', '25989', '27446', '35000', '11920', '14229', '7040', '4998', '3300', '18689', '4850', '2957', '15100', '58640', '16704', '20992,78', '9846', '13455', '9600', '22750', '5239', '5830', '7204', '11400', '8994', '10478', '33330', '24570', '10500', '17448', '6386', '9804', '8393', '22140', '25330', '15695', '18217', '14390', '21760', '20562,2', '8549,9', '5760', '6399', '7880', '8405', '13382', '18360', '15690', '12597,3', '74650', '22080', '22761', '10880', '20225', '12280', '5988,46', '11175', '13302,83', '12760', '59398,2', '4743', '26920', '31991', '8641', '18849', '14513', '20698,2', '15214', '15602', '8547', '27580', '7147', '16691', '32041', '16600', '7730', '8450', '18855', '15950', '10389', '23950', '9260', '15685', '12833', '7996', '5424', '7470', '10410', '12160', '7614', '7198', '7492', '23975', '4120', '17398,2', '16330', '31716', '7497', '9490', '8095', '25899', '4487,4', '3354', '12799', '14560', '28016', '18650', '9278,1', '9526', '11789', '6721', '32980', '3489', '5789', '4611', '25983', '15240', '79910', '2245', '50652,94', '15468', '13173', '18398', '31800', '29900', '14420', '2120', '19220', '25680', '20779', '3419', '34150', '19047', '19602', '7128', '27670', '14637', '25420', '56518', '7337', '7101', '20196', '23500', '89640', '25600', '44440', '4647', '17593', '15865,65', '16615', '16063,29', '24223', '2045', '23355', '10910', '41400', '13975', '6420', '18204', '19547', '2330', '5824', '24283', '17220', '20601', '10194', '15920', '21381,12', '6247', '9858', '73996', '11445', '26600', '10216', '15619', '21498', '11308', '17310', '5980', '11021', '7798', '13563', '10021', '12236', '19419', '30999', '11325', '28420', '17769', '46500', '22085', '2088', '3119', '17901', '8184', '4188', '10680', '3827', '19529', '18885', '9525', '73306', '19844', '20699,1', '4189', '15985', '4330', '23128', '98030', '8832', '14196', '6875', '11389', '24466', '59629', '49500', '10971', '4440', '23104', '19589', '78400', '22091', '32370', '6749', '7189', '16112', '11589', '23861', '3185', '19945,35', '30796', '4934', '19457', '4497', '18895', '46385', '17230', '89018', '24344', '18414', '2183', '7869,61', '8419', '19699', '28310', '11926', '3411', '5687', '14860', '3879,17', '11199', '14387', '25300', '21936', '27886', '11303', '30031', '20660', '2595', '3920', '12053', '37437,66', '19745', '16669,84', '10576', '11954', '6419,78', '19410', '37790', '13178', '3296', '9760', '6780,95', '40500', '14030', '5312', '7559', '4982,4', '58490', '11725', '10430', '5176,8', '42180', '3540', '12845', '17838', '13850', '15319', '19140', '27298', '4208', '12581,89', '35097,66', '7439', '13710', '13463', '9573', '27088', '8900', '23940', '70410', '16700', '13063', '12560,01', '8689', '52000', '3951', '19045', '5197', '10551', '18020', '21150', '15755', '29599', '5095', '7820', '3600', '23347', '8308,35', '21800', '4674', '12384', '38570', '6682', '6475', '2860', '4729,72', '18224', '17430', '10970', '7910', '14989', '20379,5', '84000', '17826', '31900', '33280', '13922', '15680', '14718', '11583', '3285', '80440', '10795', '13421', '23037', '23124', '11085', '34700', '43732,8', '6056', '7589', '2412', '16170', '2165,4', '92000', '8666', '57209', '3690', '25137', '19377', '93947', '9484', '8102,08', '6959', '10656', '41171', '4775', '8369', '26871', '14600', '30686', '22662', '2341', '22959', '32499', '26379', '34766', '12095', '6881', '2974,15', '24280', '23044', '8230', '7516', '30590', '6180', '4641', '13365', '20179,3', '13284', '10191', '5005', '3269', '26900', '4080', '20862', '4100', '27673', '18240,91', '14209', '12454', '9251', '7299', '11800', '34335', '30799', '16220', '79770', '12749', '34199', '13490,2', '9100', '2350', '15128', '7677', '5040', '6975', '19464', '4968', '46881', '34120', '27995', '15393', '10505,5', '31263', '7209', '7735', '16988', '2322', '4488', '5775', '9791', '15247', '3357', '15838', '9621', '6480', '14980', '19983', '3396', '10801', '17750', '61000', '56673', '5225', '84630', '8038', '17040', '12348', '8790', '8648,5', '3710', '6887', '22950', '29094', '7610', '17649', '27313', '22870', '13020', '2333', '16798,2', '28460', '70300', '2638', '32844', '26100', '15470', '9278', '16720', '23830', '29234', '3238', '10374', '72890', '11077', '3380', '23147', '24340', '39028', '7150', '30455', '21847', '16395', '13141', '12998', '15518', '2699', '23854', '28781', '14857', '27490', '6088', '10100', '61290', '4244', '11637', '7755', '6662', '31833', '16090', '39240', '18724', '11116', '13599', '11995', '17775', '18700', '23774', '5419', '11189', '21665', '14744', '7637,63', '5636', '3270', '58670', '25640', '4999', '7285', '14047', '9576', '22498', '12959', '5482,3', '41451', '9880', '4624', '5296', '18006', '13130', '8589', '23516,84', '31694', '20750', '28565', '11296', '20510', '7642', '8990', '24059', '12606', '16390', '6619', '30428', '10989', '18972', '8580', '33881', '11323', '2439', '4212,8', '15890', '40037', '3743', '15750,91', '25588', '15887', '20630', '16773', '31587', '27450', '4462', '4013', '7891', '17660', '24550', '12948', '8850', '27010', '12339', '24929', '32387', '4725', '3690,82', '19250', '4060', '18899', '10250', '6651', '4768', '22286', '23650', '35450', '6780', '7115', '5089', '10925', '3815', '26174', '9445', '15372', '21915', '96200', '3199,2', '23552', '23382', '25390,94', '3885', '7163', '10134', '26450', '7395', '7443', '14680', '32900', '27599', '12195', '5175', '20653', '7455', '29880', '14947', '13435', '30370', '40970', '14885', '14760', '35770', '8110', '79380', '8120', '28666', '10330', '19889,92', '14006', '10398', '26034', '16579', '32100', '4435', '18050', '24667', '38250', '61250', '9530', '21860', '6537', '4221', '5929,95', '15930', '29205', '13300', '11966', '16662', '16190', '37880', '12024', '6858', '22599', '26596', '11298', '19570', '22110', '21207', '9416', '22293', '24760', '16598', '8289', '75500', '17091', '10429', '6139', '5359', '14891', '7890', '20850', '28684', '26400', '20690', '20939', '25960', '11727', '7390', '3493', '7625', '9570', '26379,91', '13916', '24717', '16392', '6477', '10785', '4389', '3063', '24867', '19883', '9085', '15745', '5389', '27250', '16616', '13889', '22781', '10760', '41125,88', '5890', '13905', '19082,3', '5897', '33821', '8270', '14960', '21901', '3424', '8633,7', '23912', '41210', '90000', '4750', '23390', '7130', '2400', '7199', '16185', '27922', '23310', '3275', '14406', '60829', '2751', '5560', '12048', '4450', '7796', '27130', '14780', '31672', '6197', '16367', '19290', '14948', '37640,77', '18540', '15889', '15780', '5999', '14609', '13649', '9464', '15629', '12599', '24800', '9241', '21520', '13848', '20317', '4996,8', '9461,5', '4777', '9004', '3560', '44500', '5865', '9730', '3391', '16824', '4458', '9326', '12511', '18592', '12914', '2890', '27020', '31588', '19748', '27000', '21128', '4095', '16669', '17538', '16823', '15215', '5880', '14593', '21740', '9700', '21009', '43631', '25785', '22395', '11779', '12385', '13229', '3549', '10526', '12138', '3869', '34422', '4130', '13439', '13530', '17099', '97026', '21688', '86618', '30879,55', '7132', '35950', '29707', '6546', '13887,68', '19260', '25480'}\n",
      "\n",
      "\n",
      "==========\n",
      "FST_PAYMENT\n",
      "{'557', '1084', '9996', '5705', '3264', '915', '5260', '42906', '7945', '1264', '1482', '346', '3597', '365', '376,21', '2825,5', '658', '2373', '341,1', '54870', '1178', '2205', '2608', '1025', '439,95', '5950', '2510', '1703', '7495', '1094', '1371', '1091', '39910', '305,1', '8800', '863', '2020', '383', '1520', '2349,6', '3720', '1557', '1500,92', '10008', '9272', '11020', '2092,94', '4900', '4567', '2233', '977', '2482,84', '2157', '899', '9190', '3194', '2958', '1865', '40000', '3490', '8710', '5130', '3195', '3669,6', '3500,6', '510', '1499', '2947', '2000,79', '2000,6', '35800', '6326', '6075', '2019', '319', '22097,99', '384', '8750', '33694', '5148', '1560', '5198', '1048', '6400', '9375', '1110', '1703,2', '4980,91', '2265', '5550', '5108', '5300', '7464', '7400', '3280', '229,5', '3270,82', '2000,2', '1457', '3369', '10950', '7230', '2327', '5375', '1322,9', '15091', '984', '55982', '2805', '2680', '2444', '5352', '1337', '4898', '2241', '2597', '3064', '6370', '2469', '276,6', '1046', '3545', '28800', '2720', '3680', '800,82', '39804', '7600', '9418', '3010', '849', '17610', '1921', '2632', '3650', '2323', '1216', '1399,7', '2916', '840', '2500,4', '1155', '767', '5445,92', '9824', '1899,9', '727', '1469', '3795', '2112', '375,2', '2495', '1595', '4490', '8117', '33590', '8540', '4018', '2649', '1398', '7990', '1866,6', '2180', '855,9', '3245', '1771', '3502', '868', '2047', '8650,48', '724', '217,5', '729,1', '4353', '13500', '953', '1185', '2567', '1874,7', '1003', '4000,5', '11027', '4978', '6598', '857', '5305', '2865', '30660', '1132', '281', '2025', '5660', '10152', '100', '12144,42', '1638', '23800', '349', '344,8', '1112', '561', '1220', '8500', '10512', '6532', '7000,5', '7800', '485,2', '2010', '1625', '1000,67', '13395', '2898', '25000', '1760', '7883', '5460', '2430', '1198', '19521', '2487', '3990', '4675', '315', '29080,92', '544', '5373', '11597', '772,3', '6509', '7238,86', '1489', '10260', '1148', '250,6', '2213', '3105', '9254', '3685', '1009', '3500', '676', '3078', '10759', '11000', '2861', '223', '379', '531', '7000', '5631', '549', '9788', '32750', '42518', '3984', '3030', '390', '1004', '5611', '1547', '1430', '11500', '1095', '1629', '4590', '12999', '332', '1700', '2650', '5000,91', '574', '1135', '2807', '5820', '2000,9', '7080', '3450', '2079,02', '7124', '2237', '130', '1179,6', '3872', '24500', '4346', '8640', '4990', '560', '26000', '25599', '9574', '5002', '3385', '395', '1806', '4000', '3290', '22000', '9770', '3000,68', '6700', '804,5', '1767', '539,09', '718', '1680,82', '1549', '10000,1', '3880', '7950', '65000', '249', '2500,8', '739', '1181', '1188', '3930', '4935', '11490', '1445', '31000', '2007', '383,2', '16750', '1653', '5437', '4510', '1036', '3039', '19990', '1885', '1004,2', '515', '860', '2098', '4395', '6554', '1543,5', '439', '3752', '1030', '625', '392', '6257', '599', '10637,7', '1956', '436', '358,1', '1957', '2780', '799', '1261', '15000,4', '1293', '1835', '6196', '4983,2', '7794,92', '1608', '10200', '682', '1850', '2338', '612', '4318', '4403', '2810', '225', '9800', '631', '5038,1', '1559', '1546', '2099', '19958', '2230', '2698', '249,3', '930', '988', '5767', '1530', '7547,8', '12000', '2260', '4995', '6820', '138', '7541', '735', '3717', '3975', '5562', '416', '1488', '1126', '921', '659', '1717,92', '1745', '2640', '663', '1973', '7477', '5044', '268', '4660', '3524', '669', '1509', '4521', '6160', '4310', '4806', '3212', '2776', '1244,7', '1328', '3829,6', '1995', '6491', '2179', '1600', '6398', '10515', '859', '1255', '2740', '2840', '7250', '2429', '3413', '1233,2', '3440', '455', '1814', '3260', '9096', '5928', '5143', '14385', '7630', '10090', '3097,8', '1089', '1394', '1348', '610', '1680', '1000,92', '1226', '29032', '16000,1', '368', '754', '29860', '256,2', '3099', '1776', '10041', '2437', '1400,1', '8389', '4546,8', '13613', '1417', '2616', '1150', '213', '9639', '1571', '6396', '11230', '936', '6646', '4850,8', '4517', '1279', '43359', '2990', '12335', '3780', '677,5', '8064', '5350', '10933', '1102', '814,2', '50000', '3609', '7747', '355', '9472', '4910', '565', '1444', '46300', '292,2', '1487', '2605', '4498', '3516', '2500', '3183', '9661,66', '2013', '1373', '16086', '6750', '3433', '1820,94', '3874', '1915', '7519', '1866', '2550', '3899,95', '1056', '2625', '3575', '363', '1999', '480', '11080', '1725', '3602', '48800', '4005', '3135', '1060', '350', '4632', '9871', '713', '7586', '7740', '842', '952', '813', '777', '2286', '712', '5246,5', '3346', '1632', '2848', '1498', '3160', '2060', '27350', '9754', '2070', '9602', '1200,8', '8879,48', '9695', '3092', '1815', '4199', '29590', '4690', '2200,91', '1204', '2888', '6995,92', '2437,5', '8008', '861', '1170', '2826', '8688', '197', '638', '3595', '2999,9', '5383,85', '26802', '3374', '1072', '54910', '26565', '7480', '2491', '6550', '51929', '1331', '1374', '918', '1092', '960', '1161', '2877', '2244', '8164', '1026', '23000', '4476', '9955', '596', '1708,5', '1284', '3678', '6007', '720', '3209', '10465', '2700,75', '2348,8', '39487', '5670', '5844', '1355', '5979', '4742', '4139,36', '2530', '1363', '3995', '316', '9520', '3621,7', '2380', '3364', '862', '3810', '1969', '3745', '4194,3', '5609', '10706', '5499', '3400', '1512,1', '2630', '11292', '2121', '14753', '2253', '1259', '306', '640', '3080', '1225', '982', '825', '6151', '3084', '5001,9', '53530', '4190', '2192', '2279', '11754', '8263', '2384', '1207', '1247', '2149', '920', '21094', '3779', '6625,16', '9288', '637,3', '1475', '4953', '1395', '39600', '1196', '5244', '5999,2', '2044', '14440', '9898', '874', '4498,91', '2015', '5248,91', '6641', '8522,2', '2024', '432', '2763', '2370', '3014', '599,95', '2937', '527', '1287', '12500', '3073,8', '737', '2500,95', '2816', '10502', '555,2', '3555', '698', '9000', '1159', '1876', '1640', '3511', '2039', '4091', '8342,38', '542', '1369', '3108', '1978', '2420', '1566', '3320', '449', '13670', '1360', '409', '18589', '1619,95', '1573', '405', '1975', '2729', '5074', '2080', '3900', '1140', '1651', '269,1', '4830', '5461,11', '6138', '1339,9', '3416', '13539', '4828', '748', '2926,4', '650,95', '6010,3', '941', '2670', '12044', '2989', '15000', '2151', '16070', '512', '4315', '949', '2667', '21648', '1200,2', '3000,4', '1561', '5735', '1949', '589', '16657', '10800', '1990', '3000', '1912', '1952', '1605', '9922', '9500', '530', '1689', '6300', '2570', '465', '845', '25405', '2383', '1245', '10394,5', '8274', '5540', '1933', '14100', '4160', '5700', '738', '5097', '3599', '12910', '575,2', '1876,25', '6127', '6323', '2850', '1013', '681', '3619', '962', '5800', '6340', '4398', '2142', '1460', '3304', '234', '2130', '1960', '283', '3550', '1302', '1841', '1491', '2050', '41580', '393', '1180', '894', '558', '2852', '3205', '1899,1', '2129', '5838', '26550', '8688,09', '8680', '709', '50442', '9400', '5989', '692', '10650', '2222', '633', '765', '1246', '1271,1', '1059', '1599', '2708', '2869,9', '54929', '14190', '553,6', '4235', '3360', '824', '1108', '556,2', '2285', '656', '8945', '2703', '6320', '3787', '2398', '2538', '1700,92', '7816', '4919', '1500,5', '6100', '1018', '552', '41000', '449,1', '16400', '418', '1034', '1351', '50', '22500', '9900', '639', '10497', '10729', '20595', '959,3', '695', '1107', '1353', '11024', '1570', '1450', '798', '938', '6910', '1051', '2998', '586', '1824', '7170', '7200', '3165', '706', '2559', '18800', '855', '528,5', '2053', '3228', '2857', '272', '1999,94', '580', '2259', '38000', '3660', '444,1', '443', '6050', '3159', '8618', '1768', '792', '711', '545', '1151', '1979', '1222', '4027', '9267', '1785', '4480', '1138', '2920', '14000', '3687,5', '11528', '1368', '2493', '8190', '6317', '891', '1516', '2500,2', '1800,1', '53541', '2178', '16515', '10460', '1278', '1453', '4082', '1400,95', '2152', '12251', '5200', '9200', '2835', '2930', '4712', '2247', '5075,84', '269', '10147', '75606', '2564', '9790', '2863', '3138', '4340', '3220', '10516', '49200', '1574,1', '11200', '1029,41', '323,25', '2915', '5150', '13776', '2000', '6900', '13580', '1686', '1784,81', '1510', '2690,92', '1273', '0', '6365', '5245', '3650,1', '1805', '13000', '1015', '870', '1366,05', '1702', '1433', '2235', '7507', '7567', '10557', '260', '3311', '14640', '15939', '2900', '478', '3569', '646,5', '2375', '1318', '2271', '3319,7', '3398', '468', '868,83', '2263', '4817', '1290', '4986,5', '1309,65', '510,9', '2520', '1010', '3916', '742', '1522', '1201', '787', '1111', '14200', '3339', '1090', '21750', '1087', '2364', '10227,2', '6000,95', '1514', '3245,95', '3294', '2710', '3414', '8751', '404,1', '5504', '3104', '7142', '2549', '9568', '6699', '8180', '754,2', '3158', '2357', '457,5', '9979', '9960', '2778', '7795', '5580', '1202', '903', '11440', '51127', '3000,91', '535', '3960', '18080', '3830', '4715', '2528', '3240', '10205,5', '11233', '1139', '1648', '3570', '1250', '2584', '1399,3', '643', '34492', '10434', '10425', '3415', '1392', '3100', '538', '1035', '4399', '40758', '13818', '28257', '10350', '3006', '11221,5', '205', '1810', '772', '1834', '2199', '1719', '1442', '1789', '3257,04', '311', '2239', '3277', '2331', '16500', '3790', '238', '7764', '2560', '18152', '23900', '1195', '5000', '5690', '3000,2', '1700,91', '485,8', '2315', '4000,92', '48052,1', '1840', '890', '3126', '955', '3186', '889', '3328', '948', '1871,75', '2160', '2409', '760', '508,79', '720,2', '10000', '1486', '70940', '10026', '1392,4', '25400', '2150', '5990', '1955', '1717', '19355', '2878', '4000,9', '9391', '1458', '877', '2934', '1312', '1889', '2604', '4820', '1249,95', '3200', '22400', '2248,1', '1523', '1880', '1609', '1900', '1884', '4268,72', '820', '13700', '1393', '431', '834', '2796', '280', '456', '2001', '2345', '5226,9', '1620', '2294', '3020', '7049', '3470', '4275,2', '1897', '4206,8', '20000', '5000,1', '1376', '1928', '2880', '26410', '2651', '1847', '5234', '435', '5366', '18850', '19924', '4225,44', '4250', '3028', '626', '11090', '2688', '55000', '1238', '4499', '6923', '3658', '4600', '4800', '1116', '11900', '2858', '1434', '20644', '200', '4014', '34698,2', '334', '4239', '2170', '2482', '1240', '2580', '23700', '14935', '6945', '1890', '1493', '1100', '340', '2410', '562', '4138', '460', '690', '979', '400', '500', '2029', '650', '9047', '2985', '1016', '3223', '9040', '2231', '4650', '1524', '1340', '1364', '2885', '780', '5847', '3585', '2499,8', '21900', '14221', '943', '2240', '508,5', '12520', '1077', '3451', '645', '688', '1508', '2115', '680', '3236', '551', '4352,37', '2832', '2504', '7700', '1199', '940', '5081', '2540', '3335', '2532', '1252', '757', '1405', '1500', '3134', '1870', '5170', '8400', '750', '880,2', '430', '1248', '39400', '1120', '10900', '422,1', '6543', '900', '7185', '970', '370', '11600', '930,91', '3492', '4587', '2011', '362', '4348', '1504', '1281', '3087', '14220', '6748', '4274', '3677', '2289', '1000,89', '3371', '2689', '21839', '1408', '5786', '1365', '1239', '375', '10240', '1550', '9250', '1519', '3605', '1786', '1267', '845,5', '10015', '6228', '336', '3159,86', '10750', '4053', '2745', '3730', '684', '1064,2', '1721', '655', '1660', '1326', '440', '3187,74', '2000,4', '3170', '1735', '571', '1980', '1940', '6290', '1063', '7660', '4925', '12100', '950', '1821', '3337', '1440', '16481', '17500', '304', '868,42', '5902', '1168', '2855', '330', '514', '38800', '6650', '2522', '508', '5140', '2290', '1361', '1305', '1996', '635', '2962,1', '1517', '50120', '644', '18735', '2975', '13750', '2390', '3403', '4350', '995', '3657', '159', '6000', '1779', '4500', '730', '723', '446,05', '2954', '4720', '60360', '697', '1075', '247,2', '652', '500,39', '11762,27', '4916', '1899', '11425,8', '2204', '5761', '475', '2413', '44963', '1555', '481,8', '15140', '4992', '49356', '377', '2280', '717,2', '788', '9793', '12211', '239', '1970', '1291', '4823', '4565', '6357', '1888', '4746', '4752', '210', '783', '4809', '2910', '4011', '1860', '615', '3703', '3090', '41774', '3003,3', '9480', '5600', '3169', '4335', '258', '5703', '2797', '1165', '9664', '14990,94', '433', '667', '1619', '7913', '463,2', '1544', '359', '1693', '19950', '869', '413', '799,5', '1700,95', '14500', '2077', '1670', '11382', '10619', '1598', '3740', '3130', '2175', '2901', '7623,3', '605', '4267', '1213', '2700', '7631', '10', '413,1', '1759', '1297', '296,8', '2600', '648', '479', '8099', '60488', '1330', '835', '45000', '3449', '26090', '7633', '11673', '9838', '4390', '0,92', '2190', '6670', '2830', '736', '1722', '4444', '1379', '6495', '9248', '40664', '1920', '837,91', '16293', '7670', '4343', '5517', '4788', '4579', '16484', '4455', '1820', '1093,4', '3901', '16000', '5022', '7550', '6115', '5940', '4700', '5177', '2358', '2403', '367', '5155', '1503', '13200', '2299,9', '15600', '555', '2340', '515,85', '5060', '1374,88', '6603', '1470', '1333', '3150', '8000', '911', '419', '846', '1674', '2569', '2040', '987', '300', '2668', '10981', '2283', '7882', '847', '3198', '1877', '779', '1050', '7500', '5610', '2355', '339', '7100', '150', '177', '13140', '1383', '3023', '3202', '1625,2', '4666', '7528', '3363', '3124', '3765', '10695', '875', '5450', '893', '1670,69', '2084', '371', '1829,43', '6999', '10725', '372', '3298', '1243', '4177', '36330', '4640', '5726,3', '5814', '524', '2440', '1300,92', '2690', '230,3', '3293', '4504', '929', '1802', '1540', '120', '24000', '725', '1780', '2166', '818', '1418', '1055', '18400', '3568', '10527', '1837', '3997', '58800', '2460', '16100', '5752', '1272', '1338', '5650', '60432', '2238', '2900,5', '3088', '3266', '7243', '695,2', '1400', '2415', '2110', '24500,03', '744', '4948', '9037', '2028', '3980', '776', '3718,2', '3639,5', '3249', '1327', '816', '9663', '1340,92', '1452', '9550', '250', '2200', '10162', '1597', '5718', '3448', '1231', '10700', '2459', '6217', '7447', '2572', '1622', '3215', '1572', '2966,2', '1313', '2688,69', '1752', '4030', '496', '5817', '9964', '6174', '1123', '479,8', '1883', '46832', '7240', '917', '1438', '8250', '4289', '5045', '3297', '8082', '62250', '1399', '5811', '1535', '1999,2', '63219', '827', '13126', '1828', '7116', '19556', '4081', '5750', '5900', '8650', '1656', '1556', '6399,9', '588', '4949', '985', '2749', '5033', '9325', '3970', '2578,8', '2940', '990', '525', '1830', '1288', '598', '3120', '1329', '4536', '473', '469', '1175', '35000', '4550', '1182', '1275', '2590', '15500', '168', '3300', '2477', '364', '752', '3907', '1292', '853', '1948,92', '2599', '3043', '3086', '2508', '553', '48210', '686', '1567', '1823', '677,3', '5192', '5790', '6200', '2499', '9600', '285', '1050,92', '2096', '4287', '1160', '9457', '3157', '3538', '10500', '9699,69', '9039', '2320', '10525', '5500', '636', '2635', '381', '2399', '6481,31', '5760', '7880', '290', '1115', '965,92', '1962', '230', '2076', '6950', '749', '539', '608', '1575', '1809', '5985', '573', '2955', '2197', '1765', '4743', '2052', '973', '1065', '480,9', '1005', '2911', '529', '2716', '2022', '4870', '590', '3484', '11548', '2114', '3284', '4387', '965', '630', '1591', '15886', '570', '9784', '519', '3136', '2596', '5240', '8', '1842', '5667', '781', '1860,9', '522,4', '18588', '4197', '887', '8450', '464', '691', '2368', '606,2', '729', '320', '7125', '11660', '1677', '1869', '1266', '7590', '2210', '301', '6541', '18000', '50642', '4944', '10136', '774', '759', '1855', '10397', '1854', '2004', '3442', '3454', '9490', '6929', '6297', '1813', '12358', '2454', '838', '1892', '2760', '1011', '619', '16350', '9991', '832', '2352', '1008', '7261', '2892', '4048', '2095', '1534', '1895', '1385', '848', '3489', '694', '2199,95', '2696', '2356', '601', '6890', '2754', '769', '2218', '1280', '10140', '1790', '2245', '2712', '3172', '2490', '1708', '793', '5340', '1958', '15701', '2078', '5722,21', '2250', '1922', '1901', '2490,95', '2588', '3711', '1229', '2730', '15670', '1691,6', '5038', '7128', '1705,5', '5746', '1898', '2949,7', '674', '240,6', '10000,92', '1279,9', '1121', '1914', '3735', '1410', '2062', '1000,1', '1649', '3230', '4647', '4680', '756', '1484', '8349', '964', '1474,3', '5812', '4145', '2045', '1370', '1515', '326', '2758', '1080', '2067', '594', '6782', '6519', '3137,9', '2999,6', '2330', '1635', '2300', '1507', '4358', '3334', '1099,9', '1130', '668,71', '12600', '4770', '1500,2', '2017', '1563', '4434', '1715', '1788', '1125', '2293', '20890', '1924', '13807', '5000,87', '669,3', '5279', '4937', '1041', '5400', '489', '17000', '2135', '3100,1', '1106', '1152', '969,8', '999,2', '14786', '1682', '5980', '3148', '18375', '6410', '3173', '4393', '927', '1002', '878', '559', '9444', '2765', '2419', '618', '540', '513', '1615', '46500', '2299,8', '2506', '8125', '2088', '1141', '833', '3119', '11860', '7118', '2316', '1666', '7300', '1171', '21696', '1200', '1818', '7019', '1812', '4330', '5120', '746', '1959', '6875', '1936', '6933', '3250', '2442', '4619', '1685', '495', '438', '9016', '386', '3318,4', '445', '18900', '10467', '1190', '6000,81', '2405,69', '1845', '2027,7', '19000', '20645', '947', '517', '628', '3149', '629', '299,92', '2016', '1655', '2186', '9020', '3037', '2055', '1770', '7506', '1341', '1701', '999', '2798', '2772,13', '1255,41', '2555', '1480', '3935', '2587', '1012', '3537', '606', '728', '1257', '1071', '1047,82', '4155', '3439', '4697', '854', '1389,8', '1099', '1987', '998', '1799', '2864', '2156', '247', '3411', '3534', '2288', '6730', '8040', '910', '2952', '546', '4280', '1590', '1610,4', '4400', '25300', '10007', '11924', '21500', '13519', '1961', '3538,92', '507', '1260', '5730', '2595', '4950', '5784', '7776', '2498', '1872', '4846,96', '6000,1', '7207', '3408,8', '40100', '2784', '4798', '980', '5472', '4040', '11890', '1431', '3969', '1268', '1610', '140000', '1050,33', '5899', '1490', '410', '2997', '2674', '6712', '4245', '25089', '1556,8', '22399', '14806', '542,2', '1894', '13400', '1750', '1306', '2223', '299', '490', '4363', '13790', '867', '2000,92', '1053', '1310,62', '8700', '75570', '8900', '309', '4270', '4708', '437', '576', '815', '5387', '696', '1690', '3999', '1042', '5440', '3000,92', '1989', '2000,85', '0,95', '520', '1639', '2467', '1082', '12012', '5010', '758', '687', '726', '2517', '7707', '5095', '2845', '7820', '3600', '1545', '1739,69', '704', '11560', '3310', '1039', '1093', '672', '710', '1565', '2458', '3350', '2201', '2860', '2980', '4370', '9425', '7420', '613', '6785', '451', '7822', '4851', '2034', '2167', '6500', '3510', '49038', '2811', '1997', '7520', '3110', '2775', '1525', '934', '2450', '1501', '15680', '499', '2000,7', '2310', '8923', '715', '2220', '10795', '2480', '7531', '2328', '775', '7174,87', '2030', '7095', '592', '675', '1781,83', '4110', '10051', '3252', '1146', '6832', '2433', '7110', '2198', '2335', '2041', '3610', '458', '583', '2046', '1910', '4045', '323', '12700', '2514', '4775', '2173', '1596', '373', '459', '1533', '2750', '799,92', '1300', '2324', '19151', '3333', '3498', '3330', '1751', '1864', '1253,7', '1661', '7811', '13203', '160', '4080', '5708', '2653', '1495', '2887', '2248', '885', '4100', '830', '1730', '450', '620', '3774', '2614', '13536', '1270', '11800', '1384', '1584', '627', '4230', '2470', '1710', '3435', '2350', '3899', '2935', '685', '1179', '363,5', '554', '1634', '1704', '3265', '6975', '3840', '13526', '1497', '2287', '17110', '3370', '399', '3140', '1119', '400,2', '30303', '795', '353', '11044', '2800', '694,2', '786', '1290,6', '4364', '745', '1251', '11320', '4098', '1950', '7298', '4597', '7845', '579', '21000', '3357', '2770', '2372', '2125', '2270', '6480', '4086', '1210', '3299', '2697', '2062,5', '925', '6820,45', '880', '13650', '1875', '4210', '391,2', '3666,2', '1873', '3390', '2620', '1829', '8790', '2950', '1098', '3710', '5532,66', '3850', '1992', '2014', '2790', '10000,2', '2346', '1740', '3495', '3700', '3015', '4523', '2333', '2899', '7669', '1819', '9300', '10696', '3045', '345,3', '3050', '8000,91', '1808', '2140', '6513', '426', '10270', '11076', '60245', '1235', '4184', '10230', '10400', '2206', '3380', '3107', '1153,5', '1143', '50500', '6575', '1991', '1671', '1129', '4686', '634,2', '7148,1', '2414', '5521', '1176', '8328', '407', '7836', '1479', '2970', '276', '1081', '457', '900,2', '1786,9', '1630', '3482', '8390', '6445,86', '11337', '3870', '2571', '1049', '2615', '4430', '17669', '6957', '1020', '10100', '10489,92', '3060', '1360,92', '638,7', '1720', '1103,85', '10723', '770', '11116', '10431', '337,1', '2634', '14448', '1350', '800', '420', '2655', '1380', '2923', '3270', '2375,68', '470', '1778', '7020', '8734', '1399,8', '425', '366', '3800', '2515', '3426', '839', '2472,5', '446,88', '1269', '4551', '2518', '7034', '3480', '4989,92', '2228', '1588', '5145', '1841,91', '20550', '764', '811', '4739', '2006', '1731', '677', '3235', '1935', '15900', '3750', '7165', '415', '1694', '1581', '3210', '567,3', '13360', '681,2', '6882', '2870', '29500', '2981', '2598', '3359', '2660', '1147', '1411', '1994', '950,92', '7259', '2347', '380', '3162,71', '3822', '19430', '653', '25131,59', '3749,74', '509', '1197', '8816', '2485', '11689', '2360', '3444', '3049', '1000', '2394', '2000,22', '3469', '1124', '2698,93', '8300', '6325', '4060', '1648,5', '1103', '956', '10098', '11990', '4768', '5398,1', '1831', '778', '1849', '3055', '4050', '3278,9', '3815', '5710', '1580', '2535', '1000,95', '2846', '4263', '3885', '4653', '7395', '3000,95', '5210', '3688', '4320', '448,9', '2200,05', '1299', '31350', '705', '5036', '6844', '9445,95', '2647', '3216', '13772,82', '516', '660', '700', '780,1', '1999,8', '2849', '3846', '337', '8499', '387', '4319', '14760', '1001,7', '3114', '8120', '5998', '3499', '342', '642', '1650', '3288', '10330', '4186,59', '3800,2', '4815', '2610', '4629', '1737', '564', '12300', '974', '2132', '1420', '34000', '1424', '10560', '9530', '895', '2131', '1512', '7553', '13300', '9750', '797', '5594', '651', '8998', '2420,1', '4000,22', '1930', '3794', '421', '3943', '6789', '6800', '1320', '2325', '1303', '1256', '4593', '637,4', '771', '1455', '389', '54230', '622', '1477', '5100', '2387', '293', '5000,8', '2090', '873', '616', '299,1', '3590', '2369', '1880,2', '1158', '858', '16250', '7900', '48156,13', '1040', '1937', '7659,01', '8940', '1679', '989', '75500', '10177', '2665', '4020', '5850', '7995', '942', '1070', '9910', '1386', '1899,8', '670', '3392', '1540,84', '5320', '3620', '4185', '7964', '2457,9', '2698,89', '9528', '7953', '3214', '541', '3670', '251,1', '7270', '498,6', '810', '1800,2', '933', '888', '4260', '9570', '1763', '567', '1356', '808', '524,85', '54080', '981', '1515,7', '912', '6599,8', '369', '1215', '4580', '2593', '9270', '1219', '3340', '9108', '2643', '2702', '7805', '3902', '5890', '3180', '740', '4300', '755', '1254', '4000,91', '732', '3100,3', '2586', '49582', '6387', '6990', '2879', '503', '53370', '1265', '7750', '5050', '9845', '28000', '17930', '3950', '6837', '790', '8100', '1939', '3463', '4200', '4750', '10267', '600', '5250', '485', '6534', '828', '1295', '1271', '1528', '1887', '2400', '2753', '5023', '3275', '9498', '1289', '8480', '10550', '2751', '5560', '4450', '8320', '3763', '52182', '1695', '54470', '780,3', '1058', '1390', '1172', '34923', '6610', '699', '649', '905', '3298,92', '1462', '532', '5361', '3596', '1230', '2155', '4360', '7350', '429', '2574', '1463', '3976,32', '10095', '5999', '1500,95', '1069', '14940', '2686', '734', '3679', '16668,82', '1000,2', '700,83', '1343', '7082', '6600', '2613', '10980', '2803', '5744,5', '24800', '9068', '3760', '1800', '2395', '3318', '1796,94', '8200', '4198', '9411', '44500', '13100', '9730', '3391', '2100', '468,1', '2136', '3095', '3698', '687,7', '30000', '1422,6', '2553', '3410', '2890', '8820', '56638', '511', '2455', '6948', '424', '27000', '4095', '602', '690,95', '2365', '2547', '352', '1258', '518', '6240', '582', '2031', '1726', '2278', '747', '1568', '2685', '18719', '9700', '1310', '850', '3425', '10097', '1045', '279', '388', '3910', '1381', '1294', '643,7', '2159', '550', '3520', '1319', '20235', '623', '2843', '2466', '2988', '488', '6835', '360', '1481', '6777', '1982', '9685', '176', '3739', '2568', '1747', '958', '971'}\n",
      "\n",
      "\n",
      "==========\n",
      "LOAN_AVG_DLQ_AMT\n",
      "{'1120,93', '3279,705', '846,55', '6041,86', '1610', '768,97', '6260', '1490', '777,84', '502,1', '1259,39', '3635,77', '1677,48', '1867,66166666667', '1670', '1286,73', '1750', '1489,13', '872,065', '1990', '1374,28', '3000', '2503,19', '3540', '791,56', '136,76', '433,306666666667', '490', '438,19', '1296,74', '1634,81', '530', '2510', '310,126', '2570', '1094', '2386,505', '2820', '367,35', '1237,24', '1053', '2700', '1093,22', '2127,1', '1614,36', '2020', '1649,37', '3959', '1108,96333333333', '588,13', '7010', '2600', '957,4', '3433,42', '2702,4', '1520', '4160', '2960', '2097,97333333333', '1330', '1258,69', '1258,585', '1690', '1833,77', '2370,01', '687,11', '1319,56', '948,58', '4390', '3971,6', '2190', '2850', '1090,8', '1309,89', '3630', '1539,13', '1679,2', '549,88', '776,59', '224,59', '816,83', '875,2', '3702,8', '1460', '1259,43', '2830', '2477,64', '2130', '951', '1960', '560,36', '2070,52', '824,581428571429', '1113,335', '3490', '1920', '2239,37', '7670', '472,11', '673,89', '1539,2', '2050', '3600', '567,16', '1180', '599,19', '840,7', '1820', '3310', '510', '1348,68', '991,19', '917,57', '710', '1141,06', '2359,898', '860,505', '2860', '4370', '2980', '1411,31', '857,956666666667', '1789,04', '4700', '970,155', '722,59', '177,34', '1549,18', '1321,68833333333', '1313,33333333333', '1560', '1266,34', '497,62', '1110', '367', '2340', '3539,82', '5394,29', '5550', '2265', '5428,62', '2031,34333333333', '4472,91333333333', '1433,4', '6500', '3510', '1470', '2406,8', '2361,22', '1352,85714285714', '1107,5', '3110', '2232,28333333333', '5160', '3150', '2450', '4158,85', '2419,9', '2310', '704,93', '6080', '3102,49333333333', '1200,99', '2220', '3914,24', '2040', '2480', '300', '2185', '1459,99', '3360', '1109,855', '2030', '1050', '9280', '2680', '1010,55', '2538', '2379,46', '1391,47', '7100', '849,19', '1269,82', '1589,92333333333', '782,705', '3610', '1751,37', '2959', '979,63', '2720', '1731,06', '2676,2125', '532,24', '558,06625', '429,11', '1831,51333333333', '1910', '1724,15333333333', '812,693333333333', '3010', '2573,8', '3530', '2816,25', '2569,05', '1841,9', '604,43', '5430', '1792,71', '2647,9', '2554,005', '862,5', '887,79', '840', '2315,64857142857', '1040,78666666667', '1932,5', '4640', '892,95', '2750', '1570', '2440', '2018,255', '1450', '14990', '543,33', '1065,62', '1666,28', '1300', '3040', '727,63', '134,78', '4827,666', '355,04', '4530', '5048,19', '3330', '1095,89', '5076,65', '2751,25', '1097,86', '2598,9', '1540', '2201,11', '518,9', '310', '1314,11', '2467,33', '837,48', '1899,7', '1793,66', '1892,238', '855', '2180', '1780', '1091,2', '2157,32', '849,085', '767,566', '14870', '2084,32', '580', '4729,07', '3660', '830', '1730', '2269,565', '450', '620', '1413,765', '1108,574', '821,93', '836,79', '5269,78', '1270', '1398,58', '2858,6', '1154,34', '559,94', '3501,45', '5650', '1594,914', '2470', '1710', '1010,43', '5603,82', '1400', '3072,475', '2350', '821,45', '2920', '1639,99', '678,2', '1601,63', '2110', '5040', '3840', '1292,59', '2202,69', '596,29', '670,085', '100', '1059,47', '1066,005', '806,19', '3140', '18307,16', '5397,15', '1247,92', '59,68', '1220', '2800', '630,49', '567,51', '2178', '2755,21', '2476,77', '1776,96666666667', '2010', '1516,872', '4240', '1155,125', '1706,3', '1950', '1670,18', '1760', '2930', '651,16', '1697,22', '2770', '1555,00090909091', '2430', '586,646666666667', '2200', '4810', '554,36', '2270', '830,53', '1210', '3990', '481,506', '714', '1116,49', '3509,22', '1147,5', '5075,99', '1077,03', '1139,49', '1804,9', '880', '4210', '651,625', '3964,85', '4115,33333333333', '782,21', '1283,89', '1288,7', '3390', '1412,55', '2276,54666666667', '820,124', '1959,99', '2950', '779,415', '3850', '5030', '1745,7', '4030', '4376,4', '2790', '755,063333333333', '1288,898', '2000', '516,18', '1510', '3770', '3500', '1740', '1259,1', '568,7', '1498,26', '3659,0625', '0', '446,31', '862,43', '1171,686', '870', '1015', '499,69', '684,89', '3106,29', '2372,77', '3190', '894,29', '1007,8', '1875,70333333333', '3050', '2910,25', '600,93', '1152,15', '2900', '1304,0625', '4508,2', '2140', '1127,76', '1329,54', '3030', '1411,835', '6660', '1430', '1829,73', '1290', '1088,05', '605,32', '1010,27', '2186,585', '875,09', '560,86', '1700', '1418,86', '2520', '2269,735', '1010', '2650', '2002,45', '761,866666666667', '1241,32428571429', '1102,7', '1069,6', '879,74', '1135', '3509,805', '1597,92', '863,68', '1496,3275', '1692,49', '5698,46', '51,8', '3970', '1344,33', '2970', '2782,89', '1090', '1848,05', '4290', '1402,43', '1985,3', '2263,2', '989,39', '552,57', '2940', '990', '1636,04', '3070', '1630', '1830', '812,11', '1098,8', '796,59', '1986,88', '3120', '3202,2', '778,32', '830,7', '2989,98', '1324,41285714286', '560', '2066,905', '1878,86', '1798,49', '2710', '1193,9675', '805,86', '2441,4', '588,9', '3768,7', '4550', '2340,06777777778', '4000', '1020', '4055,03', '763,185', '3762,5', '825,10875', '0,04', '2568,45', '3060', '2794,22333333333', '2590', '1720', '770', '604,353333333333', '2590,15', '1004,225', '3300', '2462,1', '2365,47', '1350', '908,78', '800', '3880', '216,59', '2112,17', '1380', '1149,395', '1033,905', '535,53', '2979,31', '3940', '3626,91', '2059,46', '2119,77', '5410', '1259,71333333333', '533', '3960', '740,575', '709,96', '578,3', '1305,97', '553', '610,986666666667', '1427,295', '1029,75', '2044,155', '3240', '6200', '5830', '1817,76', '860', '1386,115', '3570', '1250', '2464,55', '892,18', '2262,12', '3480', '3322,7775', '1030', '3589,09', '1160', '1149,495', '984,79', '2547,85', '3100', '859,84', '988,85', '856,64', '2320', '370,77', '1072,34', '3119,99', '1230,63', '669,12', '3890', '1810', '1095,61', '753', '598,5', '2509,38', '5500', '3750', '980,42', '855,675', '517,51', '682', '3777,93333333333', '1850', '3172,83', '3782,39', '1264,23', '1140,2', '62,46', '4710', '1066,605', '911,793333333333', '605,496', '457,71', '2810', '3870,25', '631', '1144,98', '5760', '2184,66', '2429,09', '758,95', '1335,47', '2560', '1439,815', '1359,6', '2230', '2870', '823,54', '4140', '315,796666666667', '2660', '2690,33333333333', '1300,386', '1215,45777777778', '930', '865,05', '1441,57', '1530', '1314,58666666667', '2101,256', '1119,27', '2237,245', '380', '3651,445', '6390', '2260', '918,255', '1810,155', '437,26', '702,23', '890', '1840', '859,92', '1386,96', '735', '3283,1', '2360', '2518,18', '2160', '2082,47857142857', '760', '2240,34', '2343,41', '4620', '756,1', '766,26', '2640', '1000', '2005,15', '3303,2', '1164,99666666667', '1283,93', '1684,04', '1179,394', '791,98', '407,8', '1781,225', '4660', '1373,99333333333', '2150', '630', '1508,79', '1920,9575', '2585', '4310', '570', '6070', '846,74', '1093,75', '1288,63', '4050', '3237,94', '1002,22', '1600', '1593,76', '1222,06', '4630', '4164,34', '1410,53333333333', '1580', '613,21', '3086,66666666667', '1312,44', '3200', '1208,09', '3820', '2740', '1880', '2840', '1900', '3440', '425,97', '849,91', '809,42', '820', '3260', '1742,41', '451,495', '827,57', '798,53', '2466,8625', '2210', '1639,24571428571', '4320', '2013,19', '699,78', '1620', '619,4', '3020', '87,39', '758,82', '913,4975', '5872,64', '3470', '610', '2656,68', '1680', '660', '700', '2701,26', '1175,57', '2880', '901,64', '339,83', '818,74', '957,59', '2326,81', '1205,4725', '2151,50333333333', '954,65', '975', '1477,37', '4250', '4120', '1182,23', '1439,94', '1150', '289,02', '2261,19', '1650', '1535,89', '5370', '1761,03', '2610', '4600', '929,51', '1717,47333333333', '882,01', '1686,92', '1889,43', '1459,54666666667', '673,02', '3506,07', '1420', '1626,75', '1317,06', '433,3425', '1883,04', '2760', '2990', '959,955', '2170', '2083', '3780', '578,06', '1240', '2580', '1512', '6689,82', '2742,25', '1387,15', '1890', '1608,255', '1716,52', '2273,72', '1296,4', '1949,8', '1056,95', '1830,2', '5510', '1570,46', '1100', '1144,03', '2410', '2497,09', '1671,7', '1930', '966,953333333333', '762,93', '1272,72', '478,13', '444', '1320', '690', '1280', '1605,95', '400', '500', '1790', '650', '2094,3', '769,915', '613,12', '2490', '2293,65', '2961', '3460', '957,63', '2120', '2090', '4650', '1340', '1077,605', '4760', '749,82', '763,3', '3590', '3037,58', '2250', '3428,56', '2009', '1953,6', '2272,5', '2500', '94,89', '780', '1429,99', '2916,18', '957,46', '1145,85', '2925', '776,3', '1040', '2739,76', '1879,28', '3637,43', '2240', '647,42', '4020', '2550', '1768,07', '620,75', '5850', '198,88', '1070', '0,71', '1410', '2957,71', '680', '1663,27', '2139,63375', '2510,2', '2349,51', '3230', '1003,255', '4680', '1733,88', '480', '670', '1388,83769230769', '940', '5320', '2540', '3620', '2154,02', '2235,225', '1060', '1683,49', '110,91', '1196,43', '726,57', '2090,53', '1957,21', '3670', '2051,5', '1370', '1500', '1870', '810', '5170', '1260,55', '976,68', '1080', '750', '880,2', '802,36', '430', '4260', '946,49', '1439,9', '1197,38333333333', '1275,785', '2629,87', '1740,19', '1749,69', '1582,435', '4001,34', '750,175', '2330', '1120', '38,32', '1468,38', '2300', '804,32', '9060', '772,73', '6130', '648,68', '1070,52', '1130', '28012,2', '3160', '2409,01', '4770', '900', '2060', '2070', '2707,25', '970', '4220', '6310', '455,32', '1626', '370', '1845,5', '4690', '965,1', '724,38', '918,55', '270', '2158,72', '5110', '2701,5', '1215', '1221,92', '1299,55', '1068,47', '4884,95', '543,17', '5526,72666666667', '3315', '752,923076923077', '619,73', '1713,74', '1492,404', '3180', '683,9975', '740', '1170', '1880,59', '11310', '4300', '990,85', '1070,05', '386,666666666667', '656,705', '2105', '63,31', '1894,04', '540', '1550', '1939,61', '3018,275', '1615', '769,43', '3420', '1085,5', '1409,965', '1179,86', '981,71', '767,7', '1529,06', '960', '1930,595', '5870', '836,6', '790', '986,606666666667', '2679,82', '4940', '1851,55', '4200', '600', '3024', '1200', '440', '2400', '1399,25', '663,05', '3170', '2128,74', '1369,755', '1199,27', '1138,2', '1778,635', '1940', '240', '720', '526,563333333333', '1980', '1966,99', '2441,465', '1931,44', '5560', '2530', '2259,35', '642,31', '950', '4450', '2142,2', '1440', '1922,69', '327,98', '2247,51', '3250', '2380', '1390', '3810', '1258,95', '13920', '3209,5', '1113,74', '1509,44', '330', '49,35', '6650', '1176,82', '1538,69', '5140', '3860,18', '3400', '5545,0225', '1033', '1052,63', '2258,3', '1230', '2630', '1190', '2290', '4070', '3089,155', '3080', '640', '1371,86', '665,57', '896,31', '845,55', '1088,48', '1424,9175', '1426,72', '1552,325', '674,263333333333', '1581,82', '4190', '269,51', '879', '2390', '3691,2675', '4350', '2425', '6133,41', '730', '2732,2', '1591,94', '3760', '1800', '3769,3625', '920', '728,49', '1563,45', '574,21', '1155,02142857143', '1325,63', '115,65', '1770', '4445,6', '2492,54', '2088,86', '2163,94', '909,424285714286', '2100', '2524,28', '7340', '324,16', '8020', '1480', '3410', '2890', '2779,4', '1942,72', '6490', '3127,19', '2280', '366,58', '2370', '1970', '904,08', '910', '1478,49', '4565', '3716,35', '702,565', '989,15', '658,42', '2549,52', '603,55', '1675,75', '1310', '1590', '850', '2910', '4400', '1640', '3910', '1860', '869,26', '2796,66', '582,386666666667', '1276,66666666667', '682,56', '1260', '789,23', '3520', '550', '1909,16', '1844,885', '7780', '1360', '1006,59', '1258,49', '3201,95', '896,1', '4920', '673,6825', '2080', '1599,9', '2287,02', '509,52', '677,474', '3900', '1140', '1160,96', '668,53', '510,136666666667', '360', '569,121428571429', '1402,92', '966,07', '2699,88', '5780', '1007,36', '2368,84', '1002,60333333333', '980', '1405,53', '1134,58', '2670'}\n",
      "\n",
      "\n",
      "==========\n",
      "LOAN_MAX_DLQ_AMT\n",
      "{'1120,93', '846,55', '797,16', '6041,86', '1610', '768,97', '6260', '1490', '777,84', '502,1', '1259,39', '3635,77', '1677,48', '1670', '1750', '1489,13', '1990', '1374,28', '3000', '2503,19', '3540', '791,56', '136,76', '1086,57', '490', '438,19', '1296,74', '530', '2510', '2570', '1094', '2618,78', '918,28', '2820', '367,35', '1053', '2700', '1093,22', '2127,1', '1614,36', '2020', '1649,37', '3959', '588,13', '7010', '2600', '957,4', '3433,42', '2702,4', '1520', '4160', '2960', '1330', '1690', '473,16', '1833,77', '687,11', '1319,56', '948,58', '4390', '3971,6', '2190', '2850', '1090,8', '1309,89', '3630', '1539,13', '1679,2', '549,88', '776,59', '224,59', '816,83', '875,2', '3702,8', '1460', '1259,43', '2830', '2477,64', '2130', '2013,19', '1960', '560,36', '1408,32', '3490', '1920', '2239,37', '7670', '472,11', '673,89', '1539,2', '2050', '3600', '567,16', '1180', '599,19', '1820', '3310', '510', '1348,68', '1672,88', '991,19', '917,57', '710', '1141,06', '1901,3', '1789,04', '2860', '4370', '2980', '1411,31', '722,59', '4700', '177,34', '1549,18', '1560', '1302,38', '1783,55', '1266,34', '4446,3', '497,62', '1110', '849,07', '367', '2340', '3539,82', '5394,29', '5550', '2265', '5428,62', '1433,4', '6500', '3510', '1470', '2406,8', '2361,22', '3110', '5160', '3150', '1046,01', '2450', '1300,16', '4158,85', '2419,9', '2310', '704,93', '6080', '1200,99', '2220', '3914,24', '2040', '2480', '300', '1090,01', '1459,99', '3360', '2030', '1050', '9280', '2680', '2220,72', '3111,86', '1010,55', '2379,46', '1391,47', '7100', '736,3', '849,19', '2642,83', '3610', '1751,37', '2959', '979,63', '2720', '1731,06', '429,11', '1910', '2102,75', '3010', '1351,06', '481,51', '3530', '918,83', '2573,8', '2816,25', '2569,05', '1841,9', '604,43', '1324,5', '5430', '1792,71', '2647,9', '862,5', '887,79', '840', '4640', '892,95', '1570', '2750', '2440', '1450', '14990', '1828,89', '543,33', '1065,62', '620,18', '1666,28', '1300', '1249,61', '3040', '134,78', '2598,9', '355,04', '4530', '5048,19', '3330', '4490', '1095,89', '5076,65', '2751,25', '1097,86', '1540', '2201,11', '518,9', '310', '2467,33', '837,48', '1793,66', '1780', '2180', '2157,32', '489,13', '14870', '2084,32', '580', '4729,07', '3660', '830', '1730', '836,79', '450', '620', '821,93', '1012,9', '5269,78', '1270', '1398,58', '2858,6', '1154,34', '559,94', '3501,45', '5650', '2470', '1710', '1185,5', '18310', '5603,82', '937,6', '1400', '2350', '2281,1', '2920', '1639,99', '2858,62', '660,86', '678,2', '1601,63', '2110', '5040', '3840', '1292,59', '2202,69', '596,29', '100', '2782,93', '1059,47', '806,19', '3140', '5397,15', '1247,92', '59,68', '1220', '2800', '630,49', '567,51', '2178', '2755,21', '2010', '4240', '1452', '1706,3', '1950', '1670,18', '1760', '2930', '651,16', '1697,22', '2770', '2430', '2200', '554,36', '2270', '830,53', '1210', '3990', '714', '1116,49', '3509,22', '5075,99', '1077,03', '1139,49', '1804,9', '880', '4210', '3964,85', '3390', '1288,7', '2620', '1840,14', '3220', '1959,99', '2950', '3850', '5030', '1745,7', '4030', '2790', '2000', '516,18', '1510', '3770', '3500', '1740', '1259,1', '568,7', '1498,26', '446,31', '0', '3700', '589,45', '862,43', '1015', '870', '499,69', '684,89', '3106,29', '2372,77', '3190', '894,29', '1007,8', '3050', '600,93', '2900', '581,67', '4508,2', '2140', '1127,76', '3030', '6660', '1430', '1290', '1088,05', '605,32', '1010,27', '875,09', '1700', '883,33', '856,3', '1418,86', '2520', '1010', '2650', '2002,45', '1102,7', '1069,6', '879,74', '1597,92', '863,68', '1692,49', '3450', '5698,46', '51,8', '3970', '1344,33', '2970', '1090', '1848,05', '4290', '1402,43', '1985,3', '2263,2', '989,39', '552,57', '2940', '990', '1636,04', '3070', '1630', '1830', '812,11', '1098,8', '796,59', '1986,88', '3120', '3202,2', '778,32', '830,7', '2989,98', '560', '1798,49', '2710', '2441,4', '3768,7', '4550', '4000', '1020', '4055,03', '3762,5', '0,04', '2568,45', '3060', '3780,1', '776,6', '2590', '1720', '770', '2590,15', '3300', '2462,1', '2365,47', '1350', '908,78', '800', '3880', '216,59', '5580', '2112,17', '1380', '535,53', '3940', '3626,91', '2059,46', '2119,77', '5410', '470', '1489,45', '3960', '533', '578,3', '553', '1029,75', '1479,51', '1729,66', '997,66', '3240', '6200', '5830', '1817,76', '860', '586,5', '3570', '1250', '892,18', '2262,12', '840,4', '3480', '1030', '3589,09', '1160', '3357,52', '2547,85', '3100', '2044,32', '954,34', '988,85', '856,64', '2320', '370,77', '1230,63', '669,12', '3890', '1810', '1095,61', '598,5', '2509,38', '5500', '3750', '980,42', '517,51', '682', '1850', '3172,83', '3782,39', '1140,2', '62,46', '4710', '457,71', '2810', '3870,25', '631', '1144,98', '5760', '2184,66', '2429,09', '758,95', '1335,47', '2560', '1359,6', '2230', '1387,47', '2870', '823,54', '3018,62', '4140', '2660', '4880', '930', '1530', '6390', '1119,27', '2260', '437,26', '702,23', '890', '1840', '859,92', '1819,26', '1930,47', '2969,75', '3283,1', '2360', '2518,18', '2160', '828,51', '760', '2343,41', '4620', '756,1', '766,26', '2640', '1000', '2005,15', '3303,2', '2589,2', '1283,93', '937,79', '791,98', '590', '407,8', '4660', '605,59', '2150', '1154,9', '630', '1508,79', '6070', '4310', '570', '2058,71', '846,74', '1093,75', '1288,63', '4050', '3237,94', '1002,22', '1600', '1593,76', '1222,06', '4164,34', '613,21', '1580', '1312,44', '3200', '331', '1208,09', '3820', '2740', '1880', '2840', '1900', '3440', '849,91', '809,42', '820', '3260', '1837,31', '1742,41', '827,57', '798,53', '2210', '4320', '699,78', '1620', '3020', '87,39', '5872,64', '3470', '610', '2656,68', '1680', '1370,25', '660', '700', '2701,26', '1175,57', '2880', '901,64', '339,83', '818,74', '957,59', '954,65', '975', '5470', '1477,37', '4250', '4120', '1439,94', '1150', '289,02', '2261,19', '1650', '5370', '1761,03', '2610', '4600', '1686,92', '1889,43', '673,02', '3506,07', '1420', '1626,75', '1317,06', '1450,22', '1883,04', '2760', '2990', '1395,7', '1066', '2170', '3780', '2064,08', '578,06', '1240', '2083', '2580', '6689,82', '2742,25', '1387,15', '1890', '1716,52', '1296,4', '1949,8', '1056,95', '1100', '1144,03', '2410', '2497,09', '1671,7', '4960', '1930', '762,93', '1272,72', '478,13', '444', '1320', '690', '1280', '400', '500', '1790', '650', '2094,3', '2375,59', '2490', '2293,65', '3460', '957,63', '2120', '5340', '2090', '4650', '1860,72', '1340', '4760', '749,82', '3590', '2250', '724,93', '3428,56', '2009', '1953,6', '1105,07', '2500', '94,89', '780', '1429,99', '2916,18', '1145,85', '2497', '2739,76', '776,3', '1040', '490,88', '3637,43', '2240', '5980,18', '647,42', '4020', '2550', '1768,07', '620,75', '5850', '1070', '7890', '1410', '2957,71', '680', '1819,09', '1663,27', '0,71', '609,52', '2510,2', '2349,51', '3230', '1733,88', '4680', '480', '670', '943,56', '940', '5320', '2540', '3620', '2154,02', '1060', '1683,49', '110,91', '1196,43', '2064,03', '726,57', '2090,53', '1957,21', '3670', '2051,5', '1370', '1500', '1870', '810', '5170', '1260,55', '976,68', '1080', '750', '880,2', '802,36', '430', '4260', '946,49', '1439,9', '2629,87', '1740,19', '1749,69', '1110,39', '4001,34', '804,32', '2330', '1120', '38,32', '1468,38', '2300', '9060', '772,73', '6130', '1870,69', '648,68', '1070,52', '1130', '28012,2', '3160', '2409,01', '4770', '900', '2060', '2070', '2707,25', '970', '4220', '6310', '370', '1845,5', '4690', '965,1', '724,38', '918,55', '270', '2158,72', '5110', '1221,92', '1299,55', '1427,4', '4884,95', '543,17', '1068,47', '619,73', '2979,35', '3180', '740', '1170', '1880,59', '11310', '4300', '990,85', '1070,05', '63,31', '1894,04', '3285,74', '1365', '540', '1550', '1939,61', '1615', '769,43', '3420', '1085,5', '1179,86', '981,71', '767,7', '1529,06', '960', '5870', '836,6', '790', '2679,82', '572,22', '1851,55', '4200', '4940', '600', '755,76', '1200', '440', '2400', '663,05', '3170', '1199,27', '1138,2', '720', '1940', '240', '1980', '2902,89', '1966,99', '1931,44', '5560', '2530', '642,31', '950', '4450', '2142,2', '1440', '1056,64', '1519,64', '327,98', '910,63', '3250', '2380', '2247,51', '1390', '3810', '1113,74', '13920', '1509,44', '330', '49,35', '6650', '1176,82', '1538,69', '2398,8', '5140', '3860,18', '3400', '1033', '1052,63', '2258,3', '1230', '2630', '1190', '2290', '4070', '1650,53', '790,77', '3080', '640', '1371,86', '665,57', '896,31', '1426,72', '1581,82', '4190', '269,51', '879', '2390', '4350', '2425', '6133,41', '730', '2732,2', '1591,94', '3760', '1800', '920', '728,49', '1563,45', '3560', '574,21', '1325,63', '115,65', '1770', '2088,86', '2492,54', '2163,94', '2100', '2524,28', '7340', '324,16', '8020', '2289,89', '1480', '3410', '2890', '2779,4', '1942,72', '6490', '3127,19', '2280', '366,58', '2370', '1970', '3089,5', '604,76', '904,08', '910', '1478,49', '4565', '919,88', '3716,35', '989,15', '658,42', '2549,52', '603,55', '1310', '1590', '850', '2910', '783', '4400', '1640', '3910', '1860', '869,26', '2796,66', '1260', '789,23', '3520', '550', '1909,16', '1360', '3920', '1006,59', '1258,49', '3201,95', '896,1', '4920', '2080', '1599,9', '2287,02', '668,53', '3900', '1140', '1160,96', '1386,14', '826,77', '360', '4830', '2699,88', '5780', '1387,3', '2368,84', '966,07', '980', '1405,53', '1134,58', '2670', '961,94'}\n",
      "\n",
      "\n",
      "==========\n",
      "sample\n",
      "{'train'}\n",
      "\n",
      "\n"
     ]
    }
   ],
   "source": [
    "for i in df_train.columns: # перебираем все столбцы\n",
    "    if str(df_train[i].dtype) == 'object': # если тип столбца - object\n",
    "        print('='*10)\n",
    "        print(i) # выводим название столбца\n",
    "        print(set(df_train[i])) # выводим все его значения (но делаем set - чтоб значения не повторялись)\n",
    "        print('\\n') # выводим пустую строку"
   ]
  },
  {
   "cell_type": "markdown",
   "metadata": {
    "collapsed": true
   },
   "source": [
    "Mожно заметить что некоторые переменные, которые обозначены как строки (например PERSONAL_INCOME) на самом деле числа, но по какой-то причине были распознаны как строки\n",
    "\n",
    "Причина же что использовалась запятая для разделения не целой части числа.."
   ]
  },
  {
   "cell_type": "markdown",
   "metadata": {},
   "source": [
    "Перекодировать их можно например так:"
   ]
  },
  {
   "cell_type": "code",
   "execution_count": 14,
   "metadata": {},
   "outputs": [
    {
     "data": {
      "text/plain": [
       "0         7000.0\n",
       "1         4100.0\n",
       "2        40000.0\n",
       "3        20000.0\n",
       "4        17000.0\n",
       "5         7000.0\n",
       "6        10000.0\n",
       "7         7500.0\n",
       "8         9000.0\n",
       "9         4000.0\n",
       "10       15000.0\n",
       "11       12000.0\n",
       "12        8000.0\n",
       "13       20000.0\n",
       "14       18500.0\n",
       "15       14000.0\n",
       "16        6000.0\n",
       "17        9000.0\n",
       "18        5000.0\n",
       "19       15000.0\n",
       "20        6100.0\n",
       "21       22180.0\n",
       "22        9000.0\n",
       "23        8700.0\n",
       "24        7000.0\n",
       "25        6000.0\n",
       "26       15000.0\n",
       "27       12000.0\n",
       "28       11000.0\n",
       "29        8000.0\n",
       "          ...   \n",
       "30103    12000.0\n",
       "30104    10000.0\n",
       "30105    10000.0\n",
       "30106     8000.0\n",
       "30107    11000.0\n",
       "30108     7000.0\n",
       "30109    10000.0\n",
       "30110     8000.0\n",
       "30111    25000.0\n",
       "30112    10000.0\n",
       "30113    12000.0\n",
       "30114     7000.0\n",
       "30115    12000.0\n",
       "30116    14500.0\n",
       "30117    12000.0\n",
       "30118     8000.0\n",
       "30119     7000.0\n",
       "30120    10000.0\n",
       "30121    10000.0\n",
       "30122    10000.0\n",
       "30123    15000.0\n",
       "30124     8100.0\n",
       "30125     9500.0\n",
       "30126    13000.0\n",
       "30127    10000.0\n",
       "30128    12000.0\n",
       "30129    10000.0\n",
       "30130     6000.0\n",
       "30131     4500.0\n",
       "30132    20000.0\n",
       "Name: PERSONAL_INCOME, Length: 30133, dtype: float64"
      ]
     },
     "execution_count": 14,
     "metadata": {},
     "output_type": "execute_result"
    }
   ],
   "source": [
    "df['PERSONAL_INCOME'].map(lambda x: x.replace(',', '.')).astype('float')"
   ]
  },
  {
   "cell_type": "markdown",
   "metadata": {},
   "source": [
    "Такой эффект наблюдается в столбцах `PERSONAL_INCOME`, `CREDIT`, `FST_PAYMENT`, `LOAN_AVG_DLQ_AMT`, `LOAN_MAX_DLQ_AMT`"
   ]
  },
  {
   "cell_type": "markdown",
   "metadata": {},
   "source": [
    "### Теперь ваше небольшое исследование"
   ]
  },
  {
   "cell_type": "markdown",
   "metadata": {
    "collapsed": true
   },
   "source": [
    "#### Задание 1. Есть ли пропуски в данных? Что с ними сделать?\n",
    "\n",
    "(единственного верного ответа нет - аргументируйте)"
   ]
  },
  {
   "cell_type": "markdown",
   "metadata": {},
   "source": [
    "В строковых полях, имеющих тип object, значения типа NaN заменяются пробелами, в результате мы получим значения одного типа во всех строках. Позже все эти поля будут преобразованы. \n",
    "В оставшемся поле WORK_TIME вместо NaN будут проставлены нули."
   ]
  },
  {
   "cell_type": "markdown",
   "metadata": {
    "collapsed": true
   },
   "source": [
    "#### Задание 2. Есть ли категориальные признаки? Что с ними делать?"
   ]
  },
  {
   "cell_type": "markdown",
   "metadata": {
    "collapsed": true
   },
   "source": [
    "Категориальные признаки в этом наборе данных: \n",
    "    EDUCATION \n",
    "    MARITAL_STATUS \n",
    "    GEN_INDUSTRY \n",
    "    GEN_TITLE \n",
    "    ORG_TP_STATE \n",
    "    ORG_TP_FCAPITAL \n",
    "    JOB_DIR \n",
    "    FAMILY_INCOME \n",
    "    REG_ADDRESS_PROVINCE \n",
    "    FACT_ADDRESS_PROVINCE \n",
    "    POSTAL_ADDRESS_PROVINCE \n",
    "    TP_PROVINCE \n",
    "    REGION_NM \n",
    "    sample\n",
    "\n",
    "Я преобразовал их по методу OneHotEncoding\n",
    "\n",
    "Предварительно из списка полей будут убраны 'REG_ADDRESS_PROVINCE','POSTAL_ADDRESS_PROVINCE' , которые относятся к регистрации клиента по месту прописки и не связаны с его местонахождением в момент заполнения анкеты."
   ]
  },
  {
   "cell_type": "markdown",
   "metadata": {},
   "source": [
    "#### Задание 3. Фунция предобработки"
   ]
  },
  {
   "cell_type": "markdown",
   "metadata": {},
   "source": [
    "Напишите функцию, которая бы\n",
    "\n",
    "* Удаляло идентификатор `AGREEMENT_RK`\n",
    "* Избавлялась от проблем с '.' и ',' в стобцах PERSONAL_INCOME, CREDIT, FST_PAYMENT, LOAN_AVG_DLQ_AMT, LOAN_MAX_DLQ_AMT\n",
    "* Что-то делала с пропусками\n",
    "* Кодировала категориальные признаки\n",
    "\n",
    "В результате, ваш датафрейм должен содержать только числа и не содержать пропусков!"
   ]
  },
  {
   "cell_type": "code",
   "execution_count": 15,
   "metadata": {},
   "outputs": [],
   "source": [
    "from sklearn.preprocessing import OneHotEncoder, LabelEncoder\n",
    "\n",
    "def preproc_data(df_input):\n",
    "    df_output = df_input.copy()\n",
    "\n",
    "    ## Your Code Here\n",
    "\n",
    "    \n",
    "    # Удаление столбцов 'REG_ADDRESS_PROVINCE','POSTAL_ADDRESS_PROVINCE' \n",
    "    df_output = df_output.drop(columns=['REG_ADDRESS_PROVINCE','POSTAL_ADDRESS_PROVINCE'])\n",
    "    \n",
    "    # Удаляем идентификатор `AGREEMENT_RK`\n",
    "    df_output = df_output.drop(columns=['AGREEMENT_RK'])\n",
    "\n",
    "    # Перекодируем столбцы PERSONAL_INCOME, CREDIT, FST_PAYMENT, LOAN_AVG_DLQ_AMT, LOAN_MAX_DLQ_AMT\n",
    "    for fieldName in ['PERSONAL_INCOME', 'CREDIT', 'FST_PAYMENT', 'LOAN_AVG_DLQ_AMT', 'LOAN_MAX_DLQ_AMT']:\n",
    "        df_output[fieldName] = df_output[fieldName].map(lambda x: x.replace(',', '.')).astype('float')\n",
    "\n",
    "    categorical_columns = list()\n",
    "\n",
    "    for column in df_output.columns[df_output.dtypes == 'object']:\n",
    "        df_output[column] = df_output[column].fillna(value = ' ')        \n",
    "        if column not in ['sample']:\n",
    "            categorical_columns.append(column)\n",
    "\n",
    "    \n",
    "#     Кодирование категориальных признаков\n",
    "    df_output = pd.get_dummies(df_output, columns=categorical_columns)\n",
    "\n",
    "# Заполняем пропуски нулями\n",
    "    \n",
    "    df_output = df_output.fillna(0)    \n",
    "\n",
    "    return df_output\n",
    "\n",
    "df_preproc = df.pipe(preproc_data)\n",
    "\n"
   ]
  },
  {
   "cell_type": "code",
   "execution_count": 16,
   "metadata": {},
   "outputs": [],
   "source": [
    "\n",
    "df_train_preproc = df_preproc.query('sample == \"train\"').drop(['sample'], axis=1)\n",
    "df_test_preproc = df_preproc.query('sample == \"test\"').drop(['sample'], axis=1)\n"
   ]
  },
  {
   "cell_type": "markdown",
   "metadata": {},
   "source": [
    "#### Задание 4. Отделите целевую переменную и остальные признаки\n",
    "\n",
    "Должно получится:\n",
    "* 2 матрицы: X и X_test\n",
    "\n",
    "\n",
    "\n",
    "* 2 вектора: y и y_test"
   ]
  },
  {
   "cell_type": "code",
   "execution_count": 17,
   "metadata": {},
   "outputs": [],
   "source": [
    "\n",
    "#df_train_preproc.info()\n",
    "\n",
    "y = df_train_preproc['TARGET']\n",
    "X = df_train_preproc.drop(columns='TARGET') \n",
    "\n",
    "y_test = df_test_preproc['TARGET']\n",
    "X_test = df_test_preproc.drop(columns='TARGET') \n",
    "\n"
   ]
  },
  {
   "cell_type": "code",
   "execution_count": 18,
   "metadata": {},
   "outputs": [],
   "source": [
    "from sklearn.model_selection import train_test_split\n",
    "## Your Code Here\n",
    "X_train, X_valid, y_train, y_valid = train_test_split(X , y, test_size=0.33, random_state=42)\n"
   ]
  },
  {
   "cell_type": "code",
   "execution_count": 19,
   "metadata": {},
   "outputs": [
    {
     "data": {
      "text/plain": [
       "((10199, 285), (10199,), (5024, 285), (5024,), (14910, 285), (14910,))"
      ]
     },
     "execution_count": 19,
     "metadata": {},
     "output_type": "execute_result"
    }
   ],
   "source": [
    "X_train.shape, y_train.shape, X_valid.shape, y_valid.shape, X_test.shape, y_test.shape "
   ]
  },
  {
   "cell_type": "markdown",
   "metadata": {},
   "source": [
    "#### Задание 5. Обучение и оценка качества разных моделей"
   ]
  },
  {
   "cell_type": "code",
   "execution_count": 20,
   "metadata": {},
   "outputs": [
    {
     "name": "stderr",
     "output_type": "stream",
     "text": [
      "C:\\Soft\\Anaconda3\\lib\\site-packages\\sklearn\\ensemble\\weight_boosting.py:29: DeprecationWarning: numpy.core.umath_tests is an internal NumPy module and should not be imported. It will be removed in a future NumPy release.\n",
      "  from numpy.core.umath_tests import inner1d\n"
     ]
    }
   ],
   "source": [
    "# Попробовать следующие \"черные ящики\": интерфейс одинаковый \n",
    "# Постепенно мы узнаем, что они делают а сейчас учимся понимать какой работает качественнее\n",
    "#     fit, \n",
    "#     predict, \n",
    "#     predict_proba\n",
    "\n",
    "from sklearn.tree import DecisionTreeClassifier\n",
    "from sklearn.ensemble import RandomForestClassifier\n",
    "from sklearn.linear_model import LogisticRegression\n",
    "from sklearn.metrics import roc_auc_score, roc_curve\n",
    "\n",
    "\n",
    "## Your Code Here\n"
   ]
  },
  {
   "cell_type": "code",
   "execution_count": 21,
   "metadata": {},
   "outputs": [],
   "source": [
    "\n",
    "dtc = DecisionTreeClassifier()\n",
    "dtc.fit(X_train,y_train)\n",
    "predict_dtc = dtc.predict(X_valid)\n",
    "predict_dtc_proba = dtc.predict_proba(X_valid)\n",
    "auc_dtc= roc_auc_score(y_valid, predict_dtc_proba[:,1])\n",
    "\n"
   ]
  },
  {
   "cell_type": "code",
   "execution_count": 22,
   "metadata": {},
   "outputs": [],
   "source": [
    "# Посчитать метрики стандартные\n",
    "# accuracy, precision, recall\n",
    "\n",
    "\n",
    "from sklearn.metrics import accuracy_score, precision_score, recall_score\n",
    "\n",
    "## Your Code Here"
   ]
  },
  {
   "cell_type": "code",
   "execution_count": 23,
   "metadata": {},
   "outputs": [
    {
     "name": "stdout",
     "output_type": "stream",
     "text": [
      "Модель DecisionTreeClassifier:\n",
      "precision 0.14871016691957512\n",
      "recall 0.16065573770491803\n",
      "accuracy 0.7864251592356688\n",
      "auc 0.5167800664056987\n"
     ]
    }
   ],
   "source": [
    "from sklearn.metrics import accuracy_score, f1_score\n",
    "\n",
    "\n",
    "precision_dtc= precision_score(y_valid, predict_dtc)\n",
    "recall_dtc= recall_score(y_valid, predict_dtc)\n",
    "accuracy_dtc= accuracy_score(y_valid, predict_dtc)\n",
    "auc= auc_dtc\n",
    "\n",
    "print(\"Модель DecisionTreeClassifier:\")\n",
    "print('precision', precision_dtc)\n",
    "print('recall', recall_dtc)\n",
    "print('accuracy', accuracy_dtc)\n",
    "print('auc', auc_dtc)\n",
    "\n"
   ]
  },
  {
   "cell_type": "code",
   "execution_count": 24,
   "metadata": {},
   "outputs": [
    {
     "name": "stdout",
     "output_type": "stream",
     "text": [
      "Модель RandomForestClassifier:\n",
      "precision 0.23529411764705882\n",
      "recall 0.006557377049180328\n",
      "accuracy 0.8767914012738853\n",
      "auc 0.5767888313636939\n"
     ]
    }
   ],
   "source": [
    "rfc = RandomForestClassifier()\n",
    "rfc.fit(X_train,y_train)\n",
    "predict_rfc = rfc.predict(X_valid)\n",
    "predict_rfc_proba = rfc.predict_proba(X_valid)\n",
    "auc_rfc= roc_auc_score(y_valid, predict_rfc_proba[:,1])\n",
    "\n",
    "precision_rfc= precision_score(y_valid, predict_rfc)\n",
    "recall_rfc=recall_score(y_valid, predict_rfc)\n",
    "accuracy_rfc= accuracy_score(y_valid, predict_rfc)\n",
    "auc= auc_rfc\n",
    "\n",
    "print(\"Модель RandomForestClassifier:\")\n",
    "print('precision', precision_rfc)\n",
    "print('recall', recall_rfc)\n",
    "print('accuracy', accuracy_rfc)\n",
    "print('auc', auc_rfc)\n",
    "\n",
    "\n"
   ]
  },
  {
   "cell_type": "code",
   "execution_count": 25,
   "metadata": {
    "scrolled": false
   },
   "outputs": [
    {
     "name": "stdout",
     "output_type": "stream",
     "text": [
      "Модель LogisticRegression:\n",
      "precision 0.19436345966958213\n",
      "recall 0.6557377049180327\n",
      "accuracy 0.6281847133757962\n",
      "auc 0.6902404421104236\n"
     ]
    }
   ],
   "source": [
    "lgr = LogisticRegression(C=5,class_weight='balanced')\n",
    "lgr.fit(X_train,y_train)\n",
    "\n",
    "predict_lgr = lgr.predict(X_valid)\n",
    "predict_lgr_proba = lgr.predict_proba(X_valid)\n",
    "auc_lgr= roc_auc_score(y_valid, predict_lgr_proba[:,1])\n",
    "\n",
    "precision_lgr= precision_score(y_valid, predict_lgr)\n",
    "recall_lgr= recall_score(y_valid, predict_lgr)\n",
    "accuracy_lgr= accuracy_score(y_valid, predict_lgr)\n",
    "auc_lgr= auc_lgr\n",
    "\n",
    "print(\"Модель LogisticRegression:\")\n",
    "print('precision', precision_lgr)\n",
    "print('recall', recall_lgr)\n",
    "print('accuracy', accuracy_lgr)\n",
    "print('auc', auc_lgr)\n",
    "\n",
    "\n"
   ]
  },
  {
   "cell_type": "code",
   "execution_count": 26,
   "metadata": {},
   "outputs": [
    {
     "data": {
      "image/png": "[encoded data removed]",
      "text/plain": [
       "<Figure size 432x288 with 1 Axes>"
      ]
     },
     "metadata": {
      "needs_background": "light"
     },
     "output_type": "display_data"
    }
   ],
   "source": [
    "# Визуалищировать эти метрики всех моделей на одном графике (чтоб визуально сравнить)\n",
    "# Возможно вас удивит качество! Но задача подобрана специально ;) Такое качество тоже бывает\n",
    "\n",
    "## Your Code Here\n",
    "\n",
    "ind = np.array(['Decision Tree', 'Random Forest', 'Logistic Regression'])\n",
    "y2 = [recall_dtc, recall_rfc, recall_lgr]\n",
    "\n",
    "fig = plt.figure(1)\n",
    "ax = fig.add_subplot(1, 1, 1)\n",
    "plt.bar(ind, y2)\n",
    "plt.ylim(0.003,.7)  # set y axis limits\n",
    "#ax.set_yscale('log')\n",
    "plt.title('Recall')\n",
    "\n",
    "plt.show()\n"
   ]
  },
  {
   "cell_type": "code",
   "execution_count": 27,
   "metadata": {},
   "outputs": [
    {
     "data": {
      "image/png": "[encoded data removed]",
      "text/plain": [
       "<Figure size 432x288 with 1 Axes>"
      ]
     },
     "metadata": {
      "needs_background": "light"
     },
     "output_type": "display_data"
    }
   ],
   "source": [
    "ind = np.array(['Decision Tree', 'Random Forest', 'Logistic Regression'])\n",
    "y2 = [accuracy_dtc, accuracy_rfc, accuracy_lgr]\n",
    "\n",
    "fig = plt.figure(1)\n",
    "ax = fig.add_subplot(1, 1, 1)\n",
    "plt.bar(ind, y2)\n",
    "plt.ylim(0.5,.9)  # set y axis limits\n",
    "#ax.set_yscale('log')\n",
    "plt.title('Accuracy')\n",
    "\n",
    "plt.show()"
   ]
  },
  {
   "cell_type": "code",
   "execution_count": 28,
   "metadata": {},
   "outputs": [
    {
     "data": {
      "image/png": "[encoded data removed]",
      "text/plain": [
       "<Figure size 432x288 with 1 Axes>"
      ]
     },
     "metadata": {
      "needs_background": "light"
     },
     "output_type": "display_data"
    }
   ],
   "source": [
    "ind = np.array(['Decision Tree', 'Random Forest', 'Logistic Regression'])\n",
    "y2 = [precision_dtc, precision_rfc, precision_lgr]\n",
    "\n",
    "fig = plt.figure(1)\n",
    "ax = fig.add_subplot(1, 1, 1)\n",
    "plt.bar(ind, y2)\n",
    "plt.ylim(0.1,.5)  # set y axis limits\n",
    "#ax.set_yscale('log')\n",
    "plt.title('Precision')\n",
    "\n",
    "plt.show()"
   ]
  },
  {
   "cell_type": "code",
   "execution_count": 29,
   "metadata": {},
   "outputs": [
    {
     "data": {
      "image/png": "[encoded data removed]",
      "text/plain": [
       "<Figure size 432x288 with 1 Axes>"
      ]
     },
     "metadata": {
      "needs_background": "light"
     },
     "output_type": "display_data"
    }
   ],
   "source": [
    "ind = np.array(['Decision Tree', 'Random Forest', 'Logistic Regression'])\n",
    "y2 = [auc_dtc, auc_rfc, auc_lgr]\n",
    "\n",
    "fig = plt.figure(1)\n",
    "ax = fig.add_subplot(1, 1, 1)\n",
    "plt.bar(ind, y2)\n",
    "plt.ylim(0.2,.8)  # set y axis limits\n",
    "#ax.set_yscale('log')\n",
    "plt.title('Area Under Curve')\n",
    "\n",
    "plt.show()"
   ]
  },
  {
   "cell_type": "code",
   "execution_count": 30,
   "metadata": {},
   "outputs": [
    {
     "name": "stdout",
     "output_type": "stream",
     "text": [
      "ROC-AUC для Logistic Regression: 0.690\n",
      "ROC-AUC для Decision Tree: 0.517\n",
      "ROC-AUC для Random Forest: 0.577\n"
     ]
    },
    {
     "data": {
      "image/png": "[encoded data removed]",
      "text/plain": [
       "<Figure size 360x360 with 1 Axes>"
      ]
     },
     "metadata": {
      "needs_background": "light"
     },
     "output_type": "display_data"
    }
   ],
   "source": [
    "# Потроить roc-кривые всех можелей на одном графике\n",
    "# Вывести roc_auc каждой моделе\n",
    "# Подпишите оси и линии\n",
    "\n",
    "## Your Code Here\n",
    "fpr_rfc, tpr_rfc, thresholds = roc_curve(y_valid, predict_rfc_proba[:,1])\n",
    "fpr_dtc, tpr_dtc, thresholds = roc_curve(y_valid, predict_dtc_proba[:,1])\n",
    "fpr_lgr, tpr_lgr, thresholds = roc_curve(y_valid, predict_lgr_proba[:,1])\n",
    "plt.figure(figsize=(5, 5))\n",
    "plt.text(0.4,0.8,'Logistic Regression', color = 'black', size = 'large')\n",
    "plt.text(0.3,0.3,'Decision Tree', color = 'blue', size = 'large')\n",
    "plt.text(0.5,0.6,'Random Forest', color = 'green', size = 'large')\n",
    "plt.plot(fpr_dtc, tpr_dtc,color='blue')\n",
    "plt.plot(fpr_rfc, tpr_rfc,color='green')\n",
    "plt.plot(fpr_lgr, tpr_lgr,color='black')\n",
    "plt.plot([0, 1], [0, 1])\n",
    "plt.ylabel('tpr')\n",
    "plt.xlabel('fpr')\n",
    "plt.grid(True)\n",
    "plt.title('ROC curve')\n",
    "plt.xlim((-0.01, 1.01))\n",
    "plt.ylim((-0.01, 1.01))\n",
    "print('ROC-AUC для Logistic Regression: {:.3f}'.format(auc_lgr) )\n",
    "print('ROC-AUC для Decision Tree: {:.3f}'.format(auc_dtc) )\n",
    "print('ROC-AUC для Random Forest: {:.3f}'.format(auc_rfc) )"
   ]
  },
  {
   "cell_type": "code",
   "execution_count": 32,
   "metadata": {},
   "outputs": [
    {
     "name": "stdout",
     "output_type": "stream",
     "text": [
      "средний roc_auc для RandomForestClassifier  0.5955875766721203\n"
     ]
    }
   ],
   "source": [
    "from sklearn.cross_validation import cross_val_score\n",
    "# Сделать k-fold (10 фолдов) кросс-валидацию каждой модели\n",
    "# И посчитать средний roc_auc\n",
    "\n",
    "## Your Code Here\n",
    "\n",
    "#rfc = RandomForestClassifier()\n",
    "#rfc_arr=cross_val_score(rfc,X_train,y_train,scoring='roc_auc',cv=10)\n",
    "rfc_arr=cross_val_score(rfc, X, y,scoring='roc_auc',cv=10)\n",
    "rfc_mean  = rfc_arr.mean()\n",
    "\n",
    "print('средний roc_auc для RandomForestClassifier ',rfc_mean);"
   ]
  },
  {
   "cell_type": "code",
   "execution_count": 33,
   "metadata": {},
   "outputs": [
    {
     "name": "stdout",
     "output_type": "stream",
     "text": [
      "средний roc_auc для DecisionTreeClassifier  0.5321911826603157\n"
     ]
    }
   ],
   "source": [
    "#dtc_arr=cross_val_score(dtc,X_train,y_train,scoring='roc_auc',cv=10)\n",
    "dtc_arr=cross_val_score(dtc, X, y, scoring='roc_auc',cv=10)\n",
    "dtc_mean  = dtc_arr.mean()\n",
    "#print(*dtc_arr)\n",
    "print('средний roc_auc для DecisionTreeClassifier ',dtc_mean);"
   ]
  },
  {
   "cell_type": "code",
   "execution_count": 34,
   "metadata": {},
   "outputs": [
    {
     "name": "stdout",
     "output_type": "stream",
     "text": [
      "средний roc_auc для LogisticRegression  0.6902320908018859\n"
     ]
    }
   ],
   "source": [
    "#lgr_arr = cross_val_score(lgr,X_train,y_train,scoring='roc_auc',cv=10)\n",
    "lgr_arr = cross_val_score(lgr, X, y, scoring='roc_auc',cv=10)\n",
    "lgr_mean  = lgr_arr.mean()\n",
    "\n",
    "print('средний roc_auc для LogisticRegression ',lgr_mean);"
   ]
  },
  {
   "cell_type": "code",
   "execution_count": 35,
   "metadata": {},
   "outputs": [
    {
     "name": "stdout",
     "output_type": "stream",
     "text": [
      "Результат работы лучшей модели - логистической регрессии - на тестовой выборке:  0.6771493703864525\n"
     ]
    }
   ],
   "source": [
    "# Взять лучшую модель и сделать предсказания (с вероятностями (!!!)) для test выборки\n",
    "## Your Code Here\n",
    "from sklearn.metrics import roc_auc_score\n",
    "\n",
    "predict_proba_lgr_test = lgr.predict_proba(X_test)[:,1]\n",
    "auc_test = roc_auc_score(y_test, predict_proba_lgr_test)\n",
    "print(\"Результат работы лучшей модели - логистической регрессии - на тестовой выборке: \", auc_test)"
   ]
  },
  {
   "cell_type": "code",
   "execution_count": 36,
   "metadata": {},
   "outputs": [
    {
     "name": "stdout",
     "output_type": "stream",
     "text": [
      "ROC-AUC для Logistic Regression на тестовой выборке: 0.677\n"
     ]
    },
    {
     "data": {
      "image/png": "[encoded data removed]",
      "text/plain": [
       "<Figure size 360x360 with 1 Axes>"
      ]
     },
     "metadata": {
      "needs_background": "light"
     },
     "output_type": "display_data"
    }
   ],
   "source": [
    "# Померить roc_auc на тесте\n",
    "# Вывести текстом и на графике =)\n",
    "\n",
    "## Your Code Here\n",
    "%matplotlib inline\n",
    "from matplotlib import pyplot as plt\n",
    "from sklearn.metrics import roc_auc_score, roc_curve\n",
    "fpr, tpr, thresholds = roc_curve(y_test, predict_proba_lgr_test)\n",
    "plt.figure(figsize=(5, 5))\n",
    "plt.plot(fpr, tpr)\n",
    "plt.plot([0, 1], [0, 1])\n",
    "plt.ylabel('tpr')\n",
    "plt.xlabel('fpr')\n",
    "plt.grid(True)\n",
    "plt.title('ROC curve')\n",
    "plt.xlim((-0.01, 1.01))\n",
    "plt.ylim((-0.01, 1.01))\n",
    "print('ROC-AUC для Logistic Regression на тестовой выборке: {:.3f}'.format(auc_test) )"
   ]
  },
  {
   "cell_type": "markdown",
   "metadata": {},
   "source": [
    "### Больше обязательных заданий нет, но ниже вы можете провести исследование, поиграться с данными\n",
    "### Это возможность написать код, который я посмотрю и в случае чего откомметирую. ;)\n",
    "### Это не оценивается и остается на ваше усмотрение. Просто дополнительная возможность"
   ]
  },
  {
   "cell_type": "code",
   "execution_count": 1,
   "metadata": {},
   "outputs": [],
   "source": [
    "### И далее ;)"
   ]
  }
 ],
 "metadata": {
  "anaconda-cloud": {},
  "kernelspec": {
   "display_name": "Python 3",
   "language": "python",
   "name": "python3"
  },
  "language_info": {
   "codemirror_mode": {
    "name": "ipython",
    "version": 3
   },
   "file_extension": ".py",
   "mimetype": "text/x-python",
   "name": "python",
   "nbconvert_exporter": "python",
   "pygments_lexer": "ipython3",
   "version": "3.7.0"
  },
  "toc": {
   "base_numbering": 1,
   "nav_menu": {
    "height": "31px",
    "width": "253px"
   },
   "number_sections": false,
   "sideBar": true,
   "skip_h1_title": false,
   "title_cell": "Table of Contents",
   "title_sidebar": "Contents",
   "toc_cell": false,
   "toc_position": {},
   "toc_section_display": "block",
   "toc_window_display": false
  }
 },
 "nbformat": 4,
 "nbformat_minor": 2
}
